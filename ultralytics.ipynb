{
 "cells": [
  {
   "cell_type": "code",
   "execution_count": 1,
   "id": "b97aca1e-8a00-40c4-a700-bed3ca1c46f1",
   "metadata": {},
   "outputs": [
    {
     "name": "stdout",
     "output_type": "stream",
     "text": [
      "/home/chenjun/Project_Files/ultralytics\n"
     ]
    }
   ],
   "source": [
    "!pwd"
   ]
  },
  {
   "cell_type": "markdown",
   "id": "c3cd5926-49e0-4cb4-b8c5-a638193ee009",
   "metadata": {
    "jp-MarkdownHeadingCollapsed": true
   },
   "source": [
    "## 查看模型结构"
   ]
  },
  {
   "cell_type": "code",
   "execution_count": 11,
   "id": "1f24ae4a-e15e-4eda-a495-a7818000ba6e",
   "metadata": {},
   "outputs": [
    {
     "name": "stdout",
     "output_type": "stream",
     "text": [
      "YOLO11n summary: 181 layers, 2,624,080 parameters, 0 gradients, 6.6 GFLOPs\n",
      "<class 'tuple'>\n",
      "layer                                    name                type  gradient  parameters               shape        mu     sigma\n",
      "    0                     model.0.conv.weight              Conv2d     False         432       [16, 3, 3, 3]  -0.00165      0.14        float32\n",
      "    1                       model.0.bn.weight         BatchNorm2d     False          16                [16]      3.07       1.9        float32\n",
      "    1                         model.0.bn.bias         BatchNorm2d     False          16                [16]     0.805      4.26        float32\n",
      "    2                             model.0.act                SiLU     False           0                  []         -         -              -\n",
      "    3                     model.1.conv.weight              Conv2d     False        4608      [32, 16, 3, 3]  0.000659    0.0564        float32\n",
      "    4                       model.1.bn.weight         BatchNorm2d     False          32                [32]      3.77     0.892        float32\n",
      "    4                         model.1.bn.bias         BatchNorm2d     False          32                [32]      1.38      1.52        float32\n",
      "    5                 model.2.cv1.conv.weight              Conv2d     False        1024      [32, 32, 1, 1]  -0.00347    0.0821        float32\n",
      "    6                   model.2.cv1.bn.weight         BatchNorm2d     False          32                [32]      2.95      1.02        float32\n",
      "    6                     model.2.cv1.bn.bias         BatchNorm2d     False          32                [32]     0.888      1.48        float32\n",
      "    7                 model.2.cv2.conv.weight              Conv2d     False        3072      [64, 48, 1, 1]  -0.00604     0.061        float32\n",
      "    8                   model.2.cv2.bn.weight         BatchNorm2d     False          64                [64]      1.93       0.8        float32\n",
      "    8                     model.2.cv2.bn.bias         BatchNorm2d     False          64                [64]   -0.0274      1.18        float32\n",
      "    9             model.2.m.0.cv1.conv.weight              Conv2d     False        1152       [8, 16, 3, 3]   -0.0041    0.0431        float32\n",
      "   10               model.2.m.0.cv1.bn.weight         BatchNorm2d     False           8                 [8]     0.647     0.516        float32\n",
      "   10                 model.2.m.0.cv1.bn.bias         BatchNorm2d     False           8                 [8]     0.318     0.993        float32\n",
      "   11             model.2.m.0.cv2.conv.weight              Conv2d     False        1152       [16, 8, 3, 3]   0.00143    0.0598        float32\n",
      "   12               model.2.m.0.cv2.bn.weight         BatchNorm2d     False          16                [16]      3.15     0.455        float32\n",
      "   12                 model.2.m.0.cv2.bn.bias         BatchNorm2d     False          16                [16]     0.971      2.88        float32\n",
      "   13                     model.3.conv.weight              Conv2d     False       36864      [64, 64, 3, 3]  -0.00137    0.0247        float32\n",
      "   14                       model.3.bn.weight         BatchNorm2d     False          64                [64]     0.967     0.257        float32\n",
      "   14                         model.3.bn.bias         BatchNorm2d     False          64                [64]     0.377      1.02        float32\n",
      "   15                 model.4.cv1.conv.weight              Conv2d     False        4096      [64, 64, 1, 1]  -0.00366    0.0509        float32\n",
      "   16                   model.4.cv1.bn.weight         BatchNorm2d     False          64                [64]     0.696     0.281        float32\n",
      "   16                     model.4.cv1.bn.bias         BatchNorm2d     False          64                [64]     0.435     0.694        float32\n",
      "   17                 model.4.cv2.conv.weight              Conv2d     False       12288     [128, 96, 1, 1]  -0.00353    0.0384        float32\n",
      "   18                   model.4.cv2.bn.weight         BatchNorm2d     False         128               [128]     0.759     0.206        float32\n",
      "   18                     model.4.cv2.bn.bias         BatchNorm2d     False         128               [128]    -0.834     0.664        float32\n",
      "   19             model.4.m.0.cv1.conv.weight              Conv2d     False        4608      [16, 32, 3, 3]   -0.0017    0.0368        float32\n",
      "   20               model.4.m.0.cv1.bn.weight         BatchNorm2d     False          16                [16]     0.531     0.165        float32\n",
      "   20                 model.4.m.0.cv1.bn.bias         BatchNorm2d     False          16                [16]     0.494     0.698        float32\n",
      "   21             model.4.m.0.cv2.conv.weight              Conv2d     False        4608      [32, 16, 3, 3]  0.000478    0.0378        float32\n",
      "   22               model.4.m.0.cv2.bn.weight         BatchNorm2d     False          32                [32]     0.781     0.173        float32\n",
      "   22                 model.4.m.0.cv2.bn.bias         BatchNorm2d     False          32                [32]      1.13         1        float32\n",
      "   23                     model.5.conv.weight              Conv2d     False      147456    [128, 128, 3, 3] -0.000495    0.0149        float32\n",
      "   24                       model.5.bn.weight         BatchNorm2d     False         128               [128]     0.712     0.215        float32\n",
      "   24                         model.5.bn.bias         BatchNorm2d     False         128               [128]     -0.16     0.791        float32\n",
      "   25                 model.6.cv1.conv.weight              Conv2d     False       16384    [128, 128, 1, 1]  -0.00264    0.0306        float32\n",
      "   26                   model.6.cv1.bn.weight         BatchNorm2d     False         128               [128]     0.855     0.289        float32\n",
      "   26                     model.6.cv1.bn.bias         BatchNorm2d     False         128               [128]    -0.147     0.703        float32\n",
      "   27                 model.6.cv2.conv.weight              Conv2d     False       24576    [128, 192, 1, 1]  -0.00231     0.028        float32\n",
      "   28                   model.6.cv2.bn.weight         BatchNorm2d     False         128               [128]     0.851     0.211        float32\n",
      "   28                     model.6.cv2.bn.bias         BatchNorm2d     False         128               [128]    -0.507     0.751        float32\n",
      "   29             model.6.m.0.cv1.conv.weight              Conv2d     False        2048      [32, 64, 1, 1]  -0.00407    0.0351        float32\n",
      "   30               model.6.m.0.cv1.bn.weight         BatchNorm2d     False          32                [32]     0.528     0.156        float32\n",
      "   30                 model.6.m.0.cv1.bn.bias         BatchNorm2d     False          32                [32]     0.344     0.558        float32\n",
      "   31             model.6.m.0.cv2.conv.weight              Conv2d     False        2048      [32, 64, 1, 1]  -0.00208    0.0222        float32\n",
      "   32               model.6.m.0.cv2.bn.weight         BatchNorm2d     False          32                [32]       1.3     0.284        float32\n",
      "   32                 model.6.m.0.cv2.bn.bias         BatchNorm2d     False          32                [32]    -0.334      0.34        float32\n",
      "   33             model.6.m.0.cv3.conv.weight              Conv2d     False        4096      [64, 64, 1, 1]  -0.00252    0.0321        float32\n",
      "   34               model.6.m.0.cv3.bn.weight         BatchNorm2d     False          64                [64]      1.04     0.227        float32\n",
      "   34                 model.6.m.0.cv3.bn.bias         BatchNorm2d     False          64                [64]    -0.382     0.613        float32\n",
      "   35         model.6.m.0.m.0.cv1.conv.weight              Conv2d     False        9216      [32, 32, 3, 3]  -0.00165     0.023        float32\n",
      "   36           model.6.m.0.m.0.cv1.bn.weight         BatchNorm2d     False          32                [32]     0.907     0.135        float32\n",
      "   36             model.6.m.0.m.0.cv1.bn.bias         BatchNorm2d     False          32                [32]    -0.611     0.498        float32\n",
      "   37         model.6.m.0.m.0.cv2.conv.weight              Conv2d     False        9216      [32, 32, 3, 3]  -0.00105     0.022        float32\n",
      "   38           model.6.m.0.m.0.cv2.bn.weight         BatchNorm2d     False          32                [32]     0.812     0.187        float32\n",
      "   38             model.6.m.0.m.0.cv2.bn.bias         BatchNorm2d     False          32                [32]      0.24     0.676        float32\n",
      "   39         model.6.m.0.m.1.cv1.conv.weight              Conv2d     False        9216      [32, 32, 3, 3]  -0.00197    0.0227        float32\n",
      "   40           model.6.m.0.m.1.cv1.bn.weight         BatchNorm2d     False          32                [32]     0.798      0.14        float32\n",
      "   40             model.6.m.0.m.1.cv1.bn.bias         BatchNorm2d     False          32                [32]    -0.578     0.565        float32\n",
      "   41         model.6.m.0.m.1.cv2.conv.weight              Conv2d     False        9216      [32, 32, 3, 3] -0.000268     0.022        float32\n",
      "   42           model.6.m.0.m.1.cv2.bn.weight         BatchNorm2d     False          32                [32]      1.06     0.215        float32\n",
      "   42             model.6.m.0.m.1.cv2.bn.bias         BatchNorm2d     False          32                [32]      1.17     0.767        float32\n",
      "   43                     model.7.conv.weight              Conv2d     False      294912    [256, 128, 3, 3] -0.000359    0.0108        float32\n",
      "   44                       model.7.bn.weight         BatchNorm2d     False         256               [256]     0.879     0.222        float32\n",
      "   44                         model.7.bn.bias         BatchNorm2d     False         256               [256]    -0.541     0.597        float32\n",
      "   45                 model.8.cv1.conv.weight              Conv2d     False       65536    [256, 256, 1, 1]  -0.00186    0.0186        float32\n",
      "   46                   model.8.cv1.bn.weight         BatchNorm2d     False         256               [256]      1.11     0.177        float32\n",
      "   46                     model.8.cv1.bn.bias         BatchNorm2d     False         256               [256]    -0.682     0.573        float32\n",
      "   47                 model.8.cv2.conv.weight              Conv2d     False       98304    [256, 384, 1, 1]  -0.00161    0.0168        float32\n",
      "   48                   model.8.cv2.bn.weight         BatchNorm2d     False         256               [256]       1.2      0.26        float32\n",
      "   48                     model.8.cv2.bn.bias         BatchNorm2d     False         256               [256]    -0.479     0.633        float32\n",
      "   49             model.8.m.0.cv1.conv.weight              Conv2d     False        8192     [64, 128, 1, 1]  -0.00251    0.0231        float32\n",
      "   50               model.8.m.0.cv1.bn.weight         BatchNorm2d     False          64                [64]     0.666     0.233        float32\n",
      "   50                 model.8.m.0.cv1.bn.bias         BatchNorm2d     False          64                [64]    -0.106     0.576        float32\n",
      "   51             model.8.m.0.cv2.conv.weight              Conv2d     False        8192     [64, 128, 1, 1]   -0.0014    0.0145        float32\n",
      "   52               model.8.m.0.cv2.bn.weight         BatchNorm2d     False          64                [64]      1.41     0.125        float32\n",
      "   52                 model.8.m.0.cv2.bn.bias         BatchNorm2d     False          64                [64]    -0.264     0.154        float32\n",
      "   53             model.8.m.0.cv3.conv.weight              Conv2d     False       16384    [128, 128, 1, 1]   -0.0016    0.0206        float32\n",
      "   54               model.8.m.0.cv3.bn.weight         BatchNorm2d     False         128               [128]      1.28     0.206        float32\n",
      "   54                 model.8.m.0.cv3.bn.bias         BatchNorm2d     False         128               [128]    -0.696     0.474        float32\n",
      "   55         model.8.m.0.m.0.cv1.conv.weight              Conv2d     False       36864      [64, 64, 3, 3]  -0.00131     0.014        float32\n",
      "   56           model.8.m.0.m.0.cv1.bn.weight         BatchNorm2d     False          64                [64]      1.35     0.184        float32\n",
      "   56             model.8.m.0.m.0.cv1.bn.bias         BatchNorm2d     False          64                [64]    -0.922     0.582        float32\n",
      "   57         model.8.m.0.m.0.cv2.conv.weight              Conv2d     False       36864      [64, 64, 3, 3] -0.000846    0.0135        float32\n",
      "   58           model.8.m.0.m.0.cv2.bn.weight         BatchNorm2d     False          64                [64]      1.15      0.34        float32\n",
      "   58             model.8.m.0.m.0.cv2.bn.bias         BatchNorm2d     False          64                [64]   -0.0465     0.716        float32\n",
      "   59         model.8.m.0.m.1.cv1.conv.weight              Conv2d     False       36864      [64, 64, 3, 3]  -0.00116    0.0134        float32\n",
      "   60           model.8.m.0.m.1.cv1.bn.weight         BatchNorm2d     False          64                [64]      1.29     0.221        float32\n",
      "   60             model.8.m.0.m.1.cv1.bn.bias         BatchNorm2d     False          64                [64]    -0.553     0.675        float32\n",
      "   61         model.8.m.0.m.1.cv2.conv.weight              Conv2d     False       36864      [64, 64, 3, 3] -0.000543    0.0132        float32\n",
      "   62           model.8.m.0.m.1.cv2.bn.weight         BatchNorm2d     False          64                [64]      1.64     0.462        float32\n",
      "   62             model.8.m.0.m.1.cv2.bn.bias         BatchNorm2d     False          64                [64]     0.456     0.757        float32\n",
      "   63                 model.9.cv1.conv.weight              Conv2d     False       32768    [128, 256, 1, 1]  -0.00327    0.0232        float32\n",
      "   64                   model.9.cv1.bn.weight         BatchNorm2d     False         128               [128]     0.804     0.102        float32\n",
      "   64                     model.9.cv1.bn.bias         BatchNorm2d     False         128               [128]      1.99      0.43        float32\n",
      "   65                 model.9.cv2.conv.weight              Conv2d     False      131072    [256, 512, 1, 1]  0.000171    0.0151        float32\n",
      "   66                   model.9.cv2.bn.weight         BatchNorm2d     False         256               [256]     0.899     0.272        float32\n",
      "   66                     model.9.cv2.bn.bias         BatchNorm2d     False         256               [256]     -1.18      1.03        float32\n",
      "   67                               model.9.m           MaxPool2d     False           0                  []         -         -              -\n",
      "   68                model.10.cv1.conv.weight              Conv2d     False       65536    [256, 256, 1, 1]  -0.00251    0.0197        float32\n",
      "   69                  model.10.cv1.bn.weight         BatchNorm2d     False         256               [256]      1.47      0.33        float32\n",
      "   69                    model.10.cv1.bn.bias         BatchNorm2d     False         256               [256]    -0.205     0.649        float32\n",
      "   70                model.10.cv2.conv.weight              Conv2d     False       65536    [256, 256, 1, 1]  -0.00118    0.0184        float32\n",
      "   71                  model.10.cv2.bn.weight         BatchNorm2d     False         256               [256]     0.994     0.232        float32\n",
      "   71                    model.10.cv2.bn.bias         BatchNorm2d     False         256               [256]     -1.02     0.699        float32\n",
      "   72       model.10.m.0.attn.qkv.conv.weight              Conv2d     False       32768    [256, 128, 1, 1]  0.000541    0.0224        float32\n",
      "   73         model.10.m.0.attn.qkv.bn.weight         BatchNorm2d     False         256               [256]      1.18     0.409        float32\n",
      "   73           model.10.m.0.attn.qkv.bn.bias         BatchNorm2d     False         256               [256]   -0.0338     0.345        float32\n",
      "   74               model.10.m.0.attn.qkv.act            Identity     False           0                  []         -         -              -\n",
      "   75      model.10.m.0.attn.proj.conv.weight              Conv2d     False       16384    [128, 128, 1, 1]  0.000203    0.0221        float32\n",
      "   76        model.10.m.0.attn.proj.bn.weight         BatchNorm2d     False         128               [128]     0.751     0.153        float32\n",
      "   76          model.10.m.0.attn.proj.bn.bias         BatchNorm2d     False         128               [128] -7.34e-06   8.7e-05        float32\n",
      "   77              model.10.m.0.attn.proj.act            Identity     False           0                  []         -         -              -\n",
      "   78        model.10.m.0.attn.pe.conv.weight              Conv2d     False        1152      [128, 1, 3, 3]   -0.0134    0.0415        float32\n",
      "   79          model.10.m.0.attn.pe.bn.weight         BatchNorm2d     False         128               [128]     0.824     0.327        float32\n",
      "   79            model.10.m.0.attn.pe.bn.bias         BatchNorm2d     False         128               [128] -1.11e-05  9.13e-05        float32\n",
      "   80                model.10.m.0.attn.pe.act            Identity     False           0                  []         -         -              -\n",
      "   81          model.10.m.0.ffn.0.conv.weight              Conv2d     False       32768    [256, 128, 1, 1]  -0.00129    0.0177        float32\n",
      "   82            model.10.m.0.ffn.0.bn.weight         BatchNorm2d     False         256               [256]     0.974     0.115        float32\n",
      "   82              model.10.m.0.ffn.0.bn.bias         BatchNorm2d     False         256               [256]      -1.5     0.204        float32\n",
      "   83          model.10.m.0.ffn.1.conv.weight              Conv2d     False       32768    [128, 256, 1, 1]  0.000214    0.0154        float32\n",
      "   84            model.10.m.0.ffn.1.bn.weight         BatchNorm2d     False         128               [128]     0.687     0.125        float32\n",
      "   84              model.10.m.0.ffn.1.bn.bias         BatchNorm2d     False         128               [128]    -4e-06  5.84e-05        float32\n",
      "   85                  model.10.m.0.ffn.1.act            Identity     False           0                  []         -         -              -\n",
      "   86                                model.11            Upsample     False           0                  []         -         -              -\n",
      "   87                                model.12              Concat     False           0                  []         -         -              -\n",
      "   88                model.13.cv1.conv.weight              Conv2d     False       49152    [128, 384, 1, 1]  -0.00111    0.0211        float32\n",
      "   89                  model.13.cv1.bn.weight         BatchNorm2d     False         128               [128]     0.716     0.204        float32\n",
      "   89                    model.13.cv1.bn.bias         BatchNorm2d     False         128               [128]    -0.281      0.84        float32\n",
      "   90                model.13.cv2.conv.weight              Conv2d     False       24576    [128, 192, 1, 1]  -0.00186    0.0238        float32\n",
      "   91                  model.13.cv2.bn.weight         BatchNorm2d     False         128               [128]     0.627     0.202        float32\n",
      "   91                    model.13.cv2.bn.bias         BatchNorm2d     False         128               [128]    -0.391     0.631        float32\n",
      "   92            model.13.m.0.cv1.conv.weight              Conv2d     False       18432      [32, 64, 3, 3]  -0.00123    0.0208        float32\n",
      "   93              model.13.m.0.cv1.bn.weight         BatchNorm2d     False          32                [32]     0.692     0.133        float32\n",
      "   93                model.13.m.0.cv1.bn.bias         BatchNorm2d     False          32                [32]    -0.328     0.693        float32\n",
      "   94            model.13.m.0.cv2.conv.weight              Conv2d     False       18432      [64, 32, 3, 3]  -0.00121    0.0198        float32\n",
      "   95              model.13.m.0.cv2.bn.weight         BatchNorm2d     False          64                [64]     0.883     0.202        float32\n",
      "   95                model.13.m.0.cv2.bn.bias         BatchNorm2d     False          64                [64]     0.104      0.71        float32\n",
      "   96                                model.14            Upsample     False           0                  []         -         -              -\n",
      "   97                                model.15              Concat     False           0                  []         -         -              -\n",
      "   98                model.16.cv1.conv.weight              Conv2d     False       16384     [64, 256, 1, 1]  -0.00171    0.0242        float32\n",
      "   99                  model.16.cv1.bn.weight         BatchNorm2d     False          64                [64]      0.45     0.186        float32\n",
      "   99                    model.16.cv1.bn.bias         BatchNorm2d     False          64                [64]    0.0858     0.879        float32\n",
      "  100                model.16.cv2.conv.weight              Conv2d     False        6144      [64, 96, 1, 1]  0.000416    0.0329        float32\n",
      "  101                  model.16.cv2.bn.weight         BatchNorm2d     False          64                [64]     0.543      0.26        float32\n",
      "  101                    model.16.cv2.bn.bias         BatchNorm2d     False          64                [64]     0.125     0.839        float32\n",
      "  102            model.16.m.0.cv1.conv.weight              Conv2d     False        4608      [16, 32, 3, 3]  -0.00168     0.029        float32\n",
      "  103              model.16.m.0.cv1.bn.weight         BatchNorm2d     False          16                [16]     0.661     0.142        float32\n",
      "  103                model.16.m.0.cv1.bn.bias         BatchNorm2d     False          16                [16]    0.0959     0.687        float32\n",
      "  104            model.16.m.0.cv2.conv.weight              Conv2d     False        4608      [32, 16, 3, 3] -0.000963    0.0312        float32\n",
      "  105              model.16.m.0.cv2.bn.weight         BatchNorm2d     False          32                [32]     0.768     0.213        float32\n",
      "  105                model.16.m.0.cv2.bn.bias         BatchNorm2d     False          32                [32]    0.0741     0.762        float32\n",
      "  106                    model.17.conv.weight              Conv2d     False       36864      [64, 64, 3, 3] -0.000343    0.0124        float32\n",
      "  107                      model.17.bn.weight         BatchNorm2d     False          64                [64]     0.771     0.176        float32\n",
      "  107                        model.17.bn.bias         BatchNorm2d     False          64                [64]    -0.622     0.593        float32\n",
      "  108                                model.18              Concat     False           0                  []         -         -              -\n",
      "  109                model.19.cv1.conv.weight              Conv2d     False       24576    [128, 192, 1, 1]  -0.00103    0.0189        float32\n",
      "  110                  model.19.cv1.bn.weight         BatchNorm2d     False         128               [128]     0.672     0.196        float32\n",
      "  110                    model.19.cv1.bn.bias         BatchNorm2d     False         128               [128]    -0.267     0.603        float32\n",
      "  111                model.19.cv2.conv.weight              Conv2d     False       24576    [128, 192, 1, 1]  -0.00052    0.0186        float32\n",
      "  112                  model.19.cv2.bn.weight         BatchNorm2d     False         128               [128]     0.769     0.282        float32\n",
      "  112                    model.19.cv2.bn.bias         BatchNorm2d     False         128               [128]    -0.423     0.652        float32\n",
      "  113            model.19.m.0.cv1.conv.weight              Conv2d     False       18432      [32, 64, 3, 3]  -0.00123    0.0177        float32\n",
      "  114              model.19.m.0.cv1.bn.weight         BatchNorm2d     False          32                [32]     0.907     0.228        float32\n",
      "  114                model.19.m.0.cv1.bn.bias         BatchNorm2d     False          32                [32]    -0.252      0.78        float32\n",
      "  115            model.19.m.0.cv2.conv.weight              Conv2d     False       18432      [64, 32, 3, 3]  -0.00091    0.0175        float32\n",
      "  116              model.19.m.0.cv2.bn.weight         BatchNorm2d     False          64                [64]      1.19     0.249        float32\n",
      "  116                model.19.m.0.cv2.bn.bias         BatchNorm2d     False          64                [64]    -0.168     0.578        float32\n",
      "  117                    model.20.conv.weight              Conv2d     False      147456    [128, 128, 3, 3] -0.000307   0.00708        float32\n",
      "  118                      model.20.bn.weight         BatchNorm2d     False         128               [128]     0.939     0.195        float32\n",
      "  118                        model.20.bn.bias         BatchNorm2d     False         128               [128]    -0.584     0.345        float32\n",
      "  119                                model.21              Concat     False           0                  []         -         -              -\n",
      "  120                model.22.cv1.conv.weight              Conv2d     False       98304    [256, 384, 1, 1] -0.000877    0.0117        float32\n",
      "  121                  model.22.cv1.bn.weight         BatchNorm2d     False         256               [256]       1.1     0.181        float32\n",
      "  121                    model.22.cv1.bn.bias         BatchNorm2d     False         256               [256]    -0.656     0.443        float32\n",
      "  122                model.22.cv2.conv.weight              Conv2d     False       98304    [256, 384, 1, 1] -0.000582   0.00943        float32\n",
      "  123                  model.22.cv2.bn.weight         BatchNorm2d     False         256               [256]      1.06      0.38        float32\n",
      "  123                    model.22.cv2.bn.bias         BatchNorm2d     False         256               [256]    -0.563     0.425        float32\n",
      "  124            model.22.m.0.cv1.conv.weight              Conv2d     False        8192     [64, 128, 1, 1]  -0.00211      0.02        float32\n",
      "  125              model.22.m.0.cv1.bn.weight         BatchNorm2d     False          64                [64]     0.358     0.148        float32\n",
      "  125                model.22.m.0.cv1.bn.bias         BatchNorm2d     False          64                [64]    -0.186      0.44        float32\n",
      "  126            model.22.m.0.cv2.conv.weight              Conv2d     False        8192     [64, 128, 1, 1] -0.000656   0.00748        float32\n",
      "  127              model.22.m.0.cv2.bn.weight         BatchNorm2d     False          64                [64]      1.15     0.111        float32\n",
      "  127                model.22.m.0.cv2.bn.bias         BatchNorm2d     False          64                [64]    -0.125     0.111        float32\n",
      "  128            model.22.m.0.cv3.conv.weight              Conv2d     False       16384    [128, 128, 1, 1] -0.000809    0.0139        float32\n",
      "  129              model.22.m.0.cv3.bn.weight         BatchNorm2d     False         128               [128]      1.33     0.368        float32\n",
      "  129                model.22.m.0.cv3.bn.bias         BatchNorm2d     False         128               [128]    -0.425     0.557        float32\n",
      "  130        model.22.m.0.m.0.cv1.conv.weight              Conv2d     False       36864      [64, 64, 3, 3] -0.000836    0.0125        float32\n",
      "  131          model.22.m.0.m.0.cv1.bn.weight         BatchNorm2d     False          64                [64]      1.05     0.207        float32\n",
      "  131            model.22.m.0.m.0.cv1.bn.bias         BatchNorm2d     False          64                [64]    -0.781     0.649        float32\n",
      "  132        model.22.m.0.m.0.cv2.conv.weight              Conv2d     False       36864      [64, 64, 3, 3] -0.000624     0.012        float32\n",
      "  133          model.22.m.0.m.0.cv2.bn.weight         BatchNorm2d     False          64                [64]      0.94      0.24        float32\n",
      "  133            model.22.m.0.m.0.cv2.bn.bias         BatchNorm2d     False          64                [64]     -0.25     0.694        float32\n",
      "  134        model.22.m.0.m.1.cv1.conv.weight              Conv2d     False       36864      [64, 64, 3, 3] -0.000981    0.0117        float32\n",
      "  135          model.22.m.0.m.1.cv1.bn.weight         BatchNorm2d     False          64                [64]     0.926     0.233        float32\n",
      "  135            model.22.m.0.m.1.cv1.bn.bias         BatchNorm2d     False          64                [64]    -0.813     0.648        float32\n",
      "  136        model.22.m.0.m.1.cv2.conv.weight              Conv2d     False       36864      [64, 64, 3, 3] -2.36e-06    0.0108        float32\n",
      "  137          model.22.m.0.m.1.cv2.bn.weight         BatchNorm2d     False          64                [64]       1.7     0.405        float32\n",
      "  137            model.22.m.0.m.1.cv2.bn.bias         BatchNorm2d     False          64                [64]     0.175     0.628        float32\n",
      "  138            model.23.cv2.0.0.conv.weight              Conv2d     False       36864      [64, 64, 3, 3] -0.000899    0.0128        float32\n",
      "  139              model.23.cv2.0.0.bn.weight         BatchNorm2d     False          64                [64]     0.781     0.269        float32\n",
      "  139                model.23.cv2.0.0.bn.bias         BatchNorm2d     False          64                [64]    -0.617     0.595        float32\n",
      "  140            model.23.cv2.0.1.conv.weight              Conv2d     False       36864      [64, 64, 3, 3] -0.000355    0.0111        float32\n",
      "  141              model.23.cv2.0.1.bn.weight         BatchNorm2d     False          64                [64]      2.51       1.1        float32\n",
      "  141                model.23.cv2.0.1.bn.bias         BatchNorm2d     False          64                [64]     0.856     0.831        float32\n",
      "  142                 model.23.cv2.0.2.weight              Conv2d     False        4096      [64, 64, 1, 1]  1.74e-07    0.0478        float32\n",
      "  142                   model.23.cv2.0.2.bias              Conv2d     False          64                [64]     0.998     0.936        float32\n",
      "  143            model.23.cv2.1.0.conv.weight              Conv2d     False       73728     [64, 128, 3, 3] -0.000417   0.00831        float32\n",
      "  144              model.23.cv2.1.0.bn.weight         BatchNorm2d     False          64                [64]      1.25     0.478        float32\n",
      "  144                model.23.cv2.1.0.bn.bias         BatchNorm2d     False          64                [64]    -0.448     0.632        float32\n",
      "  145            model.23.cv2.1.1.conv.weight              Conv2d     False       36864      [64, 64, 3, 3]  -0.00022      0.01        float32\n",
      "  146              model.23.cv2.1.1.bn.weight         BatchNorm2d     False          64                [64]      2.67       1.1        float32\n",
      "  146                model.23.cv2.1.1.bn.bias         BatchNorm2d     False          64                [64]     0.707     0.634        float32\n",
      "  147                 model.23.cv2.1.2.weight              Conv2d     False        4096      [64, 64, 1, 1]  1.17e-06    0.0506        float32\n",
      "  147                   model.23.cv2.1.2.bias              Conv2d     False          64                [64]     0.998      1.05        float32\n",
      "  148            model.23.cv2.2.0.conv.weight              Conv2d     False      147456     [64, 256, 3, 3] -0.000194   0.00543        float32\n",
      "  149              model.23.cv2.2.0.bn.weight         BatchNorm2d     False          64                [64]      1.44     0.342        float32\n",
      "  149                model.23.cv2.2.0.bn.bias         BatchNorm2d     False          64                [64]    -0.353      0.62        float32\n",
      "  150            model.23.cv2.2.1.conv.weight              Conv2d     False       36864      [64, 64, 3, 3] -0.000113   0.00956        float32\n",
      "  151              model.23.cv2.2.1.bn.weight         BatchNorm2d     False          64                [64]      3.07     0.958        float32\n",
      "  151                model.23.cv2.2.1.bn.bias         BatchNorm2d     False          64                [64]     0.785     0.629        float32\n",
      "  152                 model.23.cv2.2.2.weight              Conv2d     False        4096      [64, 64, 1, 1]  3.79e-06    0.0563        float32\n",
      "  152                   model.23.cv2.2.2.bias              Conv2d     False          64                [64]     0.998      1.02        float32\n",
      "  153          model.23.cv3.0.0.0.conv.weight              Conv2d     False         576       [64, 1, 3, 3]   0.00324    0.0279        float32\n",
      "  154            model.23.cv3.0.0.0.bn.weight         BatchNorm2d     False          64                [64]     0.552      0.33        float32\n",
      "  154              model.23.cv3.0.0.0.bn.bias         BatchNorm2d     False          64                [64]      1.13       1.1        float32\n",
      "  155          model.23.cv3.0.0.1.conv.weight              Conv2d     False        5120      [80, 64, 1, 1]   0.00167    0.0228        float32\n",
      "  156            model.23.cv3.0.0.1.bn.weight         BatchNorm2d     False          80                [80]     0.647     0.226        float32\n",
      "  156              model.23.cv3.0.0.1.bn.bias         BatchNorm2d     False          80                [80]    -0.188     0.805        float32\n",
      "  157          model.23.cv3.0.1.0.conv.weight              Conv2d     False         720       [80, 1, 3, 3]   0.00502    0.0317        float32\n",
      "  158            model.23.cv3.0.1.0.bn.weight         BatchNorm2d     False          80                [80]     0.634     0.294        float32\n",
      "  158              model.23.cv3.0.1.0.bn.bias         BatchNorm2d     False          80                [80]     0.976     0.678        float32\n",
      "  159          model.23.cv3.0.1.1.conv.weight              Conv2d     False        6400      [80, 80, 1, 1]  -0.00167    0.0238        float32\n",
      "  160            model.23.cv3.0.1.1.bn.weight         BatchNorm2d     False          80                [80]      2.74     0.478        float32\n",
      "  160              model.23.cv3.0.1.1.bn.bias         BatchNorm2d     False          80                [80]      1.22      1.94        float32\n",
      "  161                 model.23.cv3.0.2.weight              Conv2d     False        6400      [80, 80, 1, 1]  -0.00875    0.0481        float32\n",
      "  161                   model.23.cv3.0.2.bias              Conv2d     False          80                [80]     -11.6     0.942        float32\n",
      "  162          model.23.cv3.1.0.0.conv.weight              Conv2d     False        1152      [128, 1, 3, 3]   0.00635    0.0214        float32\n",
      "  163            model.23.cv3.1.0.0.bn.weight         BatchNorm2d     False         128               [128]     0.798     0.253        float32\n",
      "  163              model.23.cv3.1.0.0.bn.bias         BatchNorm2d     False         128               [128]      0.54     0.764        float32\n",
      "  164          model.23.cv3.1.0.1.conv.weight              Conv2d     False       10240     [80, 128, 1, 1]  1.31e-05    0.0172        float32\n",
      "  165            model.23.cv3.1.0.1.bn.weight         BatchNorm2d     False          80                [80]      0.83     0.343        float32\n",
      "  165              model.23.cv3.1.0.1.bn.bias         BatchNorm2d     False          80                [80]   -0.0698     0.729        float32\n",
      "  166          model.23.cv3.1.1.0.conv.weight              Conv2d     False         720       [80, 1, 3, 3]   0.00383     0.028        float32\n",
      "  167            model.23.cv3.1.1.0.bn.weight         BatchNorm2d     False          80                [80]      0.74     0.378        float32\n",
      "  167              model.23.cv3.1.1.0.bn.bias         BatchNorm2d     False          80                [80]     0.731     0.748        float32\n",
      "  168          model.23.cv3.1.1.1.conv.weight              Conv2d     False        6400      [80, 80, 1, 1] -0.000902    0.0225        float32\n",
      "  169            model.23.cv3.1.1.1.bn.weight         BatchNorm2d     False          80                [80]       2.9      0.75        float32\n",
      "  169              model.23.cv3.1.1.1.bn.bias         BatchNorm2d     False          80                [80]      1.27      1.68        float32\n",
      "  170                 model.23.cv3.1.2.weight              Conv2d     False        6400      [80, 80, 1, 1]   -0.0103    0.0488        float32\n",
      "  170                   model.23.cv3.1.2.bias              Conv2d     False          80                [80]     -10.4     0.725        float32\n",
      "  171          model.23.cv3.2.0.0.conv.weight              Conv2d     False        2304      [256, 1, 3, 3]   0.00395    0.0176        float32\n",
      "  172            model.23.cv3.2.0.0.bn.weight         BatchNorm2d     False         256               [256]      1.01     0.259        float32\n",
      "  172              model.23.cv3.2.0.0.bn.bias         BatchNorm2d     False         256               [256]      0.15     0.372        float32\n",
      "  173          model.23.cv3.2.0.1.conv.weight              Conv2d     False       20480     [80, 256, 1, 1] -0.000449    0.0123        float32\n",
      "  174            model.23.cv3.2.0.1.bn.weight         BatchNorm2d     False          80                [80]      1.08     0.303        float32\n",
      "  174              model.23.cv3.2.0.1.bn.bias         BatchNorm2d     False          80                [80]    -0.023     0.695        float32\n",
      "  175          model.23.cv3.2.1.0.conv.weight              Conv2d     False         720       [80, 1, 3, 3]    0.0051    0.0224        float32\n",
      "  176            model.23.cv3.2.1.0.bn.weight         BatchNorm2d     False          80                [80]     0.838     0.391        float32\n",
      "  176              model.23.cv3.2.1.0.bn.bias         BatchNorm2d     False          80                [80]     0.683     0.798        float32\n",
      "  177          model.23.cv3.2.1.1.conv.weight              Conv2d     False        6400      [80, 80, 1, 1]  -0.00218      0.02        float32\n",
      "  178            model.23.cv3.2.1.1.bn.weight         BatchNorm2d     False          80                [80]      3.16     0.736        float32\n",
      "  178              model.23.cv3.2.1.1.bn.bias         BatchNorm2d     False          80                [80]      1.54      1.46        float32\n",
      "  179                 model.23.cv3.2.2.weight              Conv2d     False        6400      [80, 80, 1, 1]    -0.011    0.0476        float32\n",
      "  179                   model.23.cv3.2.2.bias              Conv2d     False          80                [80]     -9.08      0.75        float32\n",
      "  180                model.23.dfl.conv.weight              Conv2d     False          16       [1, 16, 1, 1]       7.5      4.76        float32\n",
      "YOLO11n summary: 181 layers, 2,624,080 parameters, 0 gradients, 6.6 GFLOPs\n",
      "(181, 2624080, 0, 6.614336)\n",
      "网络结构详细：\n",
      "<bound method Model.info of YOLO(\n",
      "  (model): DetectionModel(\n",
      "    (model): Sequential(\n",
      "      (0): Conv(\n",
      "        (conv): Conv2d(3, 16, kernel_size=(3, 3), stride=(2, 2), padding=(1, 1), bias=False)\n",
      "        (bn): BatchNorm2d(16, eps=0.001, momentum=0.03, affine=True, track_running_stats=True)\n",
      "        (act): SiLU(inplace=True)\n",
      "      )\n",
      "      (1): Conv(\n",
      "        (conv): Conv2d(16, 32, kernel_size=(3, 3), stride=(2, 2), padding=(1, 1), bias=False)\n",
      "        (bn): BatchNorm2d(32, eps=0.001, momentum=0.03, affine=True, track_running_stats=True)\n",
      "        (act): SiLU(inplace=True)\n",
      "      )\n",
      "      (2): C3k2(\n",
      "        (cv1): Conv(\n",
      "          (conv): Conv2d(32, 32, kernel_size=(1, 1), stride=(1, 1), bias=False)\n",
      "          (bn): BatchNorm2d(32, eps=0.001, momentum=0.03, affine=True, track_running_stats=True)\n",
      "          (act): SiLU(inplace=True)\n",
      "        )\n",
      "        (cv2): Conv(\n",
      "          (conv): Conv2d(48, 64, kernel_size=(1, 1), stride=(1, 1), bias=False)\n",
      "          (bn): BatchNorm2d(64, eps=0.001, momentum=0.03, affine=True, track_running_stats=True)\n",
      "          (act): SiLU(inplace=True)\n",
      "        )\n",
      "        (m): ModuleList(\n",
      "          (0): Bottleneck(\n",
      "            (cv1): Conv(\n",
      "              (conv): Conv2d(16, 8, kernel_size=(3, 3), stride=(1, 1), padding=(1, 1), bias=False)\n",
      "              (bn): BatchNorm2d(8, eps=0.001, momentum=0.03, affine=True, track_running_stats=True)\n",
      "              (act): SiLU(inplace=True)\n",
      "            )\n",
      "            (cv2): Conv(\n",
      "              (conv): Conv2d(8, 16, kernel_size=(3, 3), stride=(1, 1), padding=(1, 1), bias=False)\n",
      "              (bn): BatchNorm2d(16, eps=0.001, momentum=0.03, affine=True, track_running_stats=True)\n",
      "              (act): SiLU(inplace=True)\n",
      "            )\n",
      "          )\n",
      "        )\n",
      "      )\n",
      "      (3): Conv(\n",
      "        (conv): Conv2d(64, 64, kernel_size=(3, 3), stride=(2, 2), padding=(1, 1), bias=False)\n",
      "        (bn): BatchNorm2d(64, eps=0.001, momentum=0.03, affine=True, track_running_stats=True)\n",
      "        (act): SiLU(inplace=True)\n",
      "      )\n",
      "      (4): C3k2(\n",
      "        (cv1): Conv(\n",
      "          (conv): Conv2d(64, 64, kernel_size=(1, 1), stride=(1, 1), bias=False)\n",
      "          (bn): BatchNorm2d(64, eps=0.001, momentum=0.03, affine=True, track_running_stats=True)\n",
      "          (act): SiLU(inplace=True)\n",
      "        )\n",
      "        (cv2): Conv(\n",
      "          (conv): Conv2d(96, 128, kernel_size=(1, 1), stride=(1, 1), bias=False)\n",
      "          (bn): BatchNorm2d(128, eps=0.001, momentum=0.03, affine=True, track_running_stats=True)\n",
      "          (act): SiLU(inplace=True)\n",
      "        )\n",
      "        (m): ModuleList(\n",
      "          (0): Bottleneck(\n",
      "            (cv1): Conv(\n",
      "              (conv): Conv2d(32, 16, kernel_size=(3, 3), stride=(1, 1), padding=(1, 1), bias=False)\n",
      "              (bn): BatchNorm2d(16, eps=0.001, momentum=0.03, affine=True, track_running_stats=True)\n",
      "              (act): SiLU(inplace=True)\n",
      "            )\n",
      "            (cv2): Conv(\n",
      "              (conv): Conv2d(16, 32, kernel_size=(3, 3), stride=(1, 1), padding=(1, 1), bias=False)\n",
      "              (bn): BatchNorm2d(32, eps=0.001, momentum=0.03, affine=True, track_running_stats=True)\n",
      "              (act): SiLU(inplace=True)\n",
      "            )\n",
      "          )\n",
      "        )\n",
      "      )\n",
      "      (5): Conv(\n",
      "        (conv): Conv2d(128, 128, kernel_size=(3, 3), stride=(2, 2), padding=(1, 1), bias=False)\n",
      "        (bn): BatchNorm2d(128, eps=0.001, momentum=0.03, affine=True, track_running_stats=True)\n",
      "        (act): SiLU(inplace=True)\n",
      "      )\n",
      "      (6): C3k2(\n",
      "        (cv1): Conv(\n",
      "          (conv): Conv2d(128, 128, kernel_size=(1, 1), stride=(1, 1), bias=False)\n",
      "          (bn): BatchNorm2d(128, eps=0.001, momentum=0.03, affine=True, track_running_stats=True)\n",
      "          (act): SiLU(inplace=True)\n",
      "        )\n",
      "        (cv2): Conv(\n",
      "          (conv): Conv2d(192, 128, kernel_size=(1, 1), stride=(1, 1), bias=False)\n",
      "          (bn): BatchNorm2d(128, eps=0.001, momentum=0.03, affine=True, track_running_stats=True)\n",
      "          (act): SiLU(inplace=True)\n",
      "        )\n",
      "        (m): ModuleList(\n",
      "          (0): C3k(\n",
      "            (cv1): Conv(\n",
      "              (conv): Conv2d(64, 32, kernel_size=(1, 1), stride=(1, 1), bias=False)\n",
      "              (bn): BatchNorm2d(32, eps=0.001, momentum=0.03, affine=True, track_running_stats=True)\n",
      "              (act): SiLU(inplace=True)\n",
      "            )\n",
      "            (cv2): Conv(\n",
      "              (conv): Conv2d(64, 32, kernel_size=(1, 1), stride=(1, 1), bias=False)\n",
      "              (bn): BatchNorm2d(32, eps=0.001, momentum=0.03, affine=True, track_running_stats=True)\n",
      "              (act): SiLU(inplace=True)\n",
      "            )\n",
      "            (cv3): Conv(\n",
      "              (conv): Conv2d(64, 64, kernel_size=(1, 1), stride=(1, 1), bias=False)\n",
      "              (bn): BatchNorm2d(64, eps=0.001, momentum=0.03, affine=True, track_running_stats=True)\n",
      "              (act): SiLU(inplace=True)\n",
      "            )\n",
      "            (m): Sequential(\n",
      "              (0): Bottleneck(\n",
      "                (cv1): Conv(\n",
      "                  (conv): Conv2d(32, 32, kernel_size=(3, 3), stride=(1, 1), padding=(1, 1), bias=False)\n",
      "                  (bn): BatchNorm2d(32, eps=0.001, momentum=0.03, affine=True, track_running_stats=True)\n",
      "                  (act): SiLU(inplace=True)\n",
      "                )\n",
      "                (cv2): Conv(\n",
      "                  (conv): Conv2d(32, 32, kernel_size=(3, 3), stride=(1, 1), padding=(1, 1), bias=False)\n",
      "                  (bn): BatchNorm2d(32, eps=0.001, momentum=0.03, affine=True, track_running_stats=True)\n",
      "                  (act): SiLU(inplace=True)\n",
      "                )\n",
      "              )\n",
      "              (1): Bottleneck(\n",
      "                (cv1): Conv(\n",
      "                  (conv): Conv2d(32, 32, kernel_size=(3, 3), stride=(1, 1), padding=(1, 1), bias=False)\n",
      "                  (bn): BatchNorm2d(32, eps=0.001, momentum=0.03, affine=True, track_running_stats=True)\n",
      "                  (act): SiLU(inplace=True)\n",
      "                )\n",
      "                (cv2): Conv(\n",
      "                  (conv): Conv2d(32, 32, kernel_size=(3, 3), stride=(1, 1), padding=(1, 1), bias=False)\n",
      "                  (bn): BatchNorm2d(32, eps=0.001, momentum=0.03, affine=True, track_running_stats=True)\n",
      "                  (act): SiLU(inplace=True)\n",
      "                )\n",
      "              )\n",
      "            )\n",
      "          )\n",
      "        )\n",
      "      )\n",
      "      (7): Conv(\n",
      "        (conv): Conv2d(128, 256, kernel_size=(3, 3), stride=(2, 2), padding=(1, 1), bias=False)\n",
      "        (bn): BatchNorm2d(256, eps=0.001, momentum=0.03, affine=True, track_running_stats=True)\n",
      "        (act): SiLU(inplace=True)\n",
      "      )\n",
      "      (8): C3k2(\n",
      "        (cv1): Conv(\n",
      "          (conv): Conv2d(256, 256, kernel_size=(1, 1), stride=(1, 1), bias=False)\n",
      "          (bn): BatchNorm2d(256, eps=0.001, momentum=0.03, affine=True, track_running_stats=True)\n",
      "          (act): SiLU(inplace=True)\n",
      "        )\n",
      "        (cv2): Conv(\n",
      "          (conv): Conv2d(384, 256, kernel_size=(1, 1), stride=(1, 1), bias=False)\n",
      "          (bn): BatchNorm2d(256, eps=0.001, momentum=0.03, affine=True, track_running_stats=True)\n",
      "          (act): SiLU(inplace=True)\n",
      "        )\n",
      "        (m): ModuleList(\n",
      "          (0): C3k(\n",
      "            (cv1): Conv(\n",
      "              (conv): Conv2d(128, 64, kernel_size=(1, 1), stride=(1, 1), bias=False)\n",
      "              (bn): BatchNorm2d(64, eps=0.001, momentum=0.03, affine=True, track_running_stats=True)\n",
      "              (act): SiLU(inplace=True)\n",
      "            )\n",
      "            (cv2): Conv(\n",
      "              (conv): Conv2d(128, 64, kernel_size=(1, 1), stride=(1, 1), bias=False)\n",
      "              (bn): BatchNorm2d(64, eps=0.001, momentum=0.03, affine=True, track_running_stats=True)\n",
      "              (act): SiLU(inplace=True)\n",
      "            )\n",
      "            (cv3): Conv(\n",
      "              (conv): Conv2d(128, 128, kernel_size=(1, 1), stride=(1, 1), bias=False)\n",
      "              (bn): BatchNorm2d(128, eps=0.001, momentum=0.03, affine=True, track_running_stats=True)\n",
      "              (act): SiLU(inplace=True)\n",
      "            )\n",
      "            (m): Sequential(\n",
      "              (0): Bottleneck(\n",
      "                (cv1): Conv(\n",
      "                  (conv): Conv2d(64, 64, kernel_size=(3, 3), stride=(1, 1), padding=(1, 1), bias=False)\n",
      "                  (bn): BatchNorm2d(64, eps=0.001, momentum=0.03, affine=True, track_running_stats=True)\n",
      "                  (act): SiLU(inplace=True)\n",
      "                )\n",
      "                (cv2): Conv(\n",
      "                  (conv): Conv2d(64, 64, kernel_size=(3, 3), stride=(1, 1), padding=(1, 1), bias=False)\n",
      "                  (bn): BatchNorm2d(64, eps=0.001, momentum=0.03, affine=True, track_running_stats=True)\n",
      "                  (act): SiLU(inplace=True)\n",
      "                )\n",
      "              )\n",
      "              (1): Bottleneck(\n",
      "                (cv1): Conv(\n",
      "                  (conv): Conv2d(64, 64, kernel_size=(3, 3), stride=(1, 1), padding=(1, 1), bias=False)\n",
      "                  (bn): BatchNorm2d(64, eps=0.001, momentum=0.03, affine=True, track_running_stats=True)\n",
      "                  (act): SiLU(inplace=True)\n",
      "                )\n",
      "                (cv2): Conv(\n",
      "                  (conv): Conv2d(64, 64, kernel_size=(3, 3), stride=(1, 1), padding=(1, 1), bias=False)\n",
      "                  (bn): BatchNorm2d(64, eps=0.001, momentum=0.03, affine=True, track_running_stats=True)\n",
      "                  (act): SiLU(inplace=True)\n",
      "                )\n",
      "              )\n",
      "            )\n",
      "          )\n",
      "        )\n",
      "      )\n",
      "      (9): SPPF(\n",
      "        (cv1): Conv(\n",
      "          (conv): Conv2d(256, 128, kernel_size=(1, 1), stride=(1, 1), bias=False)\n",
      "          (bn): BatchNorm2d(128, eps=0.001, momentum=0.03, affine=True, track_running_stats=True)\n",
      "          (act): SiLU(inplace=True)\n",
      "        )\n",
      "        (cv2): Conv(\n",
      "          (conv): Conv2d(512, 256, kernel_size=(1, 1), stride=(1, 1), bias=False)\n",
      "          (bn): BatchNorm2d(256, eps=0.001, momentum=0.03, affine=True, track_running_stats=True)\n",
      "          (act): SiLU(inplace=True)\n",
      "        )\n",
      "        (m): MaxPool2d(kernel_size=5, stride=1, padding=2, dilation=1, ceil_mode=False)\n",
      "      )\n",
      "      (10): C2PSA(\n",
      "        (cv1): Conv(\n",
      "          (conv): Conv2d(256, 256, kernel_size=(1, 1), stride=(1, 1), bias=False)\n",
      "          (bn): BatchNorm2d(256, eps=0.001, momentum=0.03, affine=True, track_running_stats=True)\n",
      "          (act): SiLU(inplace=True)\n",
      "        )\n",
      "        (cv2): Conv(\n",
      "          (conv): Conv2d(256, 256, kernel_size=(1, 1), stride=(1, 1), bias=False)\n",
      "          (bn): BatchNorm2d(256, eps=0.001, momentum=0.03, affine=True, track_running_stats=True)\n",
      "          (act): SiLU(inplace=True)\n",
      "        )\n",
      "        (m): Sequential(\n",
      "          (0): PSABlock(\n",
      "            (attn): Attention(\n",
      "              (qkv): Conv(\n",
      "                (conv): Conv2d(128, 256, kernel_size=(1, 1), stride=(1, 1), bias=False)\n",
      "                (bn): BatchNorm2d(256, eps=0.001, momentum=0.03, affine=True, track_running_stats=True)\n",
      "                (act): Identity()\n",
      "              )\n",
      "              (proj): Conv(\n",
      "                (conv): Conv2d(128, 128, kernel_size=(1, 1), stride=(1, 1), bias=False)\n",
      "                (bn): BatchNorm2d(128, eps=0.001, momentum=0.03, affine=True, track_running_stats=True)\n",
      "                (act): Identity()\n",
      "              )\n",
      "              (pe): Conv(\n",
      "                (conv): Conv2d(128, 128, kernel_size=(3, 3), stride=(1, 1), padding=(1, 1), groups=128, bias=False)\n",
      "                (bn): BatchNorm2d(128, eps=0.001, momentum=0.03, affine=True, track_running_stats=True)\n",
      "                (act): Identity()\n",
      "              )\n",
      "            )\n",
      "            (ffn): Sequential(\n",
      "              (0): Conv(\n",
      "                (conv): Conv2d(128, 256, kernel_size=(1, 1), stride=(1, 1), bias=False)\n",
      "                (bn): BatchNorm2d(256, eps=0.001, momentum=0.03, affine=True, track_running_stats=True)\n",
      "                (act): SiLU(inplace=True)\n",
      "              )\n",
      "              (1): Conv(\n",
      "                (conv): Conv2d(256, 128, kernel_size=(1, 1), stride=(1, 1), bias=False)\n",
      "                (bn): BatchNorm2d(128, eps=0.001, momentum=0.03, affine=True, track_running_stats=True)\n",
      "                (act): Identity()\n",
      "              )\n",
      "            )\n",
      "          )\n",
      "        )\n",
      "      )\n",
      "      (11): Upsample(scale_factor=2.0, mode='nearest')\n",
      "      (12): Concat()\n",
      "      (13): C3k2(\n",
      "        (cv1): Conv(\n",
      "          (conv): Conv2d(384, 128, kernel_size=(1, 1), stride=(1, 1), bias=False)\n",
      "          (bn): BatchNorm2d(128, eps=0.001, momentum=0.03, affine=True, track_running_stats=True)\n",
      "          (act): SiLU(inplace=True)\n",
      "        )\n",
      "        (cv2): Conv(\n",
      "          (conv): Conv2d(192, 128, kernel_size=(1, 1), stride=(1, 1), bias=False)\n",
      "          (bn): BatchNorm2d(128, eps=0.001, momentum=0.03, affine=True, track_running_stats=True)\n",
      "          (act): SiLU(inplace=True)\n",
      "        )\n",
      "        (m): ModuleList(\n",
      "          (0): Bottleneck(\n",
      "            (cv1): Conv(\n",
      "              (conv): Conv2d(64, 32, kernel_size=(3, 3), stride=(1, 1), padding=(1, 1), bias=False)\n",
      "              (bn): BatchNorm2d(32, eps=0.001, momentum=0.03, affine=True, track_running_stats=True)\n",
      "              (act): SiLU(inplace=True)\n",
      "            )\n",
      "            (cv2): Conv(\n",
      "              (conv): Conv2d(32, 64, kernel_size=(3, 3), stride=(1, 1), padding=(1, 1), bias=False)\n",
      "              (bn): BatchNorm2d(64, eps=0.001, momentum=0.03, affine=True, track_running_stats=True)\n",
      "              (act): SiLU(inplace=True)\n",
      "            )\n",
      "          )\n",
      "        )\n",
      "      )\n",
      "      (14): Upsample(scale_factor=2.0, mode='nearest')\n",
      "      (15): Concat()\n",
      "      (16): C3k2(\n",
      "        (cv1): Conv(\n",
      "          (conv): Conv2d(256, 64, kernel_size=(1, 1), stride=(1, 1), bias=False)\n",
      "          (bn): BatchNorm2d(64, eps=0.001, momentum=0.03, affine=True, track_running_stats=True)\n",
      "          (act): SiLU(inplace=True)\n",
      "        )\n",
      "        (cv2): Conv(\n",
      "          (conv): Conv2d(96, 64, kernel_size=(1, 1), stride=(1, 1), bias=False)\n",
      "          (bn): BatchNorm2d(64, eps=0.001, momentum=0.03, affine=True, track_running_stats=True)\n",
      "          (act): SiLU(inplace=True)\n",
      "        )\n",
      "        (m): ModuleList(\n",
      "          (0): Bottleneck(\n",
      "            (cv1): Conv(\n",
      "              (conv): Conv2d(32, 16, kernel_size=(3, 3), stride=(1, 1), padding=(1, 1), bias=False)\n",
      "              (bn): BatchNorm2d(16, eps=0.001, momentum=0.03, affine=True, track_running_stats=True)\n",
      "              (act): SiLU(inplace=True)\n",
      "            )\n",
      "            (cv2): Conv(\n",
      "              (conv): Conv2d(16, 32, kernel_size=(3, 3), stride=(1, 1), padding=(1, 1), bias=False)\n",
      "              (bn): BatchNorm2d(32, eps=0.001, momentum=0.03, affine=True, track_running_stats=True)\n",
      "              (act): SiLU(inplace=True)\n",
      "            )\n",
      "          )\n",
      "        )\n",
      "      )\n",
      "      (17): Conv(\n",
      "        (conv): Conv2d(64, 64, kernel_size=(3, 3), stride=(2, 2), padding=(1, 1), bias=False)\n",
      "        (bn): BatchNorm2d(64, eps=0.001, momentum=0.03, affine=True, track_running_stats=True)\n",
      "        (act): SiLU(inplace=True)\n",
      "      )\n",
      "      (18): Concat()\n",
      "      (19): C3k2(\n",
      "        (cv1): Conv(\n",
      "          (conv): Conv2d(192, 128, kernel_size=(1, 1), stride=(1, 1), bias=False)\n",
      "          (bn): BatchNorm2d(128, eps=0.001, momentum=0.03, affine=True, track_running_stats=True)\n",
      "          (act): SiLU(inplace=True)\n",
      "        )\n",
      "        (cv2): Conv(\n",
      "          (conv): Conv2d(192, 128, kernel_size=(1, 1), stride=(1, 1), bias=False)\n",
      "          (bn): BatchNorm2d(128, eps=0.001, momentum=0.03, affine=True, track_running_stats=True)\n",
      "          (act): SiLU(inplace=True)\n",
      "        )\n",
      "        (m): ModuleList(\n",
      "          (0): Bottleneck(\n",
      "            (cv1): Conv(\n",
      "              (conv): Conv2d(64, 32, kernel_size=(3, 3), stride=(1, 1), padding=(1, 1), bias=False)\n",
      "              (bn): BatchNorm2d(32, eps=0.001, momentum=0.03, affine=True, track_running_stats=True)\n",
      "              (act): SiLU(inplace=True)\n",
      "            )\n",
      "            (cv2): Conv(\n",
      "              (conv): Conv2d(32, 64, kernel_size=(3, 3), stride=(1, 1), padding=(1, 1), bias=False)\n",
      "              (bn): BatchNorm2d(64, eps=0.001, momentum=0.03, affine=True, track_running_stats=True)\n",
      "              (act): SiLU(inplace=True)\n",
      "            )\n",
      "          )\n",
      "        )\n",
      "      )\n",
      "      (20): Conv(\n",
      "        (conv): Conv2d(128, 128, kernel_size=(3, 3), stride=(2, 2), padding=(1, 1), bias=False)\n",
      "        (bn): BatchNorm2d(128, eps=0.001, momentum=0.03, affine=True, track_running_stats=True)\n",
      "        (act): SiLU(inplace=True)\n",
      "      )\n",
      "      (21): Concat()\n",
      "      (22): C3k2(\n",
      "        (cv1): Conv(\n",
      "          (conv): Conv2d(384, 256, kernel_size=(1, 1), stride=(1, 1), bias=False)\n",
      "          (bn): BatchNorm2d(256, eps=0.001, momentum=0.03, affine=True, track_running_stats=True)\n",
      "          (act): SiLU(inplace=True)\n",
      "        )\n",
      "        (cv2): Conv(\n",
      "          (conv): Conv2d(384, 256, kernel_size=(1, 1), stride=(1, 1), bias=False)\n",
      "          (bn): BatchNorm2d(256, eps=0.001, momentum=0.03, affine=True, track_running_stats=True)\n",
      "          (act): SiLU(inplace=True)\n",
      "        )\n",
      "        (m): ModuleList(\n",
      "          (0): C3k(\n",
      "            (cv1): Conv(\n",
      "              (conv): Conv2d(128, 64, kernel_size=(1, 1), stride=(1, 1), bias=False)\n",
      "              (bn): BatchNorm2d(64, eps=0.001, momentum=0.03, affine=True, track_running_stats=True)\n",
      "              (act): SiLU(inplace=True)\n",
      "            )\n",
      "            (cv2): Conv(\n",
      "              (conv): Conv2d(128, 64, kernel_size=(1, 1), stride=(1, 1), bias=False)\n",
      "              (bn): BatchNorm2d(64, eps=0.001, momentum=0.03, affine=True, track_running_stats=True)\n",
      "              (act): SiLU(inplace=True)\n",
      "            )\n",
      "            (cv3): Conv(\n",
      "              (conv): Conv2d(128, 128, kernel_size=(1, 1), stride=(1, 1), bias=False)\n",
      "              (bn): BatchNorm2d(128, eps=0.001, momentum=0.03, affine=True, track_running_stats=True)\n",
      "              (act): SiLU(inplace=True)\n",
      "            )\n",
      "            (m): Sequential(\n",
      "              (0): Bottleneck(\n",
      "                (cv1): Conv(\n",
      "                  (conv): Conv2d(64, 64, kernel_size=(3, 3), stride=(1, 1), padding=(1, 1), bias=False)\n",
      "                  (bn): BatchNorm2d(64, eps=0.001, momentum=0.03, affine=True, track_running_stats=True)\n",
      "                  (act): SiLU(inplace=True)\n",
      "                )\n",
      "                (cv2): Conv(\n",
      "                  (conv): Conv2d(64, 64, kernel_size=(3, 3), stride=(1, 1), padding=(1, 1), bias=False)\n",
      "                  (bn): BatchNorm2d(64, eps=0.001, momentum=0.03, affine=True, track_running_stats=True)\n",
      "                  (act): SiLU(inplace=True)\n",
      "                )\n",
      "              )\n",
      "              (1): Bottleneck(\n",
      "                (cv1): Conv(\n",
      "                  (conv): Conv2d(64, 64, kernel_size=(3, 3), stride=(1, 1), padding=(1, 1), bias=False)\n",
      "                  (bn): BatchNorm2d(64, eps=0.001, momentum=0.03, affine=True, track_running_stats=True)\n",
      "                  (act): SiLU(inplace=True)\n",
      "                )\n",
      "                (cv2): Conv(\n",
      "                  (conv): Conv2d(64, 64, kernel_size=(3, 3), stride=(1, 1), padding=(1, 1), bias=False)\n",
      "                  (bn): BatchNorm2d(64, eps=0.001, momentum=0.03, affine=True, track_running_stats=True)\n",
      "                  (act): SiLU(inplace=True)\n",
      "                )\n",
      "              )\n",
      "            )\n",
      "          )\n",
      "        )\n",
      "      )\n",
      "      (23): Detect(\n",
      "        (cv2): ModuleList(\n",
      "          (0): Sequential(\n",
      "            (0): Conv(\n",
      "              (conv): Conv2d(64, 64, kernel_size=(3, 3), stride=(1, 1), padding=(1, 1), bias=False)\n",
      "              (bn): BatchNorm2d(64, eps=0.001, momentum=0.03, affine=True, track_running_stats=True)\n",
      "              (act): SiLU(inplace=True)\n",
      "            )\n",
      "            (1): Conv(\n",
      "              (conv): Conv2d(64, 64, kernel_size=(3, 3), stride=(1, 1), padding=(1, 1), bias=False)\n",
      "              (bn): BatchNorm2d(64, eps=0.001, momentum=0.03, affine=True, track_running_stats=True)\n",
      "              (act): SiLU(inplace=True)\n",
      "            )\n",
      "            (2): Conv2d(64, 64, kernel_size=(1, 1), stride=(1, 1))\n",
      "          )\n",
      "          (1): Sequential(\n",
      "            (0): Conv(\n",
      "              (conv): Conv2d(128, 64, kernel_size=(3, 3), stride=(1, 1), padding=(1, 1), bias=False)\n",
      "              (bn): BatchNorm2d(64, eps=0.001, momentum=0.03, affine=True, track_running_stats=True)\n",
      "              (act): SiLU(inplace=True)\n",
      "            )\n",
      "            (1): Conv(\n",
      "              (conv): Conv2d(64, 64, kernel_size=(3, 3), stride=(1, 1), padding=(1, 1), bias=False)\n",
      "              (bn): BatchNorm2d(64, eps=0.001, momentum=0.03, affine=True, track_running_stats=True)\n",
      "              (act): SiLU(inplace=True)\n",
      "            )\n",
      "            (2): Conv2d(64, 64, kernel_size=(1, 1), stride=(1, 1))\n",
      "          )\n",
      "          (2): Sequential(\n",
      "            (0): Conv(\n",
      "              (conv): Conv2d(256, 64, kernel_size=(3, 3), stride=(1, 1), padding=(1, 1), bias=False)\n",
      "              (bn): BatchNorm2d(64, eps=0.001, momentum=0.03, affine=True, track_running_stats=True)\n",
      "              (act): SiLU(inplace=True)\n",
      "            )\n",
      "            (1): Conv(\n",
      "              (conv): Conv2d(64, 64, kernel_size=(3, 3), stride=(1, 1), padding=(1, 1), bias=False)\n",
      "              (bn): BatchNorm2d(64, eps=0.001, momentum=0.03, affine=True, track_running_stats=True)\n",
      "              (act): SiLU(inplace=True)\n",
      "            )\n",
      "            (2): Conv2d(64, 64, kernel_size=(1, 1), stride=(1, 1))\n",
      "          )\n",
      "        )\n",
      "        (cv3): ModuleList(\n",
      "          (0): Sequential(\n",
      "            (0): Sequential(\n",
      "              (0): DWConv(\n",
      "                (conv): Conv2d(64, 64, kernel_size=(3, 3), stride=(1, 1), padding=(1, 1), groups=64, bias=False)\n",
      "                (bn): BatchNorm2d(64, eps=0.001, momentum=0.03, affine=True, track_running_stats=True)\n",
      "                (act): SiLU(inplace=True)\n",
      "              )\n",
      "              (1): Conv(\n",
      "                (conv): Conv2d(64, 80, kernel_size=(1, 1), stride=(1, 1), bias=False)\n",
      "                (bn): BatchNorm2d(80, eps=0.001, momentum=0.03, affine=True, track_running_stats=True)\n",
      "                (act): SiLU(inplace=True)\n",
      "              )\n",
      "            )\n",
      "            (1): Sequential(\n",
      "              (0): DWConv(\n",
      "                (conv): Conv2d(80, 80, kernel_size=(3, 3), stride=(1, 1), padding=(1, 1), groups=80, bias=False)\n",
      "                (bn): BatchNorm2d(80, eps=0.001, momentum=0.03, affine=True, track_running_stats=True)\n",
      "                (act): SiLU(inplace=True)\n",
      "              )\n",
      "              (1): Conv(\n",
      "                (conv): Conv2d(80, 80, kernel_size=(1, 1), stride=(1, 1), bias=False)\n",
      "                (bn): BatchNorm2d(80, eps=0.001, momentum=0.03, affine=True, track_running_stats=True)\n",
      "                (act): SiLU(inplace=True)\n",
      "              )\n",
      "            )\n",
      "            (2): Conv2d(80, 80, kernel_size=(1, 1), stride=(1, 1))\n",
      "          )\n",
      "          (1): Sequential(\n",
      "            (0): Sequential(\n",
      "              (0): DWConv(\n",
      "                (conv): Conv2d(128, 128, kernel_size=(3, 3), stride=(1, 1), padding=(1, 1), groups=128, bias=False)\n",
      "                (bn): BatchNorm2d(128, eps=0.001, momentum=0.03, affine=True, track_running_stats=True)\n",
      "                (act): SiLU(inplace=True)\n",
      "              )\n",
      "              (1): Conv(\n",
      "                (conv): Conv2d(128, 80, kernel_size=(1, 1), stride=(1, 1), bias=False)\n",
      "                (bn): BatchNorm2d(80, eps=0.001, momentum=0.03, affine=True, track_running_stats=True)\n",
      "                (act): SiLU(inplace=True)\n",
      "              )\n",
      "            )\n",
      "            (1): Sequential(\n",
      "              (0): DWConv(\n",
      "                (conv): Conv2d(80, 80, kernel_size=(3, 3), stride=(1, 1), padding=(1, 1), groups=80, bias=False)\n",
      "                (bn): BatchNorm2d(80, eps=0.001, momentum=0.03, affine=True, track_running_stats=True)\n",
      "                (act): SiLU(inplace=True)\n",
      "              )\n",
      "              (1): Conv(\n",
      "                (conv): Conv2d(80, 80, kernel_size=(1, 1), stride=(1, 1), bias=False)\n",
      "                (bn): BatchNorm2d(80, eps=0.001, momentum=0.03, affine=True, track_running_stats=True)\n",
      "                (act): SiLU(inplace=True)\n",
      "              )\n",
      "            )\n",
      "            (2): Conv2d(80, 80, kernel_size=(1, 1), stride=(1, 1))\n",
      "          )\n",
      "          (2): Sequential(\n",
      "            (0): Sequential(\n",
      "              (0): DWConv(\n",
      "                (conv): Conv2d(256, 256, kernel_size=(3, 3), stride=(1, 1), padding=(1, 1), groups=256, bias=False)\n",
      "                (bn): BatchNorm2d(256, eps=0.001, momentum=0.03, affine=True, track_running_stats=True)\n",
      "                (act): SiLU(inplace=True)\n",
      "              )\n",
      "              (1): Conv(\n",
      "                (conv): Conv2d(256, 80, kernel_size=(1, 1), stride=(1, 1), bias=False)\n",
      "                (bn): BatchNorm2d(80, eps=0.001, momentum=0.03, affine=True, track_running_stats=True)\n",
      "                (act): SiLU(inplace=True)\n",
      "              )\n",
      "            )\n",
      "            (1): Sequential(\n",
      "              (0): DWConv(\n",
      "                (conv): Conv2d(80, 80, kernel_size=(3, 3), stride=(1, 1), padding=(1, 1), groups=80, bias=False)\n",
      "                (bn): BatchNorm2d(80, eps=0.001, momentum=0.03, affine=True, track_running_stats=True)\n",
      "                (act): SiLU(inplace=True)\n",
      "              )\n",
      "              (1): Conv(\n",
      "                (conv): Conv2d(80, 80, kernel_size=(1, 1), stride=(1, 1), bias=False)\n",
      "                (bn): BatchNorm2d(80, eps=0.001, momentum=0.03, affine=True, track_running_stats=True)\n",
      "                (act): SiLU(inplace=True)\n",
      "              )\n",
      "            )\n",
      "            (2): Conv2d(80, 80, kernel_size=(1, 1), stride=(1, 1))\n",
      "          )\n",
      "        )\n",
      "        (dfl): DFL(\n",
      "          (conv): Conv2d(16, 1, kernel_size=(1, 1), stride=(1, 1), bias=False)\n",
      "        )\n",
      "      )\n",
      "    )\n",
      "  )\n",
      ")>\n"
     ]
    }
   ],
   "source": [
    "from ultralytics import YOLO\n",
    "\n",
    "# 加载模型\n",
    "model = YOLO('weights/yolo11n.pt')  # 或 yolo11.yaml\n",
    "\n",
    "# 打印网络结构摘要\n",
    "print(type(model.info()))\n",
    "print(model.info(detailed=True)) # 或 model.summary()\n",
    "print(\"网络结构详细：\")\n",
    "print(model.info)"
   ]
  },
  {
   "cell_type": "markdown",
   "id": "fc84f609-7f69-4e5d-8136-a3b87d1fabf3",
   "metadata": {
    "jp-MarkdownHeadingCollapsed": true
   },
   "source": [
    "## yolo11l 模型结构"
   ]
  },
  {
   "cell_type": "code",
   "execution_count": 13,
   "id": "55970efb-85fa-47bf-b5fb-ddd9498340e7",
   "metadata": {},
   "outputs": [
    {
     "name": "stdout",
     "output_type": "stream",
     "text": [
      "YOLO11l summary: 357 layers, 25,372,160 parameters, 0 gradients, 87.6 GFLOPs\n",
      "<class 'tuple'>\n",
      "layer                                    name                type  gradient  parameters               shape        mu     sigma\n",
      "    0                     model.0.conv.weight              Conv2d     False        1728       [64, 3, 3, 3] -0.000674     0.103        float32\n",
      "    1                       model.0.bn.weight         BatchNorm2d     False          64                [64]      4.32      1.26        float32\n",
      "    1                         model.0.bn.bias         BatchNorm2d     False          64                [64]    0.0947      1.59        float32\n",
      "    2                             model.0.act                SiLU     False           0                  []         -         -              -\n",
      "    3                     model.1.conv.weight              Conv2d     False       73728     [128, 64, 3, 3] -0.000418    0.0166        float32\n",
      "    4                       model.1.bn.weight         BatchNorm2d     False         128               [128]      2.56     0.691        float32\n",
      "    4                         model.1.bn.bias         BatchNorm2d     False         128               [128]      0.61      1.21        float32\n",
      "    5                 model.2.cv1.conv.weight              Conv2d     False       16384    [128, 128, 1, 1]  -0.00174    0.0235        float32\n",
      "    6                   model.2.cv1.bn.weight         BatchNorm2d     False         128               [128]      1.36     0.682        float32\n",
      "    6                     model.2.cv1.bn.bias         BatchNorm2d     False         128               [128]     0.269         1        float32\n",
      "    7                 model.2.cv2.conv.weight              Conv2d     False       65536    [256, 256, 1, 1]   -0.0011    0.0145        float32\n",
      "    8                   model.2.cv2.bn.weight         BatchNorm2d     False         256               [256]     0.792       0.2        float32\n",
      "    8                     model.2.cv2.bn.bias         BatchNorm2d     False         256               [256]    -0.963     0.576        float32\n",
      "    9             model.2.m.0.cv1.conv.weight              Conv2d     False        2048      [32, 64, 1, 1]   -0.0012    0.0287        float32\n",
      "   10               model.2.m.0.cv1.bn.weight         BatchNorm2d     False          32                [32]     0.623     0.404        float32\n",
      "   10                 model.2.m.0.cv1.bn.bias         BatchNorm2d     False          32                [32]     0.375     0.941        float32\n",
      "   11             model.2.m.0.cv2.conv.weight              Conv2d     False        2048      [32, 64, 1, 1]  -0.00137    0.0292        float32\n",
      "   12               model.2.m.0.cv2.bn.weight         BatchNorm2d     False          32                [32]      1.21      0.46        float32\n",
      "   12                 model.2.m.0.cv2.bn.bias         BatchNorm2d     False          32                [32]     0.404     0.994        float32\n",
      "   13             model.2.m.0.cv3.conv.weight              Conv2d     False        4096      [64, 64, 1, 1] -0.000487    0.0293        float32\n",
      "   14               model.2.m.0.cv3.bn.weight         BatchNorm2d     False          64                [64]      1.09     0.339        float32\n",
      "   14                 model.2.m.0.cv3.bn.bias         BatchNorm2d     False          64                [64]      0.32     0.715        float32\n",
      "   15         model.2.m.0.m.0.cv1.conv.weight              Conv2d     False        9216      [32, 32, 3, 3] -0.000862    0.0188        float32\n",
      "   16           model.2.m.0.m.0.cv1.bn.weight         BatchNorm2d     False          32                [32]      1.24      0.38        float32\n",
      "   16             model.2.m.0.m.0.cv1.bn.bias         BatchNorm2d     False          32                [32]      0.87     0.612        float32\n",
      "   17         model.2.m.0.m.0.cv2.conv.weight              Conv2d     False        9216      [32, 32, 3, 3] -0.000405    0.0165        float32\n",
      "   18           model.2.m.0.m.0.cv2.bn.weight         BatchNorm2d     False          32                [32]     0.796     0.238        float32\n",
      "   18             model.2.m.0.m.0.cv2.bn.bias         BatchNorm2d     False          32                [32]     0.608      1.11        float32\n",
      "   19         model.2.m.0.m.1.cv1.conv.weight              Conv2d     False        9216      [32, 32, 3, 3] -0.000839    0.0153        float32\n",
      "   20           model.2.m.0.m.1.cv1.bn.weight         BatchNorm2d     False          32                [32]      1.12     0.337        float32\n",
      "   20             model.2.m.0.m.1.cv1.bn.bias         BatchNorm2d     False          32                [32]    -0.012     0.689        float32\n",
      "   21         model.2.m.0.m.1.cv2.conv.weight              Conv2d     False        9216      [32, 32, 3, 3] -0.000739    0.0144        float32\n",
      "   22           model.2.m.0.m.1.cv2.bn.weight         BatchNorm2d     False          32                [32]     0.775     0.295        float32\n",
      "   22             model.2.m.0.m.1.cv2.bn.bias         BatchNorm2d     False          32                [32]     0.582      1.01        float32\n",
      "   23             model.2.m.1.cv1.conv.weight              Conv2d     False        2048      [32, 64, 1, 1]  -0.00132    0.0239        float32\n",
      "   24               model.2.m.1.cv1.bn.weight         BatchNorm2d     False          32                [32]     0.359     0.118        float32\n",
      "   24                 model.2.m.1.cv1.bn.bias         BatchNorm2d     False          32                [32]     0.159     0.497        float32\n",
      "   25             model.2.m.1.cv2.conv.weight              Conv2d     False        2048      [32, 64, 1, 1]  -0.00127    0.0163        float32\n",
      "   26               model.2.m.1.cv2.bn.weight         BatchNorm2d     False          32                [32]      1.01     0.237        float32\n",
      "   26                 model.2.m.1.cv2.bn.bias         BatchNorm2d     False          32                [32]    -0.667     0.319        float32\n",
      "   27             model.2.m.1.cv3.conv.weight              Conv2d     False        4096      [64, 64, 1, 1]  -0.00126    0.0216        float32\n",
      "   28               model.2.m.1.cv3.bn.weight         BatchNorm2d     False          64                [64]      1.21     0.175        float32\n",
      "   28                 model.2.m.1.cv3.bn.bias         BatchNorm2d     False          64                [64]     0.187     0.471        float32\n",
      "   29         model.2.m.1.m.0.cv1.conv.weight              Conv2d     False        9216      [32, 32, 3, 3] -0.000605    0.0164        float32\n",
      "   30           model.2.m.1.m.0.cv1.bn.weight         BatchNorm2d     False          32                [32]      0.81     0.178        float32\n",
      "   30             model.2.m.1.m.0.cv1.bn.bias         BatchNorm2d     False          32                [32]    -0.501      0.53        float32\n",
      "   31         model.2.m.1.m.0.cv2.conv.weight              Conv2d     False        9216      [32, 32, 3, 3]  -0.00114    0.0157        float32\n",
      "   32           model.2.m.1.m.0.cv2.bn.weight         BatchNorm2d     False          32                [32]     0.598     0.216        float32\n",
      "   32             model.2.m.1.m.0.cv2.bn.bias         BatchNorm2d     False          32                [32]      0.64     0.678        float32\n",
      "   33         model.2.m.1.m.1.cv1.conv.weight              Conv2d     False        9216      [32, 32, 3, 3] -0.000885    0.0148        float32\n",
      "   34           model.2.m.1.m.1.cv1.bn.weight         BatchNorm2d     False          32                [32]     0.637     0.137        float32\n",
      "   34             model.2.m.1.m.1.cv1.bn.bias         BatchNorm2d     False          32                [32]    -0.562     0.752        float32\n",
      "   35         model.2.m.1.m.1.cv2.conv.weight              Conv2d     False        9216      [32, 32, 3, 3] -0.000312    0.0152        float32\n",
      "   36           model.2.m.1.m.1.cv2.bn.weight         BatchNorm2d     False          32                [32]     0.634     0.148        float32\n",
      "   36             model.2.m.1.m.1.cv2.bn.bias         BatchNorm2d     False          32                [32]      1.01     0.532        float32\n",
      "   37                     model.3.conv.weight              Conv2d     False      589824    [256, 256, 3, 3] -0.000187   0.00652        float32\n",
      "   38                       model.3.bn.weight         BatchNorm2d     False         256               [256]     0.717     0.225        float32\n",
      "   38                         model.3.bn.bias         BatchNorm2d     False         256               [256]    -0.292     0.834        float32\n",
      "   39                 model.4.cv1.conv.weight              Conv2d     False       65536    [256, 256, 1, 1] -0.000487    0.0136        float32\n",
      "   40                   model.4.cv1.bn.weight         BatchNorm2d     False         256               [256]     0.704     0.197        float32\n",
      "   40                     model.4.cv1.bn.bias         BatchNorm2d     False         256               [256]    0.0744     0.633        float32\n",
      "   41                 model.4.cv2.conv.weight              Conv2d     False      262144    [512, 512, 1, 1] -0.000696   0.00904        float32\n",
      "   42                   model.4.cv2.bn.weight         BatchNorm2d     False         512               [512]     0.909     0.207        float32\n",
      "   42                     model.4.cv2.bn.bias         BatchNorm2d     False         512               [512]    -0.906     0.522        float32\n",
      "   43             model.4.m.0.cv1.conv.weight              Conv2d     False        8192     [64, 128, 1, 1]  -0.00148    0.0156        float32\n",
      "   44               model.4.m.0.cv1.bn.weight         BatchNorm2d     False          64                [64]     0.528     0.134        float32\n",
      "   44                 model.4.m.0.cv1.bn.bias         BatchNorm2d     False          64                [64]     0.269     0.431        float32\n",
      "   45             model.4.m.0.cv2.conv.weight              Conv2d     False        8192     [64, 128, 1, 1] -0.000493     0.013        float32\n",
      "   46               model.4.m.0.cv2.bn.weight         BatchNorm2d     False          64                [64]     0.957     0.144        float32\n",
      "   46                 model.4.m.0.cv2.bn.bias         BatchNorm2d     False          64                [64]    -0.133     0.292        float32\n",
      "   47             model.4.m.0.cv3.conv.weight              Conv2d     False       16384    [128, 128, 1, 1]  -0.00159    0.0154        float32\n",
      "   48               model.4.m.0.cv3.bn.weight         BatchNorm2d     False         128               [128]     0.798     0.151        float32\n",
      "   48                 model.4.m.0.cv3.bn.bias         BatchNorm2d     False         128               [128]     -0.36     0.479        float32\n",
      "   49         model.4.m.0.m.0.cv1.conv.weight              Conv2d     False       36864      [64, 64, 3, 3] -0.000601    0.0095        float32\n",
      "   50           model.4.m.0.m.0.cv1.bn.weight         BatchNorm2d     False          64                [64]     0.788     0.106        float32\n",
      "   50             model.4.m.0.m.0.cv1.bn.bias         BatchNorm2d     False          64                [64]    -0.787     0.412        float32\n",
      "   51         model.4.m.0.m.0.cv2.conv.weight              Conv2d     False       36864      [64, 64, 3, 3] -0.000432   0.00908        float32\n",
      "   52           model.4.m.0.m.0.cv2.bn.weight         BatchNorm2d     False          64                [64]     0.648     0.162        float32\n",
      "   52             model.4.m.0.m.0.cv2.bn.bias         BatchNorm2d     False          64                [64]     0.108      0.51        float32\n",
      "   53         model.4.m.0.m.1.cv1.conv.weight              Conv2d     False       36864      [64, 64, 3, 3]  -0.00054   0.00962        float32\n",
      "   54           model.4.m.0.m.1.cv1.bn.weight         BatchNorm2d     False          64                [64]     0.846      0.13        float32\n",
      "   54             model.4.m.0.m.1.cv1.bn.bias         BatchNorm2d     False          64                [64]    -0.763     0.512        float32\n",
      "   55         model.4.m.0.m.1.cv2.conv.weight              Conv2d     False       36864      [64, 64, 3, 3] -0.000171   0.00905        float32\n",
      "   56           model.4.m.0.m.1.cv2.bn.weight         BatchNorm2d     False          64                [64]     0.856     0.237        float32\n",
      "   56             model.4.m.0.m.1.cv2.bn.bias         BatchNorm2d     False          64                [64]     0.334     0.608        float32\n",
      "   57             model.4.m.1.cv1.conv.weight              Conv2d     False        8192     [64, 128, 1, 1]  -0.00135    0.0145        float32\n",
      "   58               model.4.m.1.cv1.bn.weight         BatchNorm2d     False          64                [64]     0.546     0.166        float32\n",
      "   58                 model.4.m.1.cv1.bn.bias         BatchNorm2d     False          64                [64]   -0.0734     0.671        float32\n",
      "   59             model.4.m.1.cv2.conv.weight              Conv2d     False        8192     [64, 128, 1, 1]  -0.00128    0.0099        float32\n",
      "   60               model.4.m.1.cv2.bn.weight         BatchNorm2d     False          64                [64]      1.21     0.164        float32\n",
      "   60                 model.4.m.1.cv2.bn.bias         BatchNorm2d     False          64                [64]    -0.292     0.183        float32\n",
      "   61             model.4.m.1.cv3.conv.weight              Conv2d     False       16384    [128, 128, 1, 1]  -0.00139    0.0129        float32\n",
      "   62               model.4.m.1.cv3.bn.weight         BatchNorm2d     False         128               [128]      1.01     0.188        float32\n",
      "   62                 model.4.m.1.cv3.bn.bias         BatchNorm2d     False         128               [128]    -0.437     0.422        float32\n",
      "   63         model.4.m.1.m.0.cv1.conv.weight              Conv2d     False       36864      [64, 64, 3, 3] -0.000729   0.00872        float32\n",
      "   64           model.4.m.1.m.0.cv1.bn.weight         BatchNorm2d     False          64                [64]     0.881     0.106        float32\n",
      "   64             model.4.m.1.m.0.cv1.bn.bias         BatchNorm2d     False          64                [64]    -0.877     0.483        float32\n",
      "   65         model.4.m.1.m.0.cv2.conv.weight              Conv2d     False       36864      [64, 64, 3, 3] -0.000677   0.00858        float32\n",
      "   66           model.4.m.1.m.0.cv2.bn.weight         BatchNorm2d     False          64                [64]      0.76     0.173        float32\n",
      "   66             model.4.m.1.m.0.cv2.bn.bias         BatchNorm2d     False          64                [64]   -0.0818     0.421        float32\n",
      "   67         model.4.m.1.m.1.cv1.conv.weight              Conv2d     False       36864      [64, 64, 3, 3] -0.000673   0.00901        float32\n",
      "   68           model.4.m.1.m.1.cv1.bn.weight         BatchNorm2d     False          64                [64]     0.888     0.155        float32\n",
      "   68             model.4.m.1.m.1.cv1.bn.bias         BatchNorm2d     False          64                [64]    -0.762     0.524        float32\n",
      "   69         model.4.m.1.m.1.cv2.conv.weight              Conv2d     False       36864      [64, 64, 3, 3] -0.000376   0.00865        float32\n",
      "   70           model.4.m.1.m.1.cv2.bn.weight         BatchNorm2d     False          64                [64]      1.13     0.168        float32\n",
      "   70             model.4.m.1.m.1.cv2.bn.bias         BatchNorm2d     False          64                [64]     0.572     0.405        float32\n",
      "   71                     model.5.conv.weight              Conv2d     False  2.3593e+06    [512, 512, 3, 3] -7.32e-05   0.00375        float32\n",
      "   72                       model.5.bn.weight         BatchNorm2d     False         512               [512]     0.936     0.158        float32\n",
      "   72                         model.5.bn.bias         BatchNorm2d     False         512               [512]    -0.615     0.369        float32\n",
      "   73                 model.6.cv1.conv.weight              Conv2d     False      262144    [512, 512, 1, 1] -0.000749   0.00793        float32\n",
      "   74                   model.6.cv1.bn.weight         BatchNorm2d     False         512               [512]      1.03     0.159        float32\n",
      "   74                     model.6.cv1.bn.bias         BatchNorm2d     False         512               [512]    -0.576     0.348        float32\n",
      "   75                 model.6.cv2.conv.weight              Conv2d     False      524288   [512, 1024, 1, 1] -0.000449   0.00674        float32\n",
      "   76                   model.6.cv2.bn.weight         BatchNorm2d     False         512               [512]      1.07     0.127        float32\n",
      "   76                     model.6.cv2.bn.bias         BatchNorm2d     False         512               [512]    -0.975     0.422        float32\n",
      "   77             model.6.m.0.cv1.conv.weight              Conv2d     False       32768    [128, 256, 1, 1] -0.000742   0.00964        float32\n",
      "   78               model.6.m.0.cv1.bn.weight         BatchNorm2d     False         128               [128]     0.735     0.111        float32\n",
      "   78                 model.6.m.0.cv1.bn.bias         BatchNorm2d     False         128               [128]   -0.0168     0.485        float32\n",
      "   79             model.6.m.0.cv2.conv.weight              Conv2d     False       32768    [128, 256, 1, 1] -0.000465   0.00747        float32\n",
      "   80               model.6.m.0.cv2.bn.weight         BatchNorm2d     False         128               [128]       1.1    0.0892        float32\n",
      "   80                 model.6.m.0.cv2.bn.bias         BatchNorm2d     False         128               [128]    -0.273     0.123        float32\n",
      "   81             model.6.m.0.cv3.conv.weight              Conv2d     False       65536    [256, 256, 1, 1] -0.000952   0.00922        float32\n",
      "   82               model.6.m.0.cv3.bn.weight         BatchNorm2d     False         256               [256]      1.01     0.114        float32\n",
      "   82                 model.6.m.0.cv3.bn.bias         BatchNorm2d     False         256               [256]    -0.655     0.251        float32\n",
      "   83         model.6.m.0.m.0.cv1.conv.weight              Conv2d     False      147456    [128, 128, 3, 3] -0.000425   0.00524        float32\n",
      "   84           model.6.m.0.m.0.cv1.bn.weight         BatchNorm2d     False         128               [128]      1.07     0.107        float32\n",
      "   84             model.6.m.0.m.0.cv1.bn.bias         BatchNorm2d     False         128               [128]    -0.883     0.232        float32\n",
      "   85         model.6.m.0.m.0.cv2.conv.weight              Conv2d     False      147456    [128, 128, 3, 3] -0.000272   0.00531        float32\n",
      "   86           model.6.m.0.m.0.cv2.bn.weight         BatchNorm2d     False         128               [128]     0.921     0.162        float32\n",
      "   86             model.6.m.0.m.0.cv2.bn.bias         BatchNorm2d     False         128               [128]    -0.309     0.302        float32\n",
      "   87         model.6.m.0.m.1.cv1.conv.weight              Conv2d     False      147456    [128, 128, 3, 3] -0.000344   0.00575        float32\n",
      "   88           model.6.m.0.m.1.cv1.bn.weight         BatchNorm2d     False         128               [128]      1.05    0.0976        float32\n",
      "   88             model.6.m.0.m.1.cv1.bn.bias         BatchNorm2d     False         128               [128]    -0.866     0.279        float32\n",
      "   89         model.6.m.0.m.1.cv2.conv.weight              Conv2d     False      147456    [128, 128, 3, 3] -0.000178    0.0055        float32\n",
      "   90           model.6.m.0.m.1.cv2.bn.weight         BatchNorm2d     False         128               [128]      1.25     0.196        float32\n",
      "   90             model.6.m.0.m.1.cv2.bn.bias         BatchNorm2d     False         128               [128]   -0.0849      0.34        float32\n",
      "   91             model.6.m.1.cv1.conv.weight              Conv2d     False       32768    [128, 256, 1, 1] -0.000968   0.00868        float32\n",
      "   92               model.6.m.1.cv1.bn.weight         BatchNorm2d     False         128               [128]     0.861     0.103        float32\n",
      "   92                 model.6.m.1.cv1.bn.bias         BatchNorm2d     False         128               [128]    -0.491     0.385        float32\n",
      "   93             model.6.m.1.cv2.conv.weight              Conv2d     False       32768    [128, 256, 1, 1] -0.000615   0.00612        float32\n",
      "   94               model.6.m.1.cv2.bn.weight         BatchNorm2d     False         128               [128]      1.19    0.0568        float32\n",
      "   94                 model.6.m.1.cv2.bn.bias         BatchNorm2d     False         128               [128]    -0.252    0.0662        float32\n",
      "   95             model.6.m.1.cv3.conv.weight              Conv2d     False       65536    [256, 256, 1, 1] -0.000831   0.00796        float32\n",
      "   96               model.6.m.1.cv3.bn.weight         BatchNorm2d     False         256               [256]       1.1     0.104        float32\n",
      "   96                 model.6.m.1.cv3.bn.bias         BatchNorm2d     False         256               [256]    -0.678     0.186        float32\n",
      "   97         model.6.m.1.m.0.cv1.conv.weight              Conv2d     False      147456    [128, 128, 3, 3] -0.000429   0.00478        float32\n",
      "   98           model.6.m.1.m.0.cv1.bn.weight         BatchNorm2d     False         128               [128]      1.07    0.0974        float32\n",
      "   98             model.6.m.1.m.0.cv1.bn.bias         BatchNorm2d     False         128               [128]    -0.796      0.18        float32\n",
      "   99         model.6.m.1.m.0.cv2.conv.weight              Conv2d     False      147456    [128, 128, 3, 3] -0.000306   0.00471        float32\n",
      "  100           model.6.m.1.m.0.cv2.bn.weight         BatchNorm2d     False         128               [128]     0.951     0.122        float32\n",
      "  100             model.6.m.1.m.0.cv2.bn.bias         BatchNorm2d     False         128               [128]    -0.384     0.219        float32\n",
      "  101         model.6.m.1.m.1.cv1.conv.weight              Conv2d     False      147456    [128, 128, 3, 3] -0.000326   0.00469        float32\n",
      "  102           model.6.m.1.m.1.cv1.bn.weight         BatchNorm2d     False         128               [128]      1.09     0.102        float32\n",
      "  102             model.6.m.1.m.1.cv1.bn.bias         BatchNorm2d     False         128               [128]    -0.729     0.202        float32\n",
      "  103         model.6.m.1.m.1.cv2.conv.weight              Conv2d     False      147456    [128, 128, 3, 3] -0.000254   0.00457        float32\n",
      "  104           model.6.m.1.m.1.cv2.bn.weight         BatchNorm2d     False         128               [128]      1.22     0.115        float32\n",
      "  104             model.6.m.1.m.1.cv2.bn.bias         BatchNorm2d     False         128               [128]    -0.121     0.186        float32\n",
      "  105                     model.7.conv.weight              Conv2d     False  2.3593e+06    [512, 512, 3, 3]  -0.00012   0.00303        float32\n",
      "  106                       model.7.bn.weight         BatchNorm2d     False         512               [512]      1.01      0.18        float32\n",
      "  106                         model.7.bn.bias         BatchNorm2d     False         512               [512]    -0.524     0.363        float32\n",
      "  107                 model.8.cv1.conv.weight              Conv2d     False      262144    [512, 512, 1, 1] -0.000465   0.00595        float32\n",
      "  108                   model.8.cv1.bn.weight         BatchNorm2d     False         512               [512]      1.17     0.136        float32\n",
      "  108                     model.8.cv1.bn.bias         BatchNorm2d     False         512               [512]    -0.202     0.333        float32\n",
      "  109                 model.8.cv2.conv.weight              Conv2d     False      524288   [512, 1024, 1, 1] -0.000281   0.00427        float32\n",
      "  110                   model.8.cv2.bn.weight         BatchNorm2d     False         512               [512]      1.07     0.204        float32\n",
      "  110                     model.8.cv2.bn.bias         BatchNorm2d     False         512               [512]     0.011     0.274        float32\n",
      "  111             model.8.m.0.cv1.conv.weight              Conv2d     False       32768    [128, 256, 1, 1] -0.000617   0.00639        float32\n",
      "  112               model.8.m.0.cv1.bn.weight         BatchNorm2d     False         128               [128]     0.928     0.175        float32\n",
      "  112                 model.8.m.0.cv1.bn.bias         BatchNorm2d     False         128               [128]    -0.171     0.439        float32\n",
      "  113             model.8.m.0.cv2.conv.weight              Conv2d     False       32768    [128, 256, 1, 1] -0.000247   0.00357        float32\n",
      "  114               model.8.m.0.cv2.bn.weight         BatchNorm2d     False         128               [128]      1.02    0.0405        float32\n",
      "  114                 model.8.m.0.cv2.bn.bias         BatchNorm2d     False         128               [128]    -0.115    0.0497        float32\n",
      "  115             model.8.m.0.cv3.conv.weight              Conv2d     False       65536    [256, 256, 1, 1] -0.000416   0.00527        float32\n",
      "  116               model.8.m.0.cv3.bn.weight         BatchNorm2d     False         256               [256]      1.04     0.122        float32\n",
      "  116                 model.8.m.0.cv3.bn.bias         BatchNorm2d     False         256               [256]    -0.244     0.134        float32\n",
      "  117         model.8.m.0.m.0.cv1.conv.weight              Conv2d     False      147456    [128, 128, 3, 3] -0.000295   0.00348        float32\n",
      "  118           model.8.m.0.m.0.cv1.bn.weight         BatchNorm2d     False         128               [128]      1.15     0.108        float32\n",
      "  118             model.8.m.0.m.0.cv1.bn.bias         BatchNorm2d     False         128               [128]    -0.405     0.212        float32\n",
      "  119         model.8.m.0.m.0.cv2.conv.weight              Conv2d     False      147456    [128, 128, 3, 3] -0.000182   0.00362        float32\n",
      "  120           model.8.m.0.m.0.cv2.bn.weight         BatchNorm2d     False         128               [128]      1.14     0.165        float32\n",
      "  120             model.8.m.0.m.0.cv2.bn.bias         BatchNorm2d     False         128               [128]    -0.271     0.244        float32\n",
      "  121         model.8.m.0.m.1.cv1.conv.weight              Conv2d     False      147456    [128, 128, 3, 3]   -0.0003   0.00368        float32\n",
      "  122           model.8.m.0.m.1.cv1.bn.weight         BatchNorm2d     False         128               [128]      1.16     0.131        float32\n",
      "  122             model.8.m.0.m.1.cv1.bn.bias         BatchNorm2d     False         128               [128]    -0.405     0.201        float32\n",
      "  123         model.8.m.0.m.1.cv2.conv.weight              Conv2d     False      147456    [128, 128, 3, 3] -0.000136   0.00345        float32\n",
      "  124           model.8.m.0.m.1.cv2.bn.weight         BatchNorm2d     False         128               [128]      1.29     0.148        float32\n",
      "  124             model.8.m.0.m.1.cv2.bn.bias         BatchNorm2d     False         128               [128]    -0.052      0.17        float32\n",
      "  125             model.8.m.1.cv1.conv.weight              Conv2d     False       32768    [128, 256, 1, 1] -0.000345   0.00426        float32\n",
      "  126               model.8.m.1.cv1.bn.weight         BatchNorm2d     False         128               [128]     0.819     0.141        float32\n",
      "  126                 model.8.m.1.cv1.bn.bias         BatchNorm2d     False         128               [128]    0.0294     0.275        float32\n",
      "  127             model.8.m.1.cv2.conv.weight              Conv2d     False       32768    [128, 256, 1, 1] -0.000133   0.00216        float32\n",
      "  128               model.8.m.1.cv2.bn.weight         BatchNorm2d     False         128               [128]     0.977     0.023        float32\n",
      "  128                 model.8.m.1.cv2.bn.bias         BatchNorm2d     False         128               [128]   -0.0632    0.0322        float32\n",
      "  129             model.8.m.1.cv3.conv.weight              Conv2d     False       65536    [256, 256, 1, 1] -0.000292   0.00339        float32\n",
      "  130               model.8.m.1.cv3.bn.weight         BatchNorm2d     False         256               [256]     0.989    0.0887        float32\n",
      "  130                 model.8.m.1.cv3.bn.bias         BatchNorm2d     False         256               [256]     -0.11     0.151        float32\n",
      "  131         model.8.m.1.m.0.cv1.conv.weight              Conv2d     False      147456    [128, 128, 3, 3] -0.000215   0.00219        float32\n",
      "  132           model.8.m.1.m.0.cv1.bn.weight         BatchNorm2d     False         128               [128]      1.08    0.0977        float32\n",
      "  132             model.8.m.1.m.0.cv1.bn.bias         BatchNorm2d     False         128               [128]   -0.0973     0.105        float32\n",
      "  133         model.8.m.1.m.0.cv2.conv.weight              Conv2d     False      147456    [128, 128, 3, 3] -0.000123   0.00235        float32\n",
      "  134           model.8.m.1.m.0.cv2.bn.weight         BatchNorm2d     False         128               [128]      1.08     0.162        float32\n",
      "  134             model.8.m.1.m.0.cv2.bn.bias         BatchNorm2d     False         128               [128]    -0.113     0.189        float32\n",
      "  135         model.8.m.1.m.1.cv1.conv.weight              Conv2d     False      147456    [128, 128, 3, 3] -0.000205   0.00237        float32\n",
      "  136           model.8.m.1.m.1.cv1.bn.weight         BatchNorm2d     False         128               [128]      1.11     0.125        float32\n",
      "  136             model.8.m.1.m.1.cv1.bn.bias         BatchNorm2d     False         128               [128]     -0.15     0.145        float32\n",
      "  137         model.8.m.1.m.1.cv2.conv.weight              Conv2d     False      147456    [128, 128, 3, 3] -0.000135   0.00233        float32\n",
      "  138           model.8.m.1.m.1.cv2.bn.weight         BatchNorm2d     False         128               [128]      1.33     0.224        float32\n",
      "  138             model.8.m.1.m.1.cv2.bn.bias         BatchNorm2d     False         128               [128]   -0.0434     0.155        float32\n",
      "  139                 model.9.cv1.conv.weight              Conv2d     False      131072    [256, 512, 1, 1] -0.000999   0.00731        float32\n",
      "  140                   model.9.cv1.bn.weight         BatchNorm2d     False         256               [256]     0.819     0.158        float32\n",
      "  140                     model.9.cv1.bn.bias         BatchNorm2d     False         256               [256]      1.01     0.347        float32\n",
      "  141                 model.9.cv2.conv.weight              Conv2d     False      524288   [512, 1024, 1, 1] -2.89e-05     0.005        float32\n",
      "  142                   model.9.cv2.bn.weight         BatchNorm2d     False         512               [512]      1.12     0.266        float32\n",
      "  142                     model.9.cv2.bn.bias         BatchNorm2d     False         512               [512]    -0.351     0.451        float32\n",
      "  143                               model.9.m           MaxPool2d     False           0                  []         -         -              -\n",
      "  144                model.10.cv1.conv.weight              Conv2d     False      262144    [512, 512, 1, 1] -0.000378    0.0069        float32\n",
      "  145                  model.10.cv1.bn.weight         BatchNorm2d     False         512               [512]      1.39     0.293        float32\n",
      "  145                    model.10.cv1.bn.bias         BatchNorm2d     False         512               [512]    0.0487     0.394        float32\n",
      "  146                model.10.cv2.conv.weight              Conv2d     False      262144    [512, 512, 1, 1] -0.000395   0.00703        float32\n",
      "  147                  model.10.cv2.bn.weight         BatchNorm2d     False         512               [512]     0.983     0.199        float32\n",
      "  147                    model.10.cv2.bn.bias         BatchNorm2d     False         512               [512]    -0.719     0.352        float32\n",
      "  148       model.10.m.0.attn.qkv.conv.weight              Conv2d     False      131072    [512, 256, 1, 1] -4.04e-05   0.00799        float32\n",
      "  149         model.10.m.0.attn.qkv.bn.weight         BatchNorm2d     False         512               [512]      1.21     0.276        float32\n",
      "  149           model.10.m.0.attn.qkv.bn.bias         BatchNorm2d     False         512               [512]    0.0118     0.254        float32\n",
      "  150               model.10.m.0.attn.qkv.act            Identity     False           0                  []         -         -              -\n",
      "  151      model.10.m.0.attn.proj.conv.weight              Conv2d     False       65536    [256, 256, 1, 1] -2.34e-05   0.00766        float32\n",
      "  152        model.10.m.0.attn.proj.bn.weight         BatchNorm2d     False         256               [256]     0.544      0.27        float32\n",
      "  152          model.10.m.0.attn.proj.bn.bias         BatchNorm2d     False         256               [256]   5.8e-06  4.03e-05        float32\n",
      "  153              model.10.m.0.attn.proj.act            Identity     False           0                  []         -         -              -\n",
      "  154        model.10.m.0.attn.pe.conv.weight              Conv2d     False        2304      [256, 1, 3, 3]  -0.00828    0.0194        float32\n",
      "  155          model.10.m.0.attn.pe.bn.weight         BatchNorm2d     False         256               [256]     0.799      0.22        float32\n",
      "  155            model.10.m.0.attn.pe.bn.bias         BatchNorm2d     False         256               [256]  8.28e-07  2.72e-05        float32\n",
      "  156                model.10.m.0.attn.pe.act            Identity     False           0                  []         -         -              -\n",
      "  157          model.10.m.0.ffn.0.conv.weight              Conv2d     False      131072    [512, 256, 1, 1] -0.000459   0.00613        float32\n",
      "  158            model.10.m.0.ffn.0.bn.weight         BatchNorm2d     False         512               [512]      1.18     0.149        float32\n",
      "  158              model.10.m.0.ffn.0.bn.bias         BatchNorm2d     False         512               [512]    -0.404     0.145        float32\n",
      "  159          model.10.m.0.ffn.1.conv.weight              Conv2d     False      131072    [256, 512, 1, 1]  0.000274   0.00531        float32\n",
      "  160            model.10.m.0.ffn.1.bn.weight         BatchNorm2d     False         256               [256]     0.701     0.164        float32\n",
      "  160              model.10.m.0.ffn.1.bn.bias         BatchNorm2d     False         256               [256]  3.93e-06  3.62e-05        float32\n",
      "  161                  model.10.m.0.ffn.1.act            Identity     False           0                  []         -         -              -\n",
      "  162       model.10.m.1.attn.qkv.conv.weight              Conv2d     False      131072    [512, 256, 1, 1] -2.56e-05   0.00876        float32\n",
      "  163         model.10.m.1.attn.qkv.bn.weight         BatchNorm2d     False         512               [512]      1.15     0.262        float32\n",
      "  163           model.10.m.1.attn.qkv.bn.bias         BatchNorm2d     False         512               [512] -0.000484     0.234        float32\n",
      "  164               model.10.m.1.attn.qkv.act            Identity     False           0                  []         -         -              -\n",
      "  165      model.10.m.1.attn.proj.conv.weight              Conv2d     False       65536    [256, 256, 1, 1] -1.34e-05   0.00814        float32\n",
      "  166        model.10.m.1.attn.proj.bn.weight         BatchNorm2d     False         256               [256]     0.984     0.182        float32\n",
      "  166          model.10.m.1.attn.proj.bn.bias         BatchNorm2d     False         256               [256]   8.4e-07  1.89e-05        float32\n",
      "  167              model.10.m.1.attn.proj.act            Identity     False           0                  []         -         -              -\n",
      "  168        model.10.m.1.attn.pe.conv.weight              Conv2d     False        2304      [256, 1, 3, 3]  -0.00679    0.0181        float32\n",
      "  169          model.10.m.1.attn.pe.bn.weight         BatchNorm2d     False         256               [256]     0.755     0.194        float32\n",
      "  169            model.10.m.1.attn.pe.bn.bias         BatchNorm2d     False         256               [256]  7.72e-07  1.82e-05        float32\n",
      "  170                model.10.m.1.attn.pe.act            Identity     False           0                  []         -         -              -\n",
      "  171          model.10.m.1.ffn.0.conv.weight              Conv2d     False      131072    [512, 256, 1, 1] -4.46e-05   0.00512        float32\n",
      "  172            model.10.m.1.ffn.0.bn.weight         BatchNorm2d     False         512               [512]      1.13     0.138        float32\n",
      "  172              model.10.m.1.ffn.0.bn.bias         BatchNorm2d     False         512               [512]     -0.26     0.162        float32\n",
      "  173          model.10.m.1.ffn.1.conv.weight              Conv2d     False      131072    [256, 512, 1, 1] -1.37e-05   0.00411        float32\n",
      "  174            model.10.m.1.ffn.1.bn.weight         BatchNorm2d     False         256               [256]     0.838      0.17        float32\n",
      "  174              model.10.m.1.ffn.1.bn.bias         BatchNorm2d     False         256               [256]   1.3e-06  1.44e-05        float32\n",
      "  175                  model.10.m.1.ffn.1.act            Identity     False           0                  []         -         -              -\n",
      "  176                                model.11            Upsample     False           0                  []         -         -              -\n",
      "  177                                model.12              Concat     False           0                  []         -         -              -\n",
      "  178                model.13.cv1.conv.weight              Conv2d     False      524288   [512, 1024, 1, 1] -0.000475   0.00751        float32\n",
      "  179                  model.13.cv1.bn.weight         BatchNorm2d     False         512               [512]      1.02     0.201        float32\n",
      "  179                    model.13.cv1.bn.bias         BatchNorm2d     False         512               [512]    -0.695      0.57        float32\n",
      "  180                model.13.cv2.conv.weight              Conv2d     False      524288   [512, 1024, 1, 1] -0.000525   0.00674        float32\n",
      "  181                  model.13.cv2.bn.weight         BatchNorm2d     False         512               [512]     0.825     0.162        float32\n",
      "  181                    model.13.cv2.bn.bias         BatchNorm2d     False         512               [512]    -0.777     0.438        float32\n",
      "  182            model.13.m.0.cv1.conv.weight              Conv2d     False       32768    [128, 256, 1, 1]    -0.001     0.011        float32\n",
      "  183              model.13.m.0.cv1.bn.weight         BatchNorm2d     False         128               [128]     0.831     0.174        float32\n",
      "  183                model.13.m.0.cv1.bn.bias         BatchNorm2d     False         128               [128]    -0.372     0.672        float32\n",
      "  184            model.13.m.0.cv2.conv.weight              Conv2d     False       32768    [128, 256, 1, 1]  -0.00105   0.00978        float32\n",
      "  185              model.13.m.0.cv2.bn.weight         BatchNorm2d     False         128               [128]       1.4     0.102        float32\n",
      "  185                model.13.m.0.cv2.bn.bias         BatchNorm2d     False         128               [128]    -0.443     0.243        float32\n",
      "  186            model.13.m.0.cv3.conv.weight              Conv2d     False       65536    [256, 256, 1, 1]  -0.00102    0.0097        float32\n",
      "  187              model.13.m.0.cv3.bn.weight         BatchNorm2d     False         256               [256]     0.911     0.125        float32\n",
      "  187                model.13.m.0.cv3.bn.bias         BatchNorm2d     False         256               [256]    -0.729     0.386        float32\n",
      "  188        model.13.m.0.m.0.cv1.conv.weight              Conv2d     False      147456    [128, 128, 3, 3] -0.000426   0.00551        float32\n",
      "  189          model.13.m.0.m.0.cv1.bn.weight         BatchNorm2d     False         128               [128]      1.06     0.129        float32\n",
      "  189            model.13.m.0.m.0.cv1.bn.bias         BatchNorm2d     False         128               [128]    -0.816     0.314        float32\n",
      "  190        model.13.m.0.m.0.cv2.conv.weight              Conv2d     False      147456    [128, 128, 3, 3] -0.000335   0.00522        float32\n",
      "  191          model.13.m.0.m.0.cv2.bn.weight         BatchNorm2d     False         128               [128]     0.885     0.175        float32\n",
      "  191            model.13.m.0.m.0.cv2.bn.bias         BatchNorm2d     False         128               [128]     -0.18     0.325        float32\n",
      "  192        model.13.m.0.m.1.cv1.conv.weight              Conv2d     False      147456    [128, 128, 3, 3] -0.000384   0.00556        float32\n",
      "  193          model.13.m.0.m.1.cv1.bn.weight         BatchNorm2d     False         128               [128]     0.997     0.146        float32\n",
      "  193            model.13.m.0.m.1.cv1.bn.bias         BatchNorm2d     False         128               [128]    -0.862     0.331        float32\n",
      "  194        model.13.m.0.m.1.cv2.conv.weight              Conv2d     False      147456    [128, 128, 3, 3] -0.000155   0.00511        float32\n",
      "  195          model.13.m.0.m.1.cv2.bn.weight         BatchNorm2d     False         128               [128]      1.07      0.13        float32\n",
      "  195            model.13.m.0.m.1.cv2.bn.bias         BatchNorm2d     False         128               [128]   -0.0763     0.267        float32\n",
      "  196            model.13.m.1.cv1.conv.weight              Conv2d     False       32768    [128, 256, 1, 1]  -0.00102   0.00894        float32\n",
      "  197              model.13.m.1.cv1.bn.weight         BatchNorm2d     False         128               [128]     0.704     0.118        float32\n",
      "  197                model.13.m.1.cv1.bn.bias         BatchNorm2d     False         128               [128]    -0.383     0.489        float32\n",
      "  198            model.13.m.1.cv2.conv.weight              Conv2d     False       32768    [128, 256, 1, 1] -0.000716   0.00631        float32\n",
      "  199              model.13.m.1.cv2.bn.weight         BatchNorm2d     False         128               [128]      1.23    0.0727        float32\n",
      "  199                model.13.m.1.cv2.bn.bias         BatchNorm2d     False         128               [128]    -0.229    0.0829        float32\n",
      "  200            model.13.m.1.cv3.conv.weight              Conv2d     False       65536    [256, 256, 1, 1] -0.000836   0.00753        float32\n",
      "  201              model.13.m.1.cv3.bn.weight         BatchNorm2d     False         256               [256]      0.97      0.11        float32\n",
      "  201                model.13.m.1.cv3.bn.bias         BatchNorm2d     False         256               [256]    -0.589      0.26        float32\n",
      "  202        model.13.m.1.m.0.cv1.conv.weight              Conv2d     False      147456    [128, 128, 3, 3]  -0.00043   0.00528        float32\n",
      "  203          model.13.m.1.m.0.cv1.bn.weight         BatchNorm2d     False         128               [128]      1.07     0.114        float32\n",
      "  203            model.13.m.1.m.0.cv1.bn.bias         BatchNorm2d     False         128               [128]    -0.775     0.337        float32\n",
      "  204        model.13.m.1.m.0.cv2.conv.weight              Conv2d     False      147456    [128, 128, 3, 3] -0.000242   0.00489        float32\n",
      "  205          model.13.m.1.m.0.cv2.bn.weight         BatchNorm2d     False         128               [128]      1.02     0.155        float32\n",
      "  205            model.13.m.1.m.0.cv2.bn.bias         BatchNorm2d     False         128               [128]    -0.188     0.306        float32\n",
      "  206        model.13.m.1.m.1.cv1.conv.weight              Conv2d     False      147456    [128, 128, 3, 3] -0.000353   0.00468        float32\n",
      "  207          model.13.m.1.m.1.cv1.bn.weight         BatchNorm2d     False         128               [128]      1.04     0.126        float32\n",
      "  207            model.13.m.1.m.1.cv1.bn.bias         BatchNorm2d     False         128               [128]    -0.609     0.272        float32\n",
      "  208        model.13.m.1.m.1.cv2.conv.weight              Conv2d     False      147456    [128, 128, 3, 3] -0.000111   0.00449        float32\n",
      "  209          model.13.m.1.m.1.cv2.bn.weight         BatchNorm2d     False         128               [128]       1.2     0.192        float32\n",
      "  209            model.13.m.1.m.1.cv2.bn.bias         BatchNorm2d     False         128               [128]    0.0451      0.23        float32\n",
      "  210                                model.14            Upsample     False           0                  []         -         -              -\n",
      "  211                                model.15              Concat     False           0                  []         -         -              -\n",
      "  212                model.16.cv1.conv.weight              Conv2d     False      262144   [256, 1024, 1, 1]   -0.0003    0.0084        float32\n",
      "  213                  model.16.cv1.bn.weight         BatchNorm2d     False         256               [256]     0.562     0.174        float32\n",
      "  213                    model.16.cv1.bn.bias         BatchNorm2d     False         256               [256]    -0.142     0.825        float32\n",
      "  214                model.16.cv2.conv.weight              Conv2d     False      131072    [256, 512, 1, 1] -0.000226   0.00821        float32\n",
      "  215                  model.16.cv2.bn.weight         BatchNorm2d     False         256               [256]     0.612     0.231        float32\n",
      "  215                    model.16.cv2.bn.bias         BatchNorm2d     False         256               [256]    -0.282     0.753        float32\n",
      "  216            model.16.m.0.cv1.conv.weight              Conv2d     False        8192     [64, 128, 1, 1]  -0.00094    0.0185        float32\n",
      "  217              model.16.m.0.cv1.bn.weight         BatchNorm2d     False          64                [64]     0.387     0.124        float32\n",
      "  217                model.16.m.0.cv1.bn.bias         BatchNorm2d     False          64                [64]     0.202     0.567        float32\n",
      "  218            model.16.m.0.cv2.conv.weight              Conv2d     False        8192     [64, 128, 1, 1] -9.86e-05    0.0128        float32\n",
      "  219              model.16.m.0.cv2.bn.weight         BatchNorm2d     False          64                [64]      1.09     0.108        float32\n",
      "  219                model.16.m.0.cv2.bn.bias         BatchNorm2d     False          64                [64]     0.166      0.31        float32\n",
      "  220            model.16.m.0.cv3.conv.weight              Conv2d     False       16384    [128, 128, 1, 1]  -0.00156    0.0137        float32\n",
      "  221              model.16.m.0.cv3.bn.weight         BatchNorm2d     False         128               [128]     0.692     0.126        float32\n",
      "  221                model.16.m.0.cv3.bn.bias         BatchNorm2d     False         128               [128]    -0.618     0.433        float32\n",
      "  222        model.16.m.0.m.0.cv1.conv.weight              Conv2d     False       36864      [64, 64, 3, 3] -0.000701      0.01        float32\n",
      "  223          model.16.m.0.m.0.cv1.bn.weight         BatchNorm2d     False          64                [64]     0.855     0.118        float32\n",
      "  223            model.16.m.0.m.0.cv1.bn.bias         BatchNorm2d     False          64                [64]    -0.704     0.523        float32\n",
      "  224        model.16.m.0.m.0.cv2.conv.weight              Conv2d     False       36864      [64, 64, 3, 3]  -0.00072   0.00946        float32\n",
      "  225          model.16.m.0.m.0.cv2.bn.weight         BatchNorm2d     False          64                [64]     0.655     0.141        float32\n",
      "  225            model.16.m.0.m.0.cv2.bn.bias         BatchNorm2d     False          64                [64]    -0.364     0.454        float32\n",
      "  226        model.16.m.0.m.1.cv1.conv.weight              Conv2d     False       36864      [64, 64, 3, 3] -0.000686   0.00992        float32\n",
      "  227          model.16.m.0.m.1.cv1.bn.weight         BatchNorm2d     False          64                [64]     0.731     0.126        float32\n",
      "  227            model.16.m.0.m.1.cv1.bn.bias         BatchNorm2d     False          64                [64]    -0.632     0.643        float32\n",
      "  228        model.16.m.0.m.1.cv2.conv.weight              Conv2d     False       36864      [64, 64, 3, 3] -0.000275   0.00895        float32\n",
      "  229          model.16.m.0.m.1.cv2.bn.weight         BatchNorm2d     False          64                [64]      1.02     0.163        float32\n",
      "  229            model.16.m.0.m.1.cv2.bn.bias         BatchNorm2d     False          64                [64]     0.541       0.5        float32\n",
      "  230            model.16.m.1.cv1.conv.weight              Conv2d     False        8192     [64, 128, 1, 1]  -0.00146     0.014        float32\n",
      "  231              model.16.m.1.cv1.bn.weight         BatchNorm2d     False          64                [64]     0.349     0.125        float32\n",
      "  231                model.16.m.1.cv1.bn.bias         BatchNorm2d     False          64                [64]    -0.291     0.442        float32\n",
      "  232            model.16.m.1.cv2.conv.weight              Conv2d     False        8192     [64, 128, 1, 1]   -0.0008   0.00795        float32\n",
      "  233              model.16.m.1.cv2.bn.weight         BatchNorm2d     False          64                [64]      1.18     0.127        float32\n",
      "  233                model.16.m.1.cv2.bn.bias         BatchNorm2d     False          64                [64]    -0.205     0.296        float32\n",
      "  234            model.16.m.1.cv3.conv.weight              Conv2d     False       16384    [128, 128, 1, 1] -0.000853     0.011        float32\n",
      "  235              model.16.m.1.cv3.bn.weight         BatchNorm2d     False         128               [128]     0.799     0.287        float32\n",
      "  235                model.16.m.1.cv3.bn.bias         BatchNorm2d     False         128               [128]    -0.275     0.436        float32\n",
      "  236        model.16.m.1.m.0.cv1.conv.weight              Conv2d     False       36864      [64, 64, 3, 3] -0.000478   0.00916        float32\n",
      "  237          model.16.m.1.m.0.cv1.bn.weight         BatchNorm2d     False          64                [64]     0.866     0.179        float32\n",
      "  237            model.16.m.1.m.0.cv1.bn.bias         BatchNorm2d     False          64                [64]    -0.546     0.426        float32\n",
      "  238        model.16.m.1.m.0.cv2.conv.weight              Conv2d     False       36864      [64, 64, 3, 3] -0.000416   0.00876        float32\n",
      "  239          model.16.m.1.m.0.cv2.bn.weight         BatchNorm2d     False          64                [64]     0.831     0.195        float32\n",
      "  239            model.16.m.1.m.0.cv2.bn.bias         BatchNorm2d     False          64                [64]    0.0191     0.538        float32\n",
      "  240        model.16.m.1.m.1.cv1.conv.weight              Conv2d     False       36864      [64, 64, 3, 3] -0.000616   0.00847        float32\n",
      "  241          model.16.m.1.m.1.cv1.bn.weight         BatchNorm2d     False          64                [64]     0.754     0.148        float32\n",
      "  241            model.16.m.1.m.1.cv1.bn.bias         BatchNorm2d     False          64                [64]    -0.627     0.394        float32\n",
      "  242        model.16.m.1.m.1.cv2.conv.weight              Conv2d     False       36864      [64, 64, 3, 3]  -1.1e-05   0.00797        float32\n",
      "  243          model.16.m.1.m.1.cv2.bn.weight         BatchNorm2d     False          64                [64]      1.02     0.278        float32\n",
      "  243            model.16.m.1.m.1.cv2.bn.bias         BatchNorm2d     False          64                [64]      0.42     0.639        float32\n",
      "  244                    model.17.conv.weight              Conv2d     False      589824    [256, 256, 3, 3] -7.72e-05   0.00304        float32\n",
      "  245                      model.17.bn.weight         BatchNorm2d     False         256               [256]     0.899     0.117        float32\n",
      "  245                        model.17.bn.bias         BatchNorm2d     False         256               [256]     -0.52     0.219        float32\n",
      "  246                                model.18              Concat     False           0                  []         -         -              -\n",
      "  247                model.19.cv1.conv.weight              Conv2d     False      393216    [512, 768, 1, 1] -0.000218   0.00488        float32\n",
      "  248                  model.19.cv1.bn.weight         BatchNorm2d     False         512               [512]      1.09      0.13        float32\n",
      "  248                    model.19.cv1.bn.bias         BatchNorm2d     False         512               [512]    -0.442     0.268        float32\n",
      "  249                model.19.cv2.conv.weight              Conv2d     False      524288   [512, 1024, 1, 1]  -0.00017   0.00351        float32\n",
      "  250                  model.19.cv2.bn.weight         BatchNorm2d     False         512               [512]      1.05     0.218        float32\n",
      "  250                    model.19.cv2.bn.bias         BatchNorm2d     False         512               [512]    -0.424     0.256        float32\n",
      "  251            model.19.m.0.cv1.conv.weight              Conv2d     False       32768    [128, 256, 1, 1] -0.000699   0.00795        float32\n",
      "  252              model.19.m.0.cv1.bn.weight         BatchNorm2d     False         128               [128]     0.629     0.109        float32\n",
      "  252                model.19.m.0.cv1.bn.bias         BatchNorm2d     False         128               [128]    -0.118       0.4        float32\n",
      "  253            model.19.m.0.cv2.conv.weight              Conv2d     False       32768    [128, 256, 1, 1] -0.000241   0.00453        float32\n",
      "  254              model.19.m.0.cv2.bn.weight         BatchNorm2d     False         128               [128]      1.11    0.0828        float32\n",
      "  254                model.19.m.0.cv2.bn.bias         BatchNorm2d     False         128               [128]    -0.128    0.0803        float32\n",
      "  255            model.19.m.0.cv3.conv.weight              Conv2d     False       65536    [256, 256, 1, 1] -0.000476   0.00589        float32\n",
      "  256              model.19.m.0.cv3.bn.weight         BatchNorm2d     False         256               [256]     0.933     0.134        float32\n",
      "  256                model.19.m.0.cv3.bn.bias         BatchNorm2d     False         256               [256]    -0.317     0.225        float32\n",
      "  257        model.19.m.0.m.0.cv1.conv.weight              Conv2d     False      147456    [128, 128, 3, 3] -0.000311    0.0046        float32\n",
      "  258          model.19.m.0.m.0.cv1.bn.weight         BatchNorm2d     False         128               [128]     0.998     0.136        float32\n",
      "  258            model.19.m.0.m.0.cv1.bn.bias         BatchNorm2d     False         128               [128]    -0.719     0.312        float32\n",
      "  259        model.19.m.0.m.0.cv2.conv.weight              Conv2d     False      147456    [128, 128, 3, 3] -0.000211   0.00427        float32\n",
      "  260          model.19.m.0.m.0.cv2.bn.weight         BatchNorm2d     False         128               [128]     0.934     0.118        float32\n",
      "  260            model.19.m.0.m.0.cv2.bn.bias         BatchNorm2d     False         128               [128]    -0.467     0.273        float32\n",
      "  261        model.19.m.0.m.1.cv1.conv.weight              Conv2d     False      147456    [128, 128, 3, 3]  -0.00022   0.00439        float32\n",
      "  262          model.19.m.0.m.1.cv1.bn.weight         BatchNorm2d     False         128               [128]      1.01     0.116        float32\n",
      "  262            model.19.m.0.m.1.cv1.bn.bias         BatchNorm2d     False         128               [128]    -0.602     0.284        float32\n",
      "  263        model.19.m.0.m.1.cv2.conv.weight              Conv2d     False      147456    [128, 128, 3, 3] -0.000101   0.00408        float32\n",
      "  264          model.19.m.0.m.1.cv2.bn.weight         BatchNorm2d     False         128               [128]      1.31     0.163        float32\n",
      "  264            model.19.m.0.m.1.cv2.bn.bias         BatchNorm2d     False         128               [128]    -0.157     0.187        float32\n",
      "  265            model.19.m.1.cv1.conv.weight              Conv2d     False       32768    [128, 256, 1, 1] -0.000617   0.00645        float32\n",
      "  266              model.19.m.1.cv1.bn.weight         BatchNorm2d     False         128               [128]     0.609     0.122        float32\n",
      "  266                model.19.m.1.cv1.bn.bias         BatchNorm2d     False         128               [128]    -0.251     0.282        float32\n",
      "  267            model.19.m.1.cv2.conv.weight              Conv2d     False       32768    [128, 256, 1, 1] -0.000301   0.00297        float32\n",
      "  268              model.19.m.1.cv2.bn.weight         BatchNorm2d     False         128               [128]      1.03     0.049        float32\n",
      "  268                model.19.m.1.cv2.bn.bias         BatchNorm2d     False         128               [128]   -0.0907    0.0567        float32\n",
      "  269            model.19.m.1.cv3.conv.weight              Conv2d     False       65536    [256, 256, 1, 1] -0.000389   0.00453        float32\n",
      "  270              model.19.m.1.cv3.bn.weight         BatchNorm2d     False         256               [256]      1.22     0.236        float32\n",
      "  270                model.19.m.1.cv3.bn.bias         BatchNorm2d     False         256               [256]    -0.243     0.205        float32\n",
      "  271        model.19.m.1.m.0.cv1.conv.weight              Conv2d     False      147456    [128, 128, 3, 3] -0.000345   0.00357        float32\n",
      "  272          model.19.m.1.m.0.cv1.bn.weight         BatchNorm2d     False         128               [128]      1.05      0.15        float32\n",
      "  272            model.19.m.1.m.0.cv1.bn.bias         BatchNorm2d     False         128               [128]    -0.467     0.226        float32\n",
      "  273        model.19.m.1.m.0.cv2.conv.weight              Conv2d     False      147456    [128, 128, 3, 3] -0.000202   0.00354        float32\n",
      "  274          model.19.m.1.m.0.cv2.bn.weight         BatchNorm2d     False         128               [128]     0.931     0.157        float32\n",
      "  274            model.19.m.1.m.0.cv2.bn.bias         BatchNorm2d     False         128               [128]    -0.326      0.29        float32\n",
      "  275        model.19.m.1.m.1.cv1.conv.weight              Conv2d     False      147456    [128, 128, 3, 3] -0.000244   0.00369        float32\n",
      "  276          model.19.m.1.m.1.cv1.bn.weight         BatchNorm2d     False         128               [128]     0.961     0.175        float32\n",
      "  276            model.19.m.1.m.1.cv1.bn.bias         BatchNorm2d     False         128               [128]    -0.671     0.256        float32\n",
      "  277        model.19.m.1.m.1.cv2.conv.weight              Conv2d     False      147456    [128, 128, 3, 3] -7.82e-05    0.0034        float32\n",
      "  278          model.19.m.1.m.1.cv2.bn.weight         BatchNorm2d     False         128               [128]      1.34     0.232        float32\n",
      "  278            model.19.m.1.m.1.cv2.bn.bias         BatchNorm2d     False         128               [128]    -0.169     0.206        float32\n",
      "  279                    model.20.conv.weight              Conv2d     False  2.3593e+06    [512, 512, 3, 3] -4.48e-05   0.00121        float32\n",
      "  280                      model.20.bn.weight         BatchNorm2d     False         512               [512]      1.02    0.0701        float32\n",
      "  280                        model.20.bn.bias         BatchNorm2d     False         512               [512]    -0.158    0.0632        float32\n",
      "  281                                model.21              Concat     False           0                  []         -         -              -\n",
      "  282                model.22.cv1.conv.weight              Conv2d     False      524288   [512, 1024, 1, 1] -0.000105   0.00276        float32\n",
      "  283                  model.22.cv1.bn.weight         BatchNorm2d     False         512               [512]      1.09    0.0981        float32\n",
      "  283                    model.22.cv1.bn.bias         BatchNorm2d     False         512               [512]    -0.194     0.117        float32\n",
      "  284                model.22.cv2.conv.weight              Conv2d     False      524288   [512, 1024, 1, 1]  -0.00011   0.00243        float32\n",
      "  285                  model.22.cv2.bn.weight         BatchNorm2d     False         512               [512]      1.08     0.164        float32\n",
      "  285                    model.22.cv2.bn.bias         BatchNorm2d     False         512               [512]    -0.171     0.112        float32\n",
      "  286            model.22.m.0.cv1.conv.weight              Conv2d     False       32768    [128, 256, 1, 1] -0.000249   0.00503        float32\n",
      "  287              model.22.m.0.cv1.bn.weight         BatchNorm2d     False         128               [128]     0.777    0.0806        float32\n",
      "  287                model.22.m.0.cv1.bn.bias         BatchNorm2d     False         128               [128]    -0.164     0.164        float32\n",
      "  288            model.22.m.0.cv2.conv.weight              Conv2d     False       32768    [128, 256, 1, 1] -2.98e-05   0.00269        float32\n",
      "  289              model.22.m.0.cv2.bn.weight         BatchNorm2d     False         128               [128]      1.01    0.0246        float32\n",
      "  289                model.22.m.0.cv2.bn.bias         BatchNorm2d     False         128               [128]   -0.0467    0.0221        float32\n",
      "  290            model.22.m.0.cv3.conv.weight              Conv2d     False       65536    [256, 256, 1, 1] -0.000221   0.00376        float32\n",
      "  291              model.22.m.0.cv3.bn.weight         BatchNorm2d     False         256               [256]     0.997     0.112        float32\n",
      "  291                model.22.m.0.cv3.bn.bias         BatchNorm2d     False         256               [256]     -0.15     0.103        float32\n",
      "  292        model.22.m.0.m.0.cv1.conv.weight              Conv2d     False      147456    [128, 128, 3, 3] -0.000179    0.0029        float32\n",
      "  293          model.22.m.0.m.0.cv1.bn.weight         BatchNorm2d     False         128               [128]      1.07     0.111        float32\n",
      "  293            model.22.m.0.m.0.cv1.bn.bias         BatchNorm2d     False         128               [128]    -0.313     0.171        float32\n",
      "  294        model.22.m.0.m.0.cv2.conv.weight              Conv2d     False      147456    [128, 128, 3, 3] -0.000155    0.0028        float32\n",
      "  295          model.22.m.0.m.0.cv2.bn.weight         BatchNorm2d     False         128               [128]      1.07    0.0899        float32\n",
      "  295            model.22.m.0.m.0.cv2.bn.bias         BatchNorm2d     False         128               [128]    -0.203     0.135        float32\n",
      "  296        model.22.m.0.m.1.cv1.conv.weight              Conv2d     False      147456    [128, 128, 3, 3] -0.000176   0.00279        float32\n",
      "  297          model.22.m.0.m.1.cv1.bn.weight         BatchNorm2d     False         128               [128]      1.06    0.0871        float32\n",
      "  297            model.22.m.0.m.1.cv1.bn.bias         BatchNorm2d     False         128               [128]    -0.258     0.134        float32\n",
      "  298        model.22.m.0.m.1.cv2.conv.weight              Conv2d     False      147456    [128, 128, 3, 3] -7.05e-05   0.00264        float32\n",
      "  299          model.22.m.0.m.1.cv2.bn.weight         BatchNorm2d     False         128               [128]       1.2    0.0885        float32\n",
      "  299            model.22.m.0.m.1.cv2.bn.bias         BatchNorm2d     False         128               [128]   -0.0735    0.0947        float32\n",
      "  300            model.22.m.1.cv1.conv.weight              Conv2d     False       32768    [128, 256, 1, 1] -0.000388   0.00411        float32\n",
      "  301              model.22.m.1.cv1.bn.weight         BatchNorm2d     False         128               [128]     0.835    0.0977        float32\n",
      "  301                model.22.m.1.cv1.bn.bias         BatchNorm2d     False         128               [128]    -0.129    0.0981        float32\n",
      "  302            model.22.m.1.cv2.conv.weight              Conv2d     False       32768    [128, 256, 1, 1] -0.000109   0.00141        float32\n",
      "  303              model.22.m.1.cv2.bn.weight         BatchNorm2d     False         128               [128]     0.997   0.00692        float32\n",
      "  303                model.22.m.1.cv2.bn.bias         BatchNorm2d     False         128               [128]    -0.019     0.015        float32\n",
      "  304            model.22.m.1.cv3.conv.weight              Conv2d     False       65536    [256, 256, 1, 1] -0.000266   0.00297        float32\n",
      "  305              model.22.m.1.cv3.bn.weight         BatchNorm2d     False         256               [256]      1.09    0.0701        float32\n",
      "  305                model.22.m.1.cv3.bn.bias         BatchNorm2d     False         256               [256]   -0.0632    0.0509        float32\n",
      "  306        model.22.m.1.m.0.cv1.conv.weight              Conv2d     False      147456    [128, 128, 3, 3] -0.000224    0.0023        float32\n",
      "  307          model.22.m.1.m.0.cv1.bn.weight         BatchNorm2d     False         128               [128]      1.07    0.0892        float32\n",
      "  307            model.22.m.1.m.0.cv1.bn.bias         BatchNorm2d     False         128               [128]    -0.168    0.0735        float32\n",
      "  308        model.22.m.1.m.0.cv2.conv.weight              Conv2d     False      147456    [128, 128, 3, 3] -0.000144   0.00233        float32\n",
      "  309          model.22.m.1.m.0.cv2.bn.weight         BatchNorm2d     False         128               [128]      1.06    0.0987        float32\n",
      "  309            model.22.m.1.m.0.cv2.bn.bias         BatchNorm2d     False         128               [128]     -0.12    0.0981        float32\n",
      "  310        model.22.m.1.m.1.cv1.conv.weight              Conv2d     False      147456    [128, 128, 3, 3] -0.000192   0.00233        float32\n",
      "  311          model.22.m.1.m.1.cv1.bn.weight         BatchNorm2d     False         128               [128]      1.06    0.0873        float32\n",
      "  311            model.22.m.1.m.1.cv1.bn.bias         BatchNorm2d     False         128               [128]    -0.225    0.0799        float32\n",
      "  312        model.22.m.1.m.1.cv2.conv.weight              Conv2d     False      147456    [128, 128, 3, 3] -4.32e-05   0.00219        float32\n",
      "  313          model.22.m.1.m.1.cv2.bn.weight         BatchNorm2d     False         128               [128]       1.2     0.122        float32\n",
      "  313            model.22.m.1.m.1.cv2.bn.bias         BatchNorm2d     False         128               [128]    -0.055    0.0658        float32\n",
      "  314            model.23.cv2.0.0.conv.weight              Conv2d     False      147456     [64, 256, 3, 3] -0.000139   0.00403        float32\n",
      "  315              model.23.cv2.0.0.bn.weight         BatchNorm2d     False          64                [64]      0.96     0.395        float32\n",
      "  315                model.23.cv2.0.0.bn.bias         BatchNorm2d     False          64                [64]     -0.31     0.641        float32\n",
      "  316            model.23.cv2.0.1.conv.weight              Conv2d     False       36864      [64, 64, 3, 3] -9.93e-05    0.0068        float32\n",
      "  317              model.23.cv2.0.1.bn.weight         BatchNorm2d     False          64                [64]      2.56     0.838        float32\n",
      "  317                model.23.cv2.0.1.bn.bias         BatchNorm2d     False          64                [64]     0.687     0.424        float32\n",
      "  318                 model.23.cv2.0.2.weight              Conv2d     False        4096      [64, 64, 1, 1] -7.08e-07    0.0348        float32\n",
      "  318                   model.23.cv2.0.2.bias              Conv2d     False          64                [64]     0.999     0.696        float32\n",
      "  319            model.23.cv2.1.0.conv.weight              Conv2d     False      294912     [64, 512, 3, 3] -6.19e-05   0.00254        float32\n",
      "  320              model.23.cv2.1.0.bn.weight         BatchNorm2d     False          64                [64]      1.17      0.35        float32\n",
      "  320                model.23.cv2.1.0.bn.bias         BatchNorm2d     False          64                [64]  0.000821     0.589        float32\n",
      "  321            model.23.cv2.1.1.conv.weight              Conv2d     False       36864      [64, 64, 3, 3]  9.61e-05   0.00634        float32\n",
      "  322              model.23.cv2.1.1.bn.weight         BatchNorm2d     False          64                [64]      2.85     0.676        float32\n",
      "  322                model.23.cv2.1.1.bn.bias         BatchNorm2d     False          64                [64]     0.882     0.419        float32\n",
      "  323                 model.23.cv2.1.2.weight              Conv2d     False        4096      [64, 64, 1, 1]  6.74e-07    0.0394        float32\n",
      "  323                   model.23.cv2.1.2.bias              Conv2d     False          64                [64]     0.999     0.735        float32\n",
      "  324            model.23.cv2.2.0.conv.weight              Conv2d     False      294912     [64, 512, 3, 3] -7.49e-05   0.00176        float32\n",
      "  325              model.23.cv2.2.0.bn.weight         BatchNorm2d     False          64                [64]      1.26     0.182        float32\n",
      "  325                model.23.cv2.2.0.bn.bias         BatchNorm2d     False          64                [64]    -0.188     0.277        float32\n",
      "  326            model.23.cv2.2.1.conv.weight              Conv2d     False       36864      [64, 64, 3, 3]  0.000175   0.00444        float32\n",
      "  327              model.23.cv2.2.1.bn.weight         BatchNorm2d     False          64                [64]      3.28     0.476        float32\n",
      "  327                model.23.cv2.2.1.bn.bias         BatchNorm2d     False          64                [64]     0.775     0.341        float32\n",
      "  328                 model.23.cv2.2.2.weight              Conv2d     False        4096      [64, 64, 1, 1]    -6e-07     0.033        float32\n",
      "  328                   model.23.cv2.2.2.bias              Conv2d     False          64                [64]         1     0.355        float32\n",
      "  329          model.23.cv3.0.0.0.conv.weight              Conv2d     False        2304      [256, 1, 3, 3]   0.00394    0.0142        float32\n",
      "  330            model.23.cv3.0.0.0.bn.weight         BatchNorm2d     False         256               [256]     0.885     0.242        float32\n",
      "  330              model.23.cv3.0.0.0.bn.bias         BatchNorm2d     False         256               [256]     0.353     0.433        float32\n",
      "  331          model.23.cv3.0.0.1.conv.weight              Conv2d     False       65536    [256, 256, 1, 1]  -0.00011   0.00546        float32\n",
      "  332            model.23.cv3.0.0.1.bn.weight         BatchNorm2d     False         256               [256]     0.978     0.129        float32\n",
      "  332              model.23.cv3.0.0.1.bn.bias         BatchNorm2d     False         256               [256]    0.0241     0.275        float32\n",
      "  333          model.23.cv3.0.1.0.conv.weight              Conv2d     False        2304      [256, 1, 3, 3]   0.00299    0.0188        float32\n",
      "  334            model.23.cv3.0.1.0.bn.weight         BatchNorm2d     False         256               [256]     0.984     0.375        float32\n",
      "  334              model.23.cv3.0.1.0.bn.bias         BatchNorm2d     False         256               [256]     0.166     0.303        float32\n",
      "  335          model.23.cv3.0.1.1.conv.weight              Conv2d     False       65536    [256, 256, 1, 1] -0.000437   0.00619        float32\n",
      "  336            model.23.cv3.0.1.1.bn.weight         BatchNorm2d     False         256               [256]      1.91      0.32        float32\n",
      "  336              model.23.cv3.0.1.1.bn.bias         BatchNorm2d     False         256               [256]     0.662     0.862        float32\n",
      "  337                 model.23.cv3.0.2.weight              Conv2d     False       20480     [80, 256, 1, 1]  -0.00347    0.0202        float32\n",
      "  337                   model.23.cv3.0.2.bias              Conv2d     False          80                [80]     -11.8      0.66        float32\n",
      "  338          model.23.cv3.1.0.0.conv.weight              Conv2d     False        4608      [512, 1, 3, 3]   0.00194   0.00986        float32\n",
      "  339            model.23.cv3.1.0.0.bn.weight         BatchNorm2d     False         512               [512]     0.991     0.212        float32\n",
      "  339              model.23.cv3.1.0.0.bn.bias         BatchNorm2d     False         512               [512]    0.0489     0.155        float32\n",
      "  340          model.23.cv3.1.0.1.conv.weight              Conv2d     False      131072    [256, 512, 1, 1] -0.000117   0.00362        float32\n",
      "  341            model.23.cv3.1.0.1.bn.weight         BatchNorm2d     False         256               [256]      1.06      0.12        float32\n",
      "  341              model.23.cv3.1.0.1.bn.bias         BatchNorm2d     False         256               [256]   0.00305     0.229        float32\n",
      "  342          model.23.cv3.1.1.0.conv.weight              Conv2d     False        2304      [256, 1, 3, 3]   0.00124    0.0167        float32\n",
      "  343            model.23.cv3.1.1.0.bn.weight         BatchNorm2d     False         256               [256]      1.05     0.375        float32\n",
      "  343              model.23.cv3.1.1.0.bn.bias         BatchNorm2d     False         256               [256]    0.0996     0.262        float32\n",
      "  344          model.23.cv3.1.1.1.conv.weight              Conv2d     False       65536    [256, 256, 1, 1] -0.000601   0.00555        float32\n",
      "  345            model.23.cv3.1.1.1.bn.weight         BatchNorm2d     False         256               [256]      2.04     0.256        float32\n",
      "  345              model.23.cv3.1.1.1.bn.bias         BatchNorm2d     False         256               [256]     0.721     0.779        float32\n",
      "  346                 model.23.cv3.1.2.weight              Conv2d     False       20480     [80, 256, 1, 1]   -0.0038    0.0198        float32\n",
      "  346                   model.23.cv3.1.2.bias              Conv2d     False          80                [80]     -10.6     0.519        float32\n",
      "  347          model.23.cv3.2.0.0.conv.weight              Conv2d     False        4608      [512, 1, 3, 3]   0.00162   0.00918        float32\n",
      "  348            model.23.cv3.2.0.0.bn.weight         BatchNorm2d     False         512               [512]      1.01     0.115        float32\n",
      "  348              model.23.cv3.2.0.0.bn.bias         BatchNorm2d     False         512               [512]   0.00181    0.0663        float32\n",
      "  349          model.23.cv3.2.0.1.conv.weight              Conv2d     False      131072    [256, 512, 1, 1] -9.03e-05    0.0028        float32\n",
      "  350            model.23.cv3.2.0.1.bn.weight         BatchNorm2d     False         256               [256]      1.05    0.0586        float32\n",
      "  350              model.23.cv3.2.0.1.bn.bias         BatchNorm2d     False         256               [256]    0.0015      0.12        float32\n",
      "  351          model.23.cv3.2.1.0.conv.weight              Conv2d     False        2304      [256, 1, 3, 3]   0.00293    0.0147        float32\n",
      "  352            model.23.cv3.2.1.0.bn.weight         BatchNorm2d     False         256               [256]      1.09     0.181        float32\n",
      "  352              model.23.cv3.2.1.0.bn.bias         BatchNorm2d     False         256               [256]    0.0367     0.128        float32\n",
      "  353          model.23.cv3.2.1.1.conv.weight              Conv2d     False       65536    [256, 256, 1, 1] -0.000505   0.00432        float32\n",
      "  354            model.23.cv3.2.1.1.bn.weight         BatchNorm2d     False         256               [256]      1.89     0.108        float32\n",
      "  354              model.23.cv3.2.1.1.bn.bias         BatchNorm2d     False         256               [256]     0.886     0.616        float32\n",
      "  355                 model.23.cv3.2.2.weight              Conv2d     False       20480     [80, 256, 1, 1]  -0.00504    0.0161        float32\n",
      "  355                   model.23.cv3.2.2.bias              Conv2d     False          80                [80]     -9.51     0.354        float32\n",
      "  356                model.23.dfl.conv.weight              Conv2d     False          16       [1, 16, 1, 1]       7.5      4.76        float32\n",
      "YOLO11l summary: 357 layers, 25,372,160 parameters, 0 gradients, 87.6 GFLOPs\n",
      "(357, 25372160, 0, 87.6134912)\n",
      "网络结构详细：\n",
      "<bound method Model.info of YOLO(\n",
      "  (model): DetectionModel(\n",
      "    (model): Sequential(\n",
      "      (0): Conv(\n",
      "        (conv): Conv2d(3, 64, kernel_size=(3, 3), stride=(2, 2), padding=(1, 1), bias=False)\n",
      "        (bn): BatchNorm2d(64, eps=0.001, momentum=0.03, affine=True, track_running_stats=True)\n",
      "        (act): SiLU(inplace=True)\n",
      "      )\n",
      "      (1): Conv(\n",
      "        (conv): Conv2d(64, 128, kernel_size=(3, 3), stride=(2, 2), padding=(1, 1), bias=False)\n",
      "        (bn): BatchNorm2d(128, eps=0.001, momentum=0.03, affine=True, track_running_stats=True)\n",
      "        (act): SiLU(inplace=True)\n",
      "      )\n",
      "      (2): C3k2(\n",
      "        (cv1): Conv(\n",
      "          (conv): Conv2d(128, 128, kernel_size=(1, 1), stride=(1, 1), bias=False)\n",
      "          (bn): BatchNorm2d(128, eps=0.001, momentum=0.03, affine=True, track_running_stats=True)\n",
      "          (act): SiLU(inplace=True)\n",
      "        )\n",
      "        (cv2): Conv(\n",
      "          (conv): Conv2d(256, 256, kernel_size=(1, 1), stride=(1, 1), bias=False)\n",
      "          (bn): BatchNorm2d(256, eps=0.001, momentum=0.03, affine=True, track_running_stats=True)\n",
      "          (act): SiLU(inplace=True)\n",
      "        )\n",
      "        (m): ModuleList(\n",
      "          (0-1): 2 x C3k(\n",
      "            (cv1): Conv(\n",
      "              (conv): Conv2d(64, 32, kernel_size=(1, 1), stride=(1, 1), bias=False)\n",
      "              (bn): BatchNorm2d(32, eps=0.001, momentum=0.03, affine=True, track_running_stats=True)\n",
      "              (act): SiLU(inplace=True)\n",
      "            )\n",
      "            (cv2): Conv(\n",
      "              (conv): Conv2d(64, 32, kernel_size=(1, 1), stride=(1, 1), bias=False)\n",
      "              (bn): BatchNorm2d(32, eps=0.001, momentum=0.03, affine=True, track_running_stats=True)\n",
      "              (act): SiLU(inplace=True)\n",
      "            )\n",
      "            (cv3): Conv(\n",
      "              (conv): Conv2d(64, 64, kernel_size=(1, 1), stride=(1, 1), bias=False)\n",
      "              (bn): BatchNorm2d(64, eps=0.001, momentum=0.03, affine=True, track_running_stats=True)\n",
      "              (act): SiLU(inplace=True)\n",
      "            )\n",
      "            (m): Sequential(\n",
      "              (0): Bottleneck(\n",
      "                (cv1): Conv(\n",
      "                  (conv): Conv2d(32, 32, kernel_size=(3, 3), stride=(1, 1), padding=(1, 1), bias=False)\n",
      "                  (bn): BatchNorm2d(32, eps=0.001, momentum=0.03, affine=True, track_running_stats=True)\n",
      "                  (act): SiLU(inplace=True)\n",
      "                )\n",
      "                (cv2): Conv(\n",
      "                  (conv): Conv2d(32, 32, kernel_size=(3, 3), stride=(1, 1), padding=(1, 1), bias=False)\n",
      "                  (bn): BatchNorm2d(32, eps=0.001, momentum=0.03, affine=True, track_running_stats=True)\n",
      "                  (act): SiLU(inplace=True)\n",
      "                )\n",
      "              )\n",
      "              (1): Bottleneck(\n",
      "                (cv1): Conv(\n",
      "                  (conv): Conv2d(32, 32, kernel_size=(3, 3), stride=(1, 1), padding=(1, 1), bias=False)\n",
      "                  (bn): BatchNorm2d(32, eps=0.001, momentum=0.03, affine=True, track_running_stats=True)\n",
      "                  (act): SiLU(inplace=True)\n",
      "                )\n",
      "                (cv2): Conv(\n",
      "                  (conv): Conv2d(32, 32, kernel_size=(3, 3), stride=(1, 1), padding=(1, 1), bias=False)\n",
      "                  (bn): BatchNorm2d(32, eps=0.001, momentum=0.03, affine=True, track_running_stats=True)\n",
      "                  (act): SiLU(inplace=True)\n",
      "                )\n",
      "              )\n",
      "            )\n",
      "          )\n",
      "        )\n",
      "      )\n",
      "      (3): Conv(\n",
      "        (conv): Conv2d(256, 256, kernel_size=(3, 3), stride=(2, 2), padding=(1, 1), bias=False)\n",
      "        (bn): BatchNorm2d(256, eps=0.001, momentum=0.03, affine=True, track_running_stats=True)\n",
      "        (act): SiLU(inplace=True)\n",
      "      )\n",
      "      (4): C3k2(\n",
      "        (cv1): Conv(\n",
      "          (conv): Conv2d(256, 256, kernel_size=(1, 1), stride=(1, 1), bias=False)\n",
      "          (bn): BatchNorm2d(256, eps=0.001, momentum=0.03, affine=True, track_running_stats=True)\n",
      "          (act): SiLU(inplace=True)\n",
      "        )\n",
      "        (cv2): Conv(\n",
      "          (conv): Conv2d(512, 512, kernel_size=(1, 1), stride=(1, 1), bias=False)\n",
      "          (bn): BatchNorm2d(512, eps=0.001, momentum=0.03, affine=True, track_running_stats=True)\n",
      "          (act): SiLU(inplace=True)\n",
      "        )\n",
      "        (m): ModuleList(\n",
      "          (0-1): 2 x C3k(\n",
      "            (cv1): Conv(\n",
      "              (conv): Conv2d(128, 64, kernel_size=(1, 1), stride=(1, 1), bias=False)\n",
      "              (bn): BatchNorm2d(64, eps=0.001, momentum=0.03, affine=True, track_running_stats=True)\n",
      "              (act): SiLU(inplace=True)\n",
      "            )\n",
      "            (cv2): Conv(\n",
      "              (conv): Conv2d(128, 64, kernel_size=(1, 1), stride=(1, 1), bias=False)\n",
      "              (bn): BatchNorm2d(64, eps=0.001, momentum=0.03, affine=True, track_running_stats=True)\n",
      "              (act): SiLU(inplace=True)\n",
      "            )\n",
      "            (cv3): Conv(\n",
      "              (conv): Conv2d(128, 128, kernel_size=(1, 1), stride=(1, 1), bias=False)\n",
      "              (bn): BatchNorm2d(128, eps=0.001, momentum=0.03, affine=True, track_running_stats=True)\n",
      "              (act): SiLU(inplace=True)\n",
      "            )\n",
      "            (m): Sequential(\n",
      "              (0): Bottleneck(\n",
      "                (cv1): Conv(\n",
      "                  (conv): Conv2d(64, 64, kernel_size=(3, 3), stride=(1, 1), padding=(1, 1), bias=False)\n",
      "                  (bn): BatchNorm2d(64, eps=0.001, momentum=0.03, affine=True, track_running_stats=True)\n",
      "                  (act): SiLU(inplace=True)\n",
      "                )\n",
      "                (cv2): Conv(\n",
      "                  (conv): Conv2d(64, 64, kernel_size=(3, 3), stride=(1, 1), padding=(1, 1), bias=False)\n",
      "                  (bn): BatchNorm2d(64, eps=0.001, momentum=0.03, affine=True, track_running_stats=True)\n",
      "                  (act): SiLU(inplace=True)\n",
      "                )\n",
      "              )\n",
      "              (1): Bottleneck(\n",
      "                (cv1): Conv(\n",
      "                  (conv): Conv2d(64, 64, kernel_size=(3, 3), stride=(1, 1), padding=(1, 1), bias=False)\n",
      "                  (bn): BatchNorm2d(64, eps=0.001, momentum=0.03, affine=True, track_running_stats=True)\n",
      "                  (act): SiLU(inplace=True)\n",
      "                )\n",
      "                (cv2): Conv(\n",
      "                  (conv): Conv2d(64, 64, kernel_size=(3, 3), stride=(1, 1), padding=(1, 1), bias=False)\n",
      "                  (bn): BatchNorm2d(64, eps=0.001, momentum=0.03, affine=True, track_running_stats=True)\n",
      "                  (act): SiLU(inplace=True)\n",
      "                )\n",
      "              )\n",
      "            )\n",
      "          )\n",
      "        )\n",
      "      )\n",
      "      (5): Conv(\n",
      "        (conv): Conv2d(512, 512, kernel_size=(3, 3), stride=(2, 2), padding=(1, 1), bias=False)\n",
      "        (bn): BatchNorm2d(512, eps=0.001, momentum=0.03, affine=True, track_running_stats=True)\n",
      "        (act): SiLU(inplace=True)\n",
      "      )\n",
      "      (6): C3k2(\n",
      "        (cv1): Conv(\n",
      "          (conv): Conv2d(512, 512, kernel_size=(1, 1), stride=(1, 1), bias=False)\n",
      "          (bn): BatchNorm2d(512, eps=0.001, momentum=0.03, affine=True, track_running_stats=True)\n",
      "          (act): SiLU(inplace=True)\n",
      "        )\n",
      "        (cv2): Conv(\n",
      "          (conv): Conv2d(1024, 512, kernel_size=(1, 1), stride=(1, 1), bias=False)\n",
      "          (bn): BatchNorm2d(512, eps=0.001, momentum=0.03, affine=True, track_running_stats=True)\n",
      "          (act): SiLU(inplace=True)\n",
      "        )\n",
      "        (m): ModuleList(\n",
      "          (0-1): 2 x C3k(\n",
      "            (cv1): Conv(\n",
      "              (conv): Conv2d(256, 128, kernel_size=(1, 1), stride=(1, 1), bias=False)\n",
      "              (bn): BatchNorm2d(128, eps=0.001, momentum=0.03, affine=True, track_running_stats=True)\n",
      "              (act): SiLU(inplace=True)\n",
      "            )\n",
      "            (cv2): Conv(\n",
      "              (conv): Conv2d(256, 128, kernel_size=(1, 1), stride=(1, 1), bias=False)\n",
      "              (bn): BatchNorm2d(128, eps=0.001, momentum=0.03, affine=True, track_running_stats=True)\n",
      "              (act): SiLU(inplace=True)\n",
      "            )\n",
      "            (cv3): Conv(\n",
      "              (conv): Conv2d(256, 256, kernel_size=(1, 1), stride=(1, 1), bias=False)\n",
      "              (bn): BatchNorm2d(256, eps=0.001, momentum=0.03, affine=True, track_running_stats=True)\n",
      "              (act): SiLU(inplace=True)\n",
      "            )\n",
      "            (m): Sequential(\n",
      "              (0): Bottleneck(\n",
      "                (cv1): Conv(\n",
      "                  (conv): Conv2d(128, 128, kernel_size=(3, 3), stride=(1, 1), padding=(1, 1), bias=False)\n",
      "                  (bn): BatchNorm2d(128, eps=0.001, momentum=0.03, affine=True, track_running_stats=True)\n",
      "                  (act): SiLU(inplace=True)\n",
      "                )\n",
      "                (cv2): Conv(\n",
      "                  (conv): Conv2d(128, 128, kernel_size=(3, 3), stride=(1, 1), padding=(1, 1), bias=False)\n",
      "                  (bn): BatchNorm2d(128, eps=0.001, momentum=0.03, affine=True, track_running_stats=True)\n",
      "                  (act): SiLU(inplace=True)\n",
      "                )\n",
      "              )\n",
      "              (1): Bottleneck(\n",
      "                (cv1): Conv(\n",
      "                  (conv): Conv2d(128, 128, kernel_size=(3, 3), stride=(1, 1), padding=(1, 1), bias=False)\n",
      "                  (bn): BatchNorm2d(128, eps=0.001, momentum=0.03, affine=True, track_running_stats=True)\n",
      "                  (act): SiLU(inplace=True)\n",
      "                )\n",
      "                (cv2): Conv(\n",
      "                  (conv): Conv2d(128, 128, kernel_size=(3, 3), stride=(1, 1), padding=(1, 1), bias=False)\n",
      "                  (bn): BatchNorm2d(128, eps=0.001, momentum=0.03, affine=True, track_running_stats=True)\n",
      "                  (act): SiLU(inplace=True)\n",
      "                )\n",
      "              )\n",
      "            )\n",
      "          )\n",
      "        )\n",
      "      )\n",
      "      (7): Conv(\n",
      "        (conv): Conv2d(512, 512, kernel_size=(3, 3), stride=(2, 2), padding=(1, 1), bias=False)\n",
      "        (bn): BatchNorm2d(512, eps=0.001, momentum=0.03, affine=True, track_running_stats=True)\n",
      "        (act): SiLU(inplace=True)\n",
      "      )\n",
      "      (8): C3k2(\n",
      "        (cv1): Conv(\n",
      "          (conv): Conv2d(512, 512, kernel_size=(1, 1), stride=(1, 1), bias=False)\n",
      "          (bn): BatchNorm2d(512, eps=0.001, momentum=0.03, affine=True, track_running_stats=True)\n",
      "          (act): SiLU(inplace=True)\n",
      "        )\n",
      "        (cv2): Conv(\n",
      "          (conv): Conv2d(1024, 512, kernel_size=(1, 1), stride=(1, 1), bias=False)\n",
      "          (bn): BatchNorm2d(512, eps=0.001, momentum=0.03, affine=True, track_running_stats=True)\n",
      "          (act): SiLU(inplace=True)\n",
      "        )\n",
      "        (m): ModuleList(\n",
      "          (0-1): 2 x C3k(\n",
      "            (cv1): Conv(\n",
      "              (conv): Conv2d(256, 128, kernel_size=(1, 1), stride=(1, 1), bias=False)\n",
      "              (bn): BatchNorm2d(128, eps=0.001, momentum=0.03, affine=True, track_running_stats=True)\n",
      "              (act): SiLU(inplace=True)\n",
      "            )\n",
      "            (cv2): Conv(\n",
      "              (conv): Conv2d(256, 128, kernel_size=(1, 1), stride=(1, 1), bias=False)\n",
      "              (bn): BatchNorm2d(128, eps=0.001, momentum=0.03, affine=True, track_running_stats=True)\n",
      "              (act): SiLU(inplace=True)\n",
      "            )\n",
      "            (cv3): Conv(\n",
      "              (conv): Conv2d(256, 256, kernel_size=(1, 1), stride=(1, 1), bias=False)\n",
      "              (bn): BatchNorm2d(256, eps=0.001, momentum=0.03, affine=True, track_running_stats=True)\n",
      "              (act): SiLU(inplace=True)\n",
      "            )\n",
      "            (m): Sequential(\n",
      "              (0): Bottleneck(\n",
      "                (cv1): Conv(\n",
      "                  (conv): Conv2d(128, 128, kernel_size=(3, 3), stride=(1, 1), padding=(1, 1), bias=False)\n",
      "                  (bn): BatchNorm2d(128, eps=0.001, momentum=0.03, affine=True, track_running_stats=True)\n",
      "                  (act): SiLU(inplace=True)\n",
      "                )\n",
      "                (cv2): Conv(\n",
      "                  (conv): Conv2d(128, 128, kernel_size=(3, 3), stride=(1, 1), padding=(1, 1), bias=False)\n",
      "                  (bn): BatchNorm2d(128, eps=0.001, momentum=0.03, affine=True, track_running_stats=True)\n",
      "                  (act): SiLU(inplace=True)\n",
      "                )\n",
      "              )\n",
      "              (1): Bottleneck(\n",
      "                (cv1): Conv(\n",
      "                  (conv): Conv2d(128, 128, kernel_size=(3, 3), stride=(1, 1), padding=(1, 1), bias=False)\n",
      "                  (bn): BatchNorm2d(128, eps=0.001, momentum=0.03, affine=True, track_running_stats=True)\n",
      "                  (act): SiLU(inplace=True)\n",
      "                )\n",
      "                (cv2): Conv(\n",
      "                  (conv): Conv2d(128, 128, kernel_size=(3, 3), stride=(1, 1), padding=(1, 1), bias=False)\n",
      "                  (bn): BatchNorm2d(128, eps=0.001, momentum=0.03, affine=True, track_running_stats=True)\n",
      "                  (act): SiLU(inplace=True)\n",
      "                )\n",
      "              )\n",
      "            )\n",
      "          )\n",
      "        )\n",
      "      )\n",
      "      (9): SPPF(\n",
      "        (cv1): Conv(\n",
      "          (conv): Conv2d(512, 256, kernel_size=(1, 1), stride=(1, 1), bias=False)\n",
      "          (bn): BatchNorm2d(256, eps=0.001, momentum=0.03, affine=True, track_running_stats=True)\n",
      "          (act): SiLU(inplace=True)\n",
      "        )\n",
      "        (cv2): Conv(\n",
      "          (conv): Conv2d(1024, 512, kernel_size=(1, 1), stride=(1, 1), bias=False)\n",
      "          (bn): BatchNorm2d(512, eps=0.001, momentum=0.03, affine=True, track_running_stats=True)\n",
      "          (act): SiLU(inplace=True)\n",
      "        )\n",
      "        (m): MaxPool2d(kernel_size=5, stride=1, padding=2, dilation=1, ceil_mode=False)\n",
      "      )\n",
      "      (10): C2PSA(\n",
      "        (cv1): Conv(\n",
      "          (conv): Conv2d(512, 512, kernel_size=(1, 1), stride=(1, 1), bias=False)\n",
      "          (bn): BatchNorm2d(512, eps=0.001, momentum=0.03, affine=True, track_running_stats=True)\n",
      "          (act): SiLU(inplace=True)\n",
      "        )\n",
      "        (cv2): Conv(\n",
      "          (conv): Conv2d(512, 512, kernel_size=(1, 1), stride=(1, 1), bias=False)\n",
      "          (bn): BatchNorm2d(512, eps=0.001, momentum=0.03, affine=True, track_running_stats=True)\n",
      "          (act): SiLU(inplace=True)\n",
      "        )\n",
      "        (m): Sequential(\n",
      "          (0): PSABlock(\n",
      "            (attn): Attention(\n",
      "              (qkv): Conv(\n",
      "                (conv): Conv2d(256, 512, kernel_size=(1, 1), stride=(1, 1), bias=False)\n",
      "                (bn): BatchNorm2d(512, eps=0.001, momentum=0.03, affine=True, track_running_stats=True)\n",
      "                (act): Identity()\n",
      "              )\n",
      "              (proj): Conv(\n",
      "                (conv): Conv2d(256, 256, kernel_size=(1, 1), stride=(1, 1), bias=False)\n",
      "                (bn): BatchNorm2d(256, eps=0.001, momentum=0.03, affine=True, track_running_stats=True)\n",
      "                (act): Identity()\n",
      "              )\n",
      "              (pe): Conv(\n",
      "                (conv): Conv2d(256, 256, kernel_size=(3, 3), stride=(1, 1), padding=(1, 1), groups=256, bias=False)\n",
      "                (bn): BatchNorm2d(256, eps=0.001, momentum=0.03, affine=True, track_running_stats=True)\n",
      "                (act): Identity()\n",
      "              )\n",
      "            )\n",
      "            (ffn): Sequential(\n",
      "              (0): Conv(\n",
      "                (conv): Conv2d(256, 512, kernel_size=(1, 1), stride=(1, 1), bias=False)\n",
      "                (bn): BatchNorm2d(512, eps=0.001, momentum=0.03, affine=True, track_running_stats=True)\n",
      "                (act): SiLU(inplace=True)\n",
      "              )\n",
      "              (1): Conv(\n",
      "                (conv): Conv2d(512, 256, kernel_size=(1, 1), stride=(1, 1), bias=False)\n",
      "                (bn): BatchNorm2d(256, eps=0.001, momentum=0.03, affine=True, track_running_stats=True)\n",
      "                (act): Identity()\n",
      "              )\n",
      "            )\n",
      "          )\n",
      "          (1): PSABlock(\n",
      "            (attn): Attention(\n",
      "              (qkv): Conv(\n",
      "                (conv): Conv2d(256, 512, kernel_size=(1, 1), stride=(1, 1), bias=False)\n",
      "                (bn): BatchNorm2d(512, eps=0.001, momentum=0.03, affine=True, track_running_stats=True)\n",
      "                (act): Identity()\n",
      "              )\n",
      "              (proj): Conv(\n",
      "                (conv): Conv2d(256, 256, kernel_size=(1, 1), stride=(1, 1), bias=False)\n",
      "                (bn): BatchNorm2d(256, eps=0.001, momentum=0.03, affine=True, track_running_stats=True)\n",
      "                (act): Identity()\n",
      "              )\n",
      "              (pe): Conv(\n",
      "                (conv): Conv2d(256, 256, kernel_size=(3, 3), stride=(1, 1), padding=(1, 1), groups=256, bias=False)\n",
      "                (bn): BatchNorm2d(256, eps=0.001, momentum=0.03, affine=True, track_running_stats=True)\n",
      "                (act): Identity()\n",
      "              )\n",
      "            )\n",
      "            (ffn): Sequential(\n",
      "              (0): Conv(\n",
      "                (conv): Conv2d(256, 512, kernel_size=(1, 1), stride=(1, 1), bias=False)\n",
      "                (bn): BatchNorm2d(512, eps=0.001, momentum=0.03, affine=True, track_running_stats=True)\n",
      "                (act): SiLU(inplace=True)\n",
      "              )\n",
      "              (1): Conv(\n",
      "                (conv): Conv2d(512, 256, kernel_size=(1, 1), stride=(1, 1), bias=False)\n",
      "                (bn): BatchNorm2d(256, eps=0.001, momentum=0.03, affine=True, track_running_stats=True)\n",
      "                (act): Identity()\n",
      "              )\n",
      "            )\n",
      "          )\n",
      "        )\n",
      "      )\n",
      "      (11): Upsample(scale_factor=2.0, mode='nearest')\n",
      "      (12): Concat()\n",
      "      (13): C3k2(\n",
      "        (cv1): Conv(\n",
      "          (conv): Conv2d(1024, 512, kernel_size=(1, 1), stride=(1, 1), bias=False)\n",
      "          (bn): BatchNorm2d(512, eps=0.001, momentum=0.03, affine=True, track_running_stats=True)\n",
      "          (act): SiLU(inplace=True)\n",
      "        )\n",
      "        (cv2): Conv(\n",
      "          (conv): Conv2d(1024, 512, kernel_size=(1, 1), stride=(1, 1), bias=False)\n",
      "          (bn): BatchNorm2d(512, eps=0.001, momentum=0.03, affine=True, track_running_stats=True)\n",
      "          (act): SiLU(inplace=True)\n",
      "        )\n",
      "        (m): ModuleList(\n",
      "          (0-1): 2 x C3k(\n",
      "            (cv1): Conv(\n",
      "              (conv): Conv2d(256, 128, kernel_size=(1, 1), stride=(1, 1), bias=False)\n",
      "              (bn): BatchNorm2d(128, eps=0.001, momentum=0.03, affine=True, track_running_stats=True)\n",
      "              (act): SiLU(inplace=True)\n",
      "            )\n",
      "            (cv2): Conv(\n",
      "              (conv): Conv2d(256, 128, kernel_size=(1, 1), stride=(1, 1), bias=False)\n",
      "              (bn): BatchNorm2d(128, eps=0.001, momentum=0.03, affine=True, track_running_stats=True)\n",
      "              (act): SiLU(inplace=True)\n",
      "            )\n",
      "            (cv3): Conv(\n",
      "              (conv): Conv2d(256, 256, kernel_size=(1, 1), stride=(1, 1), bias=False)\n",
      "              (bn): BatchNorm2d(256, eps=0.001, momentum=0.03, affine=True, track_running_stats=True)\n",
      "              (act): SiLU(inplace=True)\n",
      "            )\n",
      "            (m): Sequential(\n",
      "              (0): Bottleneck(\n",
      "                (cv1): Conv(\n",
      "                  (conv): Conv2d(128, 128, kernel_size=(3, 3), stride=(1, 1), padding=(1, 1), bias=False)\n",
      "                  (bn): BatchNorm2d(128, eps=0.001, momentum=0.03, affine=True, track_running_stats=True)\n",
      "                  (act): SiLU(inplace=True)\n",
      "                )\n",
      "                (cv2): Conv(\n",
      "                  (conv): Conv2d(128, 128, kernel_size=(3, 3), stride=(1, 1), padding=(1, 1), bias=False)\n",
      "                  (bn): BatchNorm2d(128, eps=0.001, momentum=0.03, affine=True, track_running_stats=True)\n",
      "                  (act): SiLU(inplace=True)\n",
      "                )\n",
      "              )\n",
      "              (1): Bottleneck(\n",
      "                (cv1): Conv(\n",
      "                  (conv): Conv2d(128, 128, kernel_size=(3, 3), stride=(1, 1), padding=(1, 1), bias=False)\n",
      "                  (bn): BatchNorm2d(128, eps=0.001, momentum=0.03, affine=True, track_running_stats=True)\n",
      "                  (act): SiLU(inplace=True)\n",
      "                )\n",
      "                (cv2): Conv(\n",
      "                  (conv): Conv2d(128, 128, kernel_size=(3, 3), stride=(1, 1), padding=(1, 1), bias=False)\n",
      "                  (bn): BatchNorm2d(128, eps=0.001, momentum=0.03, affine=True, track_running_stats=True)\n",
      "                  (act): SiLU(inplace=True)\n",
      "                )\n",
      "              )\n",
      "            )\n",
      "          )\n",
      "        )\n",
      "      )\n",
      "      (14): Upsample(scale_factor=2.0, mode='nearest')\n",
      "      (15): Concat()\n",
      "      (16): C3k2(\n",
      "        (cv1): Conv(\n",
      "          (conv): Conv2d(1024, 256, kernel_size=(1, 1), stride=(1, 1), bias=False)\n",
      "          (bn): BatchNorm2d(256, eps=0.001, momentum=0.03, affine=True, track_running_stats=True)\n",
      "          (act): SiLU(inplace=True)\n",
      "        )\n",
      "        (cv2): Conv(\n",
      "          (conv): Conv2d(512, 256, kernel_size=(1, 1), stride=(1, 1), bias=False)\n",
      "          (bn): BatchNorm2d(256, eps=0.001, momentum=0.03, affine=True, track_running_stats=True)\n",
      "          (act): SiLU(inplace=True)\n",
      "        )\n",
      "        (m): ModuleList(\n",
      "          (0-1): 2 x C3k(\n",
      "            (cv1): Conv(\n",
      "              (conv): Conv2d(128, 64, kernel_size=(1, 1), stride=(1, 1), bias=False)\n",
      "              (bn): BatchNorm2d(64, eps=0.001, momentum=0.03, affine=True, track_running_stats=True)\n",
      "              (act): SiLU(inplace=True)\n",
      "            )\n",
      "            (cv2): Conv(\n",
      "              (conv): Conv2d(128, 64, kernel_size=(1, 1), stride=(1, 1), bias=False)\n",
      "              (bn): BatchNorm2d(64, eps=0.001, momentum=0.03, affine=True, track_running_stats=True)\n",
      "              (act): SiLU(inplace=True)\n",
      "            )\n",
      "            (cv3): Conv(\n",
      "              (conv): Conv2d(128, 128, kernel_size=(1, 1), stride=(1, 1), bias=False)\n",
      "              (bn): BatchNorm2d(128, eps=0.001, momentum=0.03, affine=True, track_running_stats=True)\n",
      "              (act): SiLU(inplace=True)\n",
      "            )\n",
      "            (m): Sequential(\n",
      "              (0): Bottleneck(\n",
      "                (cv1): Conv(\n",
      "                  (conv): Conv2d(64, 64, kernel_size=(3, 3), stride=(1, 1), padding=(1, 1), bias=False)\n",
      "                  (bn): BatchNorm2d(64, eps=0.001, momentum=0.03, affine=True, track_running_stats=True)\n",
      "                  (act): SiLU(inplace=True)\n",
      "                )\n",
      "                (cv2): Conv(\n",
      "                  (conv): Conv2d(64, 64, kernel_size=(3, 3), stride=(1, 1), padding=(1, 1), bias=False)\n",
      "                  (bn): BatchNorm2d(64, eps=0.001, momentum=0.03, affine=True, track_running_stats=True)\n",
      "                  (act): SiLU(inplace=True)\n",
      "                )\n",
      "              )\n",
      "              (1): Bottleneck(\n",
      "                (cv1): Conv(\n",
      "                  (conv): Conv2d(64, 64, kernel_size=(3, 3), stride=(1, 1), padding=(1, 1), bias=False)\n",
      "                  (bn): BatchNorm2d(64, eps=0.001, momentum=0.03, affine=True, track_running_stats=True)\n",
      "                  (act): SiLU(inplace=True)\n",
      "                )\n",
      "                (cv2): Conv(\n",
      "                  (conv): Conv2d(64, 64, kernel_size=(3, 3), stride=(1, 1), padding=(1, 1), bias=False)\n",
      "                  (bn): BatchNorm2d(64, eps=0.001, momentum=0.03, affine=True, track_running_stats=True)\n",
      "                  (act): SiLU(inplace=True)\n",
      "                )\n",
      "              )\n",
      "            )\n",
      "          )\n",
      "        )\n",
      "      )\n",
      "      (17): Conv(\n",
      "        (conv): Conv2d(256, 256, kernel_size=(3, 3), stride=(2, 2), padding=(1, 1), bias=False)\n",
      "        (bn): BatchNorm2d(256, eps=0.001, momentum=0.03, affine=True, track_running_stats=True)\n",
      "        (act): SiLU(inplace=True)\n",
      "      )\n",
      "      (18): Concat()\n",
      "      (19): C3k2(\n",
      "        (cv1): Conv(\n",
      "          (conv): Conv2d(768, 512, kernel_size=(1, 1), stride=(1, 1), bias=False)\n",
      "          (bn): BatchNorm2d(512, eps=0.001, momentum=0.03, affine=True, track_running_stats=True)\n",
      "          (act): SiLU(inplace=True)\n",
      "        )\n",
      "        (cv2): Conv(\n",
      "          (conv): Conv2d(1024, 512, kernel_size=(1, 1), stride=(1, 1), bias=False)\n",
      "          (bn): BatchNorm2d(512, eps=0.001, momentum=0.03, affine=True, track_running_stats=True)\n",
      "          (act): SiLU(inplace=True)\n",
      "        )\n",
      "        (m): ModuleList(\n",
      "          (0-1): 2 x C3k(\n",
      "            (cv1): Conv(\n",
      "              (conv): Conv2d(256, 128, kernel_size=(1, 1), stride=(1, 1), bias=False)\n",
      "              (bn): BatchNorm2d(128, eps=0.001, momentum=0.03, affine=True, track_running_stats=True)\n",
      "              (act): SiLU(inplace=True)\n",
      "            )\n",
      "            (cv2): Conv(\n",
      "              (conv): Conv2d(256, 128, kernel_size=(1, 1), stride=(1, 1), bias=False)\n",
      "              (bn): BatchNorm2d(128, eps=0.001, momentum=0.03, affine=True, track_running_stats=True)\n",
      "              (act): SiLU(inplace=True)\n",
      "            )\n",
      "            (cv3): Conv(\n",
      "              (conv): Conv2d(256, 256, kernel_size=(1, 1), stride=(1, 1), bias=False)\n",
      "              (bn): BatchNorm2d(256, eps=0.001, momentum=0.03, affine=True, track_running_stats=True)\n",
      "              (act): SiLU(inplace=True)\n",
      "            )\n",
      "            (m): Sequential(\n",
      "              (0): Bottleneck(\n",
      "                (cv1): Conv(\n",
      "                  (conv): Conv2d(128, 128, kernel_size=(3, 3), stride=(1, 1), padding=(1, 1), bias=False)\n",
      "                  (bn): BatchNorm2d(128, eps=0.001, momentum=0.03, affine=True, track_running_stats=True)\n",
      "                  (act): SiLU(inplace=True)\n",
      "                )\n",
      "                (cv2): Conv(\n",
      "                  (conv): Conv2d(128, 128, kernel_size=(3, 3), stride=(1, 1), padding=(1, 1), bias=False)\n",
      "                  (bn): BatchNorm2d(128, eps=0.001, momentum=0.03, affine=True, track_running_stats=True)\n",
      "                  (act): SiLU(inplace=True)\n",
      "                )\n",
      "              )\n",
      "              (1): Bottleneck(\n",
      "                (cv1): Conv(\n",
      "                  (conv): Conv2d(128, 128, kernel_size=(3, 3), stride=(1, 1), padding=(1, 1), bias=False)\n",
      "                  (bn): BatchNorm2d(128, eps=0.001, momentum=0.03, affine=True, track_running_stats=True)\n",
      "                  (act): SiLU(inplace=True)\n",
      "                )\n",
      "                (cv2): Conv(\n",
      "                  (conv): Conv2d(128, 128, kernel_size=(3, 3), stride=(1, 1), padding=(1, 1), bias=False)\n",
      "                  (bn): BatchNorm2d(128, eps=0.001, momentum=0.03, affine=True, track_running_stats=True)\n",
      "                  (act): SiLU(inplace=True)\n",
      "                )\n",
      "              )\n",
      "            )\n",
      "          )\n",
      "        )\n",
      "      )\n",
      "      (20): Conv(\n",
      "        (conv): Conv2d(512, 512, kernel_size=(3, 3), stride=(2, 2), padding=(1, 1), bias=False)\n",
      "        (bn): BatchNorm2d(512, eps=0.001, momentum=0.03, affine=True, track_running_stats=True)\n",
      "        (act): SiLU(inplace=True)\n",
      "      )\n",
      "      (21): Concat()\n",
      "      (22): C3k2(\n",
      "        (cv1): Conv(\n",
      "          (conv): Conv2d(1024, 512, kernel_size=(1, 1), stride=(1, 1), bias=False)\n",
      "          (bn): BatchNorm2d(512, eps=0.001, momentum=0.03, affine=True, track_running_stats=True)\n",
      "          (act): SiLU(inplace=True)\n",
      "        )\n",
      "        (cv2): Conv(\n",
      "          (conv): Conv2d(1024, 512, kernel_size=(1, 1), stride=(1, 1), bias=False)\n",
      "          (bn): BatchNorm2d(512, eps=0.001, momentum=0.03, affine=True, track_running_stats=True)\n",
      "          (act): SiLU(inplace=True)\n",
      "        )\n",
      "        (m): ModuleList(\n",
      "          (0-1): 2 x C3k(\n",
      "            (cv1): Conv(\n",
      "              (conv): Conv2d(256, 128, kernel_size=(1, 1), stride=(1, 1), bias=False)\n",
      "              (bn): BatchNorm2d(128, eps=0.001, momentum=0.03, affine=True, track_running_stats=True)\n",
      "              (act): SiLU(inplace=True)\n",
      "            )\n",
      "            (cv2): Conv(\n",
      "              (conv): Conv2d(256, 128, kernel_size=(1, 1), stride=(1, 1), bias=False)\n",
      "              (bn): BatchNorm2d(128, eps=0.001, momentum=0.03, affine=True, track_running_stats=True)\n",
      "              (act): SiLU(inplace=True)\n",
      "            )\n",
      "            (cv3): Conv(\n",
      "              (conv): Conv2d(256, 256, kernel_size=(1, 1), stride=(1, 1), bias=False)\n",
      "              (bn): BatchNorm2d(256, eps=0.001, momentum=0.03, affine=True, track_running_stats=True)\n",
      "              (act): SiLU(inplace=True)\n",
      "            )\n",
      "            (m): Sequential(\n",
      "              (0): Bottleneck(\n",
      "                (cv1): Conv(\n",
      "                  (conv): Conv2d(128, 128, kernel_size=(3, 3), stride=(1, 1), padding=(1, 1), bias=False)\n",
      "                  (bn): BatchNorm2d(128, eps=0.001, momentum=0.03, affine=True, track_running_stats=True)\n",
      "                  (act): SiLU(inplace=True)\n",
      "                )\n",
      "                (cv2): Conv(\n",
      "                  (conv): Conv2d(128, 128, kernel_size=(3, 3), stride=(1, 1), padding=(1, 1), bias=False)\n",
      "                  (bn): BatchNorm2d(128, eps=0.001, momentum=0.03, affine=True, track_running_stats=True)\n",
      "                  (act): SiLU(inplace=True)\n",
      "                )\n",
      "              )\n",
      "              (1): Bottleneck(\n",
      "                (cv1): Conv(\n",
      "                  (conv): Conv2d(128, 128, kernel_size=(3, 3), stride=(1, 1), padding=(1, 1), bias=False)\n",
      "                  (bn): BatchNorm2d(128, eps=0.001, momentum=0.03, affine=True, track_running_stats=True)\n",
      "                  (act): SiLU(inplace=True)\n",
      "                )\n",
      "                (cv2): Conv(\n",
      "                  (conv): Conv2d(128, 128, kernel_size=(3, 3), stride=(1, 1), padding=(1, 1), bias=False)\n",
      "                  (bn): BatchNorm2d(128, eps=0.001, momentum=0.03, affine=True, track_running_stats=True)\n",
      "                  (act): SiLU(inplace=True)\n",
      "                )\n",
      "              )\n",
      "            )\n",
      "          )\n",
      "        )\n",
      "      )\n",
      "      (23): Detect(\n",
      "        (cv2): ModuleList(\n",
      "          (0): Sequential(\n",
      "            (0): Conv(\n",
      "              (conv): Conv2d(256, 64, kernel_size=(3, 3), stride=(1, 1), padding=(1, 1), bias=False)\n",
      "              (bn): BatchNorm2d(64, eps=0.001, momentum=0.03, affine=True, track_running_stats=True)\n",
      "              (act): SiLU(inplace=True)\n",
      "            )\n",
      "            (1): Conv(\n",
      "              (conv): Conv2d(64, 64, kernel_size=(3, 3), stride=(1, 1), padding=(1, 1), bias=False)\n",
      "              (bn): BatchNorm2d(64, eps=0.001, momentum=0.03, affine=True, track_running_stats=True)\n",
      "              (act): SiLU(inplace=True)\n",
      "            )\n",
      "            (2): Conv2d(64, 64, kernel_size=(1, 1), stride=(1, 1))\n",
      "          )\n",
      "          (1-2): 2 x Sequential(\n",
      "            (0): Conv(\n",
      "              (conv): Conv2d(512, 64, kernel_size=(3, 3), stride=(1, 1), padding=(1, 1), bias=False)\n",
      "              (bn): BatchNorm2d(64, eps=0.001, momentum=0.03, affine=True, track_running_stats=True)\n",
      "              (act): SiLU(inplace=True)\n",
      "            )\n",
      "            (1): Conv(\n",
      "              (conv): Conv2d(64, 64, kernel_size=(3, 3), stride=(1, 1), padding=(1, 1), bias=False)\n",
      "              (bn): BatchNorm2d(64, eps=0.001, momentum=0.03, affine=True, track_running_stats=True)\n",
      "              (act): SiLU(inplace=True)\n",
      "            )\n",
      "            (2): Conv2d(64, 64, kernel_size=(1, 1), stride=(1, 1))\n",
      "          )\n",
      "        )\n",
      "        (cv3): ModuleList(\n",
      "          (0): Sequential(\n",
      "            (0): Sequential(\n",
      "              (0): DWConv(\n",
      "                (conv): Conv2d(256, 256, kernel_size=(3, 3), stride=(1, 1), padding=(1, 1), groups=256, bias=False)\n",
      "                (bn): BatchNorm2d(256, eps=0.001, momentum=0.03, affine=True, track_running_stats=True)\n",
      "                (act): SiLU(inplace=True)\n",
      "              )\n",
      "              (1): Conv(\n",
      "                (conv): Conv2d(256, 256, kernel_size=(1, 1), stride=(1, 1), bias=False)\n",
      "                (bn): BatchNorm2d(256, eps=0.001, momentum=0.03, affine=True, track_running_stats=True)\n",
      "                (act): SiLU(inplace=True)\n",
      "              )\n",
      "            )\n",
      "            (1): Sequential(\n",
      "              (0): DWConv(\n",
      "                (conv): Conv2d(256, 256, kernel_size=(3, 3), stride=(1, 1), padding=(1, 1), groups=256, bias=False)\n",
      "                (bn): BatchNorm2d(256, eps=0.001, momentum=0.03, affine=True, track_running_stats=True)\n",
      "                (act): SiLU(inplace=True)\n",
      "              )\n",
      "              (1): Conv(\n",
      "                (conv): Conv2d(256, 256, kernel_size=(1, 1), stride=(1, 1), bias=False)\n",
      "                (bn): BatchNorm2d(256, eps=0.001, momentum=0.03, affine=True, track_running_stats=True)\n",
      "                (act): SiLU(inplace=True)\n",
      "              )\n",
      "            )\n",
      "            (2): Conv2d(256, 80, kernel_size=(1, 1), stride=(1, 1))\n",
      "          )\n",
      "          (1-2): 2 x Sequential(\n",
      "            (0): Sequential(\n",
      "              (0): DWConv(\n",
      "                (conv): Conv2d(512, 512, kernel_size=(3, 3), stride=(1, 1), padding=(1, 1), groups=512, bias=False)\n",
      "                (bn): BatchNorm2d(512, eps=0.001, momentum=0.03, affine=True, track_running_stats=True)\n",
      "                (act): SiLU(inplace=True)\n",
      "              )\n",
      "              (1): Conv(\n",
      "                (conv): Conv2d(512, 256, kernel_size=(1, 1), stride=(1, 1), bias=False)\n",
      "                (bn): BatchNorm2d(256, eps=0.001, momentum=0.03, affine=True, track_running_stats=True)\n",
      "                (act): SiLU(inplace=True)\n",
      "              )\n",
      "            )\n",
      "            (1): Sequential(\n",
      "              (0): DWConv(\n",
      "                (conv): Conv2d(256, 256, kernel_size=(3, 3), stride=(1, 1), padding=(1, 1), groups=256, bias=False)\n",
      "                (bn): BatchNorm2d(256, eps=0.001, momentum=0.03, affine=True, track_running_stats=True)\n",
      "                (act): SiLU(inplace=True)\n",
      "              )\n",
      "              (1): Conv(\n",
      "                (conv): Conv2d(256, 256, kernel_size=(1, 1), stride=(1, 1), bias=False)\n",
      "                (bn): BatchNorm2d(256, eps=0.001, momentum=0.03, affine=True, track_running_stats=True)\n",
      "                (act): SiLU(inplace=True)\n",
      "              )\n",
      "            )\n",
      "            (2): Conv2d(256, 80, kernel_size=(1, 1), stride=(1, 1))\n",
      "          )\n",
      "        )\n",
      "        (dfl): DFL(\n",
      "          (conv): Conv2d(16, 1, kernel_size=(1, 1), stride=(1, 1), bias=False)\n",
      "        )\n",
      "      )\n",
      "    )\n",
      "  )\n",
      ")>\n"
     ]
    }
   ],
   "source": [
    "from ultralytics import YOLO\n",
    "\n",
    "# 加载模型\n",
    "model = YOLO('weights/yolo11l.pt')  # 或 yolo11.yaml\n",
    "\n",
    "# 打印网络结构摘要\n",
    "print(type(model.info()))\n",
    "print(model.info(detailed=True)) # 或 model.summary()\n",
    "print(\"网络结构详细：\")\n",
    "print(model.info)"
   ]
  },
  {
   "cell_type": "markdown",
   "id": "144481f2-39e5-48d3-a79a-d65196a7126c",
   "metadata": {
    "jp-MarkdownHeadingCollapsed": true
   },
   "source": [
    "## 模型训练"
   ]
  },
  {
   "cell_type": "code",
   "execution_count": 8,
   "id": "cfa51966-1f60-4a60-94a7-03d758ccdad4",
   "metadata": {},
   "outputs": [
    {
     "name": "stdout",
     "output_type": "stream",
     "text": [
      "Ultralytics 8.3.133 🚀 Python-3.8.20 torch-2.3.1 CUDA:0 (NVIDIA GeForce RTX 3080, 10009MiB)\n",
      "                                                 CUDA:1 (NVIDIA GeForce RTX 3080, 10009MiB)\n",
      "                                                 CUDA:2 (NVIDIA GeForce RTX 3080, 10009MiB)\n",
      "                                                 CUDA:3 (NVIDIA GeForce RTX 3080, 10009MiB)\n",
      "\u001b[34m\u001b[1mengine/trainer: \u001b[0magnostic_nms=False, amp=True, augment=False, auto_augment=randaugment, batch=192, bgr=0.0, box=7.5, cache=ram, cfg=None, classes=None, close_mosaic=10, cls=0.5, conf=None, copy_paste=0.0, copy_paste_mode=flip, cos_lr=False, cutmix=0.0, data=my_datasets.yaml, degrees=0.0, deterministic=True, device=0,1,2,3, dfl=1.5, dnn=False, dropout=0.0, dynamic=False, embed=None, epochs=100, erasing=0.4, exist_ok=False, fliplr=0.5, flipud=0.0, format=torchscript, fraction=1.0, freeze=None, half=False, hsv_h=0.015, hsv_s=0.7, hsv_v=0.4, imgsz=640, int8=False, iou=0.7, keras=False, kobj=1.0, line_width=None, lr0=0.01, lrf=0.01, mask_ratio=4, max_det=300, mixup=0.0, mode=train, model=weights/yolo11n.pt, momentum=0.937, mosaic=1.0, multi_scale=False, name=train, nbs=64, nms=False, opset=None, optimize=False, optimizer=auto, overlap_mask=True, patience=100, perspective=0.0, plots=True, pose=12.0, pretrained=True, profile=False, project=None, rect=False, resume=False, retina_masks=False, save=True, save_conf=False, save_crop=False, save_dir=/home/chenjun/Project_Files/ultralytics/runs/detect/train, save_frames=False, save_json=False, save_period=-1, save_txt=False, scale=0.5, seed=0, shear=0.0, show=False, show_boxes=True, show_conf=True, show_labels=True, simplify=True, single_cls=False, source=None, split=val, stream_buffer=False, task=detect, time=None, tracker=botsort.yaml, translate=0.1, val=True, verbose=True, vid_stride=1, visualize=False, warmup_bias_lr=0.1, warmup_epochs=3.0, warmup_momentum=0.8, weight_decay=0.0005, workers=32, workspace=None\n",
      "Overriding model.yaml nc=80 with nc=8\n",
      "\n",
      "                   from  n    params  module                                       arguments                     \n",
      "  0                  -1  1       464  ultralytics.nn.modules.conv.Conv             [3, 16, 3, 2]                 \n",
      "  1                  -1  1      4672  ultralytics.nn.modules.conv.Conv             [16, 32, 3, 2]                \n",
      "  2                  -1  1      6640  ultralytics.nn.modules.block.C3k2            [32, 64, 1, False, 0.25]      \n",
      "  3                  -1  1     36992  ultralytics.nn.modules.conv.Conv             [64, 64, 3, 2]                \n",
      "  4                  -1  1     26080  ultralytics.nn.modules.block.C3k2            [64, 128, 1, False, 0.25]     \n",
      "  5                  -1  1    147712  ultralytics.nn.modules.conv.Conv             [128, 128, 3, 2]              \n",
      "  6                  -1  1     87040  ultralytics.nn.modules.block.C3k2            [128, 128, 1, True]           \n",
      "  7                  -1  1    295424  ultralytics.nn.modules.conv.Conv             [128, 256, 3, 2]              \n",
      "  8                  -1  1    346112  ultralytics.nn.modules.block.C3k2            [256, 256, 1, True]           \n",
      "  9                  -1  1    164608  ultralytics.nn.modules.block.SPPF            [256, 256, 5]                 \n",
      " 10                  -1  1    249728  ultralytics.nn.modules.block.C2PSA           [256, 256, 1]                 \n",
      " 11                  -1  1         0  torch.nn.modules.upsampling.Upsample         [None, 2, 'nearest']          \n",
      " 12             [-1, 6]  1         0  ultralytics.nn.modules.conv.Concat           [1]                           \n",
      " 13                  -1  1    111296  ultralytics.nn.modules.block.C3k2            [384, 128, 1, False]          \n",
      " 14                  -1  1         0  torch.nn.modules.upsampling.Upsample         [None, 2, 'nearest']          \n",
      " 15             [-1, 4]  1         0  ultralytics.nn.modules.conv.Concat           [1]                           \n",
      " 16                  -1  1     32096  ultralytics.nn.modules.block.C3k2            [256, 64, 1, False]           \n",
      " 17                  -1  1     36992  ultralytics.nn.modules.conv.Conv             [64, 64, 3, 2]                \n",
      " 18            [-1, 13]  1         0  ultralytics.nn.modules.conv.Concat           [1]                           \n",
      " 19                  -1  1     86720  ultralytics.nn.modules.block.C3k2            [192, 128, 1, False]          \n",
      " 20                  -1  1    147712  ultralytics.nn.modules.conv.Conv             [128, 128, 3, 2]              \n",
      " 21            [-1, 10]  1         0  ultralytics.nn.modules.conv.Concat           [1]                           \n",
      " 22                  -1  1    378880  ultralytics.nn.modules.block.C3k2            [384, 256, 1, True]           \n",
      " 23        [16, 19, 22]  1    432232  ultralytics.nn.modules.head.Detect           [8, [64, 128, 256]]           \n",
      "YOLO11n summary: 181 layers, 2,591,400 parameters, 2,591,384 gradients, 6.4 GFLOPs\n",
      "\n",
      "Transferred 448/499 items from pretrained weights\n",
      "\u001b[34m\u001b[1mDDP:\u001b[0m debug command /home/chenjun/.conda/envs/yolo/bin/python -m torch.distributed.run --nproc_per_node 4 --master_port 42553 /home/chenjun/.config/Ultralytics/DDP/_temp_4l_1m3zl140563303479712.py\n",
      "Ultralytics 8.3.133 🚀 Python-3.8.20 torch-2.3.1 CUDA:0 (NVIDIA GeForce RTX 3080, 10009MiB)\n",
      "                                                 CUDA:1 (NVIDIA GeForce RTX 3080, 10009MiB)\n",
      "                                                 CUDA:2 (NVIDIA GeForce RTX 3080, 10009MiB)\n",
      "                                                 CUDA:3 (NVIDIA GeForce RTX 3080, 10009MiB)\n",
      "Overriding model.yaml nc=80 with nc=8\n",
      "Transferred 448/499 items from pretrained weights\n",
      "Freezing layer 'model.23.dfl.conv.weight'\n",
      "\u001b[34m\u001b[1mAMP: \u001b[0mrunning Automatic Mixed Precision (AMP) checks...\n",
      "\u001b[34m\u001b[1mAMP: \u001b[0mchecks passed ✅\n",
      "\u001b[34m\u001b[1mtrain: \u001b[0mFast image access ✅ (ping: 0.0±0.0 ms, read: 2273.4±785.0 MB/s, size: 125.9 KB)\n",
      "WARNING ⚠️ cache='ram' may produce non-deterministic training results. Consider cache='disk' as a deterministic alternative if your disk space allows.\n"
     ]
    },
    {
     "name": "stderr",
     "output_type": "stream",
     "text": [
      "\u001b[34m\u001b[1mtrain: \u001b[0mScanning /home/chenjun/Project_Files/Datasets/YOLO_dataset/steel-pipe-weld-defect_raw/labels/train2021.cache... 2626 images, 6 backgrounds, 0 corrupt: 100%|██████████| 2626/2626 [00:00<?, ?it/s]\n",
      "\u001b[34m\u001b[1mtrain: \u001b[0mCaching images (2.1GB RAM): 100%|██████████| 2626/2626 [00:02<00:00, 1273.88it/s]\n"
     ]
    },
    {
     "name": "stdout",
     "output_type": "stream",
     "text": [
      "\u001b[34m\u001b[1mval: \u001b[0mFast image access ✅ (ping: 0.0±0.0 ms, read: 700.5±449.7 MB/s, size: 132.7 KB)\n"
     ]
    },
    {
     "name": "stderr",
     "output_type": "stream",
     "text": [
      "\u001b[34m\u001b[1mval: \u001b[0mScanning /home/chenjun/Project_Files/Datasets/YOLO_dataset/steel-pipe-weld-defect_raw/labels/val2021.cache... 682 images, 2 backgrounds, 0 corrupt: 100%|██████████| 682/682 [00:00<?, ?it/s]\n"
     ]
    },
    {
     "name": "stdout",
     "output_type": "stream",
     "text": [
      "WARNING ⚠️ cache='ram' may produce non-deterministic training results. Consider cache='disk' as a deterministic alternative if your disk space allows.\n"
     ]
    },
    {
     "name": "stderr",
     "output_type": "stream",
     "text": [
      "\u001b[34m\u001b[1mval: \u001b[0mCaching images (0.5GB RAM): 100%|██████████| 682/682 [00:01<00:00, 378.67it/s]\n"
     ]
    },
    {
     "name": "stdout",
     "output_type": "stream",
     "text": [
      "Plotting labels to /home/chenjun/Project_Files/ultralytics/runs/detect/train/labels.jpg... \n",
      "\u001b[34m\u001b[1moptimizer:\u001b[0m 'optimizer=auto' found, ignoring 'lr0=0.01' and 'momentum=0.937' and determining best 'optimizer', 'lr0' and 'momentum' automatically... \n",
      "\u001b[34m\u001b[1moptimizer:\u001b[0m AdamW(lr=0.000833, momentum=0.9) with parameter groups 81 weight(decay=0.0), 88 weight(decay=0.0015), 87 bias(decay=0.0)\n",
      "Image sizes 640 train, 640 val\n",
      "Using 40 dataloader workers\n",
      "Logging results to \u001b[1m/home/chenjun/Project_Files/ultralytics/runs/detect/train\u001b[0m\n",
      "Starting training for 100 epochs...\n",
      "\n",
      "      Epoch    GPU_mem   box_loss   cls_loss   dfl_loss  Instances       Size\n"
     ]
    },
    {
     "name": "stderr",
     "output_type": "stream",
     "text": [
      "      1/100      7.34G      2.222      6.775      1.828         87        640: 100%|██████████| 14/14 [00:06<00:00,  2.22it/s]\n",
      "                 Class     Images  Instances      Box(P          R      mAP50  mAP50-95): 100%|██████████| 8/8 [00:03<00:00,  2.19it/s]\n"
     ]
    },
    {
     "name": "stdout",
     "output_type": "stream",
     "text": [
      "                   all        682       1381   0.000327     0.0883    0.00163   0.000527\n",
      "\n",
      "      Epoch    GPU_mem   box_loss   cls_loss   dfl_loss  Instances       Size\n"
     ]
    },
    {
     "name": "stderr",
     "output_type": "stream",
     "text": [
      "      2/100       7.4G      2.018      5.774      1.335        101        640: 100%|██████████| 14/14 [00:04<00:00,  3.48it/s]\n",
      "                 Class     Images  Instances      Box(P          R      mAP50  mAP50-95): 100%|██████████| 8/8 [00:04<00:00,  1.93it/s]\n"
     ]
    },
    {
     "name": "stdout",
     "output_type": "stream",
     "text": [
      "                   all        682       1381    0.00374       0.32      0.087     0.0346\n",
      "\n",
      "      Epoch    GPU_mem   box_loss   cls_loss   dfl_loss  Instances       Size\n"
     ]
    },
    {
     "name": "stderr",
     "output_type": "stream",
     "text": [
      "      3/100      7.47G      1.816      3.788      1.159        126        640: 100%|██████████| 14/14 [00:04<00:00,  3.27it/s]\n",
      "                 Class     Images  Instances      Box(P          R      mAP50  mAP50-95): 100%|██████████| 8/8 [00:03<00:00,  2.01it/s]\n"
     ]
    },
    {
     "name": "stdout",
     "output_type": "stream",
     "text": [
      "                   all        682       1381    0.00216      0.407      0.143     0.0813\n",
      "\n",
      "      Epoch    GPU_mem   box_loss   cls_loss   dfl_loss  Instances       Size\n"
     ]
    },
    {
     "name": "stderr",
     "output_type": "stream",
     "text": [
      "      4/100      7.47G      1.638      3.016      1.118        102        640: 100%|██████████| 14/14 [00:04<00:00,  3.32it/s]\n",
      "                 Class     Images  Instances      Box(P          R      mAP50  mAP50-95): 100%|██████████| 8/8 [00:03<00:00,  2.11it/s]\n"
     ]
    },
    {
     "name": "stdout",
     "output_type": "stream",
     "text": [
      "                   all        682       1381    0.00108       0.44      0.185      0.105\n",
      "\n",
      "      Epoch    GPU_mem   box_loss   cls_loss   dfl_loss  Instances       Size\n"
     ]
    },
    {
     "name": "stderr",
     "output_type": "stream",
     "text": [
      "      5/100      7.41G      1.585      2.596      1.097        103        640: 100%|██████████| 14/14 [00:04<00:00,  3.30it/s]\n",
      "                 Class     Images  Instances      Box(P          R      mAP50  mAP50-95): 100%|██████████| 8/8 [00:02<00:00,  3.11it/s]\n"
     ]
    },
    {
     "name": "stdout",
     "output_type": "stream",
     "text": [
      "                   all        682       1381      0.926     0.0456      0.271      0.167\n",
      "\n",
      "      Epoch    GPU_mem   box_loss   cls_loss   dfl_loss  Instances       Size\n"
     ]
    },
    {
     "name": "stderr",
     "output_type": "stream",
     "text": [
      "      6/100      7.47G      1.503      2.302      1.056        116        640: 100%|██████████| 14/14 [00:03<00:00,  3.93it/s]\n",
      "                 Class     Images  Instances      Box(P          R      mAP50  mAP50-95): 100%|██████████| 8/8 [00:02<00:00,  3.14it/s]\n"
     ]
    },
    {
     "name": "stdout",
     "output_type": "stream",
     "text": [
      "                   all        682       1381      0.927     0.0798      0.312      0.162\n",
      "\n",
      "      Epoch    GPU_mem   box_loss   cls_loss   dfl_loss  Instances       Size\n"
     ]
    },
    {
     "name": "stderr",
     "output_type": "stream",
     "text": [
      "      7/100      7.42G      1.505       2.09      1.056        103        640: 100%|██████████| 14/14 [00:03<00:00,  3.87it/s]\n",
      "                 Class     Images  Instances      Box(P          R      mAP50  mAP50-95): 100%|██████████| 8/8 [00:02<00:00,  3.26it/s]\n"
     ]
    },
    {
     "name": "stdout",
     "output_type": "stream",
     "text": [
      "                   all        682       1381      0.925      0.123      0.623      0.378\n",
      "\n",
      "      Epoch    GPU_mem   box_loss   cls_loss   dfl_loss  Instances       Size\n"
     ]
    },
    {
     "name": "stderr",
     "output_type": "stream",
     "text": [
      "      8/100      7.41G      1.478      1.935      1.065         96        640: 100%|██████████| 14/14 [00:03<00:00,  3.63it/s]\n",
      "                 Class     Images  Instances      Box(P          R      mAP50  mAP50-95): 100%|██████████| 8/8 [00:03<00:00,  2.27it/s]\n"
     ]
    },
    {
     "name": "stdout",
     "output_type": "stream",
     "text": [
      "                   all        682       1381      0.891      0.273      0.868      0.522\n",
      "\n",
      "      Epoch    GPU_mem   box_loss   cls_loss   dfl_loss  Instances       Size\n"
     ]
    },
    {
     "name": "stderr",
     "output_type": "stream",
     "text": [
      "      9/100      7.44G      1.383        1.7      1.024         96        640: 100%|██████████| 14/14 [00:04<00:00,  3.47it/s]\n",
      "                 Class     Images  Instances      Box(P          R      mAP50  mAP50-95): 100%|██████████| 8/8 [00:03<00:00,  2.35it/s]\n"
     ]
    },
    {
     "name": "stdout",
     "output_type": "stream",
     "text": [
      "                   all        682       1381      0.855      0.333      0.764      0.487\n",
      "\n",
      "      Epoch    GPU_mem   box_loss   cls_loss   dfl_loss  Instances       Size\n"
     ]
    },
    {
     "name": "stderr",
     "output_type": "stream",
     "text": [
      "     10/100      7.42G      1.403      1.604      1.017        115        640: 100%|██████████| 14/14 [00:03<00:00,  3.52it/s]\n",
      "                 Class     Images  Instances      Box(P          R      mAP50  mAP50-95): 100%|██████████| 8/8 [00:03<00:00,  2.54it/s]\n"
     ]
    },
    {
     "name": "stdout",
     "output_type": "stream",
     "text": [
      "                   all        682       1381      0.819      0.621      0.816      0.524\n",
      "\n",
      "      Epoch    GPU_mem   box_loss   cls_loss   dfl_loss  Instances       Size\n"
     ]
    },
    {
     "name": "stderr",
     "output_type": "stream",
     "text": [
      "     11/100      7.44G       1.43      1.503      1.031        102        640: 100%|██████████| 14/14 [00:04<00:00,  3.41it/s]\n",
      "                 Class     Images  Instances      Box(P          R      mAP50  mAP50-95): 100%|██████████| 8/8 [00:03<00:00,  2.26it/s]\n"
     ]
    },
    {
     "name": "stdout",
     "output_type": "stream",
     "text": [
      "                   all        682       1381      0.902      0.875      0.931      0.578\n",
      "\n",
      "      Epoch    GPU_mem   box_loss   cls_loss   dfl_loss  Instances       Size\n"
     ]
    },
    {
     "name": "stderr",
     "output_type": "stream",
     "text": [
      "     12/100      7.41G      1.377      1.423      1.035        105        640: 100%|██████████| 14/14 [00:03<00:00,  3.91it/s]\n",
      "                 Class     Images  Instances      Box(P          R      mAP50  mAP50-95): 100%|██████████| 8/8 [00:03<00:00,  2.58it/s]\n"
     ]
    },
    {
     "name": "stdout",
     "output_type": "stream",
     "text": [
      "                   all        682       1381       0.85      0.828      0.926       0.59\n",
      "\n",
      "      Epoch    GPU_mem   box_loss   cls_loss   dfl_loss  Instances       Size\n"
     ]
    },
    {
     "name": "stderr",
     "output_type": "stream",
     "text": [
      "     13/100      7.41G      1.366      1.271       1.02        104        640: 100%|██████████| 14/14 [00:03<00:00,  3.53it/s]\n",
      "                 Class     Images  Instances      Box(P          R      mAP50  mAP50-95): 100%|██████████| 8/8 [00:03<00:00,  2.40it/s]\n"
     ]
    },
    {
     "name": "stdout",
     "output_type": "stream",
     "text": [
      "                   all        682       1381      0.903      0.893      0.941      0.589\n",
      "\n",
      "      Epoch    GPU_mem   box_loss   cls_loss   dfl_loss  Instances       Size\n"
     ]
    },
    {
     "name": "stderr",
     "output_type": "stream",
     "text": [
      "     14/100      7.42G      1.352      1.231      1.001         93        640: 100%|██████████| 14/14 [00:03<00:00,  4.01it/s]\n",
      "                 Class     Images  Instances      Box(P          R      mAP50  mAP50-95): 100%|██████████| 8/8 [00:02<00:00,  3.65it/s]\n"
     ]
    },
    {
     "name": "stdout",
     "output_type": "stream",
     "text": [
      "                   all        682       1381      0.896      0.936      0.967      0.631\n",
      "\n",
      "      Epoch    GPU_mem   box_loss   cls_loss   dfl_loss  Instances       Size\n"
     ]
    },
    {
     "name": "stderr",
     "output_type": "stream",
     "text": [
      "     15/100      7.44G      1.343      1.152       1.01        114        640: 100%|██████████| 14/14 [00:03<00:00,  3.93it/s]\n",
      "                 Class     Images  Instances      Box(P          R      mAP50  mAP50-95): 100%|██████████| 8/8 [00:02<00:00,  3.62it/s]\n"
     ]
    },
    {
     "name": "stdout",
     "output_type": "stream",
     "text": [
      "                   all        682       1381      0.892      0.859      0.942      0.616\n",
      "\n",
      "      Epoch    GPU_mem   box_loss   cls_loss   dfl_loss  Instances       Size\n"
     ]
    },
    {
     "name": "stderr",
     "output_type": "stream",
     "text": [
      "     16/100      7.47G      1.324      1.144       1.03        141        640: 100%|██████████| 14/14 [00:03<00:00,  3.95it/s]\n",
      "                 Class     Images  Instances      Box(P          R      mAP50  mAP50-95): 100%|██████████| 8/8 [00:02<00:00,  3.68it/s]\n"
     ]
    },
    {
     "name": "stdout",
     "output_type": "stream",
     "text": [
      "                   all        682       1381      0.845      0.847      0.935       0.61\n",
      "\n",
      "      Epoch    GPU_mem   box_loss   cls_loss   dfl_loss  Instances       Size\n"
     ]
    },
    {
     "name": "stderr",
     "output_type": "stream",
     "text": [
      "     17/100       7.4G       1.29      1.064     0.9855         91        640: 100%|██████████| 14/14 [00:03<00:00,  3.74it/s]\n",
      "                 Class     Images  Instances      Box(P          R      mAP50  mAP50-95): 100%|██████████| 8/8 [00:03<00:00,  2.58it/s]\n"
     ]
    },
    {
     "name": "stdout",
     "output_type": "stream",
     "text": [
      "                   all        682       1381      0.875       0.88      0.959      0.622\n",
      "\n",
      "      Epoch    GPU_mem   box_loss   cls_loss   dfl_loss  Instances       Size\n"
     ]
    },
    {
     "name": "stderr",
     "output_type": "stream",
     "text": [
      "     18/100      7.53G      1.261      1.007     0.9844         82        640: 100%|██████████| 14/14 [00:03<00:00,  3.50it/s]\n",
      "                 Class     Images  Instances      Box(P          R      mAP50  mAP50-95): 100%|██████████| 8/8 [00:02<00:00,  2.76it/s]\n"
     ]
    },
    {
     "name": "stdout",
     "output_type": "stream",
     "text": [
      "                   all        682       1381      0.927      0.921      0.972      0.624\n",
      "\n",
      "      Epoch    GPU_mem   box_loss   cls_loss   dfl_loss  Instances       Size\n"
     ]
    },
    {
     "name": "stderr",
     "output_type": "stream",
     "text": [
      "     19/100      7.44G      1.272     0.9894     0.9878        114        640: 100%|██████████| 14/14 [00:04<00:00,  3.42it/s]\n",
      "                 Class     Images  Instances      Box(P          R      mAP50  mAP50-95): 100%|██████████| 8/8 [00:03<00:00,  2.56it/s]\n"
     ]
    },
    {
     "name": "stdout",
     "output_type": "stream",
     "text": [
      "                   all        682       1381      0.941      0.819       0.93      0.603\n",
      "\n",
      "      Epoch    GPU_mem   box_loss   cls_loss   dfl_loss  Instances       Size\n"
     ]
    },
    {
     "name": "stderr",
     "output_type": "stream",
     "text": [
      "     20/100      7.47G      1.289     0.9878      0.993         92        640: 100%|██████████| 14/14 [00:03<00:00,  3.52it/s]\n",
      "                 Class     Images  Instances      Box(P          R      mAP50  mAP50-95): 100%|██████████| 8/8 [00:02<00:00,  3.63it/s]\n"
     ]
    },
    {
     "name": "stdout",
     "output_type": "stream",
     "text": [
      "                   all        682       1381      0.767      0.846       0.91      0.575\n",
      "\n",
      "      Epoch    GPU_mem   box_loss   cls_loss   dfl_loss  Instances       Size\n"
     ]
    },
    {
     "name": "stderr",
     "output_type": "stream",
     "text": [
      "     21/100      7.42G      1.298     0.9789       1.01         86        640: 100%|██████████| 14/14 [00:03<00:00,  3.97it/s]\n",
      "                 Class     Images  Instances      Box(P          R      mAP50  mAP50-95): 100%|██████████| 8/8 [00:02<00:00,  3.70it/s]\n"
     ]
    },
    {
     "name": "stdout",
     "output_type": "stream",
     "text": [
      "                   all        682       1381      0.925      0.951      0.966      0.652\n",
      "\n",
      "      Epoch    GPU_mem   box_loss   cls_loss   dfl_loss  Instances       Size\n"
     ]
    },
    {
     "name": "stderr",
     "output_type": "stream",
     "text": [
      "     22/100      7.41G      1.243     0.9233     0.9737        133        640: 100%|██████████| 14/14 [00:03<00:00,  3.96it/s]\n",
      "                 Class     Images  Instances      Box(P          R      mAP50  mAP50-95): 100%|██████████| 8/8 [00:02<00:00,  3.72it/s]\n"
     ]
    },
    {
     "name": "stdout",
     "output_type": "stream",
     "text": [
      "                   all        682       1381      0.918      0.932      0.959      0.653\n",
      "\n",
      "      Epoch    GPU_mem   box_loss   cls_loss   dfl_loss  Instances       Size\n"
     ]
    },
    {
     "name": "stderr",
     "output_type": "stream",
     "text": [
      "     23/100       7.4G      1.283     0.9459     0.9847        118        640: 100%|██████████| 14/14 [00:03<00:00,  4.01it/s]\n",
      "                 Class     Images  Instances      Box(P          R      mAP50  mAP50-95): 100%|██████████| 8/8 [00:02<00:00,  2.93it/s]\n"
     ]
    },
    {
     "name": "stdout",
     "output_type": "stream",
     "text": [
      "                   all        682       1381      0.917      0.937      0.971      0.654\n",
      "\n",
      "      Epoch    GPU_mem   box_loss   cls_loss   dfl_loss  Instances       Size\n"
     ]
    },
    {
     "name": "stderr",
     "output_type": "stream",
     "text": [
      "     24/100      7.47G      1.229     0.8934     0.9866         95        640: 100%|██████████| 14/14 [00:04<00:00,  3.33it/s]\n",
      "                 Class     Images  Instances      Box(P          R      mAP50  mAP50-95): 100%|██████████| 8/8 [00:03<00:00,  2.58it/s]\n"
     ]
    },
    {
     "name": "stdout",
     "output_type": "stream",
     "text": [
      "                   all        682       1381      0.944      0.917      0.967       0.64\n",
      "\n",
      "      Epoch    GPU_mem   box_loss   cls_loss   dfl_loss  Instances       Size\n"
     ]
    },
    {
     "name": "stderr",
     "output_type": "stream",
     "text": [
      "     25/100      7.47G      1.229     0.8899     0.9845        104        640: 100%|██████████| 14/14 [00:03<00:00,  3.65it/s]\n",
      "                 Class     Images  Instances      Box(P          R      mAP50  mAP50-95): 100%|██████████| 8/8 [00:02<00:00,  3.63it/s]\n"
     ]
    },
    {
     "name": "stdout",
     "output_type": "stream",
     "text": [
      "                   all        682       1381      0.899      0.901      0.939      0.615\n",
      "\n",
      "      Epoch    GPU_mem   box_loss   cls_loss   dfl_loss  Instances       Size\n"
     ]
    },
    {
     "name": "stderr",
     "output_type": "stream",
     "text": [
      "     26/100      7.41G       1.17     0.7993     0.9444        103        640: 100%|██████████| 14/14 [00:03<00:00,  4.00it/s]\n",
      "                 Class     Images  Instances      Box(P          R      mAP50  mAP50-95): 100%|██████████| 8/8 [00:02<00:00,  3.00it/s]\n"
     ]
    },
    {
     "name": "stdout",
     "output_type": "stream",
     "text": [
      "                   all        682       1381      0.948      0.922      0.968      0.666\n",
      "\n",
      "      Epoch    GPU_mem   box_loss   cls_loss   dfl_loss  Instances       Size\n"
     ]
    },
    {
     "name": "stderr",
     "output_type": "stream",
     "text": [
      "     27/100       7.4G      1.188     0.8126     0.9554         99        640: 100%|██████████| 14/14 [00:03<00:00,  3.50it/s]\n",
      "                 Class     Images  Instances      Box(P          R      mAP50  mAP50-95): 100%|██████████| 8/8 [00:03<00:00,  2.55it/s]\n"
     ]
    },
    {
     "name": "stdout",
     "output_type": "stream",
     "text": [
      "                   all        682       1381      0.928      0.952      0.976      0.674\n",
      "\n",
      "      Epoch    GPU_mem   box_loss   cls_loss   dfl_loss  Instances       Size\n"
     ]
    },
    {
     "name": "stderr",
     "output_type": "stream",
     "text": [
      "     28/100      7.44G      1.274     0.8725     0.9746        116        640: 100%|██████████| 14/14 [00:04<00:00,  3.48it/s]\n",
      "                 Class     Images  Instances      Box(P          R      mAP50  mAP50-95): 100%|██████████| 8/8 [00:02<00:00,  3.71it/s]\n"
     ]
    },
    {
     "name": "stdout",
     "output_type": "stream",
     "text": [
      "                   all        682       1381      0.938      0.934      0.969       0.66\n",
      "\n",
      "      Epoch    GPU_mem   box_loss   cls_loss   dfl_loss  Instances       Size\n"
     ]
    },
    {
     "name": "stderr",
     "output_type": "stream",
     "text": [
      "     29/100       7.4G      1.206     0.8286     0.9601        129        640: 100%|██████████| 14/14 [00:03<00:00,  4.02it/s]\n",
      "                 Class     Images  Instances      Box(P          R      mAP50  mAP50-95): 100%|██████████| 8/8 [00:02<00:00,  3.70it/s]\n"
     ]
    },
    {
     "name": "stdout",
     "output_type": "stream",
     "text": [
      "                   all        682       1381      0.936      0.957      0.979      0.681\n",
      "\n",
      "      Epoch    GPU_mem   box_loss   cls_loss   dfl_loss  Instances       Size\n"
     ]
    },
    {
     "name": "stderr",
     "output_type": "stream",
     "text": [
      "     30/100      7.44G      1.164     0.8021     0.9604         81        640: 100%|██████████| 14/14 [00:03<00:00,  3.96it/s]\n",
      "                 Class     Images  Instances      Box(P          R      mAP50  mAP50-95): 100%|██████████| 8/8 [00:02<00:00,  3.71it/s]\n"
     ]
    },
    {
     "name": "stdout",
     "output_type": "stream",
     "text": [
      "                   all        682       1381      0.936      0.953       0.98       0.68\n",
      "\n",
      "      Epoch    GPU_mem   box_loss   cls_loss   dfl_loss  Instances       Size\n"
     ]
    },
    {
     "name": "stderr",
     "output_type": "stream",
     "text": [
      "     31/100      7.47G      1.191     0.8222     0.9735        110        640: 100%|██████████| 14/14 [00:03<00:00,  4.00it/s]\n",
      "                 Class     Images  Instances      Box(P          R      mAP50  mAP50-95): 100%|██████████| 8/8 [00:02<00:00,  3.72it/s]\n"
     ]
    },
    {
     "name": "stdout",
     "output_type": "stream",
     "text": [
      "                   all        682       1381      0.931      0.952      0.978       0.66\n",
      "\n",
      "      Epoch    GPU_mem   box_loss   cls_loss   dfl_loss  Instances       Size\n"
     ]
    },
    {
     "name": "stderr",
     "output_type": "stream",
     "text": [
      "     32/100      7.44G      1.182      0.789     0.9824         78        640: 100%|██████████| 14/14 [00:03<00:00,  3.96it/s]\n",
      "                 Class     Images  Instances      Box(P          R      mAP50  mAP50-95): 100%|██████████| 8/8 [00:02<00:00,  3.69it/s]\n"
     ]
    },
    {
     "name": "stdout",
     "output_type": "stream",
     "text": [
      "                   all        682       1381      0.943       0.94      0.975       0.67\n",
      "\n",
      "      Epoch    GPU_mem   box_loss   cls_loss   dfl_loss  Instances       Size\n"
     ]
    },
    {
     "name": "stderr",
     "output_type": "stream",
     "text": [
      "     33/100      7.44G      1.189     0.7568     0.9525        114        640: 100%|██████████| 14/14 [00:03<00:00,  4.01it/s]\n",
      "                 Class     Images  Instances      Box(P          R      mAP50  mAP50-95): 100%|██████████| 8/8 [00:02<00:00,  3.75it/s]\n"
     ]
    },
    {
     "name": "stdout",
     "output_type": "stream",
     "text": [
      "                   all        682       1381      0.941      0.958      0.974      0.669\n",
      "\n",
      "      Epoch    GPU_mem   box_loss   cls_loss   dfl_loss  Instances       Size\n"
     ]
    },
    {
     "name": "stderr",
     "output_type": "stream",
     "text": [
      "     34/100      7.47G      1.184     0.7587     0.9495        127        640: 100%|██████████| 14/14 [00:03<00:00,  3.98it/s]\n",
      "                 Class     Images  Instances      Box(P          R      mAP50  mAP50-95): 100%|██████████| 8/8 [00:02<00:00,  3.15it/s]\n"
     ]
    },
    {
     "name": "stdout",
     "output_type": "stream",
     "text": [
      "                   all        682       1381      0.943      0.961      0.982       0.68\n",
      "\n",
      "      Epoch    GPU_mem   box_loss   cls_loss   dfl_loss  Instances       Size\n"
     ]
    },
    {
     "name": "stderr",
     "output_type": "stream",
     "text": [
      "     35/100       7.4G      1.182     0.7671     0.9536        143        640: 100%|██████████| 14/14 [00:03<00:00,  3.52it/s]\n",
      "                 Class     Images  Instances      Box(P          R      mAP50  mAP50-95): 100%|██████████| 8/8 [00:03<00:00,  2.51it/s]\n"
     ]
    },
    {
     "name": "stdout",
     "output_type": "stream",
     "text": [
      "                   all        682       1381      0.941      0.954      0.973      0.678\n",
      "\n",
      "      Epoch    GPU_mem   box_loss   cls_loss   dfl_loss  Instances       Size\n"
     ]
    },
    {
     "name": "stderr",
     "output_type": "stream",
     "text": [
      "     36/100      7.47G      1.183     0.7379     0.9625        116        640: 100%|██████████| 14/14 [00:04<00:00,  3.34it/s]\n",
      "                 Class     Images  Instances      Box(P          R      mAP50  mAP50-95): 100%|██████████| 8/8 [00:03<00:00,  2.30it/s]\n"
     ]
    },
    {
     "name": "stdout",
     "output_type": "stream",
     "text": [
      "                   all        682       1381      0.947      0.948      0.979      0.705\n",
      "\n",
      "      Epoch    GPU_mem   box_loss   cls_loss   dfl_loss  Instances       Size\n"
     ]
    },
    {
     "name": "stderr",
     "output_type": "stream",
     "text": [
      "     37/100      7.44G      1.168     0.7367     0.9478        102        640: 100%|██████████| 14/14 [00:03<00:00,  4.03it/s]\n",
      "                 Class     Images  Instances      Box(P          R      mAP50  mAP50-95): 100%|██████████| 8/8 [00:02<00:00,  3.67it/s]\n"
     ]
    },
    {
     "name": "stdout",
     "output_type": "stream",
     "text": [
      "                   all        682       1381       0.95       0.96      0.985       0.69\n",
      "\n",
      "      Epoch    GPU_mem   box_loss   cls_loss   dfl_loss  Instances       Size\n"
     ]
    },
    {
     "name": "stderr",
     "output_type": "stream",
     "text": [
      "     38/100      7.47G      1.145     0.7581     0.9578        109        640: 100%|██████████| 14/14 [00:03<00:00,  3.99it/s]\n",
      "                 Class     Images  Instances      Box(P          R      mAP50  mAP50-95): 100%|██████████| 8/8 [00:02<00:00,  3.72it/s]\n"
     ]
    },
    {
     "name": "stdout",
     "output_type": "stream",
     "text": [
      "                   all        682       1381      0.927      0.956      0.976      0.675\n",
      "\n",
      "      Epoch    GPU_mem   box_loss   cls_loss   dfl_loss  Instances       Size\n"
     ]
    },
    {
     "name": "stderr",
     "output_type": "stream",
     "text": [
      "     39/100      7.44G      1.193     0.7661     0.9385        101        640: 100%|██████████| 14/14 [00:03<00:00,  3.99it/s]\n",
      "                 Class     Images  Instances      Box(P          R      mAP50  mAP50-95): 100%|██████████| 8/8 [00:02<00:00,  3.71it/s]\n"
     ]
    },
    {
     "name": "stdout",
     "output_type": "stream",
     "text": [
      "                   all        682       1381      0.946      0.952      0.978      0.662\n",
      "\n",
      "      Epoch    GPU_mem   box_loss   cls_loss   dfl_loss  Instances       Size\n"
     ]
    },
    {
     "name": "stderr",
     "output_type": "stream",
     "text": [
      "     40/100       7.4G      1.154     0.7232      0.961         83        640: 100%|██████████| 14/14 [00:03<00:00,  3.94it/s]\n",
      "                 Class     Images  Instances      Box(P          R      mAP50  mAP50-95): 100%|██████████| 8/8 [00:02<00:00,  3.71it/s]\n"
     ]
    },
    {
     "name": "stdout",
     "output_type": "stream",
     "text": [
      "                   all        682       1381      0.944      0.946      0.976      0.677\n",
      "\n",
      "      Epoch    GPU_mem   box_loss   cls_loss   dfl_loss  Instances       Size\n"
     ]
    },
    {
     "name": "stderr",
     "output_type": "stream",
     "text": [
      "     41/100       7.4G      1.155     0.7303     0.9322        134        640: 100%|██████████| 14/14 [00:03<00:00,  4.01it/s]\n",
      "                 Class     Images  Instances      Box(P          R      mAP50  mAP50-95): 100%|██████████| 8/8 [00:02<00:00,  3.74it/s]\n"
     ]
    },
    {
     "name": "stdout",
     "output_type": "stream",
     "text": [
      "                   all        682       1381      0.946      0.961       0.98      0.681\n",
      "\n",
      "      Epoch    GPU_mem   box_loss   cls_loss   dfl_loss  Instances       Size\n"
     ]
    },
    {
     "name": "stderr",
     "output_type": "stream",
     "text": [
      "     42/100       7.4G      1.124     0.7221      0.955         97        640: 100%|██████████| 14/14 [00:03<00:00,  4.01it/s]\n",
      "                 Class     Images  Instances      Box(P          R      mAP50  mAP50-95): 100%|██████████| 8/8 [00:02<00:00,  3.75it/s]\n"
     ]
    },
    {
     "name": "stdout",
     "output_type": "stream",
     "text": [
      "                   all        682       1381      0.954      0.965       0.98       0.68\n",
      "\n",
      "      Epoch    GPU_mem   box_loss   cls_loss   dfl_loss  Instances       Size\n"
     ]
    },
    {
     "name": "stderr",
     "output_type": "stream",
     "text": [
      "     43/100      7.41G      1.096     0.7156     0.9388        109        640: 100%|██████████| 14/14 [00:03<00:00,  4.04it/s]\n",
      "                 Class     Images  Instances      Box(P          R      mAP50  mAP50-95): 100%|██████████| 8/8 [00:02<00:00,  3.71it/s]\n"
     ]
    },
    {
     "name": "stdout",
     "output_type": "stream",
     "text": [
      "                   all        682       1381      0.948      0.961      0.979       0.68\n",
      "\n",
      "      Epoch    GPU_mem   box_loss   cls_loss   dfl_loss  Instances       Size\n"
     ]
    },
    {
     "name": "stderr",
     "output_type": "stream",
     "text": [
      "     44/100      7.41G       1.12     0.7002     0.9415        109        640: 100%|██████████| 14/14 [00:03<00:00,  3.87it/s]\n",
      "                 Class     Images  Instances      Box(P          R      mAP50  mAP50-95): 100%|██████████| 8/8 [00:02<00:00,  3.71it/s]\n"
     ]
    },
    {
     "name": "stdout",
     "output_type": "stream",
     "text": [
      "                   all        682       1381      0.944      0.958      0.978      0.695\n",
      "\n",
      "      Epoch    GPU_mem   box_loss   cls_loss   dfl_loss  Instances       Size\n"
     ]
    },
    {
     "name": "stderr",
     "output_type": "stream",
     "text": [
      "     45/100      7.41G      1.132     0.6935      0.945        120        640: 100%|██████████| 14/14 [00:03<00:00,  3.98it/s]\n",
      "                 Class     Images  Instances      Box(P          R      mAP50  mAP50-95): 100%|██████████| 8/8 [00:02<00:00,  3.73it/s]\n"
     ]
    },
    {
     "name": "stdout",
     "output_type": "stream",
     "text": [
      "                   all        682       1381      0.955      0.953      0.977      0.684\n",
      "\n",
      "      Epoch    GPU_mem   box_loss   cls_loss   dfl_loss  Instances       Size\n"
     ]
    },
    {
     "name": "stderr",
     "output_type": "stream",
     "text": [
      "     46/100      7.43G      1.129     0.7145     0.9461         81        640: 100%|██████████| 14/14 [00:03<00:00,  3.95it/s]\n",
      "                 Class     Images  Instances      Box(P          R      mAP50  mAP50-95): 100%|██████████| 8/8 [00:02<00:00,  3.72it/s]\n"
     ]
    },
    {
     "name": "stdout",
     "output_type": "stream",
     "text": [
      "                   all        682       1381      0.951      0.941       0.97      0.689\n",
      "\n",
      "      Epoch    GPU_mem   box_loss   cls_loss   dfl_loss  Instances       Size\n"
     ]
    },
    {
     "name": "stderr",
     "output_type": "stream",
     "text": [
      "     47/100      7.44G      1.144     0.7002     0.9396         98        640: 100%|██████████| 14/14 [00:03<00:00,  4.00it/s]\n",
      "                 Class     Images  Instances      Box(P          R      mAP50  mAP50-95): 100%|██████████| 8/8 [00:02<00:00,  3.79it/s]\n"
     ]
    },
    {
     "name": "stdout",
     "output_type": "stream",
     "text": [
      "                   all        682       1381      0.949      0.959      0.984      0.704\n",
      "\n",
      "      Epoch    GPU_mem   box_loss   cls_loss   dfl_loss  Instances       Size\n"
     ]
    },
    {
     "name": "stderr",
     "output_type": "stream",
     "text": [
      "     48/100      7.42G      1.103     0.6691     0.9345        106        640: 100%|██████████| 14/14 [00:03<00:00,  4.02it/s]\n",
      "                 Class     Images  Instances      Box(P          R      mAP50  mAP50-95): 100%|██████████| 8/8 [00:02<00:00,  3.68it/s]\n"
     ]
    },
    {
     "name": "stdout",
     "output_type": "stream",
     "text": [
      "                   all        682       1381      0.963      0.955       0.98      0.675\n",
      "\n",
      "      Epoch    GPU_mem   box_loss   cls_loss   dfl_loss  Instances       Size\n"
     ]
    },
    {
     "name": "stderr",
     "output_type": "stream",
     "text": [
      "     49/100      7.47G      1.105     0.6751     0.9304        114        640: 100%|██████████| 14/14 [00:03<00:00,  3.92it/s]\n",
      "                 Class     Images  Instances      Box(P          R      mAP50  mAP50-95): 100%|██████████| 8/8 [00:02<00:00,  3.72it/s]\n"
     ]
    },
    {
     "name": "stdout",
     "output_type": "stream",
     "text": [
      "                   all        682       1381      0.949      0.968      0.981      0.705\n",
      "\n",
      "      Epoch    GPU_mem   box_loss   cls_loss   dfl_loss  Instances       Size\n"
     ]
    },
    {
     "name": "stderr",
     "output_type": "stream",
     "text": [
      "     50/100      7.47G      1.151     0.7207     0.9639        125        640: 100%|██████████| 14/14 [00:03<00:00,  4.02it/s]\n",
      "                 Class     Images  Instances      Box(P          R      mAP50  mAP50-95): 100%|██████████| 8/8 [00:02<00:00,  3.62it/s]\n"
     ]
    },
    {
     "name": "stdout",
     "output_type": "stream",
     "text": [
      "                   all        682       1381       0.95      0.953      0.971      0.675\n",
      "\n",
      "      Epoch    GPU_mem   box_loss   cls_loss   dfl_loss  Instances       Size\n"
     ]
    },
    {
     "name": "stderr",
     "output_type": "stream",
     "text": [
      "     51/100      7.43G      1.137     0.7094     0.9488        106        640: 100%|██████████| 14/14 [00:03<00:00,  3.92it/s]\n",
      "                 Class     Images  Instances      Box(P          R      mAP50  mAP50-95): 100%|██████████| 8/8 [00:02<00:00,  3.78it/s]\n"
     ]
    },
    {
     "name": "stdout",
     "output_type": "stream",
     "text": [
      "                   all        682       1381      0.947      0.961      0.983      0.698\n",
      "\n",
      "      Epoch    GPU_mem   box_loss   cls_loss   dfl_loss  Instances       Size\n"
     ]
    },
    {
     "name": "stderr",
     "output_type": "stream",
     "text": [
      "     52/100       7.4G       1.12     0.6638     0.9378        111        640: 100%|██████████| 14/14 [00:03<00:00,  3.91it/s]\n",
      "                 Class     Images  Instances      Box(P          R      mAP50  mAP50-95): 100%|██████████| 8/8 [00:02<00:00,  3.72it/s]\n"
     ]
    },
    {
     "name": "stdout",
     "output_type": "stream",
     "text": [
      "                   all        682       1381       0.95      0.973      0.983        0.7\n",
      "\n",
      "      Epoch    GPU_mem   box_loss   cls_loss   dfl_loss  Instances       Size\n"
     ]
    },
    {
     "name": "stderr",
     "output_type": "stream",
     "text": [
      "     53/100      7.43G      1.095     0.6849     0.9395         83        640: 100%|██████████| 14/14 [00:03<00:00,  4.04it/s]\n",
      "                 Class     Images  Instances      Box(P          R      mAP50  mAP50-95): 100%|██████████| 8/8 [00:02<00:00,  3.71it/s]\n"
     ]
    },
    {
     "name": "stdout",
     "output_type": "stream",
     "text": [
      "                   all        682       1381      0.938      0.963      0.977      0.697\n",
      "\n",
      "      Epoch    GPU_mem   box_loss   cls_loss   dfl_loss  Instances       Size\n"
     ]
    },
    {
     "name": "stderr",
     "output_type": "stream",
     "text": [
      "     54/100      7.42G      1.146     0.7021     0.9256         94        640: 100%|██████████| 14/14 [00:03<00:00,  3.99it/s]\n",
      "                 Class     Images  Instances      Box(P          R      mAP50  mAP50-95): 100%|██████████| 8/8 [00:02<00:00,  3.74it/s]\n"
     ]
    },
    {
     "name": "stdout",
     "output_type": "stream",
     "text": [
      "                   all        682       1381       0.94       0.96      0.982      0.689\n",
      "\n",
      "      Epoch    GPU_mem   box_loss   cls_loss   dfl_loss  Instances       Size\n"
     ]
    },
    {
     "name": "stderr",
     "output_type": "stream",
     "text": [
      "     55/100      7.41G      1.082     0.6391     0.9387        113        640: 100%|██████████| 14/14 [00:03<00:00,  4.05it/s]\n",
      "                 Class     Images  Instances      Box(P          R      mAP50  mAP50-95): 100%|██████████| 8/8 [00:02<00:00,  3.74it/s]\n"
     ]
    },
    {
     "name": "stdout",
     "output_type": "stream",
     "text": [
      "                   all        682       1381       0.95      0.957      0.984      0.702\n",
      "\n",
      "      Epoch    GPU_mem   box_loss   cls_loss   dfl_loss  Instances       Size\n"
     ]
    },
    {
     "name": "stderr",
     "output_type": "stream",
     "text": [
      "     56/100      7.47G      1.064     0.6562     0.9344         86        640: 100%|██████████| 14/14 [00:03<00:00,  4.03it/s]\n",
      "                 Class     Images  Instances      Box(P          R      mAP50  mAP50-95): 100%|██████████| 8/8 [00:02<00:00,  3.78it/s]\n"
     ]
    },
    {
     "name": "stdout",
     "output_type": "stream",
     "text": [
      "                   all        682       1381      0.946      0.956      0.984      0.707\n",
      "\n",
      "      Epoch    GPU_mem   box_loss   cls_loss   dfl_loss  Instances       Size\n"
     ]
    },
    {
     "name": "stderr",
     "output_type": "stream",
     "text": [
      "     57/100       7.4G      1.074     0.6492     0.9306         96        640: 100%|██████████| 14/14 [00:03<00:00,  3.92it/s]\n",
      "                 Class     Images  Instances      Box(P          R      mAP50  mAP50-95): 100%|██████████| 8/8 [00:02<00:00,  3.61it/s]\n"
     ]
    },
    {
     "name": "stdout",
     "output_type": "stream",
     "text": [
      "                   all        682       1381      0.944      0.983      0.987        0.7\n",
      "\n",
      "      Epoch    GPU_mem   box_loss   cls_loss   dfl_loss  Instances       Size\n"
     ]
    },
    {
     "name": "stderr",
     "output_type": "stream",
     "text": [
      "     58/100      7.42G      1.113      0.665      0.932        115        640: 100%|██████████| 14/14 [00:03<00:00,  3.80it/s]\n",
      "                 Class     Images  Instances      Box(P          R      mAP50  mAP50-95): 100%|██████████| 8/8 [00:02<00:00,  2.69it/s]\n"
     ]
    },
    {
     "name": "stdout",
     "output_type": "stream",
     "text": [
      "                   all        682       1381      0.962      0.976      0.989      0.706\n",
      "\n",
      "      Epoch    GPU_mem   box_loss   cls_loss   dfl_loss  Instances       Size\n"
     ]
    },
    {
     "name": "stderr",
     "output_type": "stream",
     "text": [
      "     59/100      7.41G      1.066     0.6112     0.9216         94        640: 100%|██████████| 14/14 [00:04<00:00,  3.38it/s]\n",
      "                 Class     Images  Instances      Box(P          R      mAP50  mAP50-95): 100%|██████████| 8/8 [00:03<00:00,  2.48it/s]\n"
     ]
    },
    {
     "name": "stdout",
     "output_type": "stream",
     "text": [
      "                   all        682       1381      0.956      0.967      0.987      0.699\n",
      "\n",
      "      Epoch    GPU_mem   box_loss   cls_loss   dfl_loss  Instances       Size\n"
     ]
    },
    {
     "name": "stderr",
     "output_type": "stream",
     "text": [
      "     60/100      7.42G      1.084     0.6401     0.9407        100        640: 100%|██████████| 14/14 [00:03<00:00,  3.83it/s]\n",
      "                 Class     Images  Instances      Box(P          R      mAP50  mAP50-95): 100%|██████████| 8/8 [00:02<00:00,  3.66it/s]\n"
     ]
    },
    {
     "name": "stdout",
     "output_type": "stream",
     "text": [
      "                   all        682       1381      0.959      0.959      0.985       0.71\n",
      "\n",
      "      Epoch    GPU_mem   box_loss   cls_loss   dfl_loss  Instances       Size\n"
     ]
    },
    {
     "name": "stderr",
     "output_type": "stream",
     "text": [
      "     61/100      7.44G      1.066     0.6435     0.9353        107        640: 100%|██████████| 14/14 [00:03<00:00,  3.98it/s]\n",
      "                 Class     Images  Instances      Box(P          R      mAP50  mAP50-95): 100%|██████████| 8/8 [00:02<00:00,  3.65it/s]\n"
     ]
    },
    {
     "name": "stdout",
     "output_type": "stream",
     "text": [
      "                   all        682       1381      0.963      0.959      0.988       0.71\n",
      "\n",
      "      Epoch    GPU_mem   box_loss   cls_loss   dfl_loss  Instances       Size\n"
     ]
    },
    {
     "name": "stderr",
     "output_type": "stream",
     "text": [
      "     62/100       7.4G       1.07     0.6262     0.9196         98        640: 100%|██████████| 14/14 [00:03<00:00,  3.98it/s]\n",
      "                 Class     Images  Instances      Box(P          R      mAP50  mAP50-95): 100%|██████████| 8/8 [00:02<00:00,  3.72it/s]\n"
     ]
    },
    {
     "name": "stdout",
     "output_type": "stream",
     "text": [
      "                   all        682       1381      0.955      0.951      0.981      0.681\n",
      "\n",
      "      Epoch    GPU_mem   box_loss   cls_loss   dfl_loss  Instances       Size\n"
     ]
    },
    {
     "name": "stderr",
     "output_type": "stream",
     "text": [
      "     63/100      7.42G      1.077     0.6332     0.9209        114        640: 100%|██████████| 14/14 [00:03<00:00,  3.89it/s]\n",
      "                 Class     Images  Instances      Box(P          R      mAP50  mAP50-95): 100%|██████████| 8/8 [00:02<00:00,  3.80it/s]\n"
     ]
    },
    {
     "name": "stdout",
     "output_type": "stream",
     "text": [
      "                   all        682       1381      0.956      0.958      0.982      0.708\n",
      "\n",
      "      Epoch    GPU_mem   box_loss   cls_loss   dfl_loss  Instances       Size\n"
     ]
    },
    {
     "name": "stderr",
     "output_type": "stream",
     "text": [
      "     64/100      7.44G       1.09     0.6513     0.9372        117        640: 100%|██████████| 14/14 [00:03<00:00,  3.98it/s]\n",
      "                 Class     Images  Instances      Box(P          R      mAP50  mAP50-95): 100%|██████████| 8/8 [00:02<00:00,  3.62it/s]\n"
     ]
    },
    {
     "name": "stdout",
     "output_type": "stream",
     "text": [
      "                   all        682       1381      0.967      0.973      0.989      0.716\n",
      "\n",
      "      Epoch    GPU_mem   box_loss   cls_loss   dfl_loss  Instances       Size\n"
     ]
    },
    {
     "name": "stderr",
     "output_type": "stream",
     "text": [
      "     65/100      7.41G      1.033     0.6034     0.9108         94        640: 100%|██████████| 14/14 [00:03<00:00,  3.95it/s]\n",
      "                 Class     Images  Instances      Box(P          R      mAP50  mAP50-95): 100%|██████████| 8/8 [00:02<00:00,  3.74it/s]\n"
     ]
    },
    {
     "name": "stdout",
     "output_type": "stream",
     "text": [
      "                   all        682       1381      0.952      0.967      0.986      0.704\n",
      "\n",
      "      Epoch    GPU_mem   box_loss   cls_loss   dfl_loss  Instances       Size\n"
     ]
    },
    {
     "name": "stderr",
     "output_type": "stream",
     "text": [
      "     66/100       7.4G      1.073     0.6366     0.9448         92        640: 100%|██████████| 14/14 [00:03<00:00,  4.01it/s]\n",
      "                 Class     Images  Instances      Box(P          R      mAP50  mAP50-95): 100%|██████████| 8/8 [00:02<00:00,  3.72it/s]\n"
     ]
    },
    {
     "name": "stdout",
     "output_type": "stream",
     "text": [
      "                   all        682       1381      0.958      0.966      0.988      0.721\n",
      "\n",
      "      Epoch    GPU_mem   box_loss   cls_loss   dfl_loss  Instances       Size\n"
     ]
    },
    {
     "name": "stderr",
     "output_type": "stream",
     "text": [
      "     67/100      7.47G      1.076     0.6374     0.9269        105        640: 100%|██████████| 14/14 [00:03<00:00,  3.89it/s]\n",
      "                 Class     Images  Instances      Box(P          R      mAP50  mAP50-95): 100%|██████████| 8/8 [00:02<00:00,  3.67it/s]\n"
     ]
    },
    {
     "name": "stdout",
     "output_type": "stream",
     "text": [
      "                   all        682       1381      0.963       0.96      0.987      0.712\n",
      "\n",
      "      Epoch    GPU_mem   box_loss   cls_loss   dfl_loss  Instances       Size\n"
     ]
    },
    {
     "name": "stderr",
     "output_type": "stream",
     "text": [
      "     68/100      7.44G      1.029     0.6095     0.9281        103        640: 100%|██████████| 14/14 [00:03<00:00,  3.88it/s]\n",
      "                 Class     Images  Instances      Box(P          R      mAP50  mAP50-95): 100%|██████████| 8/8 [00:02<00:00,  3.71it/s]\n"
     ]
    },
    {
     "name": "stdout",
     "output_type": "stream",
     "text": [
      "                   all        682       1381      0.963      0.968      0.988       0.71\n",
      "\n",
      "      Epoch    GPU_mem   box_loss   cls_loss   dfl_loss  Instances       Size\n"
     ]
    },
    {
     "name": "stderr",
     "output_type": "stream",
     "text": [
      "     69/100       7.4G      1.056     0.6379     0.9328        100        640: 100%|██████████| 14/14 [00:03<00:00,  3.91it/s]\n",
      "                 Class     Images  Instances      Box(P          R      mAP50  mAP50-95): 100%|██████████| 8/8 [00:02<00:00,  3.69it/s]\n"
     ]
    },
    {
     "name": "stdout",
     "output_type": "stream",
     "text": [
      "                   all        682       1381      0.951       0.97      0.985      0.724\n",
      "\n",
      "      Epoch    GPU_mem   box_loss   cls_loss   dfl_loss  Instances       Size\n"
     ]
    },
    {
     "name": "stderr",
     "output_type": "stream",
     "text": [
      "     70/100      7.43G      1.049     0.6146      0.931        115        640: 100%|██████████| 14/14 [00:03<00:00,  4.02it/s]\n",
      "                 Class     Images  Instances      Box(P          R      mAP50  mAP50-95): 100%|██████████| 8/8 [00:02<00:00,  3.75it/s]\n"
     ]
    },
    {
     "name": "stdout",
     "output_type": "stream",
     "text": [
      "                   all        682       1381      0.956      0.961      0.976      0.688\n",
      "\n",
      "      Epoch    GPU_mem   box_loss   cls_loss   dfl_loss  Instances       Size\n"
     ]
    },
    {
     "name": "stderr",
     "output_type": "stream",
     "text": [
      "     71/100      7.47G      1.038     0.6153      0.925        116        640: 100%|██████████| 14/14 [00:04<00:00,  3.37it/s]\n",
      "                 Class     Images  Instances      Box(P          R      mAP50  mAP50-95): 100%|██████████| 8/8 [00:02<00:00,  3.67it/s]\n"
     ]
    },
    {
     "name": "stdout",
     "output_type": "stream",
     "text": [
      "                   all        682       1381       0.97      0.962      0.985      0.707\n",
      "\n",
      "      Epoch    GPU_mem   box_loss   cls_loss   dfl_loss  Instances       Size\n"
     ]
    },
    {
     "name": "stderr",
     "output_type": "stream",
     "text": [
      "     72/100      7.47G      1.023     0.6032     0.9221        102        640: 100%|██████████| 14/14 [00:03<00:00,  3.97it/s]\n",
      "                 Class     Images  Instances      Box(P          R      mAP50  mAP50-95): 100%|██████████| 8/8 [00:02<00:00,  3.76it/s]\n"
     ]
    },
    {
     "name": "stdout",
     "output_type": "stream",
     "text": [
      "                   all        682       1381      0.964      0.955      0.984      0.716\n",
      "\n",
      "      Epoch    GPU_mem   box_loss   cls_loss   dfl_loss  Instances       Size\n"
     ]
    },
    {
     "name": "stderr",
     "output_type": "stream",
     "text": [
      "     73/100      7.42G      1.017     0.6104     0.9235         72        640: 100%|██████████| 14/14 [00:03<00:00,  4.06it/s]\n",
      "                 Class     Images  Instances      Box(P          R      mAP50  mAP50-95): 100%|██████████| 8/8 [00:02<00:00,  3.72it/s]\n"
     ]
    },
    {
     "name": "stdout",
     "output_type": "stream",
     "text": [
      "                   all        682       1381       0.96      0.957      0.986      0.717\n",
      "\n",
      "      Epoch    GPU_mem   box_loss   cls_loss   dfl_loss  Instances       Size\n"
     ]
    },
    {
     "name": "stderr",
     "output_type": "stream",
     "text": [
      "     74/100      7.44G      1.029     0.5866     0.9156        104        640: 100%|██████████| 14/14 [00:03<00:00,  3.94it/s]\n",
      "                 Class     Images  Instances      Box(P          R      mAP50  mAP50-95): 100%|██████████| 8/8 [00:02<00:00,  3.74it/s]\n"
     ]
    },
    {
     "name": "stdout",
     "output_type": "stream",
     "text": [
      "                   all        682       1381      0.947       0.97      0.986      0.712\n",
      "\n",
      "      Epoch    GPU_mem   box_loss   cls_loss   dfl_loss  Instances       Size\n"
     ]
    },
    {
     "name": "stderr",
     "output_type": "stream",
     "text": [
      "     75/100      7.42G     0.9984     0.5981     0.9153        108        640: 100%|██████████| 14/14 [00:03<00:00,  3.97it/s]\n",
      "                 Class     Images  Instances      Box(P          R      mAP50  mAP50-95): 100%|██████████| 8/8 [00:02<00:00,  3.69it/s]\n"
     ]
    },
    {
     "name": "stdout",
     "output_type": "stream",
     "text": [
      "                   all        682       1381      0.957      0.975      0.988      0.716\n",
      "\n",
      "      Epoch    GPU_mem   box_loss   cls_loss   dfl_loss  Instances       Size\n"
     ]
    },
    {
     "name": "stderr",
     "output_type": "stream",
     "text": [
      "     76/100      7.42G          1     0.5764     0.9051         95        640: 100%|██████████| 14/14 [00:03<00:00,  3.99it/s]\n",
      "                 Class     Images  Instances      Box(P          R      mAP50  mAP50-95): 100%|██████████| 8/8 [00:02<00:00,  3.80it/s]\n"
     ]
    },
    {
     "name": "stdout",
     "output_type": "stream",
     "text": [
      "                   all        682       1381      0.969      0.963      0.987       0.72\n",
      "\n",
      "      Epoch    GPU_mem   box_loss   cls_loss   dfl_loss  Instances       Size\n"
     ]
    },
    {
     "name": "stderr",
     "output_type": "stream",
     "text": [
      "     77/100      7.44G      1.039     0.5943       0.91        144        640: 100%|██████████| 14/14 [00:03<00:00,  3.91it/s]\n",
      "                 Class     Images  Instances      Box(P          R      mAP50  mAP50-95): 100%|██████████| 8/8 [00:02<00:00,  3.73it/s]\n"
     ]
    },
    {
     "name": "stdout",
     "output_type": "stream",
     "text": [
      "                   all        682       1381      0.963      0.971      0.986      0.718\n",
      "\n",
      "      Epoch    GPU_mem   box_loss   cls_loss   dfl_loss  Instances       Size\n"
     ]
    },
    {
     "name": "stderr",
     "output_type": "stream",
     "text": [
      "     78/100      7.43G      1.012     0.6033     0.9301        105        640: 100%|██████████| 14/14 [00:03<00:00,  3.97it/s]\n",
      "                 Class     Images  Instances      Box(P          R      mAP50  mAP50-95): 100%|██████████| 8/8 [00:02<00:00,  3.63it/s]\n"
     ]
    },
    {
     "name": "stdout",
     "output_type": "stream",
     "text": [
      "                   all        682       1381      0.963      0.963      0.987      0.718\n",
      "\n",
      "      Epoch    GPU_mem   box_loss   cls_loss   dfl_loss  Instances       Size\n"
     ]
    },
    {
     "name": "stderr",
     "output_type": "stream",
     "text": [
      "     79/100      7.42G      1.028     0.5655     0.9192        130        640: 100%|██████████| 14/14 [00:03<00:00,  3.96it/s]\n",
      "                 Class     Images  Instances      Box(P          R      mAP50  mAP50-95): 100%|██████████| 8/8 [00:02<00:00,  3.81it/s]\n"
     ]
    },
    {
     "name": "stdout",
     "output_type": "stream",
     "text": [
      "                   all        682       1381      0.963       0.97      0.988       0.73\n",
      "\n",
      "      Epoch    GPU_mem   box_loss   cls_loss   dfl_loss  Instances       Size\n"
     ]
    },
    {
     "name": "stderr",
     "output_type": "stream",
     "text": [
      "     80/100      7.41G      1.023     0.6164     0.9315         93        640: 100%|██████████| 14/14 [00:03<00:00,  3.95it/s]\n",
      "                 Class     Images  Instances      Box(P          R      mAP50  mAP50-95): 100%|██████████| 8/8 [00:02<00:00,  3.71it/s]\n"
     ]
    },
    {
     "name": "stdout",
     "output_type": "stream",
     "text": [
      "                   all        682       1381       0.96      0.966      0.987      0.726\n",
      "\n",
      "      Epoch    GPU_mem   box_loss   cls_loss   dfl_loss  Instances       Size\n"
     ]
    },
    {
     "name": "stderr",
     "output_type": "stream",
     "text": [
      "     81/100       7.4G      1.016     0.5793     0.9076         80        640: 100%|██████████| 14/14 [00:03<00:00,  4.00it/s]\n",
      "                 Class     Images  Instances      Box(P          R      mAP50  mAP50-95): 100%|██████████| 8/8 [00:02<00:00,  3.75it/s]\n"
     ]
    },
    {
     "name": "stdout",
     "output_type": "stream",
     "text": [
      "                   all        682       1381      0.964      0.962      0.988      0.719\n",
      "\n",
      "      Epoch    GPU_mem   box_loss   cls_loss   dfl_loss  Instances       Size\n"
     ]
    },
    {
     "name": "stderr",
     "output_type": "stream",
     "text": [
      "     82/100      7.42G       1.01     0.5789     0.9134        105        640: 100%|██████████| 14/14 [00:03<00:00,  3.89it/s]\n",
      "                 Class     Images  Instances      Box(P          R      mAP50  mAP50-95): 100%|██████████| 8/8 [00:02<00:00,  3.77it/s]\n"
     ]
    },
    {
     "name": "stdout",
     "output_type": "stream",
     "text": [
      "                   all        682       1381      0.958      0.973      0.989      0.726\n",
      "\n",
      "      Epoch    GPU_mem   box_loss   cls_loss   dfl_loss  Instances       Size\n"
     ]
    },
    {
     "name": "stderr",
     "output_type": "stream",
     "text": [
      "     83/100      7.42G      1.005     0.5729     0.9069        114        640: 100%|██████████| 14/14 [00:03<00:00,  3.99it/s]\n",
      "                 Class     Images  Instances      Box(P          R      mAP50  mAP50-95): 100%|██████████| 8/8 [00:02<00:00,  3.76it/s]\n"
     ]
    },
    {
     "name": "stdout",
     "output_type": "stream",
     "text": [
      "                   all        682       1381      0.962      0.978      0.989      0.728\n",
      "\n",
      "      Epoch    GPU_mem   box_loss   cls_loss   dfl_loss  Instances       Size\n"
     ]
    },
    {
     "name": "stderr",
     "output_type": "stream",
     "text": [
      "     84/100      7.44G      1.003     0.5675     0.9064         87        640: 100%|██████████| 14/14 [00:03<00:00,  3.99it/s]\n",
      "                 Class     Images  Instances      Box(P          R      mAP50  mAP50-95): 100%|██████████| 8/8 [00:02<00:00,  3.76it/s]\n"
     ]
    },
    {
     "name": "stdout",
     "output_type": "stream",
     "text": [
      "                   all        682       1381      0.965      0.971      0.989      0.728\n",
      "\n",
      "      Epoch    GPU_mem   box_loss   cls_loss   dfl_loss  Instances       Size\n"
     ]
    },
    {
     "name": "stderr",
     "output_type": "stream",
     "text": [
      "     85/100      7.41G     0.9855     0.5692     0.9096         83        640: 100%|██████████| 14/14 [00:03<00:00,  3.94it/s]\n",
      "                 Class     Images  Instances      Box(P          R      mAP50  mAP50-95): 100%|██████████| 8/8 [00:02<00:00,  3.76it/s]\n"
     ]
    },
    {
     "name": "stdout",
     "output_type": "stream",
     "text": [
      "                   all        682       1381      0.961      0.976      0.988       0.73\n",
      "\n",
      "      Epoch    GPU_mem   box_loss   cls_loss   dfl_loss  Instances       Size\n"
     ]
    },
    {
     "name": "stderr",
     "output_type": "stream",
     "text": [
      "     86/100      7.41G      1.002     0.5873     0.9054        100        640: 100%|██████████| 14/14 [00:03<00:00,  3.91it/s]\n",
      "                 Class     Images  Instances      Box(P          R      mAP50  mAP50-95): 100%|██████████| 8/8 [00:02<00:00,  3.79it/s]\n"
     ]
    },
    {
     "name": "stdout",
     "output_type": "stream",
     "text": [
      "                   all        682       1381      0.958      0.976      0.988      0.722\n",
      "\n",
      "      Epoch    GPU_mem   box_loss   cls_loss   dfl_loss  Instances       Size\n"
     ]
    },
    {
     "name": "stderr",
     "output_type": "stream",
     "text": [
      "     87/100      7.42G      0.969      0.555     0.9008        101        640: 100%|██████████| 14/14 [00:03<00:00,  3.99it/s]\n",
      "                 Class     Images  Instances      Box(P          R      mAP50  mAP50-95): 100%|██████████| 8/8 [00:02<00:00,  3.78it/s]\n"
     ]
    },
    {
     "name": "stdout",
     "output_type": "stream",
     "text": [
      "                   all        682       1381      0.958       0.97      0.987      0.728\n",
      "\n",
      "      Epoch    GPU_mem   box_loss   cls_loss   dfl_loss  Instances       Size\n"
     ]
    },
    {
     "name": "stderr",
     "output_type": "stream",
     "text": [
      "     88/100      7.41G      0.986     0.5456     0.8978        113        640: 100%|██████████| 14/14 [00:03<00:00,  3.97it/s]\n",
      "                 Class     Images  Instances      Box(P          R      mAP50  mAP50-95): 100%|██████████| 8/8 [00:02<00:00,  3.74it/s]\n"
     ]
    },
    {
     "name": "stdout",
     "output_type": "stream",
     "text": [
      "                   all        682       1381      0.953      0.975      0.986      0.728\n",
      "\n",
      "      Epoch    GPU_mem   box_loss   cls_loss   dfl_loss  Instances       Size\n"
     ]
    },
    {
     "name": "stderr",
     "output_type": "stream",
     "text": [
      "     89/100      7.44G     0.9814     0.5533     0.8989        111        640: 100%|██████████| 14/14 [00:03<00:00,  3.94it/s]\n",
      "                 Class     Images  Instances      Box(P          R      mAP50  mAP50-95): 100%|██████████| 8/8 [00:02<00:00,  3.69it/s]\n"
     ]
    },
    {
     "name": "stdout",
     "output_type": "stream",
     "text": [
      "                   all        682       1381      0.962      0.967      0.987      0.731\n",
      "\n",
      "      Epoch    GPU_mem   box_loss   cls_loss   dfl_loss  Instances       Size\n"
     ]
    },
    {
     "name": "stderr",
     "output_type": "stream",
     "text": [
      "     90/100      7.42G     0.9354     0.5444     0.8938        101        640: 100%|██████████| 14/14 [00:03<00:00,  3.92it/s]\n",
      "                 Class     Images  Instances      Box(P          R      mAP50  mAP50-95): 100%|██████████| 8/8 [00:02<00:00,  3.82it/s]\n"
     ]
    },
    {
     "name": "stdout",
     "output_type": "stream",
     "text": [
      "                   all        682       1381      0.962      0.971      0.986       0.73\n",
      "Closing dataloader mosaic\n",
      "\n",
      "      Epoch    GPU_mem   box_loss   cls_loss   dfl_loss  Instances       Size\n"
     ]
    },
    {
     "name": "stderr",
     "output_type": "stream",
     "text": [
      "     91/100      7.44G      1.033     0.5369     0.8845         46        640: 100%|██████████| 14/14 [00:05<00:00,  2.46it/s]\n",
      "                 Class     Images  Instances      Box(P          R      mAP50  mAP50-95): 100%|██████████| 8/8 [00:02<00:00,  2.85it/s]\n"
     ]
    },
    {
     "name": "stdout",
     "output_type": "stream",
     "text": [
      "                   all        682       1381       0.96      0.973      0.986      0.732\n",
      "\n",
      "      Epoch    GPU_mem   box_loss   cls_loss   dfl_loss  Instances       Size\n"
     ]
    },
    {
     "name": "stderr",
     "output_type": "stream",
     "text": [
      "     92/100      7.44G      1.006     0.5287     0.8723         51        640: 100%|██████████| 14/14 [00:03<00:00,  3.68it/s]\n",
      "                 Class     Images  Instances      Box(P          R      mAP50  mAP50-95): 100%|██████████| 8/8 [00:02<00:00,  2.92it/s]\n"
     ]
    },
    {
     "name": "stdout",
     "output_type": "stream",
     "text": [
      "                   all        682       1381      0.962      0.973      0.986      0.729\n",
      "\n",
      "      Epoch    GPU_mem   box_loss   cls_loss   dfl_loss  Instances       Size\n"
     ]
    },
    {
     "name": "stderr",
     "output_type": "stream",
     "text": [
      "     93/100      7.44G      1.018     0.5285     0.8802         48        640: 100%|██████████| 14/14 [00:04<00:00,  3.45it/s]\n",
      "                 Class     Images  Instances      Box(P          R      mAP50  mAP50-95): 100%|██████████| 8/8 [00:02<00:00,  3.24it/s]\n"
     ]
    },
    {
     "name": "stdout",
     "output_type": "stream",
     "text": [
      "                   all        682       1381       0.96      0.972      0.985      0.726\n",
      "\n",
      "      Epoch    GPU_mem   box_loss   cls_loss   dfl_loss  Instances       Size\n"
     ]
    },
    {
     "name": "stderr",
     "output_type": "stream",
     "text": [
      "     94/100      7.44G     0.9546     0.4904     0.8711         78        640: 100%|██████████| 14/14 [00:03<00:00,  3.80it/s]\n",
      "                 Class     Images  Instances      Box(P          R      mAP50  mAP50-95): 100%|██████████| 8/8 [00:02<00:00,  2.89it/s]\n"
     ]
    },
    {
     "name": "stdout",
     "output_type": "stream",
     "text": [
      "                   all        682       1381      0.962      0.972      0.986      0.736\n",
      "\n",
      "      Epoch    GPU_mem   box_loss   cls_loss   dfl_loss  Instances       Size\n"
     ]
    },
    {
     "name": "stderr",
     "output_type": "stream",
     "text": [
      "     95/100      7.44G     0.9958     0.5094     0.8709         69        640: 100%|██████████| 14/14 [00:03<00:00,  3.74it/s]\n",
      "                 Class     Images  Instances      Box(P          R      mAP50  mAP50-95): 100%|██████████| 8/8 [00:02<00:00,  2.81it/s]\n"
     ]
    },
    {
     "name": "stdout",
     "output_type": "stream",
     "text": [
      "                   all        682       1381      0.959      0.975      0.986      0.734\n",
      "\n",
      "      Epoch    GPU_mem   box_loss   cls_loss   dfl_loss  Instances       Size\n"
     ]
    },
    {
     "name": "stderr",
     "output_type": "stream",
     "text": [
      "     96/100      7.44G     0.9959     0.5042     0.8838         62        640: 100%|██████████| 14/14 [00:03<00:00,  3.77it/s]\n",
      "                 Class     Images  Instances      Box(P          R      mAP50  mAP50-95): 100%|██████████| 8/8 [00:02<00:00,  3.78it/s]\n"
     ]
    },
    {
     "name": "stdout",
     "output_type": "stream",
     "text": [
      "                   all        682       1381      0.959      0.973      0.984      0.736\n",
      "\n",
      "      Epoch    GPU_mem   box_loss   cls_loss   dfl_loss  Instances       Size\n"
     ]
    },
    {
     "name": "stderr",
     "output_type": "stream",
     "text": [
      "     97/100      7.44G     0.9777     0.4949     0.8854         57        640: 100%|██████████| 14/14 [00:03<00:00,  4.18it/s]\n",
      "                 Class     Images  Instances      Box(P          R      mAP50  mAP50-95): 100%|██████████| 8/8 [00:02<00:00,  3.68it/s]\n"
     ]
    },
    {
     "name": "stdout",
     "output_type": "stream",
     "text": [
      "                   all        682       1381      0.959      0.972      0.986      0.728\n",
      "\n",
      "      Epoch    GPU_mem   box_loss   cls_loss   dfl_loss  Instances       Size\n"
     ]
    },
    {
     "name": "stderr",
     "output_type": "stream",
     "text": [
      "     98/100      7.44G     0.9792     0.5083     0.8826         59        640: 100%|██████████| 14/14 [00:03<00:00,  4.14it/s]\n",
      "                 Class     Images  Instances      Box(P          R      mAP50  mAP50-95): 100%|██████████| 8/8 [00:02<00:00,  3.80it/s]\n"
     ]
    },
    {
     "name": "stdout",
     "output_type": "stream",
     "text": [
      "                   all        682       1381       0.96      0.971      0.987      0.724\n",
      "\n",
      "      Epoch    GPU_mem   box_loss   cls_loss   dfl_loss  Instances       Size\n"
     ]
    },
    {
     "name": "stderr",
     "output_type": "stream",
     "text": [
      "     99/100      7.44G     0.9802     0.4881     0.8609         69        640: 100%|██████████| 14/14 [00:03<00:00,  4.13it/s]\n",
      "                 Class     Images  Instances      Box(P          R      mAP50  mAP50-95): 100%|██████████| 8/8 [00:02<00:00,  3.82it/s]\n"
     ]
    },
    {
     "name": "stdout",
     "output_type": "stream",
     "text": [
      "                   all        682       1381      0.959      0.972      0.986      0.729\n",
      "\n",
      "      Epoch    GPU_mem   box_loss   cls_loss   dfl_loss  Instances       Size\n"
     ]
    },
    {
     "name": "stderr",
     "output_type": "stream",
     "text": [
      "    100/100      7.44G     0.9795     0.4867     0.8574         60        640: 100%|██████████| 14/14 [00:03<00:00,  4.14it/s]\n",
      "                 Class     Images  Instances      Box(P          R      mAP50  mAP50-95): 100%|██████████| 8/8 [00:02<00:00,  3.84it/s]\n"
     ]
    },
    {
     "name": "stdout",
     "output_type": "stream",
     "text": [
      "                   all        682       1381      0.961       0.97      0.986      0.727\n",
      "\n",
      "100 epochs completed in 0.192 hours.\n",
      "Optimizer stripped from /home/chenjun/Project_Files/ultralytics/runs/detect/train/weights/last.pt, 5.5MB\n",
      "Optimizer stripped from /home/chenjun/Project_Files/ultralytics/runs/detect/train/weights/best.pt, 5.5MB\n",
      "\n",
      "Validating /home/chenjun/Project_Files/ultralytics/runs/detect/train/weights/best.pt...\n",
      "Ultralytics 8.3.133 🚀 Python-3.8.20 torch-2.3.1 CUDA:0 (NVIDIA GeForce RTX 3080, 10009MiB)\n",
      "                                                 CUDA:1 (NVIDIA GeForce RTX 3080, 10009MiB)\n",
      "                                                 CUDA:2 (NVIDIA GeForce RTX 3080, 10009MiB)\n",
      "                                                 CUDA:3 (NVIDIA GeForce RTX 3080, 10009MiB)\n",
      "YOLO11n summary (fused): 100 layers, 2,583,712 parameters, 0 gradients, 6.3 GFLOPs\n"
     ]
    },
    {
     "name": "stderr",
     "output_type": "stream",
     "text": [
      "                 Class     Images  Instances      Box(P          R      mAP50  mAP50-95): 100%|██████████| 8/8 [00:04<00:00,  1.82it/s]\n"
     ]
    },
    {
     "name": "stdout",
     "output_type": "stream",
     "text": [
      "                   all        682       1381      0.962      0.972      0.986      0.737\n",
      "              air-hole        406       1070      0.934       0.87      0.962      0.507\n",
      "             bite-edge          8          8      0.944          1      0.995      0.734\n",
      "            broken-arc         74         74      0.948          1      0.995      0.929\n",
      "                 crack         23         23      0.935      0.913       0.97      0.643\n",
      "           hollow-bead         43         43      0.991          1      0.995      0.867\n",
      "               overlap         40         41      0.997          1      0.995      0.777\n",
      "        slag-inclusion         27         27       0.98          1      0.995      0.679\n",
      "               unfused         95         95      0.969      0.995      0.983      0.759\n",
      "Speed: 0.1ms preprocess, 0.5ms inference, 0.0ms loss, 1.9ms postprocess per image\n",
      "Results saved to \u001b[1m/home/chenjun/Project_Files/ultralytics/runs/detect/train\u001b[0m\n"
     ]
    }
   ],
   "source": [
    "import os\n",
    "os.environ[\"MKL_SERVICE_FORCE_INTEL\"] = \"1\"\n",
    "\n",
    "from ultralytics import YOLO\n",
    "\n",
    "# Load a model\n",
    "# model = YOLO(\"my_yolo11.yaml\")  # build a new model from YAML\n",
    "model = YOLO(\"weights/yolo11n.pt\")  # load a pretrained model (recommended for training)\n",
    "# model = YOLO(\"my_yolo11.yaml\").load(\"weights/yolo11n.pt\")  # build from YAML and transfer weights\n",
    "\n",
    "# Train the model\n",
    "results = model.train(data=\"my_datasets.yaml\", epochs=100, imgsz=640, batch=192, device = [0,1,2,3], workers=32, cache='ram')"
   ]
  },
  {
   "cell_type": "code",
   "execution_count": null,
   "id": "193696c1-dac1-434f-bf4a-b00c9ff60162",
   "metadata": {},
   "outputs": [],
   "source": []
  },
  {
   "cell_type": "markdown",
   "id": "1599a4ca-f1dc-435b-9d39-fa45e938fd42",
   "metadata": {},
   "source": [
    "# yolo11n_se\n"
   ]
  },
  {
   "cell_type": "markdown",
   "id": "fb8d2a0d-01d3-4320-86ea-aa2c2841c065",
   "metadata": {},
   "source": [
    "## 查看模型结构"
   ]
  },
  {
   "cell_type": "code",
   "execution_count": 1,
   "id": "c37f4d86-1df9-470e-a709-fa3f0f375569",
   "metadata": {},
   "outputs": [
    {
     "name": "stdout",
     "output_type": "stream",
     "text": [
      "YOLO11n_se summary: 193 layers, 2,592,008 parameters, 2,591,992 gradients, 6.6 GFLOPs\n",
      "<class 'tuple'>\n",
      "layer                                    name                type  gradient  parameters               shape        mu     sigma\n",
      "    0                     model.0.conv.weight              Conv2d      True         432       [16, 3, 3, 3]   0.00186      0.11        float32\n",
      "    1                       model.0.bn.weight         BatchNorm2d      True          16                [16]         1         0        float32\n",
      "    1                         model.0.bn.bias         BatchNorm2d      True          16                [16]         0         0        float32\n",
      "    2                             model.0.act                SiLU     False           0                  []         -         -              -\n",
      "    3                 model.1.cv1.conv.weight              Conv2d      True         128       [8, 16, 1, 1]  0.000847     0.144        float32\n",
      "    4                   model.1.cv1.bn.weight         BatchNorm2d      True           8                 [8]         1         0        float32\n",
      "    4                     model.1.cv1.bn.bias         BatchNorm2d      True           8                 [8]         0         0        float32\n",
      "    5                 model.1.cv2.conv.weight              Conv2d      True         128       [8, 16, 1, 1]  -0.00904      0.15        float32\n",
      "    6                   model.1.cv2.bn.weight         BatchNorm2d      True           8                 [8]         1         0        float32\n",
      "    6                     model.1.cv2.bn.bias         BatchNorm2d      True           8                 [8]         0         0        float32\n",
      "    7                 model.1.cv3.conv.weight              Conv2d      True         256      [16, 16, 1, 1]   -0.0061     0.139        float32\n",
      "    8                   model.1.cv3.bn.weight         BatchNorm2d      True          16                [16]         1         0        float32\n",
      "    8                     model.1.cv3.bn.bias         BatchNorm2d      True          16                [16]         0         0        float32\n",
      "    9                               model.1.m          Sequential     False           0                  []         -         -              -\n",
      "   10                      model.1.se.squeeze   AdaptiveAvgPool2d     False           0                  []         -         -              -\n",
      "   11          model.1.se.excitation.0.weight              Linear      True          16             [1, 16]    0.0517     0.146        float32\n",
      "   12                 model.1.se.excitation.1                SiLU     False           0                  []         -         -              -\n",
      "   13          model.1.se.excitation.2.weight              Linear      True          16             [16, 1]    0.0589     0.593        float32\n",
      "   14                 model.1.se.excitation.3             Sigmoid     False           0                  []         -         -              -\n",
      "   15                     model.2.conv.weight              Conv2d      True        4608      [32, 16, 3, 3]   0.00022    0.0481        float32\n",
      "   16                       model.2.bn.weight         BatchNorm2d      True          32                [32]         1         0        float32\n",
      "   16                         model.2.bn.bias         BatchNorm2d      True          32                [32]         0         0        float32\n",
      "   17                 model.3.cv1.conv.weight              Conv2d      True        1024      [32, 32, 1, 1]   0.00327     0.105        float32\n",
      "   18                   model.3.cv1.bn.weight         BatchNorm2d      True          32                [32]         1         0        float32\n",
      "   18                     model.3.cv1.bn.bias         BatchNorm2d      True          32                [32]         0         0        float32\n",
      "   19                 model.3.cv2.conv.weight              Conv2d      True        3072      [64, 48, 1, 1]  0.000248     0.084        float32\n",
      "   20                   model.3.cv2.bn.weight         BatchNorm2d      True          64                [64]         1         0        float32\n",
      "   20                     model.3.cv2.bn.bias         BatchNorm2d      True          64                [64]         0         0        float32\n",
      "   21             model.3.m.0.cv1.conv.weight              Conv2d      True        1152       [8, 16, 3, 3]   0.00105    0.0486        float32\n",
      "   22               model.3.m.0.cv1.bn.weight         BatchNorm2d      True           8                 [8]         1         0        float32\n",
      "   22                 model.3.m.0.cv1.bn.bias         BatchNorm2d      True           8                 [8]         0         0        float32\n",
      "   23             model.3.m.0.cv2.conv.weight              Conv2d      True        1152       [16, 8, 3, 3]  -0.00375    0.0681        float32\n",
      "   24               model.3.m.0.cv2.bn.weight         BatchNorm2d      True          16                [16]         1         0        float32\n",
      "   24                 model.3.m.0.cv2.bn.bias         BatchNorm2d      True          16                [16]         0         0        float32\n",
      "   25                     model.4.conv.weight              Conv2d      True       36864      [64, 64, 3, 3]  8.07e-05     0.024        float32\n",
      "   26                       model.4.bn.weight         BatchNorm2d      True          64                [64]         1         0        float32\n",
      "   26                         model.4.bn.bias         BatchNorm2d      True          64                [64]         0         0        float32\n",
      "   27                 model.5.cv1.conv.weight              Conv2d      True        4096      [64, 64, 1, 1]  0.000143    0.0727        float32\n",
      "   28                   model.5.cv1.bn.weight         BatchNorm2d      True          64                [64]         1         0        float32\n",
      "   28                     model.5.cv1.bn.bias         BatchNorm2d      True          64                [64]         0         0        float32\n",
      "   29                 model.5.cv2.conv.weight              Conv2d      True       12288     [128, 96, 1, 1] -0.000288     0.059        float32\n",
      "   30                   model.5.cv2.bn.weight         BatchNorm2d      True         128               [128]         1         0        float32\n",
      "   30                     model.5.cv2.bn.bias         BatchNorm2d      True         128               [128]         0         0        float32\n",
      "   31             model.5.m.0.cv1.conv.weight              Conv2d      True        4608      [16, 32, 3, 3] -0.000932    0.0343        float32\n",
      "   32               model.5.m.0.cv1.bn.weight         BatchNorm2d      True          16                [16]         1         0        float32\n",
      "   32                 model.5.m.0.cv1.bn.bias         BatchNorm2d      True          16                [16]         0         0        float32\n",
      "   33             model.5.m.0.cv2.conv.weight              Conv2d      True        4608      [32, 16, 3, 3]  -0.00157     0.048        float32\n",
      "   34               model.5.m.0.cv2.bn.weight         BatchNorm2d      True          32                [32]         1         0        float32\n",
      "   34                 model.5.m.0.cv2.bn.bias         BatchNorm2d      True          32                [32]         0         0        float32\n",
      "   35                     model.6.conv.weight              Conv2d      True      147456    [128, 128, 3, 3] -2.15e-06     0.017        float32\n",
      "   36                       model.6.bn.weight         BatchNorm2d      True         128               [128]         1         0        float32\n",
      "   36                         model.6.bn.bias         BatchNorm2d      True         128               [128]         0         0        float32\n",
      "   37                 model.7.cv1.conv.weight              Conv2d      True       16384    [128, 128, 1, 1] -0.000738    0.0511        float32\n",
      "   38                   model.7.cv1.bn.weight         BatchNorm2d      True         128               [128]         1         0        float32\n",
      "   38                     model.7.cv1.bn.bias         BatchNorm2d      True         128               [128]         0         0        float32\n",
      "   39                 model.7.cv2.conv.weight              Conv2d      True       24576    [128, 192, 1, 1]  0.000368    0.0416        float32\n",
      "   40                   model.7.cv2.bn.weight         BatchNorm2d      True         128               [128]         1         0        float32\n",
      "   40                     model.7.cv2.bn.bias         BatchNorm2d      True         128               [128]         0         0        float32\n",
      "   41             model.7.m.0.cv1.conv.weight              Conv2d      True        2048      [32, 64, 1, 1]   0.00057    0.0724        float32\n",
      "   42               model.7.m.0.cv1.bn.weight         BatchNorm2d      True          32                [32]         1         0        float32\n",
      "   42                 model.7.m.0.cv1.bn.bias         BatchNorm2d      True          32                [32]         0         0        float32\n",
      "   43             model.7.m.0.cv2.conv.weight              Conv2d      True        2048      [32, 64, 1, 1]  -0.00141    0.0722        float32\n",
      "   44               model.7.m.0.cv2.bn.weight         BatchNorm2d      True          32                [32]         1         0        float32\n",
      "   44                 model.7.m.0.cv2.bn.bias         BatchNorm2d      True          32                [32]         0         0        float32\n",
      "   45             model.7.m.0.cv3.conv.weight              Conv2d      True        4096      [64, 64, 1, 1]    0.0025    0.0722        float32\n",
      "   46               model.7.m.0.cv3.bn.weight         BatchNorm2d      True          64                [64]         1         0        float32\n",
      "   46                 model.7.m.0.cv3.bn.bias         BatchNorm2d      True          64                [64]         0         0        float32\n",
      "   47         model.7.m.0.m.0.cv1.conv.weight              Conv2d      True        9216      [32, 32, 3, 3]  3.08e-05    0.0342        float32\n",
      "   48           model.7.m.0.m.0.cv1.bn.weight         BatchNorm2d      True          32                [32]         1         0        float32\n",
      "   48             model.7.m.0.m.0.cv1.bn.bias         BatchNorm2d      True          32                [32]         0         0        float32\n",
      "   49         model.7.m.0.m.0.cv2.conv.weight              Conv2d      True        9216      [32, 32, 3, 3] -0.000367    0.0341        float32\n",
      "   50           model.7.m.0.m.0.cv2.bn.weight         BatchNorm2d      True          32                [32]         1         0        float32\n",
      "   50             model.7.m.0.m.0.cv2.bn.bias         BatchNorm2d      True          32                [32]         0         0        float32\n",
      "   51         model.7.m.0.m.1.cv1.conv.weight              Conv2d      True        9216      [32, 32, 3, 3]   0.00055     0.034        float32\n",
      "   52           model.7.m.0.m.1.cv1.bn.weight         BatchNorm2d      True          32                [32]         1         0        float32\n",
      "   52             model.7.m.0.m.1.cv1.bn.bias         BatchNorm2d      True          32                [32]         0         0        float32\n",
      "   53         model.7.m.0.m.1.cv2.conv.weight              Conv2d      True        9216      [32, 32, 3, 3] -0.000976     0.034        float32\n",
      "   54           model.7.m.0.m.1.cv2.bn.weight         BatchNorm2d      True          32                [32]         1         0        float32\n",
      "   54             model.7.m.0.m.1.cv2.bn.bias         BatchNorm2d      True          32                [32]         0         0        float32\n",
      "   55                     model.8.conv.weight              Conv2d      True      294912    [256, 128, 3, 3]  5.22e-05     0.017        float32\n",
      "   56                       model.8.bn.weight         BatchNorm2d      True         256               [256]         1         0        float32\n",
      "   56                         model.8.bn.bias         BatchNorm2d      True         256               [256]         0         0        float32\n",
      "   57                 model.9.cv1.conv.weight              Conv2d      True       65536    [256, 256, 1, 1]  5.04e-05     0.036        float32\n",
      "   58                   model.9.cv1.bn.weight         BatchNorm2d      True         256               [256]         1         0        float32\n",
      "   58                     model.9.cv1.bn.bias         BatchNorm2d      True         256               [256]         0         0        float32\n",
      "   59                 model.9.cv2.conv.weight              Conv2d      True       98304    [256, 384, 1, 1] -0.000111    0.0294        float32\n",
      "   60                   model.9.cv2.bn.weight         BatchNorm2d      True         256               [256]         1         0        float32\n",
      "   60                     model.9.cv2.bn.bias         BatchNorm2d      True         256               [256]         0         0        float32\n",
      "   61             model.9.m.0.cv1.conv.weight              Conv2d      True        8192     [64, 128, 1, 1] -0.000569    0.0512        float32\n",
      "   62               model.9.m.0.cv1.bn.weight         BatchNorm2d      True          64                [64]         1         0        float32\n",
      "   62                 model.9.m.0.cv1.bn.bias         BatchNorm2d      True          64                [64]         0         0        float32\n",
      "   63             model.9.m.0.cv2.conv.weight              Conv2d      True        8192     [64, 128, 1, 1]  0.000463    0.0512        float32\n",
      "   64               model.9.m.0.cv2.bn.weight         BatchNorm2d      True          64                [64]         1         0        float32\n",
      "   64                 model.9.m.0.cv2.bn.bias         BatchNorm2d      True          64                [64]         0         0        float32\n",
      "   65             model.9.m.0.cv3.conv.weight              Conv2d      True       16384    [128, 128, 1, 1]  0.000236    0.0509        float32\n",
      "   66               model.9.m.0.cv3.bn.weight         BatchNorm2d      True         128               [128]         1         0        float32\n",
      "   66                 model.9.m.0.cv3.bn.bias         BatchNorm2d      True         128               [128]         0         0        float32\n",
      "   67         model.9.m.0.m.0.cv1.conv.weight              Conv2d      True       36864      [64, 64, 3, 3]  0.000191     0.024        float32\n",
      "   68           model.9.m.0.m.0.cv1.bn.weight         BatchNorm2d      True          64                [64]         1         0        float32\n",
      "   68             model.9.m.0.m.0.cv1.bn.bias         BatchNorm2d      True          64                [64]         0         0        float32\n",
      "   69         model.9.m.0.m.0.cv2.conv.weight              Conv2d      True       36864      [64, 64, 3, 3]  0.000123     0.024        float32\n",
      "   70           model.9.m.0.m.0.cv2.bn.weight         BatchNorm2d      True          64                [64]         1         0        float32\n",
      "   70             model.9.m.0.m.0.cv2.bn.bias         BatchNorm2d      True          64                [64]         0         0        float32\n",
      "   71         model.9.m.0.m.1.cv1.conv.weight              Conv2d      True       36864      [64, 64, 3, 3]   8.3e-05    0.0241        float32\n",
      "   72           model.9.m.0.m.1.cv1.bn.weight         BatchNorm2d      True          64                [64]         1         0        float32\n",
      "   72             model.9.m.0.m.1.cv1.bn.bias         BatchNorm2d      True          64                [64]         0         0        float32\n",
      "   73         model.9.m.0.m.1.cv2.conv.weight              Conv2d      True       36864      [64, 64, 3, 3]  4.43e-05     0.024        float32\n",
      "   74           model.9.m.0.m.1.cv2.bn.weight         BatchNorm2d      True          64                [64]         1         0        float32\n",
      "   74             model.9.m.0.m.1.cv2.bn.bias         BatchNorm2d      True          64                [64]         0         0        float32\n",
      "   75                model.10.cv1.conv.weight              Conv2d      True       32768    [128, 256, 1, 1]  6.14e-05    0.0361        float32\n",
      "   76                  model.10.cv1.bn.weight         BatchNorm2d      True         128               [128]         1         0        float32\n",
      "   76                    model.10.cv1.bn.bias         BatchNorm2d      True         128               [128]         0         0        float32\n",
      "   77                model.10.cv2.conv.weight              Conv2d      True      131072    [256, 512, 1, 1] -4.42e-06    0.0255        float32\n",
      "   78                  model.10.cv2.bn.weight         BatchNorm2d      True         256               [256]         1         0        float32\n",
      "   78                    model.10.cv2.bn.bias         BatchNorm2d      True         256               [256]         0         0        float32\n",
      "   79                              model.10.m           MaxPool2d     False           0                  []         -         -              -\n",
      "   80                model.11.cv1.conv.weight              Conv2d      True       65536    [256, 256, 1, 1] -3.58e-05    0.0361        float32\n",
      "   81                  model.11.cv1.bn.weight         BatchNorm2d      True         256               [256]         1         0        float32\n",
      "   81                    model.11.cv1.bn.bias         BatchNorm2d      True         256               [256]         0         0        float32\n",
      "   82                model.11.cv2.conv.weight              Conv2d      True       65536    [256, 256, 1, 1] -5.81e-05    0.0361        float32\n",
      "   83                  model.11.cv2.bn.weight         BatchNorm2d      True         256               [256]         1         0        float32\n",
      "   83                    model.11.cv2.bn.bias         BatchNorm2d      True         256               [256]         0         0        float32\n",
      "   84       model.11.m.0.attn.qkv.conv.weight              Conv2d      True       32768    [256, 128, 1, 1] -0.000315     0.051        float32\n",
      "   85         model.11.m.0.attn.qkv.bn.weight         BatchNorm2d      True         256               [256]         1         0        float32\n",
      "   85           model.11.m.0.attn.qkv.bn.bias         BatchNorm2d      True         256               [256]         0         0        float32\n",
      "   86               model.11.m.0.attn.qkv.act            Identity     False           0                  []         -         -              -\n",
      "   87      model.11.m.0.attn.proj.conv.weight              Conv2d      True       16384    [128, 128, 1, 1]  0.000491    0.0512        float32\n",
      "   88        model.11.m.0.attn.proj.bn.weight         BatchNorm2d      True         128               [128]         1         0        float32\n",
      "   88          model.11.m.0.attn.proj.bn.bias         BatchNorm2d      True         128               [128]         0         0        float32\n",
      "   89              model.11.m.0.attn.proj.act            Identity     False           0                  []         -         -              -\n",
      "   90        model.11.m.0.attn.pe.conv.weight              Conv2d      True        1152      [128, 1, 3, 3]  -0.00376     0.191        float32\n",
      "   91          model.11.m.0.attn.pe.bn.weight         BatchNorm2d      True         128               [128]         1         0        float32\n",
      "   91            model.11.m.0.attn.pe.bn.bias         BatchNorm2d      True         128               [128]         0         0        float32\n",
      "   92                model.11.m.0.attn.pe.act            Identity     False           0                  []         -         -              -\n",
      "   93          model.11.m.0.ffn.0.conv.weight              Conv2d      True       32768    [256, 128, 1, 1] -0.000481     0.051        float32\n",
      "   94            model.11.m.0.ffn.0.bn.weight         BatchNorm2d      True         256               [256]         1         0        float32\n",
      "   94              model.11.m.0.ffn.0.bn.bias         BatchNorm2d      True         256               [256]         0         0        float32\n",
      "   95          model.11.m.0.ffn.1.conv.weight              Conv2d      True       32768    [128, 256, 1, 1]  0.000305    0.0361        float32\n",
      "   96            model.11.m.0.ffn.1.bn.weight         BatchNorm2d      True         128               [128]         1         0        float32\n",
      "   96              model.11.m.0.ffn.1.bn.bias         BatchNorm2d      True         128               [128]         0         0        float32\n",
      "   97                  model.11.m.0.ffn.1.act            Identity     False           0                  []         -         -              -\n",
      "   98                                model.12            Upsample     False           0                  []         -         -              -\n",
      "   99                                model.13              Concat     False           0                  []         -         -              -\n",
      "  100                model.14.cv1.conv.weight              Conv2d      True       49152    [128, 384, 1, 1]  0.000106    0.0294        float32\n",
      "  101                  model.14.cv1.bn.weight         BatchNorm2d      True         128               [128]         1         0        float32\n",
      "  101                    model.14.cv1.bn.bias         BatchNorm2d      True         128               [128]         0         0        float32\n",
      "  102                model.14.cv2.conv.weight              Conv2d      True       24576    [128, 192, 1, 1]  -0.00018    0.0417        float32\n",
      "  103                  model.14.cv2.bn.weight         BatchNorm2d      True         128               [128]         1         0        float32\n",
      "  103                    model.14.cv2.bn.bias         BatchNorm2d      True         128               [128]         0         0        float32\n",
      "  104            model.14.m.0.cv1.conv.weight              Conv2d      True       18432      [32, 64, 3, 3]  7.95e-05     0.024        float32\n",
      "  105              model.14.m.0.cv1.bn.weight         BatchNorm2d      True          32                [32]         1         0        float32\n",
      "  105                model.14.m.0.cv1.bn.bias         BatchNorm2d      True          32                [32]         0         0        float32\n",
      "  106            model.14.m.0.cv2.conv.weight              Conv2d      True       18432      [64, 32, 3, 3] -7.45e-05     0.034        float32\n",
      "  107              model.14.m.0.cv2.bn.weight         BatchNorm2d      True          64                [64]         1         0        float32\n",
      "  107                model.14.m.0.cv2.bn.bias         BatchNorm2d      True          64                [64]         0         0        float32\n",
      "  108                                model.15            Upsample     False           0                  []         -         -              -\n",
      "  109                                model.16              Concat     False           0                  []         -         -              -\n",
      "  110                model.17.cv1.conv.weight              Conv2d      True       16384     [64, 256, 1, 1]  0.000153    0.0361        float32\n",
      "  111                  model.17.cv1.bn.weight         BatchNorm2d      True          64                [64]         1         0        float32\n",
      "  111                    model.17.cv1.bn.bias         BatchNorm2d      True          64                [64]         0         0        float32\n",
      "  112                model.17.cv2.conv.weight              Conv2d      True        6144      [64, 96, 1, 1]    0.0014     0.059        float32\n",
      "  113                  model.17.cv2.bn.weight         BatchNorm2d      True          64                [64]         1         0        float32\n",
      "  113                    model.17.cv2.bn.bias         BatchNorm2d      True          64                [64]         0         0        float32\n",
      "  114            model.17.m.0.cv1.conv.weight              Conv2d      True        4608      [16, 32, 3, 3] -0.000418    0.0342        float32\n",
      "  115              model.17.m.0.cv1.bn.weight         BatchNorm2d      True          16                [16]         1         0        float32\n",
      "  115                model.17.m.0.cv1.bn.bias         BatchNorm2d      True          16                [16]         0         0        float32\n",
      "  116            model.17.m.0.cv2.conv.weight              Conv2d      True        4608      [32, 16, 3, 3]  0.000243    0.0483        float32\n",
      "  117              model.17.m.0.cv2.bn.weight         BatchNorm2d      True          32                [32]         1         0        float32\n",
      "  117                model.17.m.0.cv2.bn.bias         BatchNorm2d      True          32                [32]         0         0        float32\n",
      "  118                    model.18.conv.weight              Conv2d      True       36864      [64, 64, 3, 3]  0.000213    0.0241        float32\n",
      "  119                      model.18.bn.weight         BatchNorm2d      True          64                [64]         1         0        float32\n",
      "  119                        model.18.bn.bias         BatchNorm2d      True          64                [64]         0         0        float32\n",
      "  120                                model.19              Concat     False           0                  []         -         -              -\n",
      "  121                model.20.cv1.conv.weight              Conv2d      True       24576    [128, 192, 1, 1]  2.12e-05    0.0418        float32\n",
      "  122                  model.20.cv1.bn.weight         BatchNorm2d      True         128               [128]         1         0        float32\n",
      "  122                    model.20.cv1.bn.bias         BatchNorm2d      True         128               [128]         0         0        float32\n",
      "  123                model.20.cv2.conv.weight              Conv2d      True       24576    [128, 192, 1, 1] -8.12e-05    0.0417        float32\n",
      "  124                  model.20.cv2.bn.weight         BatchNorm2d      True         128               [128]         1         0        float32\n",
      "  124                    model.20.cv2.bn.bias         BatchNorm2d      True         128               [128]         0         0        float32\n",
      "  125            model.20.m.0.cv1.conv.weight              Conv2d      True       18432      [32, 64, 3, 3] -5.74e-05    0.0241        float32\n",
      "  126              model.20.m.0.cv1.bn.weight         BatchNorm2d      True          32                [32]         1         0        float32\n",
      "  126                model.20.m.0.cv1.bn.bias         BatchNorm2d      True          32                [32]         0         0        float32\n",
      "  127            model.20.m.0.cv2.conv.weight              Conv2d      True       18432      [64, 32, 3, 3] -0.000225     0.034        float32\n",
      "  128              model.20.m.0.cv2.bn.weight         BatchNorm2d      True          64                [64]         1         0        float32\n",
      "  128                model.20.m.0.cv2.bn.bias         BatchNorm2d      True          64                [64]         0         0        float32\n",
      "  129                    model.21.conv.weight              Conv2d      True      147456    [128, 128, 3, 3]  2.14e-05     0.017        float32\n",
      "  130                      model.21.bn.weight         BatchNorm2d      True         128               [128]         1         0        float32\n",
      "  130                        model.21.bn.bias         BatchNorm2d      True         128               [128]         0         0        float32\n",
      "  131                                model.22              Concat     False           0                  []         -         -              -\n",
      "  132                model.23.cv1.conv.weight              Conv2d      True       98304    [256, 384, 1, 1] -6.07e-05    0.0294        float32\n",
      "  133                  model.23.cv1.bn.weight         BatchNorm2d      True         256               [256]         1         0        float32\n",
      "  133                    model.23.cv1.bn.bias         BatchNorm2d      True         256               [256]         0         0        float32\n",
      "  134                model.23.cv2.conv.weight              Conv2d      True       98304    [256, 384, 1, 1]  -1.5e-05    0.0295        float32\n",
      "  135                  model.23.cv2.bn.weight         BatchNorm2d      True         256               [256]         1         0        float32\n",
      "  135                    model.23.cv2.bn.bias         BatchNorm2d      True         256               [256]         0         0        float32\n",
      "  136            model.23.m.0.cv1.conv.weight              Conv2d      True        8192     [64, 128, 1, 1] -0.000446    0.0508        float32\n",
      "  137              model.23.m.0.cv1.bn.weight         BatchNorm2d      True          64                [64]         1         0        float32\n",
      "  137                model.23.m.0.cv1.bn.bias         BatchNorm2d      True          64                [64]         0         0        float32\n",
      "  138            model.23.m.0.cv2.conv.weight              Conv2d      True        8192     [64, 128, 1, 1] -0.000209    0.0515        float32\n",
      "  139              model.23.m.0.cv2.bn.weight         BatchNorm2d      True          64                [64]         1         0        float32\n",
      "  139                model.23.m.0.cv2.bn.bias         BatchNorm2d      True          64                [64]         0         0        float32\n",
      "  140            model.23.m.0.cv3.conv.weight              Conv2d      True       16384    [128, 128, 1, 1] -9.44e-05    0.0509        float32\n",
      "  141              model.23.m.0.cv3.bn.weight         BatchNorm2d      True         128               [128]         1         0        float32\n",
      "  141                model.23.m.0.cv3.bn.bias         BatchNorm2d      True         128               [128]         0         0        float32\n",
      "  142        model.23.m.0.m.0.cv1.conv.weight              Conv2d      True       36864      [64, 64, 3, 3] -9.57e-05    0.0241        float32\n",
      "  143          model.23.m.0.m.0.cv1.bn.weight         BatchNorm2d      True          64                [64]         1         0        float32\n",
      "  143            model.23.m.0.m.0.cv1.bn.bias         BatchNorm2d      True          64                [64]         0         0        float32\n",
      "  144        model.23.m.0.m.0.cv2.conv.weight              Conv2d      True       36864      [64, 64, 3, 3] -2.95e-05     0.024        float32\n",
      "  145          model.23.m.0.m.0.cv2.bn.weight         BatchNorm2d      True          64                [64]         1         0        float32\n",
      "  145            model.23.m.0.m.0.cv2.bn.bias         BatchNorm2d      True          64                [64]         0         0        float32\n",
      "  146        model.23.m.0.m.1.cv1.conv.weight              Conv2d      True       36864      [64, 64, 3, 3]  -1.2e-05    0.0239        float32\n",
      "  147          model.23.m.0.m.1.cv1.bn.weight         BatchNorm2d      True          64                [64]         1         0        float32\n",
      "  147            model.23.m.0.m.1.cv1.bn.bias         BatchNorm2d      True          64                [64]         0         0        float32\n",
      "  148        model.23.m.0.m.1.cv2.conv.weight              Conv2d      True       36864      [64, 64, 3, 3]  -7.4e-05    0.0241        float32\n",
      "  149          model.23.m.0.m.1.cv2.bn.weight         BatchNorm2d      True          64                [64]         1         0        float32\n",
      "  149            model.23.m.0.m.1.cv2.bn.bias         BatchNorm2d      True          64                [64]         0         0        float32\n",
      "  150            model.24.cv2.0.0.conv.weight              Conv2d      True       36864      [64, 64, 3, 3]  1.55e-06    0.0242        float32\n",
      "  151              model.24.cv2.0.0.bn.weight         BatchNorm2d      True          64                [64]         1         0        float32\n",
      "  151                model.24.cv2.0.0.bn.bias         BatchNorm2d      True          64                [64]         0         0        float32\n",
      "  152            model.24.cv2.0.1.conv.weight              Conv2d      True       36864      [64, 64, 3, 3] -0.000149     0.024        float32\n",
      "  153              model.24.cv2.0.1.bn.weight         BatchNorm2d      True          64                [64]         1         0        float32\n",
      "  153                model.24.cv2.0.1.bn.bias         BatchNorm2d      True          64                [64]         0         0        float32\n",
      "  154                 model.24.cv2.0.2.weight              Conv2d      True        4096      [64, 64, 1, 1]  0.000257    0.0721        float32\n",
      "  154                   model.24.cv2.0.2.bias              Conv2d      True          64                [64]         1         0        float32\n",
      "  155            model.24.cv2.1.0.conv.weight              Conv2d      True       73728     [64, 128, 3, 3]   0.00014     0.017        float32\n",
      "  156              model.24.cv2.1.0.bn.weight         BatchNorm2d      True          64                [64]         1         0        float32\n",
      "  156                model.24.cv2.1.0.bn.bias         BatchNorm2d      True          64                [64]         0         0        float32\n",
      "  157            model.24.cv2.1.1.conv.weight              Conv2d      True       36864      [64, 64, 3, 3]  0.000113    0.0241        float32\n",
      "  158              model.24.cv2.1.1.bn.weight         BatchNorm2d      True          64                [64]         1         0        float32\n",
      "  158                model.24.cv2.1.1.bn.bias         BatchNorm2d      True          64                [64]         0         0        float32\n",
      "  159                 model.24.cv2.1.2.weight              Conv2d      True        4096      [64, 64, 1, 1] -0.000657    0.0721        float32\n",
      "  159                   model.24.cv2.1.2.bias              Conv2d      True          64                [64]         1         0        float32\n",
      "  160            model.24.cv2.2.0.conv.weight              Conv2d      True      147456     [64, 256, 3, 3] -4.77e-05     0.012        float32\n",
      "  161              model.24.cv2.2.0.bn.weight         BatchNorm2d      True          64                [64]         1         0        float32\n",
      "  161                model.24.cv2.2.0.bn.bias         BatchNorm2d      True          64                [64]         0         0        float32\n",
      "  162            model.24.cv2.2.1.conv.weight              Conv2d      True       36864      [64, 64, 3, 3]  -0.00022    0.0241        float32\n",
      "  163              model.24.cv2.2.1.bn.weight         BatchNorm2d      True          64                [64]         1         0        float32\n",
      "  163                model.24.cv2.2.1.bn.bias         BatchNorm2d      True          64                [64]         0         0        float32\n",
      "  164                 model.24.cv2.2.2.weight              Conv2d      True        4096      [64, 64, 1, 1]   0.00046    0.0714        float32\n",
      "  164                   model.24.cv2.2.2.bias              Conv2d      True          64                [64]         1         0        float32\n",
      "  165          model.24.cv3.0.0.0.conv.weight              Conv2d      True         576       [64, 1, 3, 3] -0.000953     0.193        float32\n",
      "  166            model.24.cv3.0.0.0.bn.weight         BatchNorm2d      True          64                [64]         1         0        float32\n",
      "  166              model.24.cv3.0.0.0.bn.bias         BatchNorm2d      True          64                [64]         0         0        float32\n",
      "  167          model.24.cv3.0.0.1.conv.weight              Conv2d      True        4096      [64, 64, 1, 1]  0.000875    0.0725        float32\n",
      "  168            model.24.cv3.0.0.1.bn.weight         BatchNorm2d      True          64                [64]         1         0        float32\n",
      "  168              model.24.cv3.0.0.1.bn.bias         BatchNorm2d      True          64                [64]         0         0        float32\n",
      "  169          model.24.cv3.0.1.0.conv.weight              Conv2d      True         576       [64, 1, 3, 3]   0.00594     0.195        float32\n",
      "  170            model.24.cv3.0.1.0.bn.weight         BatchNorm2d      True          64                [64]         1         0        float32\n",
      "  170              model.24.cv3.0.1.0.bn.bias         BatchNorm2d      True          64                [64]         0         0        float32\n",
      "  171          model.24.cv3.0.1.1.conv.weight              Conv2d      True        4096      [64, 64, 1, 1]  0.000826    0.0722        float32\n",
      "  172            model.24.cv3.0.1.1.bn.weight         BatchNorm2d      True          64                [64]         1         0        float32\n",
      "  172              model.24.cv3.0.1.1.bn.bias         BatchNorm2d      True          64                [64]         0         0        float32\n",
      "  173                 model.24.cv3.0.2.weight              Conv2d      True         512       [8, 64, 1, 1]  0.000414    0.0737        float32\n",
      "  173                   model.24.cv3.0.2.bias              Conv2d      True           8                 [8]     -9.23         0        float32\n",
      "  174          model.24.cv3.1.0.0.conv.weight              Conv2d      True        1152      [128, 1, 3, 3] -0.000188     0.192        float32\n",
      "  175            model.24.cv3.1.0.0.bn.weight         BatchNorm2d      True         128               [128]         1         0        float32\n",
      "  175              model.24.cv3.1.0.0.bn.bias         BatchNorm2d      True         128               [128]         0         0        float32\n",
      "  176          model.24.cv3.1.0.1.conv.weight              Conv2d      True        8192     [64, 128, 1, 1]  0.000371    0.0507        float32\n",
      "  177            model.24.cv3.1.0.1.bn.weight         BatchNorm2d      True          64                [64]         1         0        float32\n",
      "  177              model.24.cv3.1.0.1.bn.bias         BatchNorm2d      True          64                [64]         0         0        float32\n",
      "  178          model.24.cv3.1.1.0.conv.weight              Conv2d      True         576       [64, 1, 3, 3]    0.0063     0.194        float32\n",
      "  179            model.24.cv3.1.1.0.bn.weight         BatchNorm2d      True          64                [64]         1         0        float32\n",
      "  179              model.24.cv3.1.1.0.bn.bias         BatchNorm2d      True          64                [64]         0         0        float32\n",
      "  180          model.24.cv3.1.1.1.conv.weight              Conv2d      True        4096      [64, 64, 1, 1]  -0.00239    0.0722        float32\n",
      "  181            model.24.cv3.1.1.1.bn.weight         BatchNorm2d      True          64                [64]         1         0        float32\n",
      "  181              model.24.cv3.1.1.1.bn.bias         BatchNorm2d      True          64                [64]         0         0        float32\n",
      "  182                 model.24.cv3.1.2.weight              Conv2d      True         512       [8, 64, 1, 1]   0.00233    0.0721        float32\n",
      "  182                   model.24.cv3.1.2.bias              Conv2d      True           8                 [8]     -7.85         0        float32\n",
      "  183          model.24.cv3.2.0.0.conv.weight              Conv2d      True        2304      [256, 1, 3, 3]  0.000647     0.191        float32\n",
      "  184            model.24.cv3.2.0.0.bn.weight         BatchNorm2d      True         256               [256]         1         0        float32\n",
      "  184              model.24.cv3.2.0.0.bn.bias         BatchNorm2d      True         256               [256]         0         0        float32\n",
      "  185          model.24.cv3.2.0.1.conv.weight              Conv2d      True       16384     [64, 256, 1, 1] -0.000241    0.0362        float32\n",
      "  186            model.24.cv3.2.0.1.bn.weight         BatchNorm2d      True          64                [64]         1         0        float32\n",
      "  186              model.24.cv3.2.0.1.bn.bias         BatchNorm2d      True          64                [64]         0         0        float32\n",
      "  187          model.24.cv3.2.1.0.conv.weight              Conv2d      True         576       [64, 1, 3, 3]  -0.00311     0.196        float32\n",
      "  188            model.24.cv3.2.1.0.bn.weight         BatchNorm2d      True          64                [64]         1         0        float32\n",
      "  188              model.24.cv3.2.1.0.bn.bias         BatchNorm2d      True          64                [64]         0         0        float32\n",
      "  189          model.24.cv3.2.1.1.conv.weight              Conv2d      True        4096      [64, 64, 1, 1]  0.000523    0.0728        float32\n",
      "  190            model.24.cv3.2.1.1.bn.weight         BatchNorm2d      True          64                [64]         1         0        float32\n",
      "  190              model.24.cv3.2.1.1.bn.bias         BatchNorm2d      True          64                [64]         0         0        float32\n",
      "  191                 model.24.cv3.2.2.weight              Conv2d      True         512       [8, 64, 1, 1]  -0.00313    0.0736        float32\n",
      "  191                   model.24.cv3.2.2.bias              Conv2d      True           8                 [8]     -6.46         0        float32\n",
      "  192                model.24.dfl.conv.weight              Conv2d     False          16       [1, 16, 1, 1]       7.5      4.76        float32\n",
      "YOLO11n_se summary: 193 layers, 2,592,008 parameters, 2,591,992 gradients, 6.6 GFLOPs\n",
      "(193, 2592008, 2591992, 6.5825152)\n",
      "网络结构详细：\n",
      "<bound method Model.info of YOLO(\n",
      "  (model): DetectionModel(\n",
      "    (model): Sequential(\n",
      "      (0): Conv(\n",
      "        (conv): Conv2d(3, 16, kernel_size=(3, 3), stride=(2, 2), padding=(1, 1), bias=False)\n",
      "        (bn): BatchNorm2d(16, eps=0.001, momentum=0.03, affine=True, track_running_stats=True)\n",
      "        (act): SiLU(inplace=True)\n",
      "      )\n",
      "      (1): C3SE(\n",
      "        (cv1): Conv(\n",
      "          (conv): Conv2d(16, 8, kernel_size=(1, 1), stride=(1, 1), bias=False)\n",
      "          (bn): BatchNorm2d(8, eps=0.001, momentum=0.03, affine=True, track_running_stats=True)\n",
      "          (act): SiLU(inplace=True)\n",
      "        )\n",
      "        (cv2): Conv(\n",
      "          (conv): Conv2d(16, 8, kernel_size=(1, 1), stride=(1, 1), bias=False)\n",
      "          (bn): BatchNorm2d(8, eps=0.001, momentum=0.03, affine=True, track_running_stats=True)\n",
      "          (act): SiLU(inplace=True)\n",
      "        )\n",
      "        (cv3): Conv(\n",
      "          (conv): Conv2d(16, 16, kernel_size=(1, 1), stride=(1, 1), bias=False)\n",
      "          (bn): BatchNorm2d(16, eps=0.001, momentum=0.03, affine=True, track_running_stats=True)\n",
      "          (act): SiLU(inplace=True)\n",
      "        )\n",
      "        (m): Sequential()\n",
      "        (se): SEBlock(\n",
      "          (squeeze): AdaptiveAvgPool2d(output_size=1)\n",
      "          (excitation): Sequential(\n",
      "            (0): Linear(in_features=16, out_features=1, bias=False)\n",
      "            (1): SiLU(inplace=True)\n",
      "            (2): Linear(in_features=1, out_features=16, bias=False)\n",
      "            (3): Sigmoid()\n",
      "          )\n",
      "        )\n",
      "      )\n",
      "      (2): Conv(\n",
      "        (conv): Conv2d(16, 32, kernel_size=(3, 3), stride=(2, 2), padding=(1, 1), bias=False)\n",
      "        (bn): BatchNorm2d(32, eps=0.001, momentum=0.03, affine=True, track_running_stats=True)\n",
      "        (act): SiLU(inplace=True)\n",
      "      )\n",
      "      (3): C3k2(\n",
      "        (cv1): Conv(\n",
      "          (conv): Conv2d(32, 32, kernel_size=(1, 1), stride=(1, 1), bias=False)\n",
      "          (bn): BatchNorm2d(32, eps=0.001, momentum=0.03, affine=True, track_running_stats=True)\n",
      "          (act): SiLU(inplace=True)\n",
      "        )\n",
      "        (cv2): Conv(\n",
      "          (conv): Conv2d(48, 64, kernel_size=(1, 1), stride=(1, 1), bias=False)\n",
      "          (bn): BatchNorm2d(64, eps=0.001, momentum=0.03, affine=True, track_running_stats=True)\n",
      "          (act): SiLU(inplace=True)\n",
      "        )\n",
      "        (m): ModuleList(\n",
      "          (0): Bottleneck(\n",
      "            (cv1): Conv(\n",
      "              (conv): Conv2d(16, 8, kernel_size=(3, 3), stride=(1, 1), padding=(1, 1), bias=False)\n",
      "              (bn): BatchNorm2d(8, eps=0.001, momentum=0.03, affine=True, track_running_stats=True)\n",
      "              (act): SiLU(inplace=True)\n",
      "            )\n",
      "            (cv2): Conv(\n",
      "              (conv): Conv2d(8, 16, kernel_size=(3, 3), stride=(1, 1), padding=(1, 1), bias=False)\n",
      "              (bn): BatchNorm2d(16, eps=0.001, momentum=0.03, affine=True, track_running_stats=True)\n",
      "              (act): SiLU(inplace=True)\n",
      "            )\n",
      "          )\n",
      "        )\n",
      "      )\n",
      "      (4): Conv(\n",
      "        (conv): Conv2d(64, 64, kernel_size=(3, 3), stride=(2, 2), padding=(1, 1), bias=False)\n",
      "        (bn): BatchNorm2d(64, eps=0.001, momentum=0.03, affine=True, track_running_stats=True)\n",
      "        (act): SiLU(inplace=True)\n",
      "      )\n",
      "      (5): C3k2(\n",
      "        (cv1): Conv(\n",
      "          (conv): Conv2d(64, 64, kernel_size=(1, 1), stride=(1, 1), bias=False)\n",
      "          (bn): BatchNorm2d(64, eps=0.001, momentum=0.03, affine=True, track_running_stats=True)\n",
      "          (act): SiLU(inplace=True)\n",
      "        )\n",
      "        (cv2): Conv(\n",
      "          (conv): Conv2d(96, 128, kernel_size=(1, 1), stride=(1, 1), bias=False)\n",
      "          (bn): BatchNorm2d(128, eps=0.001, momentum=0.03, affine=True, track_running_stats=True)\n",
      "          (act): SiLU(inplace=True)\n",
      "        )\n",
      "        (m): ModuleList(\n",
      "          (0): Bottleneck(\n",
      "            (cv1): Conv(\n",
      "              (conv): Conv2d(32, 16, kernel_size=(3, 3), stride=(1, 1), padding=(1, 1), bias=False)\n",
      "              (bn): BatchNorm2d(16, eps=0.001, momentum=0.03, affine=True, track_running_stats=True)\n",
      "              (act): SiLU(inplace=True)\n",
      "            )\n",
      "            (cv2): Conv(\n",
      "              (conv): Conv2d(16, 32, kernel_size=(3, 3), stride=(1, 1), padding=(1, 1), bias=False)\n",
      "              (bn): BatchNorm2d(32, eps=0.001, momentum=0.03, affine=True, track_running_stats=True)\n",
      "              (act): SiLU(inplace=True)\n",
      "            )\n",
      "          )\n",
      "        )\n",
      "      )\n",
      "      (6): Conv(\n",
      "        (conv): Conv2d(128, 128, kernel_size=(3, 3), stride=(2, 2), padding=(1, 1), bias=False)\n",
      "        (bn): BatchNorm2d(128, eps=0.001, momentum=0.03, affine=True, track_running_stats=True)\n",
      "        (act): SiLU(inplace=True)\n",
      "      )\n",
      "      (7): C3k2(\n",
      "        (cv1): Conv(\n",
      "          (conv): Conv2d(128, 128, kernel_size=(1, 1), stride=(1, 1), bias=False)\n",
      "          (bn): BatchNorm2d(128, eps=0.001, momentum=0.03, affine=True, track_running_stats=True)\n",
      "          (act): SiLU(inplace=True)\n",
      "        )\n",
      "        (cv2): Conv(\n",
      "          (conv): Conv2d(192, 128, kernel_size=(1, 1), stride=(1, 1), bias=False)\n",
      "          (bn): BatchNorm2d(128, eps=0.001, momentum=0.03, affine=True, track_running_stats=True)\n",
      "          (act): SiLU(inplace=True)\n",
      "        )\n",
      "        (m): ModuleList(\n",
      "          (0): C3k(\n",
      "            (cv1): Conv(\n",
      "              (conv): Conv2d(64, 32, kernel_size=(1, 1), stride=(1, 1), bias=False)\n",
      "              (bn): BatchNorm2d(32, eps=0.001, momentum=0.03, affine=True, track_running_stats=True)\n",
      "              (act): SiLU(inplace=True)\n",
      "            )\n",
      "            (cv2): Conv(\n",
      "              (conv): Conv2d(64, 32, kernel_size=(1, 1), stride=(1, 1), bias=False)\n",
      "              (bn): BatchNorm2d(32, eps=0.001, momentum=0.03, affine=True, track_running_stats=True)\n",
      "              (act): SiLU(inplace=True)\n",
      "            )\n",
      "            (cv3): Conv(\n",
      "              (conv): Conv2d(64, 64, kernel_size=(1, 1), stride=(1, 1), bias=False)\n",
      "              (bn): BatchNorm2d(64, eps=0.001, momentum=0.03, affine=True, track_running_stats=True)\n",
      "              (act): SiLU(inplace=True)\n",
      "            )\n",
      "            (m): Sequential(\n",
      "              (0): Bottleneck(\n",
      "                (cv1): Conv(\n",
      "                  (conv): Conv2d(32, 32, kernel_size=(3, 3), stride=(1, 1), padding=(1, 1), bias=False)\n",
      "                  (bn): BatchNorm2d(32, eps=0.001, momentum=0.03, affine=True, track_running_stats=True)\n",
      "                  (act): SiLU(inplace=True)\n",
      "                )\n",
      "                (cv2): Conv(\n",
      "                  (conv): Conv2d(32, 32, kernel_size=(3, 3), stride=(1, 1), padding=(1, 1), bias=False)\n",
      "                  (bn): BatchNorm2d(32, eps=0.001, momentum=0.03, affine=True, track_running_stats=True)\n",
      "                  (act): SiLU(inplace=True)\n",
      "                )\n",
      "              )\n",
      "              (1): Bottleneck(\n",
      "                (cv1): Conv(\n",
      "                  (conv): Conv2d(32, 32, kernel_size=(3, 3), stride=(1, 1), padding=(1, 1), bias=False)\n",
      "                  (bn): BatchNorm2d(32, eps=0.001, momentum=0.03, affine=True, track_running_stats=True)\n",
      "                  (act): SiLU(inplace=True)\n",
      "                )\n",
      "                (cv2): Conv(\n",
      "                  (conv): Conv2d(32, 32, kernel_size=(3, 3), stride=(1, 1), padding=(1, 1), bias=False)\n",
      "                  (bn): BatchNorm2d(32, eps=0.001, momentum=0.03, affine=True, track_running_stats=True)\n",
      "                  (act): SiLU(inplace=True)\n",
      "                )\n",
      "              )\n",
      "            )\n",
      "          )\n",
      "        )\n",
      "      )\n",
      "      (8): Conv(\n",
      "        (conv): Conv2d(128, 256, kernel_size=(3, 3), stride=(2, 2), padding=(1, 1), bias=False)\n",
      "        (bn): BatchNorm2d(256, eps=0.001, momentum=0.03, affine=True, track_running_stats=True)\n",
      "        (act): SiLU(inplace=True)\n",
      "      )\n",
      "      (9): C3k2(\n",
      "        (cv1): Conv(\n",
      "          (conv): Conv2d(256, 256, kernel_size=(1, 1), stride=(1, 1), bias=False)\n",
      "          (bn): BatchNorm2d(256, eps=0.001, momentum=0.03, affine=True, track_running_stats=True)\n",
      "          (act): SiLU(inplace=True)\n",
      "        )\n",
      "        (cv2): Conv(\n",
      "          (conv): Conv2d(384, 256, kernel_size=(1, 1), stride=(1, 1), bias=False)\n",
      "          (bn): BatchNorm2d(256, eps=0.001, momentum=0.03, affine=True, track_running_stats=True)\n",
      "          (act): SiLU(inplace=True)\n",
      "        )\n",
      "        (m): ModuleList(\n",
      "          (0): C3k(\n",
      "            (cv1): Conv(\n",
      "              (conv): Conv2d(128, 64, kernel_size=(1, 1), stride=(1, 1), bias=False)\n",
      "              (bn): BatchNorm2d(64, eps=0.001, momentum=0.03, affine=True, track_running_stats=True)\n",
      "              (act): SiLU(inplace=True)\n",
      "            )\n",
      "            (cv2): Conv(\n",
      "              (conv): Conv2d(128, 64, kernel_size=(1, 1), stride=(1, 1), bias=False)\n",
      "              (bn): BatchNorm2d(64, eps=0.001, momentum=0.03, affine=True, track_running_stats=True)\n",
      "              (act): SiLU(inplace=True)\n",
      "            )\n",
      "            (cv3): Conv(\n",
      "              (conv): Conv2d(128, 128, kernel_size=(1, 1), stride=(1, 1), bias=False)\n",
      "              (bn): BatchNorm2d(128, eps=0.001, momentum=0.03, affine=True, track_running_stats=True)\n",
      "              (act): SiLU(inplace=True)\n",
      "            )\n",
      "            (m): Sequential(\n",
      "              (0): Bottleneck(\n",
      "                (cv1): Conv(\n",
      "                  (conv): Conv2d(64, 64, kernel_size=(3, 3), stride=(1, 1), padding=(1, 1), bias=False)\n",
      "                  (bn): BatchNorm2d(64, eps=0.001, momentum=0.03, affine=True, track_running_stats=True)\n",
      "                  (act): SiLU(inplace=True)\n",
      "                )\n",
      "                (cv2): Conv(\n",
      "                  (conv): Conv2d(64, 64, kernel_size=(3, 3), stride=(1, 1), padding=(1, 1), bias=False)\n",
      "                  (bn): BatchNorm2d(64, eps=0.001, momentum=0.03, affine=True, track_running_stats=True)\n",
      "                  (act): SiLU(inplace=True)\n",
      "                )\n",
      "              )\n",
      "              (1): Bottleneck(\n",
      "                (cv1): Conv(\n",
      "                  (conv): Conv2d(64, 64, kernel_size=(3, 3), stride=(1, 1), padding=(1, 1), bias=False)\n",
      "                  (bn): BatchNorm2d(64, eps=0.001, momentum=0.03, affine=True, track_running_stats=True)\n",
      "                  (act): SiLU(inplace=True)\n",
      "                )\n",
      "                (cv2): Conv(\n",
      "                  (conv): Conv2d(64, 64, kernel_size=(3, 3), stride=(1, 1), padding=(1, 1), bias=False)\n",
      "                  (bn): BatchNorm2d(64, eps=0.001, momentum=0.03, affine=True, track_running_stats=True)\n",
      "                  (act): SiLU(inplace=True)\n",
      "                )\n",
      "              )\n",
      "            )\n",
      "          )\n",
      "        )\n",
      "      )\n",
      "      (10): SPPF(\n",
      "        (cv1): Conv(\n",
      "          (conv): Conv2d(256, 128, kernel_size=(1, 1), stride=(1, 1), bias=False)\n",
      "          (bn): BatchNorm2d(128, eps=0.001, momentum=0.03, affine=True, track_running_stats=True)\n",
      "          (act): SiLU(inplace=True)\n",
      "        )\n",
      "        (cv2): Conv(\n",
      "          (conv): Conv2d(512, 256, kernel_size=(1, 1), stride=(1, 1), bias=False)\n",
      "          (bn): BatchNorm2d(256, eps=0.001, momentum=0.03, affine=True, track_running_stats=True)\n",
      "          (act): SiLU(inplace=True)\n",
      "        )\n",
      "        (m): MaxPool2d(kernel_size=5, stride=1, padding=2, dilation=1, ceil_mode=False)\n",
      "      )\n",
      "      (11): C2PSA(\n",
      "        (cv1): Conv(\n",
      "          (conv): Conv2d(256, 256, kernel_size=(1, 1), stride=(1, 1), bias=False)\n",
      "          (bn): BatchNorm2d(256, eps=0.001, momentum=0.03, affine=True, track_running_stats=True)\n",
      "          (act): SiLU(inplace=True)\n",
      "        )\n",
      "        (cv2): Conv(\n",
      "          (conv): Conv2d(256, 256, kernel_size=(1, 1), stride=(1, 1), bias=False)\n",
      "          (bn): BatchNorm2d(256, eps=0.001, momentum=0.03, affine=True, track_running_stats=True)\n",
      "          (act): SiLU(inplace=True)\n",
      "        )\n",
      "        (m): Sequential(\n",
      "          (0): PSABlock(\n",
      "            (attn): Attention(\n",
      "              (qkv): Conv(\n",
      "                (conv): Conv2d(128, 256, kernel_size=(1, 1), stride=(1, 1), bias=False)\n",
      "                (bn): BatchNorm2d(256, eps=0.001, momentum=0.03, affine=True, track_running_stats=True)\n",
      "                (act): Identity()\n",
      "              )\n",
      "              (proj): Conv(\n",
      "                (conv): Conv2d(128, 128, kernel_size=(1, 1), stride=(1, 1), bias=False)\n",
      "                (bn): BatchNorm2d(128, eps=0.001, momentum=0.03, affine=True, track_running_stats=True)\n",
      "                (act): Identity()\n",
      "              )\n",
      "              (pe): Conv(\n",
      "                (conv): Conv2d(128, 128, kernel_size=(3, 3), stride=(1, 1), padding=(1, 1), groups=128, bias=False)\n",
      "                (bn): BatchNorm2d(128, eps=0.001, momentum=0.03, affine=True, track_running_stats=True)\n",
      "                (act): Identity()\n",
      "              )\n",
      "            )\n",
      "            (ffn): Sequential(\n",
      "              (0): Conv(\n",
      "                (conv): Conv2d(128, 256, kernel_size=(1, 1), stride=(1, 1), bias=False)\n",
      "                (bn): BatchNorm2d(256, eps=0.001, momentum=0.03, affine=True, track_running_stats=True)\n",
      "                (act): SiLU(inplace=True)\n",
      "              )\n",
      "              (1): Conv(\n",
      "                (conv): Conv2d(256, 128, kernel_size=(1, 1), stride=(1, 1), bias=False)\n",
      "                (bn): BatchNorm2d(128, eps=0.001, momentum=0.03, affine=True, track_running_stats=True)\n",
      "                (act): Identity()\n",
      "              )\n",
      "            )\n",
      "          )\n",
      "        )\n",
      "      )\n",
      "      (12): Upsample(scale_factor=2.0, mode='nearest')\n",
      "      (13): Concat()\n",
      "      (14): C3k2(\n",
      "        (cv1): Conv(\n",
      "          (conv): Conv2d(384, 128, kernel_size=(1, 1), stride=(1, 1), bias=False)\n",
      "          (bn): BatchNorm2d(128, eps=0.001, momentum=0.03, affine=True, track_running_stats=True)\n",
      "          (act): SiLU(inplace=True)\n",
      "        )\n",
      "        (cv2): Conv(\n",
      "          (conv): Conv2d(192, 128, kernel_size=(1, 1), stride=(1, 1), bias=False)\n",
      "          (bn): BatchNorm2d(128, eps=0.001, momentum=0.03, affine=True, track_running_stats=True)\n",
      "          (act): SiLU(inplace=True)\n",
      "        )\n",
      "        (m): ModuleList(\n",
      "          (0): Bottleneck(\n",
      "            (cv1): Conv(\n",
      "              (conv): Conv2d(64, 32, kernel_size=(3, 3), stride=(1, 1), padding=(1, 1), bias=False)\n",
      "              (bn): BatchNorm2d(32, eps=0.001, momentum=0.03, affine=True, track_running_stats=True)\n",
      "              (act): SiLU(inplace=True)\n",
      "            )\n",
      "            (cv2): Conv(\n",
      "              (conv): Conv2d(32, 64, kernel_size=(3, 3), stride=(1, 1), padding=(1, 1), bias=False)\n",
      "              (bn): BatchNorm2d(64, eps=0.001, momentum=0.03, affine=True, track_running_stats=True)\n",
      "              (act): SiLU(inplace=True)\n",
      "            )\n",
      "          )\n",
      "        )\n",
      "      )\n",
      "      (15): Upsample(scale_factor=2.0, mode='nearest')\n",
      "      (16): Concat()\n",
      "      (17): C3k2(\n",
      "        (cv1): Conv(\n",
      "          (conv): Conv2d(256, 64, kernel_size=(1, 1), stride=(1, 1), bias=False)\n",
      "          (bn): BatchNorm2d(64, eps=0.001, momentum=0.03, affine=True, track_running_stats=True)\n",
      "          (act): SiLU(inplace=True)\n",
      "        )\n",
      "        (cv2): Conv(\n",
      "          (conv): Conv2d(96, 64, kernel_size=(1, 1), stride=(1, 1), bias=False)\n",
      "          (bn): BatchNorm2d(64, eps=0.001, momentum=0.03, affine=True, track_running_stats=True)\n",
      "          (act): SiLU(inplace=True)\n",
      "        )\n",
      "        (m): ModuleList(\n",
      "          (0): Bottleneck(\n",
      "            (cv1): Conv(\n",
      "              (conv): Conv2d(32, 16, kernel_size=(3, 3), stride=(1, 1), padding=(1, 1), bias=False)\n",
      "              (bn): BatchNorm2d(16, eps=0.001, momentum=0.03, affine=True, track_running_stats=True)\n",
      "              (act): SiLU(inplace=True)\n",
      "            )\n",
      "            (cv2): Conv(\n",
      "              (conv): Conv2d(16, 32, kernel_size=(3, 3), stride=(1, 1), padding=(1, 1), bias=False)\n",
      "              (bn): BatchNorm2d(32, eps=0.001, momentum=0.03, affine=True, track_running_stats=True)\n",
      "              (act): SiLU(inplace=True)\n",
      "            )\n",
      "          )\n",
      "        )\n",
      "      )\n",
      "      (18): Conv(\n",
      "        (conv): Conv2d(64, 64, kernel_size=(3, 3), stride=(2, 2), padding=(1, 1), bias=False)\n",
      "        (bn): BatchNorm2d(64, eps=0.001, momentum=0.03, affine=True, track_running_stats=True)\n",
      "        (act): SiLU(inplace=True)\n",
      "      )\n",
      "      (19): Concat()\n",
      "      (20): C3k2(\n",
      "        (cv1): Conv(\n",
      "          (conv): Conv2d(192, 128, kernel_size=(1, 1), stride=(1, 1), bias=False)\n",
      "          (bn): BatchNorm2d(128, eps=0.001, momentum=0.03, affine=True, track_running_stats=True)\n",
      "          (act): SiLU(inplace=True)\n",
      "        )\n",
      "        (cv2): Conv(\n",
      "          (conv): Conv2d(192, 128, kernel_size=(1, 1), stride=(1, 1), bias=False)\n",
      "          (bn): BatchNorm2d(128, eps=0.001, momentum=0.03, affine=True, track_running_stats=True)\n",
      "          (act): SiLU(inplace=True)\n",
      "        )\n",
      "        (m): ModuleList(\n",
      "          (0): Bottleneck(\n",
      "            (cv1): Conv(\n",
      "              (conv): Conv2d(64, 32, kernel_size=(3, 3), stride=(1, 1), padding=(1, 1), bias=False)\n",
      "              (bn): BatchNorm2d(32, eps=0.001, momentum=0.03, affine=True, track_running_stats=True)\n",
      "              (act): SiLU(inplace=True)\n",
      "            )\n",
      "            (cv2): Conv(\n",
      "              (conv): Conv2d(32, 64, kernel_size=(3, 3), stride=(1, 1), padding=(1, 1), bias=False)\n",
      "              (bn): BatchNorm2d(64, eps=0.001, momentum=0.03, affine=True, track_running_stats=True)\n",
      "              (act): SiLU(inplace=True)\n",
      "            )\n",
      "          )\n",
      "        )\n",
      "      )\n",
      "      (21): Conv(\n",
      "        (conv): Conv2d(128, 128, kernel_size=(3, 3), stride=(2, 2), padding=(1, 1), bias=False)\n",
      "        (bn): BatchNorm2d(128, eps=0.001, momentum=0.03, affine=True, track_running_stats=True)\n",
      "        (act): SiLU(inplace=True)\n",
      "      )\n",
      "      (22): Concat()\n",
      "      (23): C3k2(\n",
      "        (cv1): Conv(\n",
      "          (conv): Conv2d(384, 256, kernel_size=(1, 1), stride=(1, 1), bias=False)\n",
      "          (bn): BatchNorm2d(256, eps=0.001, momentum=0.03, affine=True, track_running_stats=True)\n",
      "          (act): SiLU(inplace=True)\n",
      "        )\n",
      "        (cv2): Conv(\n",
      "          (conv): Conv2d(384, 256, kernel_size=(1, 1), stride=(1, 1), bias=False)\n",
      "          (bn): BatchNorm2d(256, eps=0.001, momentum=0.03, affine=True, track_running_stats=True)\n",
      "          (act): SiLU(inplace=True)\n",
      "        )\n",
      "        (m): ModuleList(\n",
      "          (0): C3k(\n",
      "            (cv1): Conv(\n",
      "              (conv): Conv2d(128, 64, kernel_size=(1, 1), stride=(1, 1), bias=False)\n",
      "              (bn): BatchNorm2d(64, eps=0.001, momentum=0.03, affine=True, track_running_stats=True)\n",
      "              (act): SiLU(inplace=True)\n",
      "            )\n",
      "            (cv2): Conv(\n",
      "              (conv): Conv2d(128, 64, kernel_size=(1, 1), stride=(1, 1), bias=False)\n",
      "              (bn): BatchNorm2d(64, eps=0.001, momentum=0.03, affine=True, track_running_stats=True)\n",
      "              (act): SiLU(inplace=True)\n",
      "            )\n",
      "            (cv3): Conv(\n",
      "              (conv): Conv2d(128, 128, kernel_size=(1, 1), stride=(1, 1), bias=False)\n",
      "              (bn): BatchNorm2d(128, eps=0.001, momentum=0.03, affine=True, track_running_stats=True)\n",
      "              (act): SiLU(inplace=True)\n",
      "            )\n",
      "            (m): Sequential(\n",
      "              (0): Bottleneck(\n",
      "                (cv1): Conv(\n",
      "                  (conv): Conv2d(64, 64, kernel_size=(3, 3), stride=(1, 1), padding=(1, 1), bias=False)\n",
      "                  (bn): BatchNorm2d(64, eps=0.001, momentum=0.03, affine=True, track_running_stats=True)\n",
      "                  (act): SiLU(inplace=True)\n",
      "                )\n",
      "                (cv2): Conv(\n",
      "                  (conv): Conv2d(64, 64, kernel_size=(3, 3), stride=(1, 1), padding=(1, 1), bias=False)\n",
      "                  (bn): BatchNorm2d(64, eps=0.001, momentum=0.03, affine=True, track_running_stats=True)\n",
      "                  (act): SiLU(inplace=True)\n",
      "                )\n",
      "              )\n",
      "              (1): Bottleneck(\n",
      "                (cv1): Conv(\n",
      "                  (conv): Conv2d(64, 64, kernel_size=(3, 3), stride=(1, 1), padding=(1, 1), bias=False)\n",
      "                  (bn): BatchNorm2d(64, eps=0.001, momentum=0.03, affine=True, track_running_stats=True)\n",
      "                  (act): SiLU(inplace=True)\n",
      "                )\n",
      "                (cv2): Conv(\n",
      "                  (conv): Conv2d(64, 64, kernel_size=(3, 3), stride=(1, 1), padding=(1, 1), bias=False)\n",
      "                  (bn): BatchNorm2d(64, eps=0.001, momentum=0.03, affine=True, track_running_stats=True)\n",
      "                  (act): SiLU(inplace=True)\n",
      "                )\n",
      "              )\n",
      "            )\n",
      "          )\n",
      "        )\n",
      "      )\n",
      "      (24): Detect(\n",
      "        (cv2): ModuleList(\n",
      "          (0): Sequential(\n",
      "            (0): Conv(\n",
      "              (conv): Conv2d(64, 64, kernel_size=(3, 3), stride=(1, 1), padding=(1, 1), bias=False)\n",
      "              (bn): BatchNorm2d(64, eps=0.001, momentum=0.03, affine=True, track_running_stats=True)\n",
      "              (act): SiLU(inplace=True)\n",
      "            )\n",
      "            (1): Conv(\n",
      "              (conv): Conv2d(64, 64, kernel_size=(3, 3), stride=(1, 1), padding=(1, 1), bias=False)\n",
      "              (bn): BatchNorm2d(64, eps=0.001, momentum=0.03, affine=True, track_running_stats=True)\n",
      "              (act): SiLU(inplace=True)\n",
      "            )\n",
      "            (2): Conv2d(64, 64, kernel_size=(1, 1), stride=(1, 1))\n",
      "          )\n",
      "          (1): Sequential(\n",
      "            (0): Conv(\n",
      "              (conv): Conv2d(128, 64, kernel_size=(3, 3), stride=(1, 1), padding=(1, 1), bias=False)\n",
      "              (bn): BatchNorm2d(64, eps=0.001, momentum=0.03, affine=True, track_running_stats=True)\n",
      "              (act): SiLU(inplace=True)\n",
      "            )\n",
      "            (1): Conv(\n",
      "              (conv): Conv2d(64, 64, kernel_size=(3, 3), stride=(1, 1), padding=(1, 1), bias=False)\n",
      "              (bn): BatchNorm2d(64, eps=0.001, momentum=0.03, affine=True, track_running_stats=True)\n",
      "              (act): SiLU(inplace=True)\n",
      "            )\n",
      "            (2): Conv2d(64, 64, kernel_size=(1, 1), stride=(1, 1))\n",
      "          )\n",
      "          (2): Sequential(\n",
      "            (0): Conv(\n",
      "              (conv): Conv2d(256, 64, kernel_size=(3, 3), stride=(1, 1), padding=(1, 1), bias=False)\n",
      "              (bn): BatchNorm2d(64, eps=0.001, momentum=0.03, affine=True, track_running_stats=True)\n",
      "              (act): SiLU(inplace=True)\n",
      "            )\n",
      "            (1): Conv(\n",
      "              (conv): Conv2d(64, 64, kernel_size=(3, 3), stride=(1, 1), padding=(1, 1), bias=False)\n",
      "              (bn): BatchNorm2d(64, eps=0.001, momentum=0.03, affine=True, track_running_stats=True)\n",
      "              (act): SiLU(inplace=True)\n",
      "            )\n",
      "            (2): Conv2d(64, 64, kernel_size=(1, 1), stride=(1, 1))\n",
      "          )\n",
      "        )\n",
      "        (cv3): ModuleList(\n",
      "          (0): Sequential(\n",
      "            (0): Sequential(\n",
      "              (0): DWConv(\n",
      "                (conv): Conv2d(64, 64, kernel_size=(3, 3), stride=(1, 1), padding=(1, 1), groups=64, bias=False)\n",
      "                (bn): BatchNorm2d(64, eps=0.001, momentum=0.03, affine=True, track_running_stats=True)\n",
      "                (act): SiLU(inplace=True)\n",
      "              )\n",
      "              (1): Conv(\n",
      "                (conv): Conv2d(64, 64, kernel_size=(1, 1), stride=(1, 1), bias=False)\n",
      "                (bn): BatchNorm2d(64, eps=0.001, momentum=0.03, affine=True, track_running_stats=True)\n",
      "                (act): SiLU(inplace=True)\n",
      "              )\n",
      "            )\n",
      "            (1): Sequential(\n",
      "              (0): DWConv(\n",
      "                (conv): Conv2d(64, 64, kernel_size=(3, 3), stride=(1, 1), padding=(1, 1), groups=64, bias=False)\n",
      "                (bn): BatchNorm2d(64, eps=0.001, momentum=0.03, affine=True, track_running_stats=True)\n",
      "                (act): SiLU(inplace=True)\n",
      "              )\n",
      "              (1): Conv(\n",
      "                (conv): Conv2d(64, 64, kernel_size=(1, 1), stride=(1, 1), bias=False)\n",
      "                (bn): BatchNorm2d(64, eps=0.001, momentum=0.03, affine=True, track_running_stats=True)\n",
      "                (act): SiLU(inplace=True)\n",
      "              )\n",
      "            )\n",
      "            (2): Conv2d(64, 8, kernel_size=(1, 1), stride=(1, 1))\n",
      "          )\n",
      "          (1): Sequential(\n",
      "            (0): Sequential(\n",
      "              (0): DWConv(\n",
      "                (conv): Conv2d(128, 128, kernel_size=(3, 3), stride=(1, 1), padding=(1, 1), groups=128, bias=False)\n",
      "                (bn): BatchNorm2d(128, eps=0.001, momentum=0.03, affine=True, track_running_stats=True)\n",
      "                (act): SiLU(inplace=True)\n",
      "              )\n",
      "              (1): Conv(\n",
      "                (conv): Conv2d(128, 64, kernel_size=(1, 1), stride=(1, 1), bias=False)\n",
      "                (bn): BatchNorm2d(64, eps=0.001, momentum=0.03, affine=True, track_running_stats=True)\n",
      "                (act): SiLU(inplace=True)\n",
      "              )\n",
      "            )\n",
      "            (1): Sequential(\n",
      "              (0): DWConv(\n",
      "                (conv): Conv2d(64, 64, kernel_size=(3, 3), stride=(1, 1), padding=(1, 1), groups=64, bias=False)\n",
      "                (bn): BatchNorm2d(64, eps=0.001, momentum=0.03, affine=True, track_running_stats=True)\n",
      "                (act): SiLU(inplace=True)\n",
      "              )\n",
      "              (1): Conv(\n",
      "                (conv): Conv2d(64, 64, kernel_size=(1, 1), stride=(1, 1), bias=False)\n",
      "                (bn): BatchNorm2d(64, eps=0.001, momentum=0.03, affine=True, track_running_stats=True)\n",
      "                (act): SiLU(inplace=True)\n",
      "              )\n",
      "            )\n",
      "            (2): Conv2d(64, 8, kernel_size=(1, 1), stride=(1, 1))\n",
      "          )\n",
      "          (2): Sequential(\n",
      "            (0): Sequential(\n",
      "              (0): DWConv(\n",
      "                (conv): Conv2d(256, 256, kernel_size=(3, 3), stride=(1, 1), padding=(1, 1), groups=256, bias=False)\n",
      "                (bn): BatchNorm2d(256, eps=0.001, momentum=0.03, affine=True, track_running_stats=True)\n",
      "                (act): SiLU(inplace=True)\n",
      "              )\n",
      "              (1): Conv(\n",
      "                (conv): Conv2d(256, 64, kernel_size=(1, 1), stride=(1, 1), bias=False)\n",
      "                (bn): BatchNorm2d(64, eps=0.001, momentum=0.03, affine=True, track_running_stats=True)\n",
      "                (act): SiLU(inplace=True)\n",
      "              )\n",
      "            )\n",
      "            (1): Sequential(\n",
      "              (0): DWConv(\n",
      "                (conv): Conv2d(64, 64, kernel_size=(3, 3), stride=(1, 1), padding=(1, 1), groups=64, bias=False)\n",
      "                (bn): BatchNorm2d(64, eps=0.001, momentum=0.03, affine=True, track_running_stats=True)\n",
      "                (act): SiLU(inplace=True)\n",
      "              )\n",
      "              (1): Conv(\n",
      "                (conv): Conv2d(64, 64, kernel_size=(1, 1), stride=(1, 1), bias=False)\n",
      "                (bn): BatchNorm2d(64, eps=0.001, momentum=0.03, affine=True, track_running_stats=True)\n",
      "                (act): SiLU(inplace=True)\n",
      "              )\n",
      "            )\n",
      "            (2): Conv2d(64, 8, kernel_size=(1, 1), stride=(1, 1))\n",
      "          )\n",
      "        )\n",
      "        (dfl): DFL(\n",
      "          (conv): Conv2d(16, 1, kernel_size=(1, 1), stride=(1, 1), bias=False)\n",
      "        )\n",
      "      )\n",
      "    )\n",
      "  )\n",
      ")>\n"
     ]
    }
   ],
   "source": [
    "from ultralytics import YOLO\n",
    "\n",
    "# 加载模型\n",
    "model = YOLO('ultralytics/cfg/models/11/yolo11n_se.yaml')  # 或 yolo11.yaml\n",
    "\n",
    "# 打印网络结构摘要\n",
    "print(type(model.info()))\n",
    "print(model.info(detailed=True)) # 或 model.summary()\n",
    "print(\"网络结构详细：\")\n",
    "print(model.info)"
   ]
  },
  {
   "cell_type": "markdown",
   "id": "d9491b99-f923-4048-9bfd-393e40531326",
   "metadata": {},
   "source": [
    "## 训练"
   ]
  },
  {
   "cell_type": "code",
   "execution_count": 6,
   "id": "23e58601-aac1-4651-bcdd-50061ddba611",
   "metadata": {},
   "outputs": [
    {
     "name": "stdout",
     "output_type": "stream",
     "text": [
      "Ultralytics 8.3.134 🚀 Python-3.8.20 torch-2.3.1 CUDA:0 (NVIDIA GeForce RTX 3080, 10009MiB)\n",
      "                                                 CUDA:1 (NVIDIA GeForce RTX 3080, 10009MiB)\n",
      "                                                 CUDA:2 (NVIDIA GeForce RTX 3080, 10009MiB)\n",
      "                                                 CUDA:3 (NVIDIA GeForce RTX 3080, 10009MiB)\n",
      "\u001b[34m\u001b[1mengine/trainer: \u001b[0magnostic_nms=False, amp=True, augment=False, auto_augment=randaugment, batch=192, bgr=0.0, box=7.5, cache=ram, cfg=None, classes=None, close_mosaic=10, cls=0.5, conf=None, copy_paste=0.0, copy_paste_mode=flip, cos_lr=False, cutmix=0.0, data=mydata-linux.yaml, degrees=0.0, deterministic=True, device=0,1,2,3, dfl=1.5, dnn=False, dropout=0.0, dynamic=False, embed=None, epochs=100, erasing=0.4, exist_ok=False, fliplr=0.5, flipud=0.0, format=torchscript, fraction=1.0, freeze=None, half=False, hsv_h=0.015, hsv_s=0.7, hsv_v=0.4, imgsz=640, int8=False, iou=0.7, keras=False, kobj=1.0, line_width=None, lr0=0.01, lrf=0.01, mask_ratio=4, max_det=300, mixup=0.0, mode=train, model=ultralytics/cfg/models/11/yolo11n_se.yaml, momentum=0.937, mosaic=1.0, multi_scale=False, name=train6, nbs=64, nms=False, opset=None, optimize=False, optimizer=auto, overlap_mask=True, patience=100, perspective=0.0, plots=True, pose=12.0, pretrained=True, profile=False, project=None, rect=False, resume=False, retina_masks=False, save=True, save_conf=False, save_crop=False, save_dir=/home/chenjun/Project_Files/ultralytics/runs/detect/train6, save_frames=False, save_json=False, save_period=-1, save_txt=False, scale=0.5, seed=0, shear=0.0, show=False, show_boxes=True, show_conf=True, show_labels=True, simplify=True, single_cls=False, source=None, split=val, stream_buffer=False, task=detect, time=None, tracker=botsort.yaml, translate=0.1, val=True, verbose=True, vid_stride=1, visualize=False, warmup_bias_lr=0.1, warmup_epochs=3.0, warmup_momentum=0.8, weight_decay=0.0005, workers=32, workspace=None\n",
      "\n",
      "                   from  n    params  module                                       arguments                     \n",
      "  0                  -1  1       464  ultralytics.nn.modules.conv.Conv             [3, 16, 3, 2]                 \n",
      "  1                  -1  1       608  ultralytics.nn.modules.custom_modules.C3SE   [16, 16, False, 0.25]         \n",
      "  2                  -1  1      4672  ultralytics.nn.modules.conv.Conv             [16, 32, 3, 2]                \n",
      "  3                  -1  1      6640  ultralytics.nn.modules.block.C3k2            [32, 64, 1, False, 0.25]      \n",
      "  4                  -1  1     36992  ultralytics.nn.modules.conv.Conv             [64, 64, 3, 2]                \n",
      "  5                  -1  1     26080  ultralytics.nn.modules.block.C3k2            [64, 128, 1, False, 0.25]     \n",
      "  6                  -1  1    147712  ultralytics.nn.modules.conv.Conv             [128, 128, 3, 2]              \n",
      "  7                  -1  1     87040  ultralytics.nn.modules.block.C3k2            [128, 128, 1, True]           \n",
      "  8                  -1  1    295424  ultralytics.nn.modules.conv.Conv             [128, 256, 3, 2]              \n",
      "  9                  -1  1    346112  ultralytics.nn.modules.block.C3k2            [256, 256, 1, True]           \n",
      " 10                  -1  1    164608  ultralytics.nn.modules.block.SPPF            [256, 256, 5]                 \n",
      " 11                  -1  1    249728  ultralytics.nn.modules.block.C2PSA           [256, 256, 1]                 \n",
      " 12                  -1  1         0  torch.nn.modules.upsampling.Upsample         [None, 2, 'nearest']          \n",
      " 13             [-1, 7]  1         0  ultralytics.nn.modules.conv.Concat           [1]                           \n",
      " 14                  -1  1    111296  ultralytics.nn.modules.block.C3k2            [384, 128, 1, False]          \n",
      " 15                  -1  1         0  torch.nn.modules.upsampling.Upsample         [None, 2, 'nearest']          \n",
      " 16             [-1, 5]  1         0  ultralytics.nn.modules.conv.Concat           [1]                           \n",
      " 17                  -1  1     32096  ultralytics.nn.modules.block.C3k2            [256, 64, 1, False]           \n",
      " 18                  -1  1     36992  ultralytics.nn.modules.conv.Conv             [64, 64, 3, 2]                \n",
      " 19            [-1, 14]  1         0  ultralytics.nn.modules.conv.Concat           [1]                           \n",
      " 20                  -1  1     86720  ultralytics.nn.modules.block.C3k2            [192, 128, 1, False]          \n",
      " 21                  -1  1    147712  ultralytics.nn.modules.conv.Conv             [128, 128, 3, 2]              \n",
      " 22            [-1, 11]  1         0  ultralytics.nn.modules.conv.Concat           [1]                           \n",
      " 23                  -1  1    378880  ultralytics.nn.modules.block.C3k2            [384, 256, 1, True]           \n",
      " 24        [17, 20, 23]  1    432232  ultralytics.nn.modules.head.Detect           [8, [64, 128, 256]]           \n",
      "YOLO11n_se summary: 193 layers, 2,592,008 parameters, 2,591,992 gradients, 6.6 GFLOPs\n",
      "\n",
      "\u001b[34m\u001b[1mDDP:\u001b[0m debug command /home/chenjun/.conda/envs/yolo/bin/python -m torch.distributed.run --nproc_per_node 4 --master_port 54781 /home/chenjun/.config/Ultralytics/DDP/_temp_2wqull6z140163350183360.py\n",
      "Ultralytics 8.3.134 🚀 Python-3.8.20 torch-2.3.1 CUDA:0 (NVIDIA GeForce RTX 3080, 10009MiB)\n",
      "                                                 CUDA:1 (NVIDIA GeForce RTX 3080, 10009MiB)\n",
      "                                                 CUDA:2 (NVIDIA GeForce RTX 3080, 10009MiB)\n",
      "                                                 CUDA:3 (NVIDIA GeForce RTX 3080, 10009MiB)\n",
      "Freezing layer 'model.24.dfl.conv.weight'\n",
      "\u001b[34m\u001b[1mAMP: \u001b[0mrunning Automatic Mixed Precision (AMP) checks...\n",
      "\u001b[34m\u001b[1mAMP: \u001b[0mchecks passed ✅\n",
      "\u001b[34m\u001b[1mtrain: \u001b[0mFast image access ✅ (ping: 0.0±0.0 ms, read: 1467.9±492.3 MB/s, size: 125.9 KB)\n"
     ]
    },
    {
     "name": "stderr",
     "output_type": "stream",
     "text": [
      "\u001b[34m\u001b[1mtrain: \u001b[0mScanning /home/chenjun/Project_Files/Datasets/YOLO_dataset/steel-pipe-weld-defect_raw/labels/train2021.cache... 2626 images, 6 backgrounds, 0 corrupt: 100%|██████████| 2626/2626 [00:00<?, ?it/s]\n",
      "  0%|          | 0/2626 [00:00<?, ?it/s]"
     ]
    },
    {
     "name": "stdout",
     "output_type": "stream",
     "text": [
      "WARNING ⚠️ cache='ram' may produce non-deterministic training results. Consider cache='disk' as a deterministic alternative if your disk space allows.\n"
     ]
    },
    {
     "name": "stderr",
     "output_type": "stream",
     "text": [
      "\u001b[34m\u001b[1mtrain: \u001b[0mCaching images (2.1GB RAM): 100%|██████████| 2626/2626 [00:02<00:00, 1255.03it/s]\n"
     ]
    },
    {
     "name": "stdout",
     "output_type": "stream",
     "text": [
      "\u001b[34m\u001b[1mval: \u001b[0mFast image access ✅ (ping: 0.0±0.0 ms, read: 393.2±205.1 MB/s, size: 132.7 KB)\n"
     ]
    },
    {
     "name": "stderr",
     "output_type": "stream",
     "text": [
      "\u001b[34m\u001b[1mval: \u001b[0mScanning /home/chenjun/Project_Files/Datasets/YOLO_dataset/steel-pipe-weld-defect_raw/labels/val2021.cache... 682 images, 2 backgrounds, 0 corrupt: 100%|██████████| 682/682 [00:00<?, ?it/s]\n"
     ]
    },
    {
     "name": "stdout",
     "output_type": "stream",
     "text": [
      "WARNING ⚠️ cache='ram' may produce non-deterministic training results. Consider cache='disk' as a deterministic alternative if your disk space allows.\n"
     ]
    },
    {
     "name": "stderr",
     "output_type": "stream",
     "text": [
      "\u001b[34m\u001b[1mval: \u001b[0mCaching images (0.5GB RAM): 100%|██████████| 682/682 [00:01<00:00, 555.58it/s]\n"
     ]
    },
    {
     "name": "stdout",
     "output_type": "stream",
     "text": [
      "Plotting labels to /home/chenjun/Project_Files/ultralytics/runs/detect/train6/labels.jpg... \n",
      "\u001b[34m\u001b[1moptimizer:\u001b[0m 'optimizer=auto' found, ignoring 'lr0=0.01' and 'momentum=0.937' and determining best 'optimizer', 'lr0' and 'momentum' automatically... \n",
      "\u001b[34m\u001b[1moptimizer:\u001b[0m AdamW(lr=0.000833, momentum=0.9) with parameter groups 84 weight(decay=0.0), 93 weight(decay=0.0015), 90 bias(decay=0.0)\n",
      "Image sizes 640 train, 640 val\n",
      "Using 40 dataloader workers\n",
      "Logging results to \u001b[1m/home/chenjun/Project_Files/ultralytics/runs/detect/train6\u001b[0m\n",
      "Starting training for 100 epochs...\n",
      "\n",
      "      Epoch    GPU_mem   box_loss   cls_loss   dfl_loss  Instances       Size\n"
     ]
    },
    {
     "name": "stderr",
     "output_type": "stream",
     "text": [
      "      1/100       8.4G      3.513      10.02      4.184         87        640: 100%|██████████| 14/14 [00:06<00:00,  2.26it/s]\n",
      "                 Class     Images  Instances      Box(P          R      mAP50  mAP50-95): 100%|██████████| 8/8 [00:03<00:00,  2.59it/s]\n"
     ]
    },
    {
     "name": "stdout",
     "output_type": "stream",
     "text": [
      "                   all        682       1381   0.000109     0.0591   9.05e-05   5.27e-05\n",
      "\n",
      "      Epoch    GPU_mem   box_loss   cls_loss   dfl_loss  Instances       Size\n"
     ]
    },
    {
     "name": "stderr",
     "output_type": "stream",
     "text": [
      "      2/100      8.26G      3.659      9.289       4.17        101        640: 100%|██████████| 14/14 [00:03<00:00,  3.51it/s]\n",
      "                 Class     Images  Instances      Box(P          R      mAP50  mAP50-95): 100%|██████████| 8/8 [00:03<00:00,  2.23it/s]\n"
     ]
    },
    {
     "name": "stdout",
     "output_type": "stream",
     "text": [
      "                   all        682       1381   0.000113     0.0591   0.000215   0.000106\n",
      "\n",
      "      Epoch    GPU_mem   box_loss   cls_loss   dfl_loss  Instances       Size\n"
     ]
    },
    {
     "name": "stderr",
     "output_type": "stream",
     "text": [
      "      3/100       8.5G      3.342      8.256      4.094        126        640: 100%|██████████| 14/14 [00:04<00:00,  3.09it/s]\n",
      "                 Class     Images  Instances      Box(P          R      mAP50  mAP50-95): 100%|██████████| 8/8 [00:03<00:00,  2.37it/s]\n"
     ]
    },
    {
     "name": "stdout",
     "output_type": "stream",
     "text": [
      "                   all        682       1381    0.00013     0.0574   0.000133    7.5e-05\n",
      "\n",
      "      Epoch    GPU_mem   box_loss   cls_loss   dfl_loss  Instances       Size\n"
     ]
    },
    {
     "name": "stderr",
     "output_type": "stream",
     "text": [
      "      4/100      8.21G      3.409      7.667      3.995        102        640: 100%|██████████| 14/14 [00:03<00:00,  3.54it/s]\n",
      "                 Class     Images  Instances      Box(P          R      mAP50  mAP50-95): 100%|██████████| 8/8 [00:03<00:00,  2.36it/s]\n"
     ]
    },
    {
     "name": "stdout",
     "output_type": "stream",
     "text": [
      "                   all        682       1381   8.92e-05     0.0608   0.000235   0.000572\n",
      "\n",
      "      Epoch    GPU_mem   box_loss   cls_loss   dfl_loss  Instances       Size\n"
     ]
    },
    {
     "name": "stderr",
     "output_type": "stream",
     "text": [
      "      5/100      8.44G      3.338      7.528       3.79        103        640: 100%|██████████| 14/14 [00:03<00:00,  3.51it/s]\n",
      "                 Class     Images  Instances      Box(P          R      mAP50  mAP50-95): 100%|██████████| 8/8 [00:02<00:00,  2.97it/s]\n"
     ]
    },
    {
     "name": "stdout",
     "output_type": "stream",
     "text": [
      "                   all        682       1381    0.00012     0.0642   0.000441   0.000165\n",
      "\n",
      "      Epoch    GPU_mem   box_loss   cls_loss   dfl_loss  Instances       Size\n"
     ]
    },
    {
     "name": "stderr",
     "output_type": "stream",
     "text": [
      "      6/100      8.21G      3.209      7.087      3.507        116        640: 100%|██████████| 14/14 [00:04<00:00,  3.40it/s]\n",
      "                 Class     Images  Instances      Box(P          R      mAP50  mAP50-95): 100%|██████████| 8/8 [00:02<00:00,  3.20it/s]\n"
     ]
    },
    {
     "name": "stdout",
     "output_type": "stream",
     "text": [
      "                   all        682       1381   0.000115     0.0642    0.00027   0.000105\n",
      "\n",
      "      Epoch    GPU_mem   box_loss   cls_loss   dfl_loss  Instances       Size\n"
     ]
    },
    {
     "name": "stderr",
     "output_type": "stream",
     "text": [
      "      7/100      8.45G      2.969      6.534      3.211        103        640: 100%|██████████| 14/14 [00:04<00:00,  3.28it/s]\n",
      "                 Class     Images  Instances      Box(P          R      mAP50  mAP50-95): 100%|██████████| 8/8 [00:03<00:00,  2.60it/s]\n"
     ]
    },
    {
     "name": "stdout",
     "output_type": "stream",
     "text": [
      "                   all        682       1381   8.98e-05     0.0676   0.000563   0.000174\n",
      "\n",
      "      Epoch    GPU_mem   box_loss   cls_loss   dfl_loss  Instances       Size\n"
     ]
    },
    {
     "name": "stderr",
     "output_type": "stream",
     "text": [
      "      8/100      8.25G      2.986      5.749      2.869         96        640: 100%|██████████| 14/14 [00:04<00:00,  3.34it/s]\n",
      "                 Class     Images  Instances      Box(P          R      mAP50  mAP50-95): 100%|██████████| 8/8 [00:02<00:00,  3.70it/s]\n"
     ]
    },
    {
     "name": "stdout",
     "output_type": "stream",
     "text": [
      "                   all        682       1381   7.67e-05     0.0693   0.000146   5.92e-05\n",
      "\n",
      "      Epoch    GPU_mem   box_loss   cls_loss   dfl_loss  Instances       Size\n"
     ]
    },
    {
     "name": "stderr",
     "output_type": "stream",
     "text": [
      "      9/100      8.46G      3.017      4.886      2.406         96        640: 100%|██████████| 14/14 [00:03<00:00,  3.56it/s]\n",
      "                 Class     Images  Instances      Box(P          R      mAP50  mAP50-95): 100%|██████████| 8/8 [00:02<00:00,  3.54it/s]\n"
     ]
    },
    {
     "name": "stdout",
     "output_type": "stream",
     "text": [
      "                   all        682       1381   0.000134     0.0676   0.000545   0.000172\n",
      "\n",
      "      Epoch    GPU_mem   box_loss   cls_loss   dfl_loss  Instances       Size\n"
     ]
    },
    {
     "name": "stderr",
     "output_type": "stream",
     "text": [
      "     10/100      8.26G      2.872      3.972      2.093        115        640: 100%|██████████| 14/14 [00:03<00:00,  3.56it/s]\n",
      "                 Class     Images  Instances      Box(P          R      mAP50  mAP50-95): 100%|██████████| 8/8 [00:02<00:00,  3.94it/s]\n"
     ]
    },
    {
     "name": "stdout",
     "output_type": "stream",
     "text": [
      "                   all        682       1381   0.000103     0.0541    0.00715    0.00223\n",
      "\n",
      "      Epoch    GPU_mem   box_loss   cls_loss   dfl_loss  Instances       Size\n"
     ]
    },
    {
     "name": "stderr",
     "output_type": "stream",
     "text": [
      "     11/100      8.46G      2.694      3.524      1.955        102        640: 100%|██████████| 14/14 [00:03<00:00,  3.56it/s]\n",
      "                 Class     Images  Instances      Box(P          R      mAP50  mAP50-95): 100%|██████████| 8/8 [00:01<00:00,  4.10it/s]\n"
     ]
    },
    {
     "name": "stdout",
     "output_type": "stream",
     "text": [
      "                   all        682       1381     0.0451      0.108     0.0739     0.0298\n",
      "\n",
      "      Epoch    GPU_mem   box_loss   cls_loss   dfl_loss  Instances       Size\n"
     ]
    },
    {
     "name": "stderr",
     "output_type": "stream",
     "text": [
      "     12/100      8.25G      2.564      3.327      1.937        105        640: 100%|██████████| 14/14 [00:03<00:00,  3.59it/s]\n",
      "                 Class     Images  Instances      Box(P          R      mAP50  mAP50-95): 100%|██████████| 8/8 [00:02<00:00,  3.70it/s]\n"
     ]
    },
    {
     "name": "stdout",
     "output_type": "stream",
     "text": [
      "                   all        682       1381     0.0384      0.266      0.103     0.0423\n",
      "\n",
      "      Epoch    GPU_mem   box_loss   cls_loss   dfl_loss  Instances       Size\n"
     ]
    },
    {
     "name": "stderr",
     "output_type": "stream",
     "text": [
      "     13/100      8.44G      2.517      3.073      1.869        104        640: 100%|██████████| 14/14 [00:04<00:00,  3.39it/s]\n",
      "                 Class     Images  Instances      Box(P          R      mAP50  mAP50-95): 100%|██████████| 8/8 [00:02<00:00,  3.57it/s]\n"
     ]
    },
    {
     "name": "stdout",
     "output_type": "stream",
     "text": [
      "                   all        682       1381       0.32      0.113      0.106     0.0299\n",
      "\n",
      "      Epoch    GPU_mem   box_loss   cls_loss   dfl_loss  Instances       Size\n"
     ]
    },
    {
     "name": "stderr",
     "output_type": "stream",
     "text": [
      "     14/100      8.26G      2.402      2.917       1.78         93        640: 100%|██████████| 14/14 [00:03<00:00,  3.51it/s]\n",
      "                 Class     Images  Instances      Box(P          R      mAP50  mAP50-95): 100%|██████████| 8/8 [00:02<00:00,  3.56it/s]\n"
     ]
    },
    {
     "name": "stdout",
     "output_type": "stream",
     "text": [
      "                   all        682       1381      0.498      0.189      0.291      0.135\n",
      "\n",
      "      Epoch    GPU_mem   box_loss   cls_loss   dfl_loss  Instances       Size\n"
     ]
    },
    {
     "name": "stderr",
     "output_type": "stream",
     "text": [
      "     15/100      8.47G       2.33       2.74      1.762        114        640: 100%|██████████| 14/14 [00:03<00:00,  3.54it/s]\n",
      "                 Class     Images  Instances      Box(P          R      mAP50  mAP50-95): 100%|██████████| 8/8 [00:02<00:00,  3.50it/s]\n"
     ]
    },
    {
     "name": "stdout",
     "output_type": "stream",
     "text": [
      "                   all        682       1381      0.475      0.293      0.306       0.13\n",
      "\n",
      "      Epoch    GPU_mem   box_loss   cls_loss   dfl_loss  Instances       Size\n"
     ]
    },
    {
     "name": "stderr",
     "output_type": "stream",
     "text": [
      "     16/100      8.21G      2.324      2.634      1.791        141        640: 100%|██████████| 14/14 [00:03<00:00,  3.53it/s]\n",
      "                 Class     Images  Instances      Box(P          R      mAP50  mAP50-95): 100%|██████████| 8/8 [00:02<00:00,  3.49it/s]\n"
     ]
    },
    {
     "name": "stdout",
     "output_type": "stream",
     "text": [
      "                   all        682       1381      0.531      0.378      0.457      0.223\n",
      "\n",
      "      Epoch    GPU_mem   box_loss   cls_loss   dfl_loss  Instances       Size\n"
     ]
    },
    {
     "name": "stderr",
     "output_type": "stream",
     "text": [
      "     17/100      8.44G      2.203      2.447      1.678         91        640: 100%|██████████| 14/14 [00:03<00:00,  3.51it/s]\n",
      "                 Class     Images  Instances      Box(P          R      mAP50  mAP50-95): 100%|██████████| 8/8 [00:02<00:00,  3.42it/s]\n"
     ]
    },
    {
     "name": "stdout",
     "output_type": "stream",
     "text": [
      "                   all        682       1381       0.65      0.532      0.614      0.328\n",
      "\n",
      "      Epoch    GPU_mem   box_loss   cls_loss   dfl_loss  Instances       Size\n"
     ]
    },
    {
     "name": "stderr",
     "output_type": "stream",
     "text": [
      "     18/100      8.29G      2.242      2.333      1.732         82        640: 100%|██████████| 14/14 [00:03<00:00,  3.59it/s]\n",
      "                 Class     Images  Instances      Box(P          R      mAP50  mAP50-95): 100%|██████████| 8/8 [00:02<00:00,  3.47it/s]\n"
     ]
    },
    {
     "name": "stdout",
     "output_type": "stream",
     "text": [
      "                   all        682       1381      0.669      0.224      0.282      0.093\n",
      "\n",
      "      Epoch    GPU_mem   box_loss   cls_loss   dfl_loss  Instances       Size\n"
     ]
    },
    {
     "name": "stderr",
     "output_type": "stream",
     "text": [
      "     19/100      8.47G      2.124      2.167      1.621        114        640: 100%|██████████| 14/14 [00:03<00:00,  3.56it/s]\n",
      "                 Class     Images  Instances      Box(P          R      mAP50  mAP50-95): 100%|██████████| 8/8 [00:02<00:00,  3.44it/s]\n"
     ]
    },
    {
     "name": "stdout",
     "output_type": "stream",
     "text": [
      "                   all        682       1381      0.643      0.483       0.54      0.289\n",
      "\n",
      "      Epoch    GPU_mem   box_loss   cls_loss   dfl_loss  Instances       Size\n"
     ]
    },
    {
     "name": "stderr",
     "output_type": "stream",
     "text": [
      "     20/100      8.21G      2.167      2.165      1.635         92        640: 100%|██████████| 14/14 [00:03<00:00,  3.58it/s]\n",
      "                 Class     Images  Instances      Box(P          R      mAP50  mAP50-95): 100%|██████████| 8/8 [00:02<00:00,  3.60it/s]\n"
     ]
    },
    {
     "name": "stdout",
     "output_type": "stream",
     "text": [
      "                   all        682       1381       0.67       0.56      0.561      0.307\n",
      "\n",
      "      Epoch    GPU_mem   box_loss   cls_loss   dfl_loss  Instances       Size\n"
     ]
    },
    {
     "name": "stderr",
     "output_type": "stream",
     "text": [
      "     21/100      8.45G      2.065      2.075      1.588         86        640: 100%|██████████| 14/14 [00:03<00:00,  3.60it/s]\n",
      "                 Class     Images  Instances      Box(P          R      mAP50  mAP50-95): 100%|██████████| 8/8 [00:02<00:00,  3.41it/s]\n"
     ]
    },
    {
     "name": "stdout",
     "output_type": "stream",
     "text": [
      "                   all        682       1381      0.531      0.459        0.5      0.256\n",
      "\n",
      "      Epoch    GPU_mem   box_loss   cls_loss   dfl_loss  Instances       Size\n"
     ]
    },
    {
     "name": "stderr",
     "output_type": "stream",
     "text": [
      "     22/100      8.25G      2.016      1.907      1.532        133        640: 100%|██████████| 14/14 [00:03<00:00,  3.54it/s]\n",
      "                 Class     Images  Instances      Box(P          R      mAP50  mAP50-95): 100%|██████████| 8/8 [00:02<00:00,  3.62it/s]\n"
     ]
    },
    {
     "name": "stdout",
     "output_type": "stream",
     "text": [
      "                   all        682       1381      0.713      0.703      0.751      0.445\n",
      "\n",
      "      Epoch    GPU_mem   box_loss   cls_loss   dfl_loss  Instances       Size\n"
     ]
    },
    {
     "name": "stderr",
     "output_type": "stream",
     "text": [
      "     23/100      8.43G      1.997      1.875      1.511        118        640: 100%|██████████| 14/14 [00:03<00:00,  3.57it/s]\n",
      "                 Class     Images  Instances      Box(P          R      mAP50  mAP50-95): 100%|██████████| 8/8 [00:02<00:00,  3.20it/s]\n"
     ]
    },
    {
     "name": "stdout",
     "output_type": "stream",
     "text": [
      "                   all        682       1381      0.686      0.313      0.479      0.241\n",
      "\n",
      "      Epoch    GPU_mem   box_loss   cls_loss   dfl_loss  Instances       Size\n"
     ]
    },
    {
     "name": "stderr",
     "output_type": "stream",
     "text": [
      "     24/100      8.21G      1.964      1.842      1.514         95        640: 100%|██████████| 14/14 [00:03<00:00,  3.57it/s]\n",
      "                 Class     Images  Instances      Box(P          R      mAP50  mAP50-95): 100%|██████████| 8/8 [00:02<00:00,  3.71it/s]\n"
     ]
    },
    {
     "name": "stdout",
     "output_type": "stream",
     "text": [
      "                   all        682       1381      0.793      0.133      0.208        0.1\n",
      "\n",
      "      Epoch    GPU_mem   box_loss   cls_loss   dfl_loss  Instances       Size\n"
     ]
    },
    {
     "name": "stderr",
     "output_type": "stream",
     "text": [
      "     25/100       8.5G       1.91      1.781      1.469        104        640: 100%|██████████| 14/14 [00:04<00:00,  3.49it/s]\n",
      "                 Class     Images  Instances      Box(P          R      mAP50  mAP50-95): 100%|██████████| 8/8 [00:02<00:00,  3.37it/s]\n"
     ]
    },
    {
     "name": "stdout",
     "output_type": "stream",
     "text": [
      "                   all        682       1381      0.481      0.484      0.589      0.295\n",
      "\n",
      "      Epoch    GPU_mem   box_loss   cls_loss   dfl_loss  Instances       Size\n"
     ]
    },
    {
     "name": "stderr",
     "output_type": "stream",
     "text": [
      "     26/100      8.25G      1.795      1.648      1.389        103        640: 100%|██████████| 14/14 [00:03<00:00,  3.50it/s]\n",
      "                 Class     Images  Instances      Box(P          R      mAP50  mAP50-95): 100%|██████████| 8/8 [00:02<00:00,  3.56it/s]\n"
     ]
    },
    {
     "name": "stdout",
     "output_type": "stream",
     "text": [
      "                   all        682       1381      0.657      0.707      0.698      0.387\n",
      "\n",
      "      Epoch    GPU_mem   box_loss   cls_loss   dfl_loss  Instances       Size\n"
     ]
    },
    {
     "name": "stderr",
     "output_type": "stream",
     "text": [
      "     27/100      8.43G      1.806       1.63      1.439         99        640: 100%|██████████| 14/14 [00:03<00:00,  3.56it/s]\n",
      "                 Class     Images  Instances      Box(P          R      mAP50  mAP50-95): 100%|██████████| 8/8 [00:02<00:00,  3.37it/s]\n"
     ]
    },
    {
     "name": "stdout",
     "output_type": "stream",
     "text": [
      "                   all        682       1381      0.421      0.322      0.344      0.175\n",
      "\n",
      "      Epoch    GPU_mem   box_loss   cls_loss   dfl_loss  Instances       Size\n"
     ]
    },
    {
     "name": "stderr",
     "output_type": "stream",
     "text": [
      "     28/100       8.2G      1.881      1.638      1.442        116        640: 100%|██████████| 14/14 [00:03<00:00,  3.50it/s]\n",
      "                 Class     Images  Instances      Box(P          R      mAP50  mAP50-95): 100%|██████████| 8/8 [00:02<00:00,  3.57it/s]\n"
     ]
    },
    {
     "name": "stdout",
     "output_type": "stream",
     "text": [
      "                   all        682       1381       0.86      0.828      0.891      0.514\n",
      "\n",
      "      Epoch    GPU_mem   box_loss   cls_loss   dfl_loss  Instances       Size\n"
     ]
    },
    {
     "name": "stderr",
     "output_type": "stream",
     "text": [
      "     29/100      8.43G      1.796      1.575       1.41        129        640: 100%|██████████| 14/14 [00:03<00:00,  3.57it/s]\n",
      "                 Class     Images  Instances      Box(P          R      mAP50  mAP50-95): 100%|██████████| 8/8 [00:02<00:00,  3.42it/s]\n"
     ]
    },
    {
     "name": "stdout",
     "output_type": "stream",
     "text": [
      "                   all        682       1381      0.739      0.762      0.824      0.468\n",
      "\n",
      "      Epoch    GPU_mem   box_loss   cls_loss   dfl_loss  Instances       Size\n"
     ]
    },
    {
     "name": "stderr",
     "output_type": "stream",
     "text": [
      "     30/100       8.2G      1.731      1.528      1.408         81        640: 100%|██████████| 14/14 [00:03<00:00,  3.55it/s]\n",
      "                 Class     Images  Instances      Box(P          R      mAP50  mAP50-95): 100%|██████████| 8/8 [00:02<00:00,  3.56it/s]\n"
     ]
    },
    {
     "name": "stdout",
     "output_type": "stream",
     "text": [
      "                   all        682       1381      0.795      0.772      0.786      0.448\n",
      "\n",
      "      Epoch    GPU_mem   box_loss   cls_loss   dfl_loss  Instances       Size\n"
     ]
    },
    {
     "name": "stderr",
     "output_type": "stream",
     "text": [
      "     31/100       8.5G      1.768      1.555      1.413        110        640: 100%|██████████| 14/14 [00:03<00:00,  3.54it/s]\n",
      "                 Class     Images  Instances      Box(P          R      mAP50  mAP50-95): 100%|██████████| 8/8 [00:02<00:00,  3.40it/s]\n"
     ]
    },
    {
     "name": "stdout",
     "output_type": "stream",
     "text": [
      "                   all        682       1381      0.855      0.822      0.889      0.512\n",
      "\n",
      "      Epoch    GPU_mem   box_loss   cls_loss   dfl_loss  Instances       Size\n"
     ]
    },
    {
     "name": "stderr",
     "output_type": "stream",
     "text": [
      "     32/100      8.29G      1.696      1.459      1.372         78        640: 100%|██████████| 14/14 [00:03<00:00,  3.60it/s]\n",
      "                 Class     Images  Instances      Box(P          R      mAP50  mAP50-95): 100%|██████████| 8/8 [00:02<00:00,  3.59it/s]\n"
     ]
    },
    {
     "name": "stdout",
     "output_type": "stream",
     "text": [
      "                   all        682       1381      0.844       0.79      0.884      0.528\n",
      "\n",
      "      Epoch    GPU_mem   box_loss   cls_loss   dfl_loss  Instances       Size\n"
     ]
    },
    {
     "name": "stderr",
     "output_type": "stream",
     "text": [
      "     33/100      8.46G      1.705      1.412      1.368        114        640: 100%|██████████| 14/14 [00:04<00:00,  3.48it/s]\n",
      "                 Class     Images  Instances      Box(P          R      mAP50  mAP50-95): 100%|██████████| 8/8 [00:02<00:00,  3.51it/s]\n"
     ]
    },
    {
     "name": "stdout",
     "output_type": "stream",
     "text": [
      "                   all        682       1381      0.671      0.642      0.653      0.355\n",
      "\n",
      "      Epoch    GPU_mem   box_loss   cls_loss   dfl_loss  Instances       Size\n"
     ]
    },
    {
     "name": "stderr",
     "output_type": "stream",
     "text": [
      "     34/100      8.21G      1.653      1.358      1.328        127        640: 100%|██████████| 14/14 [00:03<00:00,  3.53it/s]\n",
      "                 Class     Images  Instances      Box(P          R      mAP50  mAP50-95):  75%|███████▌  | 6/8 [00:02<00:00,  2.86it/s]"
     ]
    },
    {
     "name": "stdout",
     "output_type": "stream",
     "text": [
      "                   all        682       1381      0.897      0.834      0.909      0.535\n"
     ]
    },
    {
     "name": "stderr",
     "output_type": "stream",
     "text": [
      "                 Class     Images  Instances      Box(P          R      mAP50  mAP50-95): 100%|██████████| 8/8 [00:02<00:00,  3.24it/s]\n"
     ]
    },
    {
     "name": "stdout",
     "output_type": "stream",
     "text": [
      "\n",
      "      Epoch    GPU_mem   box_loss   cls_loss   dfl_loss  Instances       Size\n"
     ]
    },
    {
     "name": "stderr",
     "output_type": "stream",
     "text": [
      "     35/100      8.43G      1.693      1.345      1.334        143        640: 100%|██████████| 14/14 [00:04<00:00,  3.35it/s]\n",
      "                 Class     Images  Instances      Box(P          R      mAP50  mAP50-95): 100%|██████████| 8/8 [00:02<00:00,  3.50it/s]\n"
     ]
    },
    {
     "name": "stdout",
     "output_type": "stream",
     "text": [
      "                   all        682       1381      0.737      0.453      0.503      0.241\n",
      "\n",
      "      Epoch    GPU_mem   box_loss   cls_loss   dfl_loss  Instances       Size\n"
     ]
    },
    {
     "name": "stderr",
     "output_type": "stream",
     "text": [
      "     36/100      8.21G      1.639      1.324      1.332        116        640: 100%|██████████| 14/14 [00:04<00:00,  3.45it/s]\n",
      "                 Class     Images  Instances      Box(P          R      mAP50  mAP50-95): 100%|██████████| 8/8 [00:02<00:00,  3.53it/s]\n"
     ]
    },
    {
     "name": "stdout",
     "output_type": "stream",
     "text": [
      "                   all        682       1381      0.926      0.881      0.934      0.581\n",
      "\n",
      "      Epoch    GPU_mem   box_loss   cls_loss   dfl_loss  Instances       Size\n"
     ]
    },
    {
     "name": "stderr",
     "output_type": "stream",
     "text": [
      "     37/100      8.47G      1.663      1.294      1.323        102        640: 100%|██████████| 14/14 [00:03<00:00,  3.53it/s]\n",
      "                 Class     Images  Instances      Box(P          R      mAP50  mAP50-95): 100%|██████████| 8/8 [00:02<00:00,  3.41it/s]\n"
     ]
    },
    {
     "name": "stdout",
     "output_type": "stream",
     "text": [
      "                   all        682       1381      0.919      0.882      0.934      0.583\n",
      "\n",
      "      Epoch    GPU_mem   box_loss   cls_loss   dfl_loss  Instances       Size\n"
     ]
    },
    {
     "name": "stderr",
     "output_type": "stream",
     "text": [
      "     38/100      8.21G      1.609      1.289      1.325        109        640: 100%|██████████| 14/14 [00:03<00:00,  3.60it/s]\n",
      "                 Class     Images  Instances      Box(P          R      mAP50  mAP50-95): 100%|██████████| 8/8 [00:02<00:00,  3.63it/s]\n"
     ]
    },
    {
     "name": "stdout",
     "output_type": "stream",
     "text": [
      "                   all        682       1381      0.913      0.901      0.936      0.572\n",
      "\n",
      "      Epoch    GPU_mem   box_loss   cls_loss   dfl_loss  Instances       Size\n"
     ]
    },
    {
     "name": "stderr",
     "output_type": "stream",
     "text": [
      "     39/100      8.47G      1.616       1.29      1.266        101        640: 100%|██████████| 14/14 [00:04<00:00,  3.14it/s]\n",
      "                 Class     Images  Instances      Box(P          R      mAP50  mAP50-95): 100%|██████████| 8/8 [00:02<00:00,  3.36it/s]\n"
     ]
    },
    {
     "name": "stdout",
     "output_type": "stream",
     "text": [
      "                   all        682       1381      0.885      0.818      0.883      0.529\n",
      "\n",
      "      Epoch    GPU_mem   box_loss   cls_loss   dfl_loss  Instances       Size\n"
     ]
    },
    {
     "name": "stderr",
     "output_type": "stream",
     "text": [
      "     40/100      8.24G      1.544      1.223       1.29         83        640: 100%|██████████| 14/14 [00:04<00:00,  3.49it/s]\n",
      "                 Class     Images  Instances      Box(P          R      mAP50  mAP50-95): 100%|██████████| 8/8 [00:02<00:00,  3.56it/s]\n"
     ]
    },
    {
     "name": "stdout",
     "output_type": "stream",
     "text": [
      "                   all        682       1381      0.766      0.804      0.821      0.475\n",
      "\n",
      "      Epoch    GPU_mem   box_loss   cls_loss   dfl_loss  Instances       Size\n"
     ]
    },
    {
     "name": "stderr",
     "output_type": "stream",
     "text": [
      "     41/100      8.43G      1.594      1.204      1.249        134        640: 100%|██████████| 14/14 [00:03<00:00,  3.54it/s]\n",
      "                 Class     Images  Instances      Box(P          R      mAP50  mAP50-95): 100%|██████████| 8/8 [00:02<00:00,  3.44it/s]\n"
     ]
    },
    {
     "name": "stdout",
     "output_type": "stream",
     "text": [
      "                   all        682       1381      0.838      0.851      0.906      0.525\n",
      "\n",
      "      Epoch    GPU_mem   box_loss   cls_loss   dfl_loss  Instances       Size\n"
     ]
    },
    {
     "name": "stderr",
     "output_type": "stream",
     "text": [
      "     42/100      8.24G      1.563      1.208      1.312         97        640: 100%|██████████| 14/14 [00:03<00:00,  3.58it/s]\n",
      "                 Class     Images  Instances      Box(P          R      mAP50  mAP50-95): 100%|██████████| 8/8 [00:02<00:00,  3.59it/s]\n"
     ]
    },
    {
     "name": "stdout",
     "output_type": "stream",
     "text": [
      "                   all        682       1381      0.899      0.906      0.943      0.596\n",
      "\n",
      "      Epoch    GPU_mem   box_loss   cls_loss   dfl_loss  Instances       Size\n"
     ]
    },
    {
     "name": "stderr",
     "output_type": "stream",
     "text": [
      "     43/100      8.44G      1.517      1.187      1.279        109        640: 100%|██████████| 14/14 [00:03<00:00,  3.51it/s]\n",
      "                 Class     Images  Instances      Box(P          R      mAP50  mAP50-95): 100%|██████████| 8/8 [00:02<00:00,  3.43it/s]\n"
     ]
    },
    {
     "name": "stdout",
     "output_type": "stream",
     "text": [
      "                   all        682       1381      0.819      0.837      0.906       0.53\n",
      "\n",
      "      Epoch    GPU_mem   box_loss   cls_loss   dfl_loss  Instances       Size\n"
     ]
    },
    {
     "name": "stderr",
     "output_type": "stream",
     "text": [
      "     44/100      8.25G      1.535      1.166      1.295        109        640: 100%|██████████| 14/14 [00:03<00:00,  3.51it/s]\n",
      "                 Class     Images  Instances      Box(P          R      mAP50  mAP50-95): 100%|██████████| 8/8 [00:02<00:00,  3.58it/s]\n"
     ]
    },
    {
     "name": "stdout",
     "output_type": "stream",
     "text": [
      "                   all        682       1381      0.796      0.651      0.705      0.393\n",
      "\n",
      "      Epoch    GPU_mem   box_loss   cls_loss   dfl_loss  Instances       Size\n"
     ]
    },
    {
     "name": "stderr",
     "output_type": "stream",
     "text": [
      "     45/100      8.44G      1.512      1.121       1.24        120        640: 100%|██████████| 14/14 [00:04<00:00,  3.33it/s]\n",
      "                 Class     Images  Instances      Box(P          R      mAP50  mAP50-95): 100%|██████████| 8/8 [00:02<00:00,  3.46it/s]\n"
     ]
    },
    {
     "name": "stdout",
     "output_type": "stream",
     "text": [
      "                   all        682       1381      0.807      0.856      0.879      0.525\n",
      "\n",
      "      Epoch    GPU_mem   box_loss   cls_loss   dfl_loss  Instances       Size\n"
     ]
    },
    {
     "name": "stderr",
     "output_type": "stream",
     "text": [
      "     46/100      8.29G      1.544      1.164      1.293         81        640: 100%|██████████| 14/14 [00:03<00:00,  3.57it/s]\n",
      "                 Class     Images  Instances      Box(P          R      mAP50  mAP50-95): 100%|██████████| 8/8 [00:02<00:00,  3.59it/s]\n"
     ]
    },
    {
     "name": "stdout",
     "output_type": "stream",
     "text": [
      "                   all        682       1381      0.913      0.887      0.938      0.585\n",
      "\n",
      "      Epoch    GPU_mem   box_loss   cls_loss   dfl_loss  Instances       Size\n"
     ]
    },
    {
     "name": "stderr",
     "output_type": "stream",
     "text": [
      "     47/100      8.47G      1.557      1.142      1.253         98        640: 100%|██████████| 14/14 [00:03<00:00,  3.59it/s]\n",
      "                 Class     Images  Instances      Box(P          R      mAP50  mAP50-95): 100%|██████████| 8/8 [00:02<00:00,  3.49it/s]\n"
     ]
    },
    {
     "name": "stdout",
     "output_type": "stream",
     "text": [
      "                   all        682       1381      0.943      0.819      0.902      0.552\n",
      "\n",
      "      Epoch    GPU_mem   box_loss   cls_loss   dfl_loss  Instances       Size\n"
     ]
    },
    {
     "name": "stderr",
     "output_type": "stream",
     "text": [
      "     48/100      8.27G      1.487      1.106      1.226        106        640: 100%|██████████| 14/14 [00:03<00:00,  3.55it/s]\n",
      "                 Class     Images  Instances      Box(P          R      mAP50  mAP50-95): 100%|██████████| 8/8 [00:02<00:00,  3.63it/s]\n"
     ]
    },
    {
     "name": "stdout",
     "output_type": "stream",
     "text": [
      "                   all        682       1381      0.696      0.853      0.894       0.49\n",
      "\n",
      "      Epoch    GPU_mem   box_loss   cls_loss   dfl_loss  Instances       Size\n"
     ]
    },
    {
     "name": "stderr",
     "output_type": "stream",
     "text": [
      "     49/100       8.5G      1.469      1.086      1.235        114        640: 100%|██████████| 14/14 [00:03<00:00,  3.51it/s]\n",
      "                 Class     Images  Instances      Box(P          R      mAP50  mAP50-95): 100%|██████████| 8/8 [00:02<00:00,  3.44it/s]\n"
     ]
    },
    {
     "name": "stdout",
     "output_type": "stream",
     "text": [
      "                   all        682       1381      0.798      0.869      0.889      0.537\n",
      "\n",
      "      Epoch    GPU_mem   box_loss   cls_loss   dfl_loss  Instances       Size\n"
     ]
    },
    {
     "name": "stderr",
     "output_type": "stream",
     "text": [
      "     50/100      8.21G      1.503      1.121      1.258        125        640: 100%|██████████| 14/14 [00:03<00:00,  3.56it/s]\n",
      "                 Class     Images  Instances      Box(P          R      mAP50  mAP50-95): 100%|██████████| 8/8 [00:02<00:00,  3.11it/s]\n"
     ]
    },
    {
     "name": "stdout",
     "output_type": "stream",
     "text": [
      "                   all        682       1381      0.912      0.905      0.944        0.6\n",
      "\n",
      "      Epoch    GPU_mem   box_loss   cls_loss   dfl_loss  Instances       Size\n"
     ]
    },
    {
     "name": "stderr",
     "output_type": "stream",
     "text": [
      "     51/100      8.46G      1.487      1.089      1.245        106        640: 100%|██████████| 14/14 [00:03<00:00,  3.53it/s]\n",
      "                 Class     Images  Instances      Box(P          R      mAP50  mAP50-95): 100%|██████████| 8/8 [00:02<00:00,  3.47it/s]\n"
     ]
    },
    {
     "name": "stdout",
     "output_type": "stream",
     "text": [
      "                   all        682       1381       0.93      0.865      0.941      0.594\n",
      "\n",
      "      Epoch    GPU_mem   box_loss   cls_loss   dfl_loss  Instances       Size\n"
     ]
    },
    {
     "name": "stderr",
     "output_type": "stream",
     "text": [
      "     52/100      8.24G      1.493      1.077      1.253        111        640: 100%|██████████| 14/14 [00:03<00:00,  3.52it/s]\n",
      "                 Class     Images  Instances      Box(P          R      mAP50  mAP50-95): 100%|██████████| 8/8 [00:02<00:00,  3.64it/s]\n"
     ]
    },
    {
     "name": "stdout",
     "output_type": "stream",
     "text": [
      "                   all        682       1381      0.915      0.924      0.955        0.6\n",
      "\n",
      "      Epoch    GPU_mem   box_loss   cls_loss   dfl_loss  Instances       Size\n"
     ]
    },
    {
     "name": "stderr",
     "output_type": "stream",
     "text": [
      "     53/100      8.46G      1.425      1.046       1.21         83        640: 100%|██████████| 14/14 [00:04<00:00,  3.49it/s]\n",
      "                 Class     Images  Instances      Box(P          R      mAP50  mAP50-95): 100%|██████████| 8/8 [00:02<00:00,  3.43it/s]\n"
     ]
    },
    {
     "name": "stdout",
     "output_type": "stream",
     "text": [
      "                   all        682       1381      0.917      0.891      0.946      0.592\n",
      "\n",
      "      Epoch    GPU_mem   box_loss   cls_loss   dfl_loss  Instances       Size\n"
     ]
    },
    {
     "name": "stderr",
     "output_type": "stream",
     "text": [
      "     54/100      8.27G      1.466       1.05      1.195         94        640: 100%|██████████| 14/14 [00:03<00:00,  3.55it/s]\n",
      "                 Class     Images  Instances      Box(P          R      mAP50  mAP50-95): 100%|██████████| 8/8 [00:02<00:00,  3.58it/s]\n"
     ]
    },
    {
     "name": "stdout",
     "output_type": "stream",
     "text": [
      "                   all        682       1381      0.938      0.924      0.957      0.614\n",
      "\n",
      "      Epoch    GPU_mem   box_loss   cls_loss   dfl_loss  Instances       Size\n"
     ]
    },
    {
     "name": "stderr",
     "output_type": "stream",
     "text": [
      "     55/100      8.44G      1.457      1.022      1.253        113        640: 100%|██████████| 14/14 [00:04<00:00,  3.50it/s]\n",
      "                 Class     Images  Instances      Box(P          R      mAP50  mAP50-95): 100%|██████████| 8/8 [00:02<00:00,  3.00it/s]\n"
     ]
    },
    {
     "name": "stdout",
     "output_type": "stream",
     "text": [
      "                   all        682       1381      0.781      0.617      0.674        0.4\n",
      "\n",
      "      Epoch    GPU_mem   box_loss   cls_loss   dfl_loss  Instances       Size\n"
     ]
    },
    {
     "name": "stderr",
     "output_type": "stream",
     "text": [
      "     56/100      8.21G      1.429      1.062      1.237         86        640: 100%|██████████| 14/14 [00:04<00:00,  3.48it/s]\n",
      "                 Class     Images  Instances      Box(P          R      mAP50  mAP50-95): 100%|██████████| 8/8 [00:02<00:00,  3.60it/s]\n"
     ]
    },
    {
     "name": "stdout",
     "output_type": "stream",
     "text": [
      "                   all        682       1381      0.909      0.842      0.937      0.574\n",
      "\n",
      "      Epoch    GPU_mem   box_loss   cls_loss   dfl_loss  Instances       Size\n"
     ]
    },
    {
     "name": "stderr",
     "output_type": "stream",
     "text": [
      "     57/100      8.43G      1.389      1.003      1.178         96        640: 100%|██████████| 14/14 [00:03<00:00,  3.53it/s]\n",
      "                 Class     Images  Instances      Box(P          R      mAP50  mAP50-95): 100%|██████████| 8/8 [00:02<00:00,  3.14it/s]\n"
     ]
    },
    {
     "name": "stdout",
     "output_type": "stream",
     "text": [
      "                   all        682       1381      0.942      0.919      0.962      0.639\n",
      "\n",
      "      Epoch    GPU_mem   box_loss   cls_loss   dfl_loss  Instances       Size\n"
     ]
    },
    {
     "name": "stderr",
     "output_type": "stream",
     "text": [
      "     58/100      8.26G       1.43      1.016      1.196        115        640: 100%|██████████| 14/14 [00:03<00:00,  3.53it/s]\n",
      "                 Class     Images  Instances      Box(P          R      mAP50  mAP50-95): 100%|██████████| 8/8 [00:02<00:00,  3.62it/s]\n"
     ]
    },
    {
     "name": "stdout",
     "output_type": "stream",
     "text": [
      "                   all        682       1381      0.937      0.925      0.955      0.641\n",
      "\n",
      "      Epoch    GPU_mem   box_loss   cls_loss   dfl_loss  Instances       Size\n"
     ]
    },
    {
     "name": "stderr",
     "output_type": "stream",
     "text": [
      "     59/100      8.44G      1.387     0.9538      1.186         94        640: 100%|██████████| 14/14 [00:04<00:00,  3.46it/s]\n",
      "                 Class     Images  Instances      Box(P          R      mAP50  mAP50-95): 100%|██████████| 8/8 [00:02<00:00,  3.50it/s]\n"
     ]
    },
    {
     "name": "stdout",
     "output_type": "stream",
     "text": [
      "                   all        682       1381      0.679      0.599       0.59      0.346\n",
      "\n",
      "      Epoch    GPU_mem   box_loss   cls_loss   dfl_loss  Instances       Size\n"
     ]
    },
    {
     "name": "stderr",
     "output_type": "stream",
     "text": [
      "     60/100      8.27G       1.39      1.005      1.216        100        640: 100%|██████████| 14/14 [00:03<00:00,  3.54it/s]\n",
      "                 Class     Images  Instances      Box(P          R      mAP50  mAP50-95): 100%|██████████| 8/8 [00:03<00:00,  2.62it/s]\n"
     ]
    },
    {
     "name": "stdout",
     "output_type": "stream",
     "text": [
      "                   all        682       1381       0.78      0.803      0.843      0.491\n",
      "\n",
      "      Epoch    GPU_mem   box_loss   cls_loss   dfl_loss  Instances       Size\n"
     ]
    },
    {
     "name": "stderr",
     "output_type": "stream",
     "text": [
      "     61/100      8.47G      1.378      0.981      1.189        107        640: 100%|██████████| 14/14 [00:03<00:00,  3.53it/s]\n",
      "                 Class     Images  Instances      Box(P          R      mAP50  mAP50-95): 100%|██████████| 8/8 [00:02<00:00,  3.46it/s]\n"
     ]
    },
    {
     "name": "stdout",
     "output_type": "stream",
     "text": [
      "                   all        682       1381      0.952      0.905      0.953      0.612\n",
      "\n",
      "      Epoch    GPU_mem   box_loss   cls_loss   dfl_loss  Instances       Size\n"
     ]
    },
    {
     "name": "stderr",
     "output_type": "stream",
     "text": [
      "     62/100      8.24G      1.397     0.9754      1.169         98        640: 100%|██████████| 14/14 [00:03<00:00,  3.53it/s]\n",
      "                 Class     Images  Instances      Box(P          R      mAP50  mAP50-95): 100%|██████████| 8/8 [00:02<00:00,  3.62it/s]\n"
     ]
    },
    {
     "name": "stdout",
     "output_type": "stream",
     "text": [
      "                   all        682       1381      0.938      0.905      0.956      0.617\n",
      "\n",
      "      Epoch    GPU_mem   box_loss   cls_loss   dfl_loss  Instances       Size\n"
     ]
    },
    {
     "name": "stderr",
     "output_type": "stream",
     "text": [
      "     63/100      8.45G      1.406     0.9739       1.18        114        640: 100%|██████████| 14/14 [00:03<00:00,  3.53it/s]\n",
      "                 Class     Images  Instances      Box(P          R      mAP50  mAP50-95): 100%|██████████| 8/8 [00:02<00:00,  3.48it/s]\n"
     ]
    },
    {
     "name": "stdout",
     "output_type": "stream",
     "text": [
      "                   all        682       1381      0.939      0.923      0.962      0.641\n",
      "\n",
      "      Epoch    GPU_mem   box_loss   cls_loss   dfl_loss  Instances       Size\n"
     ]
    },
    {
     "name": "stderr",
     "output_type": "stream",
     "text": [
      "     64/100       8.2G      1.422      1.017      1.218        117        640: 100%|██████████| 14/14 [00:03<00:00,  3.53it/s]\n",
      "                 Class     Images  Instances      Box(P          R      mAP50  mAP50-95): 100%|██████████| 8/8 [00:02<00:00,  3.63it/s]\n"
     ]
    },
    {
     "name": "stdout",
     "output_type": "stream",
     "text": [
      "                   all        682       1381      0.915      0.915      0.953      0.617\n",
      "\n",
      "      Epoch    GPU_mem   box_loss   cls_loss   dfl_loss  Instances       Size\n"
     ]
    },
    {
     "name": "stderr",
     "output_type": "stream",
     "text": [
      "     65/100      8.44G      1.332     0.9342      1.152         94        640: 100%|██████████| 14/14 [00:03<00:00,  3.51it/s]\n",
      "                 Class     Images  Instances      Box(P          R      mAP50  mAP50-95): 100%|██████████| 8/8 [00:03<00:00,  2.50it/s]\n"
     ]
    },
    {
     "name": "stdout",
     "output_type": "stream",
     "text": [
      "                   all        682       1381      0.887      0.867      0.913      0.573\n",
      "\n",
      "      Epoch    GPU_mem   box_loss   cls_loss   dfl_loss  Instances       Size\n"
     ]
    },
    {
     "name": "stderr",
     "output_type": "stream",
     "text": [
      "     66/100      8.24G      1.391     0.9508      1.192         92        640: 100%|██████████| 14/14 [00:03<00:00,  3.61it/s]\n",
      "                 Class     Images  Instances      Box(P          R      mAP50  mAP50-95): 100%|██████████| 8/8 [00:02<00:00,  3.61it/s]\n"
     ]
    },
    {
     "name": "stdout",
     "output_type": "stream",
     "text": [
      "                   all        682       1381      0.934      0.915      0.963      0.631\n",
      "\n",
      "      Epoch    GPU_mem   box_loss   cls_loss   dfl_loss  Instances       Size\n"
     ]
    },
    {
     "name": "stderr",
     "output_type": "stream",
     "text": [
      "     67/100       8.5G      1.393     0.9751        1.2        105        640: 100%|██████████| 14/14 [00:03<00:00,  3.56it/s]\n",
      "                 Class     Images  Instances      Box(P          R      mAP50  mAP50-95): 100%|██████████| 8/8 [00:02<00:00,  3.42it/s]\n"
     ]
    },
    {
     "name": "stdout",
     "output_type": "stream",
     "text": [
      "                   all        682       1381      0.926      0.836      0.933      0.597\n",
      "\n",
      "      Epoch    GPU_mem   box_loss   cls_loss   dfl_loss  Instances       Size\n"
     ]
    },
    {
     "name": "stderr",
     "output_type": "stream",
     "text": [
      "     68/100      8.19G      1.357     0.9342      1.168        103        640: 100%|██████████| 14/14 [00:03<00:00,  3.53it/s]\n",
      "                 Class     Images  Instances      Box(P          R      mAP50  mAP50-95): 100%|██████████| 8/8 [00:02<00:00,  3.63it/s]\n"
     ]
    },
    {
     "name": "stdout",
     "output_type": "stream",
     "text": [
      "                   all        682       1381      0.892      0.821      0.892      0.547\n",
      "\n",
      "      Epoch    GPU_mem   box_loss   cls_loss   dfl_loss  Instances       Size\n"
     ]
    },
    {
     "name": "stderr",
     "output_type": "stream",
     "text": [
      "     69/100      8.43G      1.385      0.998      1.167        100        640: 100%|██████████| 14/14 [00:03<00:00,  3.55it/s]\n",
      "                 Class     Images  Instances      Box(P          R      mAP50  mAP50-95): 100%|██████████| 8/8 [00:02<00:00,  3.46it/s]\n"
     ]
    },
    {
     "name": "stdout",
     "output_type": "stream",
     "text": [
      "                   all        682       1381       0.93       0.92      0.954      0.625\n",
      "\n",
      "      Epoch    GPU_mem   box_loss   cls_loss   dfl_loss  Instances       Size\n"
     ]
    },
    {
     "name": "stderr",
     "output_type": "stream",
     "text": [
      "     70/100      8.28G      1.337     0.9062      1.163        115        640: 100%|██████████| 14/14 [00:03<00:00,  3.52it/s]\n",
      "                 Class     Images  Instances      Box(P          R      mAP50  mAP50-95): 100%|██████████| 8/8 [00:02<00:00,  2.79it/s]\n"
     ]
    },
    {
     "name": "stdout",
     "output_type": "stream",
     "text": [
      "                   all        682       1381      0.914      0.725      0.798      0.499\n",
      "\n",
      "      Epoch    GPU_mem   box_loss   cls_loss   dfl_loss  Instances       Size\n"
     ]
    },
    {
     "name": "stderr",
     "output_type": "stream",
     "text": [
      "     71/100       8.5G       1.35     0.9421      1.175        116        640: 100%|██████████| 14/14 [00:03<00:00,  3.51it/s]\n",
      "                 Class     Images  Instances      Box(P          R      mAP50  mAP50-95): 100%|██████████| 8/8 [00:02<00:00,  3.44it/s]\n"
     ]
    },
    {
     "name": "stdout",
     "output_type": "stream",
     "text": [
      "                   all        682       1381      0.809      0.743      0.802      0.477\n",
      "\n",
      "      Epoch    GPU_mem   box_loss   cls_loss   dfl_loss  Instances       Size\n"
     ]
    },
    {
     "name": "stderr",
     "output_type": "stream",
     "text": [
      "     72/100      8.21G      1.363     0.9473      1.175        102        640: 100%|██████████| 14/14 [00:03<00:00,  3.51it/s]\n",
      "                 Class     Images  Instances      Box(P          R      mAP50  mAP50-95): 100%|██████████| 8/8 [00:02<00:00,  3.50it/s]\n"
     ]
    },
    {
     "name": "stdout",
     "output_type": "stream",
     "text": [
      "                   all        682       1381      0.951      0.924      0.969      0.654\n",
      "\n",
      "      Epoch    GPU_mem   box_loss   cls_loss   dfl_loss  Instances       Size\n"
     ]
    },
    {
     "name": "stderr",
     "output_type": "stream",
     "text": [
      "     73/100      8.45G      1.322     0.9344      1.197         72        640: 100%|██████████| 14/14 [00:03<00:00,  3.54it/s]\n",
      "                 Class     Images  Instances      Box(P          R      mAP50  mAP50-95): 100%|██████████| 8/8 [00:02<00:00,  3.45it/s]\n"
     ]
    },
    {
     "name": "stdout",
     "output_type": "stream",
     "text": [
      "                   all        682       1381      0.851       0.88      0.913      0.582\n",
      "\n",
      "      Epoch    GPU_mem   box_loss   cls_loss   dfl_loss  Instances       Size\n"
     ]
    },
    {
     "name": "stderr",
     "output_type": "stream",
     "text": [
      "     74/100       8.2G      1.319     0.8633      1.159        104        640: 100%|██████████| 14/14 [00:03<00:00,  3.51it/s]\n",
      "                 Class     Images  Instances      Box(P          R      mAP50  mAP50-95): 100%|██████████| 8/8 [00:02<00:00,  3.57it/s]\n"
     ]
    },
    {
     "name": "stdout",
     "output_type": "stream",
     "text": [
      "                   all        682       1381       0.94      0.881      0.925      0.606\n",
      "\n",
      "      Epoch    GPU_mem   box_loss   cls_loss   dfl_loss  Instances       Size\n"
     ]
    },
    {
     "name": "stderr",
     "output_type": "stream",
     "text": [
      "     75/100      8.45G      1.318     0.9203      1.165        108        640: 100%|██████████| 14/14 [00:04<00:00,  3.48it/s]\n",
      "                 Class     Images  Instances      Box(P          R      mAP50  mAP50-95): 100%|██████████| 8/8 [00:02<00:00,  3.45it/s]\n"
     ]
    },
    {
     "name": "stdout",
     "output_type": "stream",
     "text": [
      "                   all        682       1381      0.923      0.865      0.922      0.615\n",
      "\n",
      "      Epoch    GPU_mem   box_loss   cls_loss   dfl_loss  Instances       Size\n"
     ]
    },
    {
     "name": "stderr",
     "output_type": "stream",
     "text": [
      "     76/100      8.26G      1.303      0.891      1.148         95        640: 100%|██████████| 14/14 [00:04<00:00,  3.33it/s]\n",
      "                 Class     Images  Instances      Box(P          R      mAP50  mAP50-95): 100%|██████████| 8/8 [00:02<00:00,  3.55it/s]\n"
     ]
    },
    {
     "name": "stdout",
     "output_type": "stream",
     "text": [
      "                   all        682       1381       0.95      0.904      0.956      0.587\n",
      "\n",
      "      Epoch    GPU_mem   box_loss   cls_loss   dfl_loss  Instances       Size\n"
     ]
    },
    {
     "name": "stderr",
     "output_type": "stream",
     "text": [
      "     77/100      8.47G      1.316     0.8985      1.142        144        640: 100%|██████████| 14/14 [00:04<00:00,  3.50it/s]\n",
      "                 Class     Images  Instances      Box(P          R      mAP50  mAP50-95): 100%|██████████| 8/8 [00:02<00:00,  3.47it/s]\n"
     ]
    },
    {
     "name": "stdout",
     "output_type": "stream",
     "text": [
      "                   all        682       1381      0.923      0.907       0.95      0.632\n",
      "\n",
      "      Epoch    GPU_mem   box_loss   cls_loss   dfl_loss  Instances       Size\n"
     ]
    },
    {
     "name": "stderr",
     "output_type": "stream",
     "text": [
      "     78/100      8.28G      1.313     0.9206      1.188        105        640: 100%|██████████| 14/14 [00:03<00:00,  3.54it/s]\n",
      "                 Class     Images  Instances      Box(P          R      mAP50  mAP50-95): 100%|██████████| 8/8 [00:02<00:00,  3.62it/s]\n"
     ]
    },
    {
     "name": "stdout",
     "output_type": "stream",
     "text": [
      "                   all        682       1381      0.911       0.94      0.955      0.633\n",
      "\n",
      "      Epoch    GPU_mem   box_loss   cls_loss   dfl_loss  Instances       Size\n"
     ]
    },
    {
     "name": "stderr",
     "output_type": "stream",
     "text": [
      "     79/100      8.45G      1.304     0.8689      1.132        130        640: 100%|██████████| 14/14 [00:03<00:00,  3.52it/s]\n",
      "                 Class     Images  Instances      Box(P          R      mAP50  mAP50-95): 100%|██████████| 8/8 [00:02<00:00,  3.40it/s]\n"
     ]
    },
    {
     "name": "stdout",
     "output_type": "stream",
     "text": [
      "                   all        682       1381       0.94      0.927      0.966      0.656\n",
      "\n",
      "      Epoch    GPU_mem   box_loss   cls_loss   dfl_loss  Instances       Size\n"
     ]
    },
    {
     "name": "stderr",
     "output_type": "stream",
     "text": [
      "     80/100      8.25G      1.341     0.9413      1.179         93        640: 100%|██████████| 14/14 [00:03<00:00,  3.50it/s]\n",
      "                 Class     Images  Instances      Box(P          R      mAP50  mAP50-95): 100%|██████████| 8/8 [00:02<00:00,  3.53it/s]\n"
     ]
    },
    {
     "name": "stdout",
     "output_type": "stream",
     "text": [
      "                   all        682       1381      0.944      0.933      0.969      0.652\n",
      "\n",
      "      Epoch    GPU_mem   box_loss   cls_loss   dfl_loss  Instances       Size\n"
     ]
    },
    {
     "name": "stderr",
     "output_type": "stream",
     "text": [
      "     81/100      8.43G      1.283     0.8797      1.125         80        640: 100%|██████████| 14/14 [00:04<00:00,  3.26it/s]\n",
      "                 Class     Images  Instances      Box(P          R      mAP50  mAP50-95): 100%|██████████| 8/8 [00:02<00:00,  3.48it/s]\n"
     ]
    },
    {
     "name": "stdout",
     "output_type": "stream",
     "text": [
      "                   all        682       1381      0.864      0.842      0.893      0.576\n",
      "\n",
      "      Epoch    GPU_mem   box_loss   cls_loss   dfl_loss  Instances       Size\n"
     ]
    },
    {
     "name": "stderr",
     "output_type": "stream",
     "text": [
      "     82/100      8.26G      1.295     0.8874      1.131        105        640: 100%|██████████| 14/14 [00:03<00:00,  3.53it/s]\n",
      "                 Class     Images  Instances      Box(P          R      mAP50  mAP50-95): 100%|██████████| 8/8 [00:02<00:00,  3.63it/s]\n"
     ]
    },
    {
     "name": "stdout",
     "output_type": "stream",
     "text": [
      "                   all        682       1381      0.891      0.905      0.944      0.637\n",
      "\n",
      "      Epoch    GPU_mem   box_loss   cls_loss   dfl_loss  Instances       Size\n"
     ]
    },
    {
     "name": "stderr",
     "output_type": "stream",
     "text": [
      "     83/100      8.45G      1.276     0.8662      1.119        114        640: 100%|██████████| 14/14 [00:04<00:00,  3.50it/s]\n",
      "                 Class     Images  Instances      Box(P          R      mAP50  mAP50-95): 100%|██████████| 8/8 [00:02<00:00,  3.40it/s]\n"
     ]
    },
    {
     "name": "stdout",
     "output_type": "stream",
     "text": [
      "                   all        682       1381      0.954      0.934      0.963      0.657\n",
      "\n",
      "      Epoch    GPU_mem   box_loss   cls_loss   dfl_loss  Instances       Size\n"
     ]
    },
    {
     "name": "stderr",
     "output_type": "stream",
     "text": [
      "     84/100      8.29G      1.292     0.8684      1.131         87        640: 100%|██████████| 14/14 [00:03<00:00,  3.56it/s]\n",
      "                 Class     Images  Instances      Box(P          R      mAP50  mAP50-95): 100%|██████████| 8/8 [00:02<00:00,  3.63it/s]\n"
     ]
    },
    {
     "name": "stdout",
     "output_type": "stream",
     "text": [
      "                   all        682       1381      0.949      0.944      0.968      0.667\n",
      "\n",
      "      Epoch    GPU_mem   box_loss   cls_loss   dfl_loss  Instances       Size\n"
     ]
    },
    {
     "name": "stderr",
     "output_type": "stream",
     "text": [
      "     85/100      8.44G      1.281     0.8642      1.148         83        640: 100%|██████████| 14/14 [00:03<00:00,  3.54it/s]\n",
      "                 Class     Images  Instances      Box(P          R      mAP50  mAP50-95): 100%|██████████| 8/8 [00:02<00:00,  3.45it/s]\n"
     ]
    },
    {
     "name": "stdout",
     "output_type": "stream",
     "text": [
      "                   all        682       1381      0.944      0.869      0.936      0.621\n",
      "\n",
      "      Epoch    GPU_mem   box_loss   cls_loss   dfl_loss  Instances       Size\n"
     ]
    },
    {
     "name": "stderr",
     "output_type": "stream",
     "text": [
      "     86/100      8.25G      1.288      0.912       1.15        100        640: 100%|██████████| 14/14 [00:04<00:00,  3.27it/s]\n",
      "                 Class     Images  Instances      Box(P          R      mAP50  mAP50-95): 100%|██████████| 8/8 [00:02<00:00,  3.61it/s]\n"
     ]
    },
    {
     "name": "stdout",
     "output_type": "stream",
     "text": [
      "                   all        682       1381      0.945      0.934      0.968      0.664\n",
      "\n",
      "      Epoch    GPU_mem   box_loss   cls_loss   dfl_loss  Instances       Size\n"
     ]
    },
    {
     "name": "stderr",
     "output_type": "stream",
     "text": [
      "     87/100      8.45G      1.252     0.8418      1.124        101        640: 100%|██████████| 14/14 [00:03<00:00,  3.55it/s]\n",
      "                 Class     Images  Instances      Box(P          R      mAP50  mAP50-95): 100%|██████████| 8/8 [00:02<00:00,  3.43it/s]\n"
     ]
    },
    {
     "name": "stdout",
     "output_type": "stream",
     "text": [
      "                   all        682       1381      0.953      0.926      0.974      0.671\n",
      "\n",
      "      Epoch    GPU_mem   box_loss   cls_loss   dfl_loss  Instances       Size\n"
     ]
    },
    {
     "name": "stderr",
     "output_type": "stream",
     "text": [
      "     88/100      8.25G      1.251     0.8303      1.114        113        640: 100%|██████████| 14/14 [00:03<00:00,  3.58it/s]\n",
      "                 Class     Images  Instances      Box(P          R      mAP50  mAP50-95): 100%|██████████| 8/8 [00:02<00:00,  3.68it/s]\n"
     ]
    },
    {
     "name": "stdout",
     "output_type": "stream",
     "text": [
      "                   all        682       1381      0.922      0.911      0.957      0.653\n",
      "\n",
      "      Epoch    GPU_mem   box_loss   cls_loss   dfl_loss  Instances       Size\n"
     ]
    },
    {
     "name": "stderr",
     "output_type": "stream",
     "text": [
      "     89/100      8.46G      1.277     0.8767      1.126        111        640: 100%|██████████| 14/14 [00:03<00:00,  3.51it/s]\n",
      "                 Class     Images  Instances      Box(P          R      mAP50  mAP50-95): 100%|██████████| 8/8 [00:02<00:00,  3.45it/s]\n"
     ]
    },
    {
     "name": "stdout",
     "output_type": "stream",
     "text": [
      "                   all        682       1381       0.93      0.943       0.97      0.671\n",
      "\n",
      "      Epoch    GPU_mem   box_loss   cls_loss   dfl_loss  Instances       Size\n"
     ]
    },
    {
     "name": "stderr",
     "output_type": "stream",
     "text": [
      "     90/100      8.27G      1.224     0.8206      1.108        101        640: 100%|██████████| 14/14 [00:03<00:00,  3.56it/s]\n",
      "                 Class     Images  Instances      Box(P          R      mAP50  mAP50-95): 100%|██████████| 8/8 [00:02<00:00,  3.62it/s]\n"
     ]
    },
    {
     "name": "stdout",
     "output_type": "stream",
     "text": [
      "                   all        682       1381      0.898      0.873      0.919      0.596\n",
      "Closing dataloader mosaic\n",
      "\n",
      "      Epoch    GPU_mem   box_loss   cls_loss   dfl_loss  Instances       Size\n"
     ]
    },
    {
     "name": "stderr",
     "output_type": "stream",
     "text": [
      "     91/100      8.95G      1.254     0.7916      1.073         46        640: 100%|██████████| 14/14 [00:06<00:00,  2.05it/s]\n",
      "                 Class     Images  Instances      Box(P          R      mAP50  mAP50-95): 100%|██████████| 8/8 [00:02<00:00,  3.46it/s]\n"
     ]
    },
    {
     "name": "stdout",
     "output_type": "stream",
     "text": [
      "                   all        682       1381      0.942       0.95       0.97      0.683\n",
      "\n",
      "      Epoch    GPU_mem   box_loss   cls_loss   dfl_loss  Instances       Size\n"
     ]
    },
    {
     "name": "stderr",
     "output_type": "stream",
     "text": [
      "     92/100      8.22G      1.229     0.7782      1.058         51        640: 100%|██████████| 14/14 [00:03<00:00,  3.64it/s]\n",
      "                 Class     Images  Instances      Box(P          R      mAP50  mAP50-95): 100%|██████████| 8/8 [00:02<00:00,  3.65it/s]\n"
     ]
    },
    {
     "name": "stdout",
     "output_type": "stream",
     "text": [
      "                   all        682       1381      0.937       0.94      0.968      0.671\n",
      "\n",
      "      Epoch    GPU_mem   box_loss   cls_loss   dfl_loss  Instances       Size\n"
     ]
    },
    {
     "name": "stderr",
     "output_type": "stream",
     "text": [
      "     93/100      8.47G      1.238     0.7424      1.061         48        640: 100%|██████████| 14/14 [00:03<00:00,  3.66it/s]\n",
      "                 Class     Images  Instances      Box(P          R      mAP50  mAP50-95): 100%|██████████| 8/8 [00:02<00:00,  3.45it/s]\n"
     ]
    },
    {
     "name": "stdout",
     "output_type": "stream",
     "text": [
      "                   all        682       1381      0.929      0.932      0.968      0.662\n",
      "\n",
      "      Epoch    GPU_mem   box_loss   cls_loss   dfl_loss  Instances       Size\n"
     ]
    },
    {
     "name": "stderr",
     "output_type": "stream",
     "text": [
      "     94/100      8.19G      1.147      0.715      1.052         78        640: 100%|██████████| 14/14 [00:03<00:00,  3.61it/s]\n",
      "                 Class     Images  Instances      Box(P          R      mAP50  mAP50-95): 100%|██████████| 8/8 [00:02<00:00,  3.64it/s]\n"
     ]
    },
    {
     "name": "stdout",
     "output_type": "stream",
     "text": [
      "                   all        682       1381      0.947      0.929      0.964      0.664\n",
      "\n",
      "      Epoch    GPU_mem   box_loss   cls_loss   dfl_loss  Instances       Size\n"
     ]
    },
    {
     "name": "stderr",
     "output_type": "stream",
     "text": [
      "     95/100      8.47G      1.198     0.7414      1.057         69        640: 100%|██████████| 14/14 [00:04<00:00,  3.34it/s]\n",
      "                 Class     Images  Instances      Box(P          R      mAP50  mAP50-95): 100%|██████████| 8/8 [00:02<00:00,  2.78it/s]\n"
     ]
    },
    {
     "name": "stdout",
     "output_type": "stream",
     "text": [
      "                   all        682       1381      0.937      0.926      0.966      0.672\n",
      "\n",
      "      Epoch    GPU_mem   box_loss   cls_loss   dfl_loss  Instances       Size\n"
     ]
    },
    {
     "name": "stderr",
     "output_type": "stream",
     "text": [
      "     96/100      8.19G       1.21     0.7362      1.091         62        640: 100%|██████████| 14/14 [00:03<00:00,  3.66it/s]\n",
      "                 Class     Images  Instances      Box(P          R      mAP50  mAP50-95): 100%|██████████| 8/8 [00:02<00:00,  3.67it/s]\n"
     ]
    },
    {
     "name": "stdout",
     "output_type": "stream",
     "text": [
      "                   all        682       1381      0.937      0.946      0.972      0.675\n",
      "\n",
      "      Epoch    GPU_mem   box_loss   cls_loss   dfl_loss  Instances       Size\n"
     ]
    },
    {
     "name": "stderr",
     "output_type": "stream",
     "text": [
      "     97/100      8.47G      1.174     0.7366      1.046         57        640: 100%|██████████| 14/14 [00:03<00:00,  3.60it/s]\n",
      "                 Class     Images  Instances      Box(P          R      mAP50  mAP50-95): 100%|██████████| 8/8 [00:02<00:00,  3.45it/s]\n"
     ]
    },
    {
     "name": "stdout",
     "output_type": "stream",
     "text": [
      "                   all        682       1381      0.943      0.951      0.971      0.687\n",
      "\n",
      "      Epoch    GPU_mem   box_loss   cls_loss   dfl_loss  Instances       Size\n"
     ]
    },
    {
     "name": "stderr",
     "output_type": "stream",
     "text": [
      "     98/100      8.19G      1.182      0.742      1.058         59        640: 100%|██████████| 14/14 [00:03<00:00,  3.60it/s]\n",
      "                 Class     Images  Instances      Box(P          R      mAP50  mAP50-95): 100%|██████████| 8/8 [00:02<00:00,  3.71it/s]\n"
     ]
    },
    {
     "name": "stdout",
     "output_type": "stream",
     "text": [
      "                   all        682       1381      0.942      0.953      0.974      0.678\n",
      "\n",
      "      Epoch    GPU_mem   box_loss   cls_loss   dfl_loss  Instances       Size\n"
     ]
    },
    {
     "name": "stderr",
     "output_type": "stream",
     "text": [
      "     99/100      8.47G      1.174     0.7118      1.039         69        640: 100%|██████████| 14/14 [00:03<00:00,  3.59it/s]\n",
      "                 Class     Images  Instances      Box(P          R      mAP50  mAP50-95): 100%|██████████| 8/8 [00:02<00:00,  3.48it/s]\n"
     ]
    },
    {
     "name": "stdout",
     "output_type": "stream",
     "text": [
      "                   all        682       1381      0.932      0.944       0.97      0.673\n",
      "\n",
      "      Epoch    GPU_mem   box_loss   cls_loss   dfl_loss  Instances       Size\n"
     ]
    },
    {
     "name": "stderr",
     "output_type": "stream",
     "text": [
      "    100/100       8.2G      1.172     0.7074       1.02         60        640: 100%|██████████| 14/14 [00:03<00:00,  3.64it/s]\n",
      "                 Class     Images  Instances      Box(P          R      mAP50  mAP50-95): 100%|██████████| 8/8 [00:02<00:00,  2.98it/s]\n"
     ]
    },
    {
     "name": "stdout",
     "output_type": "stream",
     "text": [
      "                   all        682       1381      0.942      0.951      0.974      0.682\n",
      "\n",
      "100 epochs completed in 0.194 hours.\n",
      "Optimizer stripped from /home/chenjun/Project_Files/ultralytics/runs/detect/train6/weights/last.pt, 5.5MB\n",
      "Optimizer stripped from /home/chenjun/Project_Files/ultralytics/runs/detect/train6/weights/best.pt, 5.5MB\n",
      "\n",
      "Validating /home/chenjun/Project_Files/ultralytics/runs/detect/train6/weights/best.pt...\n",
      "Ultralytics 8.3.134 🚀 Python-3.8.20 torch-2.3.1 CUDA:0 (NVIDIA GeForce RTX 3080, 10009MiB)\n",
      "                                                 CUDA:1 (NVIDIA GeForce RTX 3080, 10009MiB)\n",
      "                                                 CUDA:2 (NVIDIA GeForce RTX 3080, 10009MiB)\n",
      "                                                 CUDA:3 (NVIDIA GeForce RTX 3080, 10009MiB)\n",
      "YOLO11n_se summary (fused): 109 layers, 2,584,288 parameters, 0 gradients, 6.4 GFLOPs\n"
     ]
    },
    {
     "name": "stderr",
     "output_type": "stream",
     "text": [
      "                 Class     Images  Instances      Box(P          R      mAP50  mAP50-95): 100%|██████████| 8/8 [00:04<00:00,  1.96it/s]\n"
     ]
    },
    {
     "name": "stdout",
     "output_type": "stream",
     "text": [
      "                   all        682       1381      0.944      0.951      0.971      0.687\n",
      "              air-hole        406       1070      0.892      0.859      0.942      0.458\n",
      "             bite-edge          8          8      0.929          1      0.995      0.741\n",
      "            broken-arc         74         74      0.922      0.962      0.986      0.878\n",
      "                 crack         23         23      0.924      0.826      0.903      0.589\n",
      "           hollow-bead         43         43      0.955          1      0.973      0.786\n",
      "               overlap         40         41          1       0.99      0.995      0.735\n",
      "        slag-inclusion         27         27      0.997          1      0.995      0.598\n",
      "               unfused         95         95      0.933      0.968      0.979      0.716\n",
      "Speed: 0.1ms preprocess, 0.6ms inference, 0.0ms loss, 1.6ms postprocess per image\n",
      "Results saved to \u001b[1m/home/chenjun/Project_Files/ultralytics/runs/detect/train6\u001b[0m\n"
     ]
    }
   ],
   "source": [
    "import os\n",
    "os.environ[\"MKL_SERVICE_FORCE_INTEL\"] = \"1\"\n",
    "\n",
    "from ultralytics import YOLO\n",
    "\n",
    "# Load a model\n",
    "# model = YOLO(\"my_yolo11.yaml\")  # build a new model from YAML\n",
    "model = YOLO(\"ultralytics/cfg/models/11/yolo11n_se.yaml\")  # load a pretrained model (recommended for training)\n",
    "# model = YOLO(\"my_yolo11.yaml\").load(\"weights/yolo11n.pt\")  # build from YAML and transfer weights\n",
    "\n",
    "# Train the model\n",
    "results = model.train(data=\"mydata-linux.yaml\", epochs=100, imgsz=640, batch=192, device = [0,1,2,3], workers=32, cache='ram')"
   ]
  },
  {
   "cell_type": "code",
   "execution_count": null,
   "id": "0ff8399c-0464-4893-bbd4-79ae0d0f366c",
   "metadata": {},
   "outputs": [],
   "source": []
  }
 ],
 "metadata": {
  "kernelspec": {
   "display_name": "yolo",
   "language": "python",
   "name": "yolo"
  },
  "language_info": {
   "codemirror_mode": {
    "name": "ipython",
    "version": 3
   },
   "file_extension": ".py",
   "mimetype": "text/x-python",
   "name": "python",
   "nbconvert_exporter": "python",
   "pygments_lexer": "ipython3",
   "version": "3.8.20"
  }
 },
 "nbformat": 4,
 "nbformat_minor": 5
}
